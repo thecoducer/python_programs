{
 "cells": [
  {
   "cell_type": "markdown",
   "metadata": {},
   "source": [
    "# Learning Python\n",
    "> Almost everything you need to know about the Python language to get started\n",
    "- toc: true\n",
    "- branch: master\n",
    "- badges: true\n",
    "- author: Mayukh Datta\n",
    "- permalink: /learning_python/\n",
    "- comments: true\n",
    "- categories: [python]\n",
    "- image: https://raw.githubusercontent.com/thecoducer/python_programs/master/Images/python-harry-potter.jpg\n",
    "- hide: false"
   ]
  },
  {
   "cell_type": "markdown",
   "metadata": {
    "colab_type": "text",
    "id": "Bklp88xT3ZEw"
   },
   "source": [
    "\n",
    "![](https://raw.githubusercontent.com/thecoducer/python_programs/master/Images/python-harry-potter.jpg)\n",
    "\n",
    "Official Python docs here: https://docs.python.org/3/tutorial/index.html.\n",
    "\n",
    "My blog post on learning Python: http://www.thecoducer.com/2019/07/effective-way-to-learn-python-for-free.html\n"
   ]
  },
  {
   "cell_type": "markdown",
   "metadata": {
    "colab_type": "text",
    "id": "u6ZNC8hjmuHv"
   },
   "source": [
    "# An Informal introduction to Python\n",
    "https://docs.python.org/3/tutorial/introduction.html"
   ]
  },
  {
   "cell_type": "markdown",
   "metadata": {
    "colab_type": "text",
    "id": "OyRu-VntlF2B"
   },
   "source": [
    "\n",
    "\n",
    "> Python is an easy to learn, powerful programming language. It has efficient high-level data structures and a simple but effective approach to object-oriented programming. Python’s elegant syntax and dynamic typing, together with its interpreted nature, make it an ideal language for scripting and rapid application development in many areas on most platforms.\n",
    "\n"
   ]
  },
  {
   "cell_type": "markdown",
   "metadata": {
    "colab_type": "text",
    "id": "FqTXzIdNOzrq"
   },
   "source": [
    "## Classic vs Floor division"
   ]
  },
  {
   "cell_type": "code",
   "execution_count": 29,
   "metadata": {
    "ExecuteTime": {
     "end_time": "2020-04-22T20:42:44.439756Z",
     "start_time": "2020-04-22T20:42:44.434762Z"
    },
    "colab": {
     "base_uri": "https://localhost:8080/",
     "height": 51
    },
    "colab_type": "code",
    "id": "CkAfCN22O4td",
    "outputId": "c82f35f5-f7c4-4a48-ed2c-b917f562ec18"
   },
   "outputs": [
    {
     "name": "stdout",
     "output_type": "stream",
     "text": [
      "3.8\n",
      "17\n"
     ]
    }
   ],
   "source": [
    "print(19/5)  # classic division returns float\n",
    "print(52//3)  # floor division discards the fractional part"
   ]
  },
  {
   "cell_type": "markdown",
   "metadata": {
    "colab_type": "text",
    "id": "2Cc-OD7wQjys"
   },
   "source": [
    "## To calculate powers"
   ]
  },
  {
   "cell_type": "code",
   "execution_count": 30,
   "metadata": {
    "ExecuteTime": {
     "end_time": "2020-04-22T20:42:44.559826Z",
     "start_time": "2020-04-22T20:42:44.447234Z"
    },
    "colab": {
     "base_uri": "https://localhost:8080/",
     "height": 34
    },
    "colab_type": "code",
    "id": "jmgwfSYdOxnB",
    "outputId": "2ebc95b4-7c7f-43a9-a344-b4f7ee0f5e88"
   },
   "outputs": [
    {
     "name": "stdout",
     "output_type": "stream",
     "text": [
      "32\n"
     ]
    }
   ],
   "source": [
    "# 2^5\n",
    "print(2**5)"
   ]
  },
  {
   "cell_type": "markdown",
   "metadata": {
    "colab_type": "text",
    "id": "BKZBOBtgRWz_"
   },
   "source": [
    "*In interactive mode, the last printed expression is assigned to the variable _*"
   ]
  },
  {
   "cell_type": "markdown",
   "metadata": {
    "colab_type": "text",
    "id": "7ONm7vuBSe-q"
   },
   "source": [
    "## Round a real number up to 2 places after decimal"
   ]
  },
  {
   "cell_type": "code",
   "execution_count": 31,
   "metadata": {
    "ExecuteTime": {
     "end_time": "2020-04-22T20:42:44.618482Z",
     "start_time": "2020-04-22T20:42:44.563081Z"
    },
    "colab": {
     "base_uri": "https://localhost:8080/",
     "height": 34
    },
    "colab_type": "code",
    "id": "tqpgix2oSNl3",
    "outputId": "c6a5d21a-d176-471c-b556-226b799f3278"
   },
   "outputs": [
    {
     "name": "stdout",
     "output_type": "stream",
     "text": [
      "12.04\n"
     ]
    }
   ],
   "source": [
    "k = 12.03635\n",
    "print(round(k, 2))"
   ]
  },
  {
   "cell_type": "markdown",
   "metadata": {
    "colab_type": "text",
    "id": "Fgz3-bxNH555"
   },
   "source": [
    "## type() method"
   ]
  },
  {
   "cell_type": "code",
   "execution_count": 32,
   "metadata": {
    "ExecuteTime": {
     "end_time": "2020-04-22T20:42:44.690220Z",
     "start_time": "2020-04-22T20:42:44.622472Z"
    },
    "colab": {
     "base_uri": "https://localhost:8080/",
     "height": 34
    },
    "colab_type": "code",
    "id": "oHaVYwlWH557",
    "outputId": "c3d20597-a35d-4217-b143-df8a7398aed8"
   },
   "outputs": [
    {
     "name": "stdout",
     "output_type": "stream",
     "text": [
      "<class 'str'>\n",
      "<class 'int'>\n"
     ]
    }
   ],
   "source": [
    "h = \"Kolkata\"\n",
    "print(type(h))\n",
    "i = 56\n",
    "print(type(i))"
   ]
  },
  {
   "cell_type": "markdown",
   "metadata": {
    "colab_type": "text",
    "id": "npAYGQzQXrIS"
   },
   "source": [
    "## Strings\n",
    "- \\ can be used to escape quotes\n",
    "- can be also be enclosed within other pair of quotes\n",
    "- to print raw strings, use r"
   ]
  },
  {
   "cell_type": "markdown",
   "metadata": {
    "colab_type": "text",
    "id": "lSpJH8Rybs7D"
   },
   "source": [
    "## Raw string"
   ]
  },
  {
   "cell_type": "code",
   "execution_count": 33,
   "metadata": {
    "ExecuteTime": {
     "end_time": "2020-04-22T20:42:44.768577Z",
     "start_time": "2020-04-22T20:42:44.693949Z"
    },
    "colab": {
     "base_uri": "https://localhost:8080/",
     "height": 68
    },
    "colab_type": "code",
    "id": "nWLZAcexXzd4",
    "outputId": "2e25bbbf-ccb1-4820-b70f-96fde6558ad5"
   },
   "outputs": [
    {
     "name": "stdout",
     "output_type": "stream",
     "text": [
      "C:\\nebula\\MachineLearning\n",
      "C:\n",
      "ebula\\MachineLearning\n"
     ]
    }
   ],
   "source": [
    "print(r\"C:\\nebula\\MachineLearning\")\n",
    "# without it, \\n escape sequence gets triggered\n",
    "print(\"C:\\nebula\\MachineLearning\")"
   ]
  },
  {
   "cell_type": "markdown",
   "metadata": {
    "colab_type": "text",
    "id": "DAxID6VfbfOn"
   },
   "source": [
    "## String literals can span multiple lines"
   ]
  },
  {
   "cell_type": "code",
   "execution_count": 34,
   "metadata": {
    "ExecuteTime": {
     "end_time": "2020-04-22T20:42:44.843812Z",
     "start_time": "2020-04-22T20:42:44.771679Z"
    },
    "colab": {
     "base_uri": "https://localhost:8080/",
     "height": 102
    },
    "colab_type": "code",
    "id": "nO4qdjCTZ8-L",
    "outputId": "ed0200e4-722c-4913-8f03-316cefc92fc7"
   },
   "outputs": [
    {
     "name": "stdout",
     "output_type": "stream",
     "text": [
      "asdad\n",
      "awewer\n",
      "bnghjny\n",
      "it rty    dsrfgtr t\n",
      "er    sdefsdfg    dggh\n"
     ]
    }
   ],
   "source": [
    "# Prevent automatic inclusion of end of lines by using \\ operator\n",
    "print(\"\"\"\\\n",
    "asdad\n",
    "awewer\n",
    "bnghjny\n",
    "it rty    dsrfgtr t\n",
    "er    sdefsdfg    dggh\"\"\")"
   ]
  },
  {
   "cell_type": "markdown",
   "metadata": {
    "colab_type": "text",
    "id": "UqYJCt94biwq"
   },
   "source": [
    "## Strings are 0-based indexed"
   ]
  },
  {
   "cell_type": "code",
   "execution_count": 35,
   "metadata": {
    "ExecuteTime": {
     "end_time": "2020-04-22T20:42:44.922376Z",
     "start_time": "2020-04-22T20:42:44.846793Z"
    },
    "colab": {
     "base_uri": "https://localhost:8080/",
     "height": 68
    },
    "colab_type": "code",
    "id": "1b4f2oD1bF7Q",
    "outputId": "6c30c523-4841-4b70-cd39-46c791b743e4"
   },
   "outputs": [
    {
     "name": "stdout",
     "output_type": "stream",
     "text": [
      "David Attenborough\n",
      "ve\n",
      "g\n"
     ]
    }
   ],
   "source": [
    "str = \"David Attenborough\"\n",
    "print(str)\n",
    "print(str[2] + str[9])\n",
    "print(str[-2]) # starts counting from the right\n",
    "# -2 is the second last character\n",
    "# Note that since zero cannot be negative, negative indices start from -1."
   ]
  },
  {
   "cell_type": "markdown",
   "metadata": {
    "colab_type": "text",
    "id": "w3chf8dwcZtG"
   },
   "source": [
    "## Slicing strings"
   ]
  },
  {
   "cell_type": "code",
   "execution_count": 36,
   "metadata": {
    "ExecuteTime": {
     "end_time": "2020-04-22T20:42:45.028474Z",
     "start_time": "2020-04-22T20:42:44.925619Z"
    },
    "colab": {
     "base_uri": "https://localhost:8080/",
     "height": 102
    },
    "colab_type": "code",
    "id": "w2AfMHM5cb2Z",
    "outputId": "e0ba200e-0a94-4919-ffbd-e29567eb77f3"
   },
   "outputs": [
    {
     "name": "stdout",
     "output_type": "stream",
     "text": [
      "ekyll\n",
      "kyll\n",
      "Jek\n",
      "Jell\n",
      "ll\n"
     ]
    }
   ],
   "source": [
    "str = 'Jekyll'\n",
    "print(str[1:]) #inclusive of 1th element\n",
    "print(str[2:]) \n",
    "print(str[:3]) # exclusive of the 3rd element\n",
    "print(str[:2] + str[4:])\n",
    "print(str[-2:])"
   ]
  },
  {
   "cell_type": "code",
   "execution_count": 37,
   "metadata": {
    "ExecuteTime": {
     "end_time": "2020-04-22T20:42:45.098422Z",
     "start_time": "2020-04-22T20:42:45.032569Z"
    }
   },
   "outputs": [
    {
     "name": "stdout",
     "output_type": "stream",
     "text": [
      "py\n"
     ]
    }
   ],
   "source": [
    "s = \"jupyter\"\n",
    "print(s[2:4])"
   ]
  },
  {
   "cell_type": "markdown",
   "metadata": {
    "colab_type": "text",
    "id": "h-xZTo76bxeZ"
   },
   "source": [
    "- **Like Java, Python strings are immutable.**"
   ]
  },
  {
   "cell_type": "markdown",
   "metadata": {
    "colab_type": "text",
    "id": "jLepF54MiSso"
   },
   "source": [
    "## Length of string"
   ]
  },
  {
   "cell_type": "code",
   "execution_count": 38,
   "metadata": {
    "ExecuteTime": {
     "end_time": "2020-04-22T20:42:45.172137Z",
     "start_time": "2020-04-22T20:42:45.101516Z"
    },
    "colab": {
     "base_uri": "https://localhost:8080/",
     "height": 34
    },
    "colab_type": "code",
    "id": "oCDiS4pLiU_1",
    "outputId": "5ab73fa1-bbfa-4f64-d90c-37d1f981bc6c"
   },
   "outputs": [
    {
     "name": "stdout",
     "output_type": "stream",
     "text": [
      "6\n"
     ]
    }
   ],
   "source": [
    "# str = \"Jekyll\"\n",
    "print(len(str))"
   ]
  },
  {
   "cell_type": "markdown",
   "metadata": {
    "colab_type": "text",
    "id": "zDeDE_wljPx_"
   },
   "source": [
    "## String methods\n",
    "- https://docs.python.org/3/library/stdtypes.html#string-methods\n",
    "- https://www.geeksforgeeks.org/python-strings/"
   ]
  },
  {
   "cell_type": "code",
   "execution_count": 39,
   "metadata": {
    "ExecuteTime": {
     "end_time": "2020-04-22T20:42:45.243544Z",
     "start_time": "2020-04-22T20:42:45.174411Z"
    },
    "colab": {
     "base_uri": "https://localhost:8080/",
     "height": 119
    },
    "colab_type": "code",
    "id": "5R4hxcVmjOaZ",
    "outputId": "b7dfc4a5-2f53-4a9e-b9c7-28557c912baa"
   },
   "outputs": [
    {
     "name": "stdout",
     "output_type": "stream",
     "text": [
      "data structures\n",
      "ALGORITHMS\n",
      "Operating system\n",
      "True\n",
      "True\n",
      "True\n"
     ]
    }
   ],
   "source": [
    "str1 = \"Data Structures\"\n",
    "str2 = \"Algorithms\"\n",
    "str3 = \"operating system\"\n",
    "print(str1.lower())\n",
    "print(str2.upper())\n",
    "print(str3.capitalize())\n",
    "print(str1.endswith(\"Structures\"))\n",
    "print(str2.endswith(\"thms\"))\n",
    "print(str3.startswith(\"oper\"))"
   ]
  },
  {
   "cell_type": "markdown",
   "metadata": {
    "colab_type": "text",
    "id": "PHLCtoQCwGpb"
   },
   "source": [
    "## Reverse a string"
   ]
  },
  {
   "cell_type": "code",
   "execution_count": 40,
   "metadata": {
    "ExecuteTime": {
     "end_time": "2020-04-22T20:42:45.338624Z",
     "start_time": "2020-04-22T20:42:45.245971Z"
    },
    "colab": {
     "base_uri": "https://localhost:8080/",
     "height": 34
    },
    "colab_type": "code",
    "id": "2reGPgJQwI8Z",
    "outputId": "ac7337aa-ca78-4366-ce7b-eeaca754a430"
   },
   "outputs": [
    {
     "name": "stdout",
     "output_type": "stream",
     "text": [
      "alareK\n"
     ]
    }
   ],
   "source": [
    "# Python string library has no reverse() method\n",
    "def reverse(s):\n",
    "  temp = \"\"\n",
    "  for i in s:\n",
    "    temp = i + temp\n",
    "  return temp\n",
    "\n",
    "s = \"Kerala\"\n",
    "print(reverse(s))"
   ]
  },
  {
   "cell_type": "code",
   "execution_count": 41,
   "metadata": {
    "ExecuteTime": {
     "end_time": "2020-04-22T20:42:45.411547Z",
     "start_time": "2020-04-22T20:42:45.340829Z"
    }
   },
   "outputs": [
    {
     "name": "stdout",
     "output_type": "stream",
     "text": [
      "hkuyam\n"
     ]
    }
   ],
   "source": [
    "# hard way of reversing strings\n",
    "# converting the string to list, swapping elements in the list\n",
    "# and then converting back the list to string\n",
    "def rev(s):\n",
    "    s = list(s)\n",
    "    start = 0\n",
    "    end = len(s)-1\n",
    "    while(start < end):\n",
    "        s[start], s[end] = s[end], s[start] #swapping\n",
    "        start = start + 1\n",
    "        end = end - 1\n",
    "    return \"\".join(s)\n",
    "\n",
    "print(rev(\"mayukh\"))"
   ]
  },
  {
   "cell_type": "code",
   "execution_count": 42,
   "metadata": {
    "ExecuteTime": {
     "end_time": "2020-04-22T20:42:45.506151Z",
     "start_time": "2020-04-22T20:42:45.415881Z"
    },
    "colab": {
     "base_uri": "https://localhost:8080/",
     "height": 34
    },
    "colab_type": "code",
    "id": "MZscvQpqzuhp",
    "outputId": "e55778c3-0b3e-4c6e-9307-e55e1636f8ab"
   },
   "outputs": [
    {
     "name": "stdout",
     "output_type": "stream",
     "text": [
      "atakloK\n"
     ]
    }
   ],
   "source": [
    "# Using recursion\n",
    "def reverse1(s):\n",
    "  if len(s) == 0:\n",
    "    return s\n",
    "  else:\n",
    "    return reverse(s[1:]) + s[0]\n",
    "\n",
    "s = \"Kolkata\"\n",
    "print(reverse1(s))"
   ]
  },
  {
   "cell_type": "code",
   "execution_count": 43,
   "metadata": {
    "ExecuteTime": {
     "end_time": "2020-04-22T20:42:45.595374Z",
     "start_time": "2020-04-22T20:42:45.509337Z"
    },
    "colab": {
     "base_uri": "https://localhost:8080/",
     "height": 34
    },
    "colab_type": "code",
    "id": "VYGJilgi3XdK",
    "outputId": "b6b74ac4-68ad-42e7-98f7-514a90fcdb4b"
   },
   "outputs": [
    {
     "name": "stdout",
     "output_type": "stream",
     "text": [
      "laretalidauQ\n"
     ]
    }
   ],
   "source": [
    "# Using extended slice syntax\n",
    "# Easiest way to reverse a string\n",
    "def reverse3(s):\n",
    "  return s[::-1]\n",
    "\n",
    "s = \"Quadilateral\"\n",
    "print(reverse3(s))"
   ]
  },
  {
   "cell_type": "code",
   "execution_count": 44,
   "metadata": {
    "ExecuteTime": {
     "end_time": "2020-04-22T20:42:45.660299Z",
     "start_time": "2020-04-22T20:42:45.598570Z"
    },
    "colab": {
     "base_uri": "https://localhost:8080/",
     "height": 34
    },
    "colab_type": "code",
    "id": "agsLHpwl3xhO",
    "outputId": "a8ada193-83b0-4e39-91eb-a3be81a87492"
   },
   "outputs": [
    {
     "name": "stdout",
     "output_type": "stream",
     "text": [
      "eldarG\n"
     ]
    }
   ],
   "source": [
    "# Using reversed\n",
    "def reverse4(s):\n",
    "  return \"\".join(reversed(s))\n",
    "\n",
    "s = \"Gradle\"\n",
    "print(reverse4(s))"
   ]
  },
  {
   "cell_type": "markdown",
   "metadata": {
    "colab_type": "text",
    "id": "KqQ30chMhyFS"
   },
   "source": [
    "## Split a string"
   ]
  },
  {
   "cell_type": "code",
   "execution_count": 45,
   "metadata": {
    "ExecuteTime": {
     "end_time": "2020-04-22T20:42:45.726298Z",
     "start_time": "2020-04-22T20:42:45.664031Z"
    },
    "colab": {
     "base_uri": "https://localhost:8080/",
     "height": 34
    },
    "colab_type": "code",
    "id": "UVUx9-_yh0c5",
    "outputId": "e1391287-7c3c-475f-b7b8-9309cdc5e16d"
   },
   "outputs": [
    {
     "name": "stdout",
     "output_type": "stream",
     "text": [
      "['Brian', \"Karnighan's\", 'algorithm', 'is', 'the', 'most', 'efficient', 'way', 'to', 'count', 'set', 'bits.']\n"
     ]
    }
   ],
   "source": [
    "line = \"Brian Karnighan's algorithm is the most efficient way to count set bits.\"\n",
    "print(line.split()) # No delimiter takes whitespace as a delimiter implicitly"
   ]
  },
  {
   "cell_type": "code",
   "execution_count": 46,
   "metadata": {
    "ExecuteTime": {
     "end_time": "2020-04-22T20:42:45.817187Z",
     "start_time": "2020-04-22T20:42:45.729511Z"
    },
    "colab": {
     "base_uri": "https://localhost:8080/",
     "height": 51
    },
    "colab_type": "code",
    "id": "Wtqt2LN3ihDd",
    "outputId": "52ff64d9-baaa-4983-c642-c469562b3961"
   },
   "outputs": [
    {
     "name": "stdout",
     "output_type": "stream",
     "text": [
      "['dock', 'for', 'ipad']\n",
      "['dock', 'for:ipad']\n"
     ]
    }
   ],
   "source": [
    "word = \"dock:for:ipad\"\n",
    "print(word.split(\":\"))\n",
    "print(word.split(\":\", 1)) # maxsplit: 1"
   ]
  },
  {
   "cell_type": "markdown",
   "metadata": {
    "colab_type": "text",
    "id": "1jfeDrQF2h40"
   },
   "source": [
    "## String to integer"
   ]
  },
  {
   "cell_type": "code",
   "execution_count": 47,
   "metadata": {
    "ExecuteTime": {
     "end_time": "2020-04-22T20:42:45.880905Z",
     "start_time": "2020-04-22T20:42:45.820590Z"
    },
    "colab": {
     "base_uri": "https://localhost:8080/",
     "height": 34
    },
    "colab_type": "code",
    "id": "ys9RMOZ52kaO",
    "outputId": "13677177-65bc-4e51-8171-ea19cabd929e"
   },
   "outputs": [
    {
     "name": "stdout",
     "output_type": "stream",
     "text": [
      "101011\n"
     ]
    }
   ],
   "source": [
    "s = \"101011\"\n",
    "l = int(s) #typecasting string to int\n",
    "print(l)"
   ]
  },
  {
   "cell_type": "markdown",
   "metadata": {
    "colab_type": "text",
    "id": "twuhHNOl1HMA"
   },
   "source": [
    "## Printing out multiples of strings"
   ]
  },
  {
   "cell_type": "code",
   "execution_count": 48,
   "metadata": {
    "ExecuteTime": {
     "end_time": "2020-04-22T20:42:45.973653Z",
     "start_time": "2020-04-22T20:42:45.883272Z"
    },
    "colab": {
     "base_uri": "https://localhost:8080/",
     "height": 34
    },
    "colab_type": "code",
    "id": "ALttcbwE1JXZ",
    "outputId": "d1e05b72-8b94-4f3f-e8ff-17ccc9e9e875"
   },
   "outputs": [
    {
     "name": "stdout",
     "output_type": "stream",
     "text": [
      "YesYesYesYesYesNoNo\n"
     ]
    }
   ],
   "source": [
    "print(\"Yes\"*5 + \"No\"*2)"
   ]
  },
  {
   "cell_type": "markdown",
   "metadata": {
    "colab_type": "text",
    "id": "Y_4GfScp6FdX"
   },
   "source": [
    "## List to string"
   ]
  },
  {
   "cell_type": "code",
   "execution_count": 49,
   "metadata": {
    "ExecuteTime": {
     "end_time": "2020-04-22T20:42:46.062046Z",
     "start_time": "2020-04-22T20:42:45.976842Z"
    },
    "colab": {
     "base_uri": "https://localhost:8080/",
     "height": 34
    },
    "colab_type": "code",
    "id": "jQ4Tvs8s6Pae",
    "outputId": "f701e70d-b579-4504-e632-e35f954fbe6c"
   },
   "outputs": [
    {
     "name": "stdout",
     "output_type": "stream",
     "text": [
      "I am here\n"
     ]
    }
   ],
   "source": [
    "a = [\"I\", \"am\", \"here\"]\n",
    "print(\" \".join(a))"
   ]
  },
  {
   "cell_type": "markdown",
   "metadata": {
    "colab_type": "text",
    "id": "clVywHmm6Woe"
   },
   "source": [
    "## Check anagram or not\n",
    "- Counter is a subclass of dictionary object. The Counter() function in collections module takes an iterable or a mapping as the argument and returns a Dictionary. In this dictionary, a key is an element in the iterable or the mapping and value is the number of times that element exists in the iterable or the mapping.\n",
    "- The Counter() function can take a dictionary as an argument. In this dictionary, the value of a key should be the 'count' of that key."
   ]
  },
  {
   "cell_type": "code",
   "execution_count": 50,
   "metadata": {
    "ExecuteTime": {
     "end_time": "2020-04-22T20:43:19.546656Z",
     "start_time": "2020-04-22T20:42:46.065363Z"
    },
    "colab": {
     "base_uri": "https://localhost:8080/",
     "height": 68
    },
    "colab_type": "code",
    "id": "Za8_p15P6Y_B",
    "outputId": "2323472d-8e38-47e5-b780-46eff1a79a3b"
   },
   "outputs": [
    {
     "name": "stdout",
     "output_type": "stream",
     "text": [
      "Enter first word:geek\n",
      "Enter second word:kgee\n",
      "True\n"
     ]
    }
   ],
   "source": [
    "from collections import Counter \n",
    "def is_anagram(str1, str2): \n",
    " return Counter(str1) == Counter(str2) \n",
    "\n",
    "word1 = input(\"Enter first word:\")\n",
    "word2 = input(\"Enter second word:\")\n",
    "print(is_anagram(word1, word2))"
   ]
  },
  {
   "cell_type": "markdown",
   "metadata": {
    "colab_type": "text",
    "id": "XLGfouSu6tNd"
   },
   "source": [
    "## Flatten lists"
   ]
  },
  {
   "cell_type": "code",
   "execution_count": 51,
   "metadata": {
    "ExecuteTime": {
     "end_time": "2020-04-22T20:43:19.557517Z",
     "start_time": "2020-04-22T20:43:19.549510Z"
    },
    "colab": {
     "base_uri": "https://localhost:8080/",
     "height": 34
    },
    "colab_type": "code",
    "id": "ADEqnNYD8IYw",
    "outputId": "8e76096b-0a45-4679-eebb-87c40d23f8cd"
   },
   "outputs": [
    {
     "name": "stdout",
     "output_type": "stream",
     "text": [
      "[1, 2, 3, 4, 5, 6]\n"
     ]
    }
   ],
   "source": [
    "import itertools\n",
    "a = [[1, 2], [3, 4], [5, 6]]\n",
    "b = list(itertools.chain.from_iterable(a))\n",
    "\n",
    "print(b)"
   ]
  },
  {
   "cell_type": "markdown",
   "metadata": {
    "colab_type": "text",
    "id": "a8yecSGy8K7I"
   },
   "source": [
    "## More such shortcuts ...\n",
    "https://towardsdatascience.com/20-python-programming-tips-and-tricks-for-beginners-25d44db03aea"
   ]
  },
  {
   "cell_type": "markdown",
   "metadata": {
    "colab_type": "text",
    "id": "odWhZASi0Ukv"
   },
   "source": [
    "## Lists"
   ]
  },
  {
   "cell_type": "code",
   "execution_count": 52,
   "metadata": {
    "ExecuteTime": {
     "end_time": "2020-04-22T20:43:19.629045Z",
     "start_time": "2020-04-22T20:43:19.567281Z"
    },
    "colab": {
     "base_uri": "https://localhost:8080/",
     "height": 153
    },
    "colab_type": "code",
    "id": "uYwKoydT0unw",
    "outputId": "fa1e51d6-7012-42a8-ed67-2a054ec0e033"
   },
   "outputs": [
    {
     "name": "stdout",
     "output_type": "stream",
     "text": [
      "['potato', 'carrot', 'brinjal']\n",
      "brinjal\n",
      "brinjal\n",
      "['carrot']\n",
      "['potato', 'carrot', 'brinjal', 'ladyfinger']\n",
      "['potato', 'carrot', 'beetroot', 'ginger']\n",
      "4\n",
      "[['a', 'b'], ['k', 'l']] Length =  2\n"
     ]
    }
   ],
   "source": [
    "# This is a list\n",
    "# Like strings, lists can be indexed and sliced\n",
    "veggies = [\"potato\", \"carrot\", \"brinjal\"]\n",
    "print(veggies)\n",
    "print(veggies[2])\n",
    "print(veggies[-1])\n",
    "# all slice operations return a new list(a copy) containing the requested elements\n",
    "print(veggies[1:2])\n",
    "# lists supports concatenation\n",
    "# unlike strings, lists are mutable\n",
    "# use append() method to add elements to the end of a list\n",
    "veggies.append(\"ladyfinger\")\n",
    "print(veggies)\n",
    "# assignment to slices is also possible\n",
    "veggies[2:] = [\"beetroot\", \"ginger\"]\n",
    "print(veggies)\n",
    "# length of list\n",
    "print(len(veggies))\n",
    "# we can nest lists too\n",
    "x = [['a', 'b'], ['k', 'l']]\n",
    "print(x, \"Length = \", len(x))"
   ]
  },
  {
   "cell_type": "markdown",
   "metadata": {
    "colab_type": "text",
    "id": "zQr8_gevPVEX"
   },
   "source": [
    "## Fibonacci program"
   ]
  },
  {
   "cell_type": "code",
   "execution_count": 112,
   "metadata": {
    "ExecuteTime": {
     "end_time": "2020-04-22T20:49:35.382653Z",
     "start_time": "2020-04-22T20:49:35.375097Z"
    },
    "colab": {
     "base_uri": "https://localhost:8080/",
     "height": 34
    },
    "colab_type": "code",
    "id": "RlL_N-VBPZH6",
    "outputId": "089782f6-0f53-44fe-c707-930beaf44b8f"
   },
   "outputs": [
    {
     "name": "stdout",
     "output_type": "stream",
     "text": [
      "0, 1, 1, 2, 3, 5, 8, 13, "
     ]
    }
   ],
   "source": [
    "# Prints Fibonacci series upto Nth term where N < k\n",
    "def fibonacci(k):\n",
    "  first, second = 0, 1 # multiple assignment\n",
    "  while first < k:\n",
    "    print(first, end=', ')\n",
    "    first, second = second, first+second\n",
    "\n",
    "# invoke function\n",
    "fibonacci(20)\n"
   ]
  },
  {
   "cell_type": "code",
   "execution_count": 54,
   "metadata": {
    "ExecuteTime": {
     "end_time": "2020-04-22T20:43:19.852849Z",
     "start_time": "2020-04-22T20:43:19.731367Z"
    },
    "colab": {
     "base_uri": "https://localhost:8080/",
     "height": 51
    },
    "colab_type": "code",
    "id": "kLR9NfFOQinu",
    "outputId": "2d960214-97e6-4993-e64f-831c50a93348"
   },
   "outputs": [
    {
     "name": "stdout",
     "output_type": "stream",
     "text": [
      "[0, 1, 1, 2, 3, 5, 8, 13, 21, 34, 55, 89, 144, 233, 377, 610, 987, 1597, 2584, 4181]\n",
      "Length of the list:  20\n"
     ]
    }
   ],
   "source": [
    "# Prints Fibonacci series upto Nth term\n",
    "def fibo(n):\n",
    "  first, second = 0, 1\n",
    "  l = [] #empty list to store fibonacci numbers\n",
    "  for i in range(n):\n",
    "    #print(first, end=\" \")\n",
    "    l.append(first)\n",
    "    first, second = second, first+second\n",
    "  print(l)\n",
    "  print(\"Length of the list: \", len(l))\n",
    "\n",
    "fibo(20)\n",
    "    "
   ]
  },
  {
   "cell_type": "code",
   "execution_count": 55,
   "metadata": {
    "ExecuteTime": {
     "end_time": "2020-04-22T20:43:19.941966Z",
     "start_time": "2020-04-22T20:43:19.855110Z"
    },
    "colab": {
     "base_uri": "https://localhost:8080/",
     "height": 34
    },
    "colab_type": "code",
    "id": "i_b5z-_gTS05",
    "outputId": "196d5a72-9610-4c99-98fa-3d7034b8243e"
   },
   "outputs": [
    {
     "name": "stdout",
     "output_type": "stream",
     "text": [
      "20th term is 4181\n"
     ]
    }
   ],
   "source": [
    "# Prints Nth fibonacci number\n",
    "def nthfibo(n):\n",
    "  first, second = 0, 1\n",
    "  for i in range(n-1):\n",
    "    first, second = second, first+second\n",
    "  print(\"%dth term is %d\" %(n, first))\n",
    "  # formatted output using string modulo operator\n",
    "\n",
    "nthfibo(20)\n"
   ]
  },
  {
   "cell_type": "markdown",
   "metadata": {},
   "source": [
    "---"
   ]
  },
  {
   "cell_type": "markdown",
   "metadata": {
    "colab_type": "text",
    "id": "fG5ijVy1nMkn"
   },
   "source": [
    "# More control flow tools\n",
    "https://docs.python.org/3/tutorial/controlflow.html"
   ]
  },
  {
   "cell_type": "markdown",
   "metadata": {
    "colab_type": "text",
    "id": "O6d-rW0BboIW"
   },
   "source": [
    "## Basic operators\n",
    "- https://www.geeksforgeeks.org/basic-operators-python/"
   ]
  },
  {
   "cell_type": "markdown",
   "metadata": {
    "colab_type": "text",
    "id": "wP7A2lC5jnD9"
   },
   "source": [
    "## If statement"
   ]
  },
  {
   "cell_type": "code",
   "execution_count": 56,
   "metadata": {
    "ExecuteTime": {
     "end_time": "2020-04-22T20:43:23.943781Z",
     "start_time": "2020-04-22T20:43:19.946027Z"
    },
    "colab": {
     "base_uri": "https://localhost:8080/",
     "height": 51
    },
    "colab_type": "code",
    "id": "kulJjDbCjqrU",
    "outputId": "c69fdaeb-3a69-48cb-8c79-ab1823412821"
   },
   "outputs": [
    {
     "name": "stdout",
     "output_type": "stream",
     "text": [
      "Enter a number: -6\n",
      "It is a negative number.\n"
     ]
    }
   ],
   "source": [
    "n = int(input(\"Enter a number: \"))\n",
    "if n<0:\n",
    "  print(\"It is a negative number.\")\n",
    "elif n==0:\n",
    "  print(\"It is a zero.\")\n",
    "else:\n",
    "  print(\"It is a positive number.\") "
   ]
  },
  {
   "cell_type": "markdown",
   "metadata": {
    "colab_type": "text",
    "id": "Wxaor2bllEpX"
   },
   "source": [
    "## Switch or case statement\n",
    "\n",
    "Unlike other languages, Python does not have this feature. Python encourages to use if and elif instead.\n",
    "\n",
    "We can do something similar to switch-case by using dictionary mapping. Read here: https://www.geeksforgeeks.org/switch-case-in-python-replacement/"
   ]
  },
  {
   "cell_type": "markdown",
   "metadata": {
    "colab_type": "text",
    "id": "BNZ6ZRGnmEBl"
   },
   "source": [
    "## For statement"
   ]
  },
  {
   "cell_type": "code",
   "execution_count": 57,
   "metadata": {
    "ExecuteTime": {
     "end_time": "2020-04-22T20:43:23.956687Z",
     "start_time": "2020-04-22T20:43:23.948039Z"
    },
    "colab": {
     "base_uri": "https://localhost:8080/",
     "height": 34
    },
    "colab_type": "code",
    "id": "FbbT3rsImGxf",
    "outputId": "8849682e-cd39-41e1-f1b2-1e3a36a7bc03"
   },
   "outputs": [
    {
     "name": "stdout",
     "output_type": "stream",
     "text": [
      "['cat', 'dog', 'tiger', 'lion']\n"
     ]
    }
   ],
   "source": [
    "# Python’s for statement iterates over the items of \n",
    "# any sequence (a list or a string), in the order \n",
    "# that they appear in the sequence. \n",
    "# similar to for each loop in Java\n",
    "word = ['cat', 'dog', 'tiger', 'lion']\n",
    "for w in word:\n",
    "  w = w.capitalize()\n",
    "\n",
    "print(word)"
   ]
  },
  {
   "cell_type": "markdown",
   "metadata": {
    "colab_type": "text",
    "id": "PjmQRf0rQ3kQ"
   },
   "source": [
    "## while loop"
   ]
  },
  {
   "cell_type": "code",
   "execution_count": 58,
   "metadata": {
    "ExecuteTime": {
     "end_time": "2020-04-22T20:43:24.086003Z",
     "start_time": "2020-04-22T20:43:23.960541Z"
    },
    "colab": {
     "base_uri": "https://localhost:8080/",
     "height": 34
    },
    "colab_type": "code",
    "id": "sREfZN0nQ51t",
    "outputId": "9116eb12-5dc9-4055-f8c9-0178d5f5ae31"
   },
   "outputs": [
    {
     "name": "stdout",
     "output_type": "stream",
     "text": [
      "10 9 8 7 6 5 4 3 2 1 "
     ]
    }
   ],
   "source": [
    "i = 10\n",
    "while i > 0:\n",
    "  print(i, end=\" \")\n",
    "  i = i - 1"
   ]
  },
  {
   "cell_type": "markdown",
   "metadata": {
    "colab_type": "text",
    "id": "tes9e9CtWtyh"
   },
   "source": [
    "## Find second largest element in array"
   ]
  },
  {
   "cell_type": "code",
   "execution_count": 59,
   "metadata": {
    "ExecuteTime": {
     "end_time": "2020-04-22T20:43:49.802894Z",
     "start_time": "2020-04-22T20:43:24.089263Z"
    },
    "colab": {
     "base_uri": "https://localhost:8080/",
     "height": 136
    },
    "colab_type": "code",
    "id": "Y5ljTYZKR5OG",
    "outputId": "610e7895-2f28-4f27-ef43-44960810fe5d",
    "scrolled": true
   },
   "outputs": [
    {
     "name": "stdout",
     "output_type": "stream",
     "text": [
      "1\n",
      "5\n",
      "56 2 3 99 6\n",
      "56\n"
     ]
    }
   ],
   "source": [
    "import sys\n",
    "\n",
    "t = int(input())\n",
    "while t > 0:\n",
    "    n = int(input())\n",
    "    arr = list(map(int, input().split()))\n",
    "    first = second = -sys.maxsize # maximum negative integer\n",
    "    for i in range(len(arr)):\n",
    "        if arr[i] > first:\n",
    "            second = first\n",
    "            first = arr[i]\n",
    "        elif arr[i] > second and arr[i] != first:\n",
    "            second = arr[i]\n",
    "    print(second)\n",
    "    t = t - 1"
   ]
  },
  {
   "cell_type": "markdown",
   "metadata": {
    "colab_type": "text",
    "id": "QLz_e380aTXq"
   },
   "source": [
    "## sys.maxsize and -sys.maxsize\n",
    "- An integer giving the maximum value a variable of type Py_ssize_t can take. It’s usually 2^31 - 1 on a 32-bit platform and 2^63 - 1 on a 64-bit platform."
   ]
  },
  {
   "cell_type": "markdown",
   "metadata": {
    "colab_type": "text",
    "id": "qcMw7RqoTLTD"
   },
   "source": [
    "## range() method"
   ]
  },
  {
   "cell_type": "code",
   "execution_count": 60,
   "metadata": {
    "ExecuteTime": {
     "end_time": "2020-04-22T20:43:49.812673Z",
     "start_time": "2020-04-22T20:43:49.806127Z"
    },
    "colab": {
     "base_uri": "https://localhost:8080/",
     "height": 34
    },
    "colab_type": "code",
    "id": "VF9YHq4AO2d2",
    "outputId": "425aef01-e430-4df8-851d-5da3a9d4a3d9"
   },
   "outputs": [
    {
     "name": "stdout",
     "output_type": "stream",
     "text": [
      "0 1 2 3 4 5 6 7 8 9 "
     ]
    }
   ],
   "source": [
    "# range() method generated arithmetic progressions.\n",
    "# and proves useful in case of for loop\n",
    "for i in range(10):\n",
    "  print(i, end=\" \")"
   ]
  },
  {
   "cell_type": "code",
   "execution_count": 61,
   "metadata": {
    "ExecuteTime": {
     "end_time": "2020-04-22T20:43:49.932692Z",
     "start_time": "2020-04-22T20:43:49.816213Z"
    },
    "colab": {
     "base_uri": "https://localhost:8080/",
     "height": 51
    },
    "colab_type": "code",
    "id": "i41F30mLTPaF",
    "outputId": "af48c129-8132-4dd2-fe23-7df0b139401f"
   },
   "outputs": [
    {
     "name": "stdout",
     "output_type": "stream",
     "text": [
      "5 10 15 20 25 \n",
      "-2 -8 -14 -20 -26 -32 -38 "
     ]
    }
   ],
   "source": [
    "# range(a, b, c)\n",
    "# a = start\n",
    "# b = stop\n",
    "# c = step (common difference of AP)\n",
    "for i in range(5, 30, 5):\n",
    "  print(i, end=\" \")\n",
    "print()\n",
    "for i in range(-2, -40, -6):\n",
    "  print(i, end=\" \")"
   ]
  },
  {
   "cell_type": "code",
   "execution_count": 62,
   "metadata": {
    "ExecuteTime": {
     "end_time": "2020-04-22T20:43:50.006059Z",
     "start_time": "2020-04-22T20:43:49.935095Z"
    },
    "colab": {
     "base_uri": "https://localhost:8080/",
     "height": 34
    },
    "colab_type": "code",
    "id": "Y1nZqDWpT99W",
    "outputId": "df745b1a-c659-44da-a137-ce119daf5e58"
   },
   "outputs": [
    {
     "name": "stdout",
     "output_type": "stream",
     "text": [
      "s o f t w a r e   e n g i n e e r i n g "
     ]
    }
   ],
   "source": [
    "# iterating over the indices of a sequence using range() and len()\n",
    "str = \"software engineering\"\n",
    "for i in range(len(str)):\n",
    "  print(str[i], end=\" \")"
   ]
  },
  {
   "cell_type": "markdown",
   "metadata": {
    "colab_type": "text",
    "id": "ZrorQqe6x7uY"
   },
   "source": [
    "## list() method"
   ]
  },
  {
   "cell_type": "code",
   "execution_count": 63,
   "metadata": {
    "ExecuteTime": {
     "end_time": "2020-04-22T20:43:50.121801Z",
     "start_time": "2020-04-22T20:43:50.008675Z"
    },
    "colab": {
     "base_uri": "https://localhost:8080/",
     "height": 34
    },
    "colab_type": "code",
    "id": "7Z1aCHI8VSEt",
    "outputId": "72b99023-28dc-40d1-cf6f-3c7c83e034f7"
   },
   "outputs": [
    {
     "data": {
      "text/plain": [
       "[0, 1, 2, 3, 4, 5, 6, 7, 8, 9]"
      ]
     },
     "execution_count": 63,
     "metadata": {},
     "output_type": "execute_result"
    }
   ],
   "source": [
    "# we can create lists from iterables using this method\n",
    "list(range(10))"
   ]
  },
  {
   "cell_type": "code",
   "execution_count": 64,
   "metadata": {
    "ExecuteTime": {
     "end_time": "2020-04-22T20:43:50.212960Z",
     "start_time": "2020-04-22T20:43:50.124892Z"
    }
   },
   "outputs": [
    {
     "data": {
      "text/plain": [
       "['m', 'a', 'h', 'a', 'r', 'a', 's', 'h', 't', 'r', 'a']"
      ]
     },
     "execution_count": 64,
     "metadata": {},
     "output_type": "execute_result"
    }
   ],
   "source": [
    "# we can create a list from string\n",
    "list(\"maharashtra\")"
   ]
  },
  {
   "cell_type": "markdown",
   "metadata": {
    "colab_type": "text",
    "id": "HM4HrwMzKv-j"
   },
   "source": [
    "## break statement and else clause on loop"
   ]
  },
  {
   "cell_type": "markdown",
   "metadata": {
    "colab_type": "text",
    "id": "1ZH99i67Lc1W"
   },
   "source": [
    "The break statement, like in C, breaks out of the innermost enclosing for or while loop.\n",
    "\n",
    "Loop statements may have an else clause; it is *executed when the loop terminates through exhaustion of the list (with for) or when the condition becomes false (with while)*, **but not when the loop is terminated by a break statement.**"
   ]
  },
  {
   "cell_type": "markdown",
   "metadata": {
    "colab_type": "text",
    "id": "TThqIfFDLxET"
   },
   "source": [
    "## Find primes upto N"
   ]
  },
  {
   "cell_type": "code",
   "execution_count": 65,
   "metadata": {
    "ExecuteTime": {
     "end_time": "2020-04-22T20:43:50.287188Z",
     "start_time": "2020-04-22T20:43:50.215533Z"
    },
    "colab": {
     "base_uri": "https://localhost:8080/",
     "height": 238
    },
    "colab_type": "code",
    "id": "1Ii6JWFlKvmP",
    "outputId": "d0092e23-e5c7-4a4b-d9e6-6fc200e0ccd3"
   },
   "outputs": [
    {
     "name": "stdout",
     "output_type": "stream",
     "text": [
      "1 is a prime number\n",
      "2 is a prime number\n",
      "3 is a prime number\n",
      "4 equals 2 * 2\n",
      "5 is a prime number\n",
      "6 equals 2 * 3\n",
      "7 is a prime number\n",
      "8 equals 2 * 4\n",
      "9 equals 3 * 3\n",
      "10 equals 2 * 5\n",
      "11 is a prime number\n",
      "12 equals 2 * 6\n",
      "13 is a prime number\n",
      "14 equals 2 * 7\n",
      "15 equals 3 * 5\n"
     ]
    }
   ],
   "source": [
    "def primes(n):\n",
    "  for i in range(1, n+1): # 1 to 15\n",
    "    for j in range(2, i):\n",
    "      if i % j == 0:\n",
    "        print(i, \"equals\", j, \"*\", i//j)\n",
    "        break\n",
    "    else:\n",
    "      # loop fell through without finding a factor\n",
    "      # else belongs to the for loop\n",
    "      # loop's else clause runs when no break occurs\n",
    "      # similar to try (in exception handling), when no exception occurs\n",
    "      # else clause of try executes\n",
    "      print(\"%d is a prime number\" %(i))\n",
    "\n",
    "primes(15)"
   ]
  },
  {
   "cell_type": "markdown",
   "metadata": {
    "colab_type": "text",
    "id": "StuwFYb5Lk-b"
   },
   "source": [
    "## Find primes within a range\n",
    "- we can do it efficiently if we use sieve of eratosthenes method"
   ]
  },
  {
   "cell_type": "code",
   "execution_count": 66,
   "metadata": {
    "ExecuteTime": {
     "end_time": "2020-04-22T20:43:50.378592Z",
     "start_time": "2020-04-22T20:43:50.290250Z"
    },
    "colab": {
     "base_uri": "https://localhost:8080/",
     "height": 34
    },
    "colab_type": "code",
    "id": "JnHoKgiyLkI-",
    "outputId": "bc52095f-a81d-4d08-ee25-ff6bffc48187"
   },
   "outputs": [
    {
     "name": "stdout",
     "output_type": "stream",
     "text": [
      "5 7 11 13 17 19 23 29 "
     ]
    }
   ],
   "source": [
    "def prime1(l, u):\n",
    "  for i in range(l, u+1):\n",
    "    count = 0\n",
    "    for j in range(1, i+1):\n",
    "      if i%j == 0:\n",
    "        count+=1\n",
    "    \n",
    "    if count == 2:\n",
    "      print(i, end=\" \")\n",
    "\n",
    "prime1(5, 30)"
   ]
  },
  {
   "cell_type": "markdown",
   "metadata": {
    "colab_type": "text",
    "id": "snDs61vWNrtD"
   },
   "source": [
    "## Perfect number\n",
    "Perfect number, a positive integer that is equal to the sum of its proper divisors."
   ]
  },
  {
   "cell_type": "code",
   "execution_count": 67,
   "metadata": {
    "ExecuteTime": {
     "end_time": "2020-04-22T20:43:50.466825Z",
     "start_time": "2020-04-22T20:43:50.381639Z"
    },
    "colab": {
     "base_uri": "https://localhost:8080/",
     "height": 68
    },
    "colab_type": "code",
    "id": "jk71Pi0MNuio",
    "outputId": "3fb55309-ae22-4084-e29b-1498b3b77bd4"
   },
   "outputs": [
    {
     "name": "stdout",
     "output_type": "stream",
     "text": [
      "6 is a perfect number.\n",
      "496 is a perfect number.\n",
      "494 is not a perfect number.\n"
     ]
    }
   ],
   "source": [
    "import math\n",
    "\n",
    "def perfect(n):\n",
    "  sum = 1\n",
    "  k = int(math.ceil(math.sqrt(n+1)))\n",
    "  for i in range(2, k):\n",
    "    if n%i == 0:\n",
    "      sum+=(i+(n/i))\n",
    "    \n",
    "  if sum == n:\n",
    "    print(\"{0} is a perfect number.\".format(n))\n",
    "  else:\n",
    "    print(\"{0} is not a perfect number.\".format(n))\n",
    "\n",
    "perfect(6)\n",
    "perfect(496)\n",
    "perfect(494)"
   ]
  },
  {
   "cell_type": "markdown",
   "metadata": {
    "colab_type": "text",
    "id": "vGQaCSQUOkLH"
   },
   "source": [
    "## Perfect number within range"
   ]
  },
  {
   "cell_type": "code",
   "execution_count": 68,
   "metadata": {
    "ExecuteTime": {
     "end_time": "2020-04-22T20:43:52.006145Z",
     "start_time": "2020-04-22T20:43:50.469276Z"
    },
    "colab": {
     "base_uri": "https://localhost:8080/",
     "height": 51
    },
    "colab_type": "code",
    "id": "fZKQGif1OnXC",
    "outputId": "7164fc08-abcd-44a3-fb99-ec4091290ce6"
   },
   "outputs": [
    {
     "name": "stdout",
     "output_type": "stream",
     "text": [
      "6 28 496 8128 \n",
      "28 496 8128 \n"
     ]
    }
   ],
   "source": [
    "import math\n",
    "\n",
    "def perfect1(l, u):\n",
    "  # corner case\n",
    "  if l == 1:\n",
    "    l = 2\n",
    "\n",
    "  for i in range(l, u+1):\n",
    "    sum = 1\n",
    "    k = int(math.ceil(math.sqrt(i+1)))\n",
    "    for j in range(2, k):\n",
    "      if i%j == 0:\n",
    "        sum+=(j + (i/j))\n",
    "    if sum == i:\n",
    "      print(i, end=\" \")\n",
    "\n",
    "  print()\n",
    "\n",
    "perfect1(1, 10000)\n",
    "perfect1(20, 90000)"
   ]
  },
  {
   "cell_type": "markdown",
   "metadata": {
    "colab_type": "text",
    "id": "QdK-3QjSetZ2"
   },
   "source": [
    "## Strong number\n",
    "Strong number is a special number whose sum of factorial of digits is equal to the original number."
   ]
  },
  {
   "cell_type": "code",
   "execution_count": 69,
   "metadata": {
    "ExecuteTime": {
     "end_time": "2020-04-22T20:43:52.018393Z",
     "start_time": "2020-04-22T20:43:52.009180Z"
    },
    "colab": {
     "base_uri": "https://localhost:8080/",
     "height": 85
    },
    "colab_type": "code",
    "id": "O6J-SkAbevZ2",
    "outputId": "d4e4559c-830c-406d-bbb0-ca1d3a6295b0"
   },
   "outputs": [
    {
     "name": "stdout",
     "output_type": "stream",
     "text": [
      "It's a strong number.\n",
      "It's a strong number.\n",
      "It's not a strong number.\n",
      "It's not a strong number.\n"
     ]
    }
   ],
   "source": [
    "def factorial(n):\n",
    "  if n <= 0:\n",
    "    return 1\n",
    "  else:\n",
    "    return n * factorial(n-1)\n",
    "\n",
    "def strong(n):\n",
    "  temp = n\n",
    "  sum = 0\n",
    "  while n > 0:\n",
    "      f = factorial(n%10)\n",
    "      sum += f\n",
    "      n = n // 10\n",
    "  \n",
    "  if sum == temp:\n",
    "    print(\"It's a strong number.\")\n",
    "  else:\n",
    "    print(\"It's not a strong number.\")\n",
    "\n",
    "strong(145)\n",
    "strong(2)\n",
    "strong(56)\n",
    "strong(21)"
   ]
  },
  {
   "cell_type": "markdown",
   "metadata": {
    "colab_type": "text",
    "id": "TaGPiE5qQ5o5"
   },
   "source": [
    "## continue statement"
   ]
  },
  {
   "cell_type": "markdown",
   "metadata": {
    "colab_type": "text",
    "id": "Xem2mzF2RoA1"
   },
   "source": [
    "Like in C, continue statement continues with the next iteration of the loop."
   ]
  },
  {
   "cell_type": "markdown",
   "metadata": {
    "colab_type": "text",
    "id": "pblPcxWuRqIc"
   },
   "source": [
    "## pass statement"
   ]
  },
  {
   "cell_type": "markdown",
   "metadata": {
    "colab_type": "text",
    "id": "zZ2r82IcR7Za"
   },
   "source": [
    "It does nothing. Read more https://docs.python.org/3/tutorial/controlflow.html#pass-statements"
   ]
  },
  {
   "cell_type": "markdown",
   "metadata": {
    "colab_type": "text",
    "id": "OVoCcSk-SE7z"
   },
   "source": [
    "## Defining a function"
   ]
  },
  {
   "cell_type": "markdown",
   "metadata": {
    "colab_type": "text",
    "id": "s8T1qCAcSIgX"
   },
   "source": [
    "- The keyword def introduces a function definition. It must be followed by the function name and the parenthesized list of formal parameters. The statements that form the body of the function start at the next line, and must be indented.\n",
    "- The first statement of the function body can optionally be a string literal; this string literal is the function’s documentation string, or docstring.\n",
    "- The execution of a function introduces a new symbol table used for the local variables of the function.\n",
    "- The actual parameters (arguments) to a function call are introduced in the local symbol table of the called function when it is called; thus, arguments are passed using **call by value** (where the value is always an object reference, not the value of the object).\n",
    "- In fact, even functions without a return statement do return a value, albeit a rather boring one. **This value is called None (it’s a built-in name)**. Writing the value None is normally suppressed by the interpreter if it would be the only value written."
   ]
  },
  {
   "cell_type": "markdown",
   "metadata": {
    "colab_type": "text",
    "id": "VEsofk7iaIO9"
   },
   "source": [
    "##  return statement"
   ]
  },
  {
   "cell_type": "code",
   "execution_count": 70,
   "metadata": {
    "ExecuteTime": {
     "end_time": "2020-04-22T20:43:52.184700Z",
     "start_time": "2020-04-22T20:43:52.020722Z"
    },
    "colab": {
     "base_uri": "https://localhost:8080/",
     "height": 34
    },
    "colab_type": "code",
    "id": "VJKxweq4aKq6",
    "outputId": "2e5f73c0-c8fd-4994-fccc-fa09aab87541"
   },
   "outputs": [
    {
     "data": {
      "text/plain": [
       "['guave', 'grapes', 'banana']"
      ]
     },
     "execution_count": 70,
     "metadata": {},
     "output_type": "execute_result"
    }
   ],
   "source": [
    "def sublist(fruits, m, n):\n",
    "  return fruits[m:n]\n",
    "\n",
    "fruits = [\"mango\", \"apple\", \"guave\", \"grapes\", \"banana\", \"pineapple\", \"cucumber\", \"pomegranate\", \"watermelon\", \"naseberry\"]\n",
    "sublist(fruits, 2, 5)"
   ]
  },
  {
   "cell_type": "code",
   "execution_count": 71,
   "metadata": {
    "ExecuteTime": {
     "end_time": "2020-04-22T20:43:52.307338Z",
     "start_time": "2020-04-22T20:43:52.187772Z"
    }
   },
   "outputs": [
    {
     "name": "stdout",
     "output_type": "stream",
     "text": [
      "Two prints 9 7\n",
      "One prints 9 7\n"
     ]
    }
   ],
   "source": [
    "#return statement with more than one values\n",
    "def one():\n",
    "    a = 5\n",
    "    b = 10\n",
    "    a, b = two(a, b)\n",
    "    print(\"One prints\", a, b)\n",
    "    \n",
    "def two(a, b):\n",
    "    a=9\n",
    "    b=7\n",
    "    print(\"Two prints\", a, b)\n",
    "    return a, b\n",
    "    \n",
    "one()"
   ]
  },
  {
   "cell_type": "markdown",
   "metadata": {
    "colab_type": "text",
    "id": "KO8x5g3TiNzb"
   },
   "source": [
    "## Default argument values in function\n",
    "\n",
    "- The default values are evaluated at the point of function definition in the defining scope.\n",
    "- The default value is evaluated only once. This makes a difference when the default is a mutable object such as a list, dictionary, or instances of most classes. Read more https://docs.python.org/3/tutorial/controlflow.html#default-argument-values"
   ]
  },
  {
   "cell_type": "code",
   "execution_count": 72,
   "metadata": {
    "ExecuteTime": {
     "end_time": "2020-04-22T20:43:58.250776Z",
     "start_time": "2020-04-22T20:43:52.310394Z"
    },
    "colab": {
     "base_uri": "https://localhost:8080/",
     "height": 51
    },
    "colab_type": "code",
    "id": "H3NAXRQpiSla",
    "outputId": "d4176fea-7d6d-4ea8-9709-619280bab9a4"
   },
   "outputs": [
    {
     "name": "stdout",
     "output_type": "stream",
     "text": [
      "Okay?nop\n"
     ]
    },
    {
     "data": {
      "text/plain": [
       "False"
      ]
     },
     "execution_count": 72,
     "metadata": {},
     "output_type": "execute_result"
    }
   ],
   "source": [
    "def ask_ok(prompt, retries=4, reminder='Please try again!'): # two arguments have been assigned a default\n",
    "    while True:\n",
    "        ok = input(prompt)\n",
    "        if ok in ('y', 'ye', 'yes'):\n",
    "            return True\n",
    "        if ok in ('n', 'no', 'nop', 'nope'):\n",
    "            return False\n",
    "        retries = retries - 1\n",
    "        if retries <= 0:\n",
    "            raise ValueError('invalid user response')\n",
    "        print(reminder)\n",
    "\n",
    "# ask_ok(\"Do you really want to quit?\")\n",
    "ask_ok(\"Okay?\", 2, \"Only yes or no!\")"
   ]
  },
  {
   "cell_type": "markdown",
   "metadata": {
    "colab_type": "text",
    "id": "NZhQFmIZ8ZwJ"
   },
   "source": [
    "## in and not in operator\n",
    "- The operators in and not in **test for membership**. x in s evaluates to True if x is a member of s, and False otherwise. x not in s returns the negation of x in s. \n",
    "- Read more https://docs.python.org/3/reference/expressions.html#membership-test-operations"
   ]
  },
  {
   "cell_type": "markdown",
   "metadata": {
    "colab_type": "text",
    "id": "HXM5bIQHn3wg"
   },
   "source": [
    "##  Lambda expression\n",
    "Small anonymous functions are created with the lambda keyword. No need of function name and return statement\n",
    "\n",
    "Read more https://www.geeksforgeeks.org/python-lambda-anonymous-functions-filter-map-reduce/"
   ]
  },
  {
   "cell_type": "code",
   "execution_count": 73,
   "metadata": {
    "ExecuteTime": {
     "end_time": "2020-04-22T20:43:58.258839Z",
     "start_time": "2020-04-22T20:43:58.253568Z"
    },
    "colab": {
     "base_uri": "https://localhost:8080/",
     "height": 34
    },
    "colab_type": "code",
    "id": "PlkEWhfToGdz",
    "outputId": "55ad9406-3793-420e-9794-96229d1c7401"
   },
   "outputs": [
    {
     "name": "stdout",
     "output_type": "stream",
     "text": [
      "27\n"
     ]
    }
   ],
   "source": [
    "g = lambda x: x*x*x\n",
    "print(g(3))"
   ]
  },
  {
   "cell_type": "markdown",
   "metadata": {},
   "source": [
    "## filter() method"
   ]
  },
  {
   "cell_type": "code",
   "execution_count": 74,
   "metadata": {
    "ExecuteTime": {
     "end_time": "2020-04-22T20:43:58.373833Z",
     "start_time": "2020-04-22T20:43:58.261357Z"
    },
    "colab": {
     "base_uri": "https://localhost:8080/",
     "height": 34
    },
    "colab_type": "code",
    "id": "1cMvBIcDocNu",
    "outputId": "d4e73d2e-c2ca-4b61-84e3-b5be46bf4f29"
   },
   "outputs": [
    {
     "name": "stdout",
     "output_type": "stream",
     "text": [
      "[5, 7, 97, 77, 23, 73, 61]\n"
     ]
    }
   ],
   "source": [
    "# The filter() takes in a function and a list as arguments.\n",
    "# This offers an elegant way to filter out all the elements of a sequence, \n",
    "# for which the function returns True. \n",
    "li = [5, 7, 22, 97, 54, 62, 77, 23, 73, 61]\n",
    "final_list = list(filter(lambda x:(x%2 != 0), li))\n",
    "print(final_list)"
   ]
  },
  {
   "cell_type": "markdown",
   "metadata": {
    "colab_type": "text",
    "id": "5JW9sGfC5Rvi"
   },
   "source": [
    "## Unpacking Argument Lists"
   ]
  },
  {
   "cell_type": "code",
   "execution_count": 75,
   "metadata": {
    "ExecuteTime": {
     "end_time": "2020-04-22T20:43:58.482501Z",
     "start_time": "2020-04-22T20:43:58.376185Z"
    },
    "colab": {
     "base_uri": "https://localhost:8080/",
     "height": 34
    },
    "colab_type": "code",
    "id": "J6nTQlpN5Tnm",
    "outputId": "a954f335-eb95-4e01-bcdd-f79bbfd7eab9"
   },
   "outputs": [
    {
     "name": "stdout",
     "output_type": "stream",
     "text": [
      "[3, 4, 5, 6, 7]\n"
     ]
    }
   ],
   "source": [
    "a = [3, 8, 1] # [start, stop, step]\n",
    "print(list(range(*a)))"
   ]
  },
  {
   "cell_type": "markdown",
   "metadata": {},
   "source": [
    "## Keyword arguments\n",
    "https://docs.python.org/3/tutorial/controlflow.html#keyword-arguments"
   ]
  },
  {
   "cell_type": "markdown",
   "metadata": {},
   "source": [
    "---"
   ]
  },
  {
   "cell_type": "markdown",
   "metadata": {
    "colab_type": "text",
    "id": "w07rDMCSv2L_"
   },
   "source": [
    "# Data Structures\n",
    "\n",
    "https://docs.python.org/3/tutorial/datastructures.html"
   ]
  },
  {
   "cell_type": "markdown",
   "metadata": {
    "colab_type": "text",
    "id": "U3hJypyQhdDP"
   },
   "source": [
    "## More on lists"
   ]
  },
  {
   "cell_type": "code",
   "execution_count": 76,
   "metadata": {
    "ExecuteTime": {
     "end_time": "2020-04-22T20:43:58.566647Z",
     "start_time": "2020-04-22T20:43:58.484813Z"
    }
   },
   "outputs": [
    {
     "name": "stdout",
     "output_type": "stream",
     "text": [
      "After append  [1, 2, 3, 4]\n",
      "After extend  [1, 2, 3, 4, 6, 7, 8, 9]\n",
      "After insert  [1, 2, 3, 4, 5, 6, 7, 8, 9]\n",
      "After remove  [1, 2, 4, 5, 6, 7, 8, 9]\n",
      "9\n",
      "After pop()  [1, 2, 4, 5, 6, 7, 8]\n",
      "After del[4]  [1, 2, 4, 5, 7, 8]\n",
      "Before clear()  [98, 56, 21, 30]\n",
      "After clear()  []\n",
      "Element 4 is at 2\n",
      "Element 7 in slice l1[1:len(l1)] is at 4\n",
      "Count of occurences of element 6 3\n",
      "Before sort in ascending order [6, 51, 6, 21, 52, 6, 2]\n",
      "After sort in ascending order [2, 6, 6, 6, 21, 51, 52]\n",
      "After sort in descending order [52, 51, 21, 6, 6, 6, 2]\n",
      "Reversing the list [8, 7, 5, 4, 2, 1]\n",
      "list copied [52, 51, 21, 6, 6, 6, 2]\n"
     ]
    }
   ],
   "source": [
    "# list.append(x) - adds to the end of the list\n",
    "l1 = [1, 2, 3]\n",
    "l1.append(4)\n",
    "print(\"After append \", l1)\n",
    "\n",
    "# list.extend(iterable) - extends the list by appending all the items from the iterable\n",
    "l1.extend(range(6, 10))\n",
    "print(\"After extend \", l1)\n",
    "\n",
    "# list.insert(i, x) - i is the index value and x is the data to insert\n",
    "l1.insert(4, 5)\n",
    "print(\"After insert \", l1)\n",
    "\n",
    "# list.remove(x) - removes first item from the list whose value is equal to x. Raises ValueError if not found\n",
    "l1.remove(3)\n",
    "print(\"After remove \", l1)\n",
    "\n",
    "# list.pop([i]) - passing the parameter is optional and hence written within [].\n",
    "# removes the item at a given position\n",
    "# list.pop() removes and returns the last item in the list\n",
    "print(l1.pop())\n",
    "print(\"After pop() \", l1)\n",
    "\n",
    "# del operator deletes an element from a specified index or a slice\n",
    "del l1[4]\n",
    "print(\"After del[4] \", l1)\n",
    "\n",
    "# list.clear() - removes all items from the list. Equivalent to del list[:]\n",
    "l2 = [98, 56, 21, 30]\n",
    "print(\"Before clear() \", l2)\n",
    "l2.clear()\n",
    "print(\"After clear() \", l2)\n",
    "\n",
    "# list.index(x[, start[, end]])\n",
    "# Return zero-based index in the list of the first item whose value is equal to x. \n",
    "# Raises a ValueError if there is no such item.\n",
    "# The optional arguments start and end are interpreted as in the slice notation \n",
    "# and are used to limit the search to a particular subsequence of the list. \n",
    "# The returned index is computed relative to the beginning of \n",
    "# the full sequence rather than the start argument.\n",
    "print(\"Element 4 is at\", l1.index(4))\n",
    "print(\"Element 7 in slice l1[1:len(l1)] is at\", l1.index(7, 1, len(l1)))\n",
    "# print(l1.index(7, 1, 3)) # raises ValueError since 7 is not in the slice | 1 | 2 | 3 |\n",
    "\n",
    "# list.count(x) - return the number of times x appears in the list\n",
    "l2 = [6, 51, 6, 21, 52, 6, 2]\n",
    "print(\"Count of occurences of element 6\", l2.count(6))\n",
    "\n",
    "#list.sort(key=None, reverse=False) - sorts elements in place\n",
    "print(\"Before sort in ascending order\", l2)\n",
    "l2.sort()\n",
    "print(\"After sort in ascending order\", l2)\n",
    "l2.sort(reverse=True)\n",
    "print(\"After sort in descending order\", l2)\n",
    "\n",
    "# list.reverse() - reverse the elements in \n",
    "l1.reverse()\n",
    "print(\"Reversing the list\", l1)\n",
    "\n",
    "# list.copy() - returns a shallow copy of the list. Equivalent to list[:]\n",
    "print(\"list copied\", l2.copy())"
   ]
  },
  {
   "cell_type": "markdown",
   "metadata": {},
   "source": [
    "## List can have elements of different types\n",
    "- Though it's not recommended to store heterogenous elements in a list. You can use tuples to store them."
   ]
  },
  {
   "cell_type": "code",
   "execution_count": 77,
   "metadata": {
    "ExecuteTime": {
     "end_time": "2020-04-22T20:43:58.652185Z",
     "start_time": "2020-04-22T20:43:58.569010Z"
    }
   },
   "outputs": [
    {
     "name": "stdout",
     "output_type": "stream",
     "text": [
      "['a', 254, 65, 8.2, 'dart']\n"
     ]
    }
   ],
   "source": [
    "k = ['a', 254, 65, 8.2, \"dart\"]\n",
    "print(k)"
   ]
  },
  {
   "cell_type": "markdown",
   "metadata": {
    "colab_type": "text",
    "id": "X_oQ24ys7dzI"
   },
   "source": [
    "## Using lists as stacks\n",
    "- stack follows LIFO(last-in, first-out) principle\n",
    "- to push we use append()\n",
    "- to pop we use pop()"
   ]
  },
  {
   "cell_type": "code",
   "execution_count": 78,
   "metadata": {
    "ExecuteTime": {
     "end_time": "2020-04-22T20:43:58.739062Z",
     "start_time": "2020-04-22T20:43:58.654698Z"
    },
    "colab": {
     "base_uri": "https://localhost:8080/",
     "height": 85
    },
    "colab_type": "code",
    "id": "RrxSICe67ggS",
    "outputId": "34836239-a049-4e57-93c1-cd37f955a6ca"
   },
   "outputs": [
    {
     "name": "stdout",
     "output_type": "stream",
     "text": [
      "[3, 8, 2, 4, 7]\n",
      "7\n",
      "4\n",
      "[3, 8, 2]\n"
     ]
    }
   ],
   "source": [
    "stack = [3, 8, 2]\n",
    "stack.append(4)\n",
    "stack.append(7)\n",
    "print(stack)\n",
    "print(stack.pop())\n",
    "print(stack.pop())\n",
    "print(stack)"
   ]
  },
  {
   "cell_type": "markdown",
   "metadata": {
    "colab_type": "text",
    "id": "tMX-QOQb8xoE"
   },
   "source": [
    "## Using lists as queues\n",
    "- queue follows FIFO(first-in, first-out) principle\n",
    "- It is also possible to use a list as a queue, where the first element added is the first element retrieved.\n",
    "- However, lists are not efficient for this purpose.\n",
    "- While appends and pops from the end of list are fast but doing inserts or pops from the beginning of a list is slow (because all of the other elements have to be shifted by one) to implement a queue, use collections.deque which was designed to have fast appends and pops from both ends.\n",
    "- Deques support thread-safe, memory efficient appends and pops from either side of the deque with approximately the same O(1) performance in either direction."
   ]
  },
  {
   "cell_type": "code",
   "execution_count": 79,
   "metadata": {
    "ExecuteTime": {
     "end_time": "2020-04-22T20:43:58.817368Z",
     "start_time": "2020-04-22T20:43:58.742880Z"
    },
    "colab": {
     "base_uri": "https://localhost:8080/",
     "height": 68
    },
    "colab_type": "code",
    "id": "SueUMHkb80Jq",
    "outputId": "a33d2756-2232-4e43-88ed-fd5e9608d041"
   },
   "outputs": [
    {
     "name": "stdout",
     "output_type": "stream",
     "text": [
      "Elements in queue: ['Amit', 'Karthik', 'Sammy', 'Avik', 'Tanmoy', 'Komal']\n",
      "Amit\n",
      "Karthik\n",
      "deque(['Sammy', 'Avik', 'Tanmoy', 'Komal'])\n"
     ]
    }
   ],
   "source": [
    "from collections import deque\n",
    "queue = deque([\"Amit\", \"Karthik\", \"Sammy\", \"Avik\"])\n",
    "queue.append(\"Tanmoy\")\n",
    "queue.append(\"Komal\")\n",
    "print(\"Elements in queue:\", list(queue))\n",
    "print(queue.popleft())\n",
    "print(queue.popleft())\n",
    "print(queue)"
   ]
  },
  {
   "cell_type": "markdown",
   "metadata": {
    "colab_type": "text",
    "id": "8cLOqRrW-_x8"
   },
   "source": [
    "## List comprehensions\n",
    "- List comprehensions provide a concise way to create lists. Common applications are to make new lists where each element is the result of some operations applied to each member of another sequence or iterable, or to create a subsequence of those elements that satisfy a certain condition.\n",
    "- **basic syntax: new_list = [expression for_loop_one_or_more condtions]**"
   ]
  },
  {
   "cell_type": "code",
   "execution_count": 80,
   "metadata": {
    "ExecuteTime": {
     "end_time": "2020-04-22T20:43:58.918954Z",
     "start_time": "2020-04-22T20:43:58.820997Z"
    },
    "colab": {
     "base_uri": "https://localhost:8080/",
     "height": 34
    },
    "colab_type": "code",
    "id": "HGAHxXBNARnQ",
    "outputId": "f1eaea7d-3819-47f8-997f-1ac0bd40ee2f"
   },
   "outputs": [
    {
     "name": "stdout",
     "output_type": "stream",
     "text": [
      "[0, 1, 4, 9, 16, 25, 36, 49, 64, 81]\n"
     ]
    }
   ],
   "source": [
    "squares = []\n",
    "for x in range(10):\n",
    "    squares.append(x**2)\n",
    "\n",
    "print(squares)"
   ]
  },
  {
   "cell_type": "code",
   "execution_count": 81,
   "metadata": {
    "ExecuteTime": {
     "end_time": "2020-04-22T20:43:59.014928Z",
     "start_time": "2020-04-22T20:43:58.921440Z"
    },
    "colab": {
     "base_uri": "https://localhost:8080/",
     "height": 34
    },
    "colab_type": "code",
    "id": "GoQzuVs9Abdo",
    "outputId": "1066405c-f586-4883-eb5e-a1d2bba693aa"
   },
   "outputs": [
    {
     "name": "stdout",
     "output_type": "stream",
     "text": [
      "[0, 1, 4, 9, 16, 25, 36, 49, 64, 81]\n"
     ]
    }
   ],
   "source": [
    "squares = list(map(lambda x:x**2, range(10)))\n",
    "print(squares)"
   ]
  },
  {
   "cell_type": "code",
   "execution_count": 82,
   "metadata": {
    "ExecuteTime": {
     "end_time": "2020-04-22T20:43:59.091132Z",
     "start_time": "2020-04-22T20:43:59.019183Z"
    },
    "colab": {
     "base_uri": "https://localhost:8080/",
     "height": 34
    },
    "colab_type": "code",
    "id": "LO25YkRlKCvE",
    "outputId": "34f651f6-132f-46de-82b6-d359340811e6"
   },
   "outputs": [
    {
     "name": "stdout",
     "output_type": "stream",
     "text": [
      "[1, 4, 9, 16, 25, 36, 49, 64, 81]\n"
     ]
    }
   ],
   "source": [
    "# more concise and readable\n",
    "# this is list comprehension\n",
    "squares = [x**2 for x in range(1, 10)]\n",
    "print(squares)"
   ]
  },
  {
   "cell_type": "code",
   "execution_count": 83,
   "metadata": {
    "ExecuteTime": {
     "end_time": "2020-04-22T20:43:59.193469Z",
     "start_time": "2020-04-22T20:43:59.094373Z"
    },
    "colab": {
     "base_uri": "https://localhost:8080/",
     "height": 34
    },
    "colab_type": "code",
    "id": "vXFNSF9PMnor",
    "outputId": "f5891ddd-400f-4a72-88b6-311243fe5704"
   },
   "outputs": [
    {
     "data": {
      "text/plain": [
       "[(1, 3), (1, 4), (2, 3), (2, 1), (2, 4), (3, 1), (3, 4)]"
      ]
     },
     "execution_count": 83,
     "metadata": {},
     "output_type": "execute_result"
    }
   ],
   "source": [
    "# If the expression is a tuple, it must be parenthesized.\n",
    "[(x, y) for x in [1,2,3] for y in [3,1,4] if x != y]"
   ]
  },
  {
   "cell_type": "code",
   "execution_count": 84,
   "metadata": {
    "ExecuteTime": {
     "end_time": "2020-04-22T20:43:59.288352Z",
     "start_time": "2020-04-22T20:43:59.195572Z"
    },
    "colab": {
     "base_uri": "https://localhost:8080/",
     "height": 34
    },
    "colab_type": "code",
    "id": "Kj3DZbnTPO2n",
    "outputId": "4e047621-969c-418d-c014-2774cd3d6f51"
   },
   "outputs": [
    {
     "data": {
      "text/plain": [
       "[1, 2, 3, 4, 5, 6, 7, 8, 9]"
      ]
     },
     "execution_count": 84,
     "metadata": {},
     "output_type": "execute_result"
    }
   ],
   "source": [
    "# flatten a list using a list comprehension with two 'for'\n",
    "vec = [[1,2,3], [4,5,6], [7,8,9]]\n",
    "[num for elem in vec for num in elem]"
   ]
  },
  {
   "cell_type": "code",
   "execution_count": 85,
   "metadata": {
    "ExecuteTime": {
     "end_time": "2020-04-22T20:43:59.371034Z",
     "start_time": "2020-04-22T20:43:59.290757Z"
    },
    "colab": {
     "base_uri": "https://localhost:8080/",
     "height": 34
    },
    "colab_type": "code",
    "id": "mTDRvqZZP7Kn",
    "outputId": "2c9c0a62-1f97-4d08-a910-91fc4fc78947"
   },
   "outputs": [
    {
     "data": {
      "text/plain": [
       "['banana', 'loganberry', 'passion fruit']"
      ]
     },
     "execution_count": 85,
     "metadata": {},
     "output_type": "execute_result"
    }
   ],
   "source": [
    "# call a method on each element\n",
    "freshfruit = ['  banana', '  loganberry ', 'passion fruit  ']\n",
    "[weapon.strip() for weapon in freshfruit]"
   ]
  },
  {
   "cell_type": "markdown",
   "metadata": {
    "colab_type": "text",
    "id": "aRwCpcqUkSuU"
   },
   "source": [
    "## Capitalize each word in a string"
   ]
  },
  {
   "cell_type": "code",
   "execution_count": 86,
   "metadata": {
    "ExecuteTime": {
     "end_time": "2020-04-22T20:44:07.549573Z",
     "start_time": "2020-04-22T20:43:59.373280Z"
    },
    "colab": {
     "base_uri": "https://localhost:8080/",
     "height": 51
    },
    "colab_type": "code",
    "id": "62ta21OEkWTU",
    "outputId": "b0bcda5f-5ca7-4b2b-a6c2-9551f33c55ec"
   },
   "outputs": [
    {
     "name": "stdout",
     "output_type": "stream",
     "text": [
      "operating system\n",
      "Operating System\n"
     ]
    }
   ],
   "source": [
    "str = input()\n",
    "l = str.split()\n",
    "print(\" \".join(word.capitalize() for word in l)) # list comprehension"
   ]
  },
  {
   "cell_type": "markdown",
   "metadata": {
    "colab_type": "text",
    "id": "IeHP1X30KDNI"
   },
   "source": [
    "## map() method\n",
    "- map(function, iterable, ...)\n",
    "- map() function returns a list of the results after applying the given function to each item of a given iterable (list, tuple etc.)\n",
    "- read: https://www.geeksforgeeks.org/python-map-function/\n",
    "- read: https://docs.python.org/3/library/functions.html#map"
   ]
  },
  {
   "cell_type": "code",
   "execution_count": 87,
   "metadata": {
    "ExecuteTime": {
     "end_time": "2020-04-22T20:44:07.562719Z",
     "start_time": "2020-04-22T20:44:07.554144Z"
    },
    "colab": {
     "base_uri": "https://localhost:8080/",
     "height": 34
    },
    "colab_type": "code",
    "id": "z3Yg6wRjLOIv",
    "outputId": "7998aedf-7f78-445e-8fc6-f99d5be358ab",
    "scrolled": true
   },
   "outputs": [
    {
     "name": "stdout",
     "output_type": "stream",
     "text": [
      "[['s', 'a', 't'], ['b', 'a', 't'], ['c', 'a', 't'], ['m', 'a', 't']]\n"
     ]
    }
   ],
   "source": [
    "# listify the list of strings individually\n",
    "\n",
    "l = ['sat', 'bat', 'cat', 'mat'] \n",
    "\n",
    "test = list(map(list, l)) \n",
    "print(test) \n"
   ]
  },
  {
   "cell_type": "code",
   "execution_count": 88,
   "metadata": {
    "ExecuteTime": {
     "end_time": "2020-04-22T20:44:07.680887Z",
     "start_time": "2020-04-22T20:44:07.565031Z"
    }
   },
   "outputs": [
    {
     "name": "stdout",
     "output_type": "stream",
     "text": [
      "[8, 6, 4, 2, 8, 4, 5, 2]\n"
     ]
    }
   ],
   "source": [
    "# string containing numbers to list of numbers\n",
    "num = \"86428452\"\n",
    "n = list(map(int, num))\n",
    "print(n)\n"
   ]
  },
  {
   "cell_type": "markdown",
   "metadata": {
    "colab_type": "text",
    "id": "odhSt-ciOs65"
   },
   "source": [
    "## Iterator vs Iterable\n",
    "- read: https://www.geeksforgeeks.org/python-difference-iterable-iterator/"
   ]
  },
  {
   "cell_type": "markdown",
   "metadata": {
    "colab_type": "text",
    "id": "JOrPZIRZmvgv"
   },
   "source": [
    "## Nested list comprehensions"
   ]
  },
  {
   "cell_type": "code",
   "execution_count": 89,
   "metadata": {
    "ExecuteTime": {
     "end_time": "2020-04-22T20:44:07.782828Z",
     "start_time": "2020-04-22T20:44:07.683962Z"
    },
    "colab": {
     "base_uri": "https://localhost:8080/",
     "height": 34
    },
    "colab_type": "code",
    "id": "kN3FY2zgmzZi",
    "outputId": "f49b6eb7-2053-4b60-fea6-8bec43f68a5f"
   },
   "outputs": [
    {
     "name": "stdout",
     "output_type": "stream",
     "text": [
      "[1, 5, 9]\n",
      "[2, 6, 10]\n",
      "[3, 7, 11]\n",
      "[4, 8, 12]\n"
     ]
    }
   ],
   "source": [
    "# transpose a matrix\n",
    "# using nested list comprehensions\n",
    "matrix = [\n",
    "    [1, 2, 3, 4],\n",
    "    [5, 6, 7, 8],\n",
    "    [9, 10, 11, 12],\n",
    "]\n",
    "\n",
    "matrix = [[row[i] for row in matrix] for i in range(4)]\n",
    "\n",
    "for row in matrix:\n",
    "  print(row)"
   ]
  },
  {
   "cell_type": "markdown",
   "metadata": {
    "colab_type": "text",
    "id": "waoItAGD6NZC"
   },
   "source": [
    "## zip() method\n",
    "- The purpose of zip() is to map the similar index of multiple containers so that they can be used just using as single entity.\n",
    "- Syntax : \n",
    "zip(*iterators)\n",
    "- Parameters : \n",
    "Python iterables or containers ( list, string etc )\n",
    "- Return Value : \n",
    "Returns a single iterator object, having mapped values from all the\n",
    "containers."
   ]
  },
  {
   "cell_type": "code",
   "execution_count": 90,
   "metadata": {
    "ExecuteTime": {
     "end_time": "2020-04-22T20:44:07.849728Z",
     "start_time": "2020-04-22T20:44:07.785783Z"
    },
    "colab": {
     "base_uri": "https://localhost:8080/",
     "height": 34
    },
    "colab_type": "code",
    "id": "pnV3aDki41Vj",
    "outputId": "ebfe8a62-84f2-4c66-cedb-07e2a8ebff18"
   },
   "outputs": [
    {
     "name": "stdout",
     "output_type": "stream",
     "text": [
      "[(1, 5, 9), (2, 6, 10), (3, 7, 11), (4, 8, 12)]\n"
     ]
    }
   ],
   "source": [
    "# using zip()\n",
    "matrix = [\n",
    "    [1, 2, 3, 4],\n",
    "    [5, 6, 7, 8],\n",
    "    [9, 10, 11, 12],\n",
    "]\n",
    "\n",
    "print(list(zip(*matrix))) # *matrix unpacks argument lists"
   ]
  },
  {
   "cell_type": "markdown",
   "metadata": {
    "colab_type": "text",
    "id": "GXHO7ladKNi-"
   },
   "source": [
    "## Tuples and sequences\n",
    "- List, strings, tuples, range are all examples of sequence types\n",
    "- tuple consists of a number of values seperated by commas\n",
    "- tuples may be nested\n",
    "- tuples are immutable\n",
    "- tuples when printed are always enclosed in parentheses\n",
    "- generally, tuples are used to store heterogenous elements whereas lists are used to store homogenous elements\n",
    "- Note that **multiple assignment is really just a combination of tuple packing and sequence unpacking.**"
   ]
  },
  {
   "cell_type": "code",
   "execution_count": 91,
   "metadata": {
    "ExecuteTime": {
     "end_time": "2020-04-22T20:44:07.939115Z",
     "start_time": "2020-04-22T20:44:07.854231Z"
    },
    "colab": {
     "base_uri": "https://localhost:8080/",
     "height": 119
    },
    "colab_type": "code",
    "id": "rHDegqd0Xnkf",
    "outputId": "db5d999e-1f1d-4fd7-a2dd-b853e4ac0c0a"
   },
   "outputs": [
    {
     "name": "stdout",
     "output_type": "stream",
     "text": [
      "(748, 9709, 'Hello')\n",
      "((748, 9709, 'Hello'), 76, 97)\n",
      "Hello\n",
      "0\n",
      "1\n",
      "('Hey!',)\n"
     ]
    }
   ],
   "source": [
    "t = 748, 9709, \"Hello\"\n",
    "print(t)\n",
    "y = t, 76, 97 # nested tuple\n",
    "print(y)\n",
    "print(t[2])\n",
    "# tuple consists no item\n",
    "p = ()\n",
    "print(len(p))\n",
    "# tuple has one item\n",
    "o = \"Hey!\", # note the trailing comma\n",
    "print(len(o))\n",
    "print(o)"
   ]
  },
  {
   "cell_type": "code",
   "execution_count": 92,
   "metadata": {
    "ExecuteTime": {
     "end_time": "2020-04-22T20:44:08.003213Z",
     "start_time": "2020-04-22T20:44:07.942170Z"
    },
    "colab": {
     "base_uri": "https://localhost:8080/",
     "height": 34
    },
    "colab_type": "code",
    "id": "7kfjWPy6avit",
    "outputId": "36b74b13-e36d-42d0-bd7e-31af31be62fe"
   },
   "outputs": [
    {
     "name": "stdout",
     "output_type": "stream",
     "text": [
      "56 25 89\n"
     ]
    }
   ],
   "source": [
    "# multiple assignment is really just a combination of tuple packing and sequence unpacking\n",
    "# x, y, z = 56, 25, 89\n",
    "# print(x, y, z)\n",
    "# same as:\n",
    "t = 56, 25, 89 # tuple packing\n",
    "x, y, z = t # sequence unpacking\n",
    "print(x, y, z)"
   ]
  },
  {
   "cell_type": "code",
   "execution_count": 93,
   "metadata": {
    "ExecuteTime": {
     "end_time": "2020-04-22T20:44:08.093288Z",
     "start_time": "2020-04-22T20:44:08.006662Z"
    }
   },
   "outputs": [
    {
     "name": "stdout",
     "output_type": "stream",
     "text": [
      "[1, 3, 25, 65, 99]\n"
     ]
    }
   ],
   "source": [
    "# sorting a tuple \n",
    "t = (25, 65, 1, 3, 99)\n",
    "k = sorted(t)\n",
    "print(k)"
   ]
  },
  {
   "cell_type": "markdown",
   "metadata": {
    "colab_type": "text",
    "id": "o09Rk8JWZJ37"
   },
   "source": [
    "## Sets\n",
    "- a set is an unordered collection with no duplicate elements\n",
    "- Basic uses include membership testing and eliminating duplicate entries.\n",
    "- also supports mathematical operations like union, intersection, difference and symmetric difference\n",
    "- like list comprehensions, set comprehensions are also supported\n",
    "- sets can also be created using set() constructor"
   ]
  },
  {
   "cell_type": "code",
   "execution_count": 94,
   "metadata": {
    "ExecuteTime": {
     "end_time": "2020-04-22T20:44:08.160270Z",
     "start_time": "2020-04-22T20:44:08.095415Z"
    },
    "colab": {
     "base_uri": "https://localhost:8080/",
     "height": 68
    },
    "colab_type": "code",
    "id": "hbDG-yJrZLDm",
    "outputId": "c292ce5b-4453-487d-fc2f-e08d7937aebd"
   },
   "outputs": [
    {
     "name": "stdout",
     "output_type": "stream",
     "text": [
      "{'banana', 'apple', 'pear', 'orange'}\n",
      "True\n",
      "False\n"
     ]
    }
   ],
   "source": [
    "basket = {'apple', 'orange', 'apple', 'pear', 'orange', 'banana'}\n",
    "print(basket) # notice: duplicates have been removed\n",
    "# search an element in set by fast membership testing\n",
    "print(\"apple\" in basket)\n",
    "print(\"guave\" in basket)"
   ]
  },
  {
   "cell_type": "code",
   "execution_count": 95,
   "metadata": {
    "ExecuteTime": {
     "end_time": "2020-04-22T20:44:08.272621Z",
     "start_time": "2020-04-22T20:44:08.162678Z"
    },
    "colab": {
     "base_uri": "https://localhost:8080/",
     "height": 102
    },
    "colab_type": "code",
    "id": "GrcK_qP3TxMN",
    "outputId": "a2b88c41-a272-4e9b-aac6-77fad438241f"
   },
   "outputs": [
    {
     "name": "stdout",
     "output_type": "stream",
     "text": [
      "{'d', 'a', 'c', 'r', 'b'} {'a', 'c', 'z', 'l', 'm'}\n",
      "\n",
      "{'r', 'd', 'b'}\n",
      "{'d', 'a', 'c', 'z', 'r', 'm', 'l', 'b'}\n",
      "{'a', 'c'}\n",
      "{'r', 'z', 'd', 'l', 'm', 'b'}\n"
     ]
    }
   ],
   "source": [
    "# set operations\n",
    "a = set(\"abracadabra\")\n",
    "b = set(\"alacazam\")\n",
    "print(a, b, end=\"\\n\\n\")\n",
    "\n",
    "# letters in a but not in b\n",
    "print(a-b)\n",
    "# letters in a or b or both\n",
    "print(a | b)\n",
    "# letters in both a and b\n",
    "print(a & b)\n",
    "# letters in a or b but not both\n",
    "print(a ^ b)"
   ]
  },
  {
   "cell_type": "code",
   "execution_count": 96,
   "metadata": {
    "ExecuteTime": {
     "end_time": "2020-04-22T20:44:08.331943Z",
     "start_time": "2020-04-22T20:44:08.275864Z"
    },
    "colab": {
     "base_uri": "https://localhost:8080/",
     "height": 34
    },
    "colab_type": "code",
    "id": "j-kwaaPhUumZ",
    "outputId": "61d7e50f-d97d-4f87-9917-dc2439034e1b"
   },
   "outputs": [
    {
     "name": "stdout",
     "output_type": "stream",
     "text": [
      "{'c', 'z'}\n"
     ]
    }
   ],
   "source": [
    "# set comprehensions\n",
    "a = {x for x in \"alacazam\" if x not in \"alm\"}\n",
    "print(a)"
   ]
  },
  {
   "cell_type": "markdown",
   "metadata": {
    "colab_type": "text",
    "id": "l6TPAUMeVGWU"
   },
   "source": [
    "## Dictionaries\n",
    "- till now we have read built-in types those were sequences\n",
    "- now we will study dictionary which is a mapping type/object\n",
    "- a mapping object maps hashable values to arbitary objects\n",
    "- mappings are mutable objects\n",
    "- Dictionaries can be created by placing a comma-separated list of **key: value pairs** within braces or by the dict constructor\n",
    "- Unlike sequences, which are indexed by a range of numbers, **dictionaries are indexed by keys**, which can be any immutable type; strings and numbers can always be keys\n",
    "- Tuples can be used as keys if they contain only strings, numbers, or tuples; if a tuple contains any mutable object either directly or indirectly, it cannot be used as a key.\n",
    "- You can't use lists as keys since they are mutable"
   ]
  },
  {
   "cell_type": "code",
   "execution_count": 97,
   "metadata": {
    "ExecuteTime": {
     "end_time": "2020-04-22T20:44:08.429086Z",
     "start_time": "2020-04-22T20:44:08.341384Z"
    },
    "colab": {
     "base_uri": "https://localhost:8080/",
     "height": 119
    },
    "colab_type": "code",
    "id": "qUocpBeLXi49",
    "outputId": "c5e191be-3def-449b-ede2-3253fcda6de4"
   },
   "outputs": [
    {
     "name": "stdout",
     "output_type": "stream",
     "text": [
      "{'jack': 4098, 'sape': 4139, 'klein': 5206}\n",
      "{'jack': 4098, 'sape': 4139, 'klein': 5206, 'dire': 8521}\n",
      "{'jack': 4098, 'klein': 5206, 'dire': 8521}\n",
      "['dire', 'jack', 'klein']\n",
      "False\n"
     ]
    }
   ],
   "source": [
    "tel = {\"jack\": 4098, \"sape\": 4139, \"klein\": 5206}\n",
    "print(tel)\n",
    "# add new key: value pair\n",
    "tel[\"dire\"] = 8521\n",
    "print(tel)\n",
    "\n",
    "del tel[\"sape\"]\n",
    "print(tel)\n",
    "\n",
    "l = list(tel) # list of keys\n",
    "l = sorted(l)\n",
    "print(l)\n",
    "print(\"kol\" in l)"
   ]
  },
  {
   "cell_type": "code",
   "execution_count": 98,
   "metadata": {
    "ExecuteTime": {
     "end_time": "2020-04-22T20:44:08.486373Z",
     "start_time": "2020-04-22T20:44:08.432056Z"
    },
    "colab": {
     "base_uri": "https://localhost:8080/",
     "height": 34
    },
    "colab_type": "code",
    "id": "i_P3e7RFIX4A",
    "outputId": "79f427ee-2b6f-4688-b802-f41ebcf2370e"
   },
   "outputs": [
    {
     "name": "stdout",
     "output_type": "stream",
     "text": [
      "25\n"
     ]
    }
   ],
   "source": [
    "dd = {1: 25, 2: 30, 3:58}\n",
    "print(dd[1])"
   ]
  },
  {
   "cell_type": "code",
   "execution_count": 99,
   "metadata": {
    "ExecuteTime": {
     "end_time": "2020-04-22T20:44:08.555934Z",
     "start_time": "2020-04-22T20:44:08.489073Z"
    },
    "colab": {
     "base_uri": "https://localhost:8080/",
     "height": 34
    },
    "colab_type": "code",
    "id": "jeM8vRhjjDdD",
    "outputId": "9f98a46d-6918-4cb6-f312-56e1241fd6f9"
   },
   "outputs": [
    {
     "name": "stdout",
     "output_type": "stream",
     "text": [
      "{'sape': 4139, 'guido': 4127, 'jack': 4098}\n"
     ]
    }
   ],
   "source": [
    "# The dict() constructor builds dictionaries directly from sequences of key-value pairs:\n",
    "d = dict([('sape', 4139), ('guido', 4127), ('jack', 4098)])\n",
    "print(d)"
   ]
  },
  {
   "cell_type": "code",
   "execution_count": 100,
   "metadata": {
    "ExecuteTime": {
     "end_time": "2020-04-22T20:44:08.638452Z",
     "start_time": "2020-04-22T20:44:08.558381Z"
    },
    "colab": {
     "base_uri": "https://localhost:8080/",
     "height": 34
    },
    "colab_type": "code",
    "id": "CVYnAR8CjNl_",
    "outputId": "beb338d7-f9c5-4188-b209-2186d6aa60ec"
   },
   "outputs": [
    {
     "name": "stdout",
     "output_type": "stream",
     "text": [
      "{2: 4, 4: 16, 6: 36}\n"
     ]
    }
   ],
   "source": [
    "# dict comprehensions\n",
    "f = {x: x**2 for x in (2, 4, 6)}\n",
    "print(f)"
   ]
  },
  {
   "cell_type": "code",
   "execution_count": 101,
   "metadata": {
    "ExecuteTime": {
     "end_time": "2020-04-22T20:44:08.700344Z",
     "start_time": "2020-04-22T20:44:08.641012Z"
    },
    "colab": {
     "base_uri": "https://localhost:8080/",
     "height": 34
    },
    "colab_type": "code",
    "id": "DttYu3PijiHq",
    "outputId": "65b3f6e0-acff-4731-8be1-57a36d965b85"
   },
   "outputs": [
    {
     "name": "stdout",
     "output_type": "stream",
     "text": [
      "{'sape': 4139, 'guido': 4127, 'jack': 4098}\n"
     ]
    }
   ],
   "source": [
    "# when keys are simple strings, it is sometimes easier to specify pairs using keyword arguments\n",
    "g = dict(sape=4139, guido=4127, jack=4098)\n",
    "print(g)"
   ]
  },
  {
   "cell_type": "markdown",
   "metadata": {
    "colab_type": "text",
    "id": "v-38UIINI3fg"
   },
   "source": [
    "## update()\n",
    "- Update the dictionary with the key/value pairs from other, overwriting existing keys. Return None.\n",
    "- update() accepts either another dictionary object or an iterable of key/value pairs (as tuples or other iterables of length two). If keyword arguments are specified, the dictionary is then updated with those key/value pairs: d.update(red=1, blue=2)."
   ]
  },
  {
   "cell_type": "code",
   "execution_count": 102,
   "metadata": {
    "ExecuteTime": {
     "end_time": "2020-04-22T20:44:08.778744Z",
     "start_time": "2020-04-22T20:44:08.703481Z"
    }
   },
   "outputs": [
    {
     "name": "stdout",
     "output_type": "stream",
     "text": [
      "Before update 4098\n",
      "After update 6102\n"
     ]
    }
   ],
   "source": [
    "tel = {\"jack\": 4098, \"sape\": 4139, \"klein\": 5206}\n",
    "print(\"Before update\", tel[\"jack\"])\n",
    "tel.update(jack=6102)\n",
    "print(\"After update\", tel[\"jack\"])"
   ]
  },
  {
   "cell_type": "markdown",
   "metadata": {},
   "source": [
    "## Difference between sorted() and sort()\n",
    "- https://www.geeksforgeeks.org/python-difference-between-sorted-and-sort/\n",
    "- sorted() sorts the elements of a given list, stores it in a new list and returns it\n",
    "- sort() sorts the original list itself. It's a method of list class and can only be used with lists"
   ]
  },
  {
   "cell_type": "markdown",
   "metadata": {
    "colab_type": "text",
    "id": "pqEBrc85jvLn"
   },
   "source": [
    "## Looping techniques"
   ]
  },
  {
   "cell_type": "code",
   "execution_count": 103,
   "metadata": {
    "ExecuteTime": {
     "end_time": "2020-04-22T20:44:08.884242Z",
     "start_time": "2020-04-22T20:44:08.781643Z"
    },
    "colab": {
     "base_uri": "https://localhost:8080/",
     "height": 51
    },
    "colab_type": "code",
    "id": "-xfZonkIjxIy",
    "outputId": "5e415107-b11f-40b4-9499-4edef52ecd3a"
   },
   "outputs": [
    {
     "name": "stdout",
     "output_type": "stream",
     "text": [
      "gallahad the pure\n",
      "robin the brave\n"
     ]
    }
   ],
   "source": [
    "# When looping through dictionaries, the key and corresponding value \n",
    "# can be retrieved at the same time using the items() method.\n",
    "knights = {'gallahad': 'the pure', 'robin': 'the brave'}\n",
    "\n",
    "for k, v in knights.items():\n",
    "  print(k, v)"
   ]
  },
  {
   "cell_type": "code",
   "execution_count": 104,
   "metadata": {
    "ExecuteTime": {
     "end_time": "2020-04-22T20:44:08.955765Z",
     "start_time": "2020-04-22T20:44:08.887447Z"
    },
    "colab": {
     "base_uri": "https://localhost:8080/",
     "height": 68
    },
    "colab_type": "code",
    "id": "payOo1jORJ0m",
    "outputId": "5160ebfb-3eb1-4bb5-f70c-c2c50ea094d4"
   },
   "outputs": [
    {
     "name": "stdout",
     "output_type": "stream",
     "text": [
      "0 tic\n",
      "1 tac\n",
      "2 toe\n"
     ]
    }
   ],
   "source": [
    "# When looping through a sequence, the position index and corresponding \n",
    "# value can be retrieved at the same time using the enumerate() function.\n",
    "# i = index, v = value\n",
    "l = [\"tic\", \"tac\", \"toe\"]\n",
    "for i, v in enumerate(l):\n",
    "  print(i, v)"
   ]
  },
  {
   "cell_type": "code",
   "execution_count": 105,
   "metadata": {
    "ExecuteTime": {
     "end_time": "2020-04-22T20:44:09.051768Z",
     "start_time": "2020-04-22T20:44:08.957960Z"
    },
    "colab": {
     "base_uri": "https://localhost:8080/",
     "height": 68
    },
    "colab_type": "code",
    "id": "O-noxvSwR1jA",
    "outputId": "f6965789-8ea1-4b00-8023-8f8f3b0762e8"
   },
   "outputs": [
    {
     "name": "stdout",
     "output_type": "stream",
     "text": [
      "What is your name?  It is lancelot.\n",
      "What is your quest?  It is the holy grail.\n",
      "What is your favorite color?  It is blue.\n"
     ]
    }
   ],
   "source": [
    "# to loop over two or more sequence we can use zip()\n",
    "questions = ['name', 'quest', 'favorite color']\n",
    "answers = ['lancelot', 'the holy grail', 'blue']\n",
    "for q, a in zip(questions, answers):\n",
    "    print('What is your {0}?  It is {1}.'.format(q, a)) "
   ]
  },
  {
   "cell_type": "code",
   "execution_count": 106,
   "metadata": {
    "ExecuteTime": {
     "end_time": "2020-04-22T20:44:09.121638Z",
     "start_time": "2020-04-22T20:44:09.054122Z"
    },
    "colab": {
     "base_uri": "https://localhost:8080/",
     "height": 34
    },
    "colab_type": "code",
    "id": "9UyIYkZZXOzW",
    "outputId": "ab0efa3b-c24d-4ec0-8102-dba8970bd1ea"
   },
   "outputs": [
    {
     "name": "stdout",
     "output_type": "stream",
     "text": [
      "25 20 15 10 5 "
     ]
    }
   ],
   "source": [
    "# To loop over a sequence in reverse, first specify the sequence \n",
    "# in a forward direction and then call the reversed() function.\n",
    "for i in reversed(range(5, 30, 5)):\n",
    "  print(i, end=\" \")"
   ]
  },
  {
   "cell_type": "code",
   "execution_count": 107,
   "metadata": {
    "ExecuteTime": {
     "end_time": "2020-04-22T20:44:09.208708Z",
     "start_time": "2020-04-22T20:44:09.124253Z"
    },
    "colab": {
     "base_uri": "https://localhost:8080/",
     "height": 119
    },
    "colab_type": "code",
    "id": "PWeewGslXfNv",
    "outputId": "5110a9f7-1bcc-4528-cae6-5960deb479db"
   },
   "outputs": [
    {
     "name": "stdout",
     "output_type": "stream",
     "text": [
      "apple\n",
      "apple\n",
      "banana\n",
      "orange\n",
      "orange\n",
      "pear\n"
     ]
    }
   ],
   "source": [
    "# To loop over a sequence in sorted order, use the sorted() function \n",
    "# which returns a new sorted list while leaving the source unaltered.\n",
    "basket = ['apple', 'orange', 'apple', 'pear', 'orange', 'banana']\n",
    "for b in sorted(basket):\n",
    "  print(b)"
   ]
  },
  {
   "cell_type": "markdown",
   "metadata": {
    "colab_type": "text",
    "id": "35aFcMKKbcfr"
   },
   "source": [
    "## More on conditions\n",
    "- operators **in and not in** check whether a value occurs or not in a sequence\n",
    "- operators **is and is not** compare whether two objects are equal or not; this only matters for mutable objects like lists\n",
    "- all comparison operators have the same priority, which is lower than that of all numerical operators\n",
    "- comparisons can be chained, a < b == c tests whether a is less than b and moreover b equals c\n",
    "- `not` has the highest priority and `or` has the lowest\n",
    "- the boolean operators and & or are so-called short circuit operators. Evaluated from left to right and evaluation stops as soon as the outcome is determined\n",
    "- when used as a general value and not as a boolean, the return value of short-circuit operators is the last evaluated argument"
   ]
  },
  {
   "cell_type": "markdown",
   "metadata": {
    "ExecuteTime": {
     "end_time": "2020-04-23T08:31:48.910535Z",
     "start_time": "2020-04-23T08:31:48.674845Z"
    }
   },
   "source": [
    "## Precedence of operators\n",
    "\n",
    "![](https://raw.githubusercontent.com/thecoducer/python_programs/master/Images/precedence_table.png)"
   ]
  },
  {
   "cell_type": "code",
   "execution_count": 108,
   "metadata": {
    "ExecuteTime": {
     "end_time": "2020-04-22T20:44:09.285294Z",
     "start_time": "2020-04-22T20:44:09.211673Z"
    },
    "colab": {
     "base_uri": "https://localhost:8080/",
     "height": 51
    },
    "colab_type": "code",
    "id": "Yx2g_kUjckM_",
    "outputId": "0d814448-30a1-4713-8469-87df9c15d3c1"
   },
   "outputs": [
    {
     "name": "stdout",
     "output_type": "stream",
     "text": [
      "True\n",
      "False\n"
     ]
    }
   ],
   "source": [
    "a = 1\n",
    "b = 0\n",
    "c = 5\n",
    "print(a and not b or c)\n",
    "print(not a and b)"
   ]
  },
  {
   "cell_type": "code",
   "execution_count": 5,
   "metadata": {
    "ExecuteTime": {
     "end_time": "2020-04-23T08:32:44.345165Z",
     "start_time": "2020-04-23T08:32:44.338311Z"
    },
    "colab": {
     "base_uri": "https://localhost:8080/",
     "height": 68
    },
    "colab_type": "code",
    "id": "lV6237hOgUTj",
    "outputId": "eb39f061-e0d1-4af3-a379-e21cc68f36fd"
   },
   "outputs": [
    {
     "name": "stdout",
     "output_type": "stream",
     "text": [
      "New\n",
      "Old\n",
      "Old\n"
     ]
    }
   ],
   "source": [
    "string1, string2, string3 = '', 'Old', 'New'\n",
    "print(string1 or (False or string3))\n",
    "print(string1 or string2 or string3)\n",
    "print(string1 or (string2 or string3))"
   ]
  },
  {
   "cell_type": "markdown",
   "metadata": {
    "colab_type": "text",
    "id": "olyQSLscgOUW"
   },
   "source": [
    "## What's left to read in this chapter?\n",
    "- Comparing Sequences and Other Types"
   ]
  },
  {
   "cell_type": "markdown",
   "metadata": {},
   "source": [
    "---"
   ]
  },
  {
   "cell_type": "markdown",
   "metadata": {
    "colab_type": "text",
    "id": "J_286qs3hydF"
   },
   "source": [
    "# Modules\n",
    "https://docs.python.org/3/tutorial/modules.html"
   ]
  },
  {
   "cell_type": "markdown",
   "metadata": {
    "colab_type": "text",
    "id": "SFKhmO5ghvcQ"
   },
   "source": [
    "## What are modules?\n",
    "- Python has a way to put definitions in a file and use them in a script or in an interactive instance of the interpreter. Such a file is called a module; definitions from a module can be imported into other modules or into the main module (the collection of variables that you have access to in a script executed at the top level and in calculator mode).\n",
    "- A module is a file containing Python definitions and statements. "
   ]
  },
  {
   "cell_type": "code",
   "execution_count": 4,
   "metadata": {
    "ExecuteTime": {
     "end_time": "2020-04-25T14:54:43.074759Z",
     "start_time": "2020-04-25T14:54:43.070279Z"
    },
    "colab": {},
    "colab_type": "code",
    "id": "0mEc4fb1sIsy"
   },
   "outputs": [],
   "source": [
    "# Save this as addsub.py\n",
    "\n",
    "def add(a, b):\n",
    "  print(a+b)\n",
    "\n",
    "def subtract(a, b):\n",
    "  print(abs(a-b))"
   ]
  },
  {
   "cell_type": "markdown",
   "metadata": {},
   "source": [
    "Import this file with the following command: \\\n",
    "`import addsub` \\\n",
    "invoke add/subtract method inside the interpreter by:  \\\n",
    "`addsub.add(50, 20)`\n",
    "\n",
    "if you intend to use a method often then assign it a local name: \\\n",
    "`add = addsub.add` \\\n",
    "then invoke it \\\n",
    "`add(25, 20)`"
   ]
  },
  {
   "cell_type": "markdown",
   "metadata": {},
   "source": [
    "## Dunder or magic methods \n",
    "They are the methods having two prefix and suffix underscores in the method name. Dunder here means “Double Under (Underscores)”. These are commonly used for operator overloading. \n",
    "\n",
    "The `__init__` method for initialization is invoked without any call, when an instance of a class is created, like constructors in certain other programming languages such as C++, Java, C#, PHP etc. These methods are the reason we can add two strings with ‘+’ operator without any explicit typecasting."
   ]
  },
  {
   "cell_type": "code",
   "execution_count": 9,
   "metadata": {
    "ExecuteTime": {
     "end_time": "2020-04-25T16:37:05.481793Z",
     "start_time": "2020-04-25T16:37:05.473472Z"
    }
   },
   "outputs": [
    {
     "name": "stdout",
     "output_type": "stream",
     "text": [
      "<__main__.String object at 0x7fa46866a7d0>\n",
      "Hello\n"
     ]
    }
   ],
   "source": [
    "# declare our own string class\n",
    "class String:\n",
    "\n",
    "    # magic method to initiate object\n",
    "    def __init__(self, string):\n",
    "        self.string = string\n",
    "\n",
    "\n",
    "if __name__ == '__main__':\n",
    "\n",
    "    # object creation\n",
    "    string1 = String('Hello')\n",
    "\n",
    "# print object location\n",
    "print(string1)\n",
    "\n",
    "# print the string attribute value\n",
    "print(string1.string)"
   ]
  },
  {
   "cell_type": "markdown",
   "metadata": {},
   "source": [
    "- Now let's add a method to represent our object"
   ]
  },
  {
   "cell_type": "code",
   "execution_count": 17,
   "metadata": {
    "ExecuteTime": {
     "end_time": "2020-04-25T16:45:59.689226Z",
     "start_time": "2020-04-25T16:45:59.678985Z"
    }
   },
   "outputs": [
    {
     "name": "stdout",
     "output_type": "stream",
     "text": [
      "Object: Hello\n"
     ]
    }
   ],
   "source": [
    "class String:\n",
    "\n",
    "    def __init__(self, string):\n",
    "        self.string = string\n",
    "\n",
    "    # print our string object\n",
    "    # similar to toString() method in Java\n",
    "    def __repr__(self):\n",
    "        return f\"Object: {self.string}\"\n",
    "\n",
    "if __name__ == '__main__':\n",
    "\n",
    "    string1 = String('Hello')\n",
    "\n",
    "    print(string1)"
   ]
  },
  {
   "cell_type": "markdown",
   "metadata": {},
   "source": [
    "- If we try to concatenate a string object say \"World\" to our own String object, we cannot do that. There is a method `__add__` that can help."
   ]
  },
  {
   "cell_type": "code",
   "execution_count": 19,
   "metadata": {
    "ExecuteTime": {
     "end_time": "2020-04-25T16:51:16.360734Z",
     "start_time": "2020-04-25T16:51:16.354365Z"
    }
   },
   "outputs": [
    {
     "name": "stdout",
     "output_type": "stream",
     "text": [
      "Hello World\n"
     ]
    }
   ],
   "source": [
    "class String:\n",
    "\n",
    "    def __init__(self, string):\n",
    "        self.string = string\n",
    "\n",
    "    def __repr__(self):\n",
    "        return f\"Object: {self.string}\"\n",
    "\n",
    "    def __add__(self, other):\n",
    "        return self.string + other\n",
    "\n",
    "if __name__ == '__main__':\n",
    "\n",
    "    string1 = String('Hello')\n",
    "\n",
    "    # concatenate String object and a string\n",
    "    print(string1 + ' World')"
   ]
  },
  {
   "cell_type": "markdown",
   "metadata": {},
   "source": [
    "- Within a module, the module’s name (as a string) is available as the value of the global variable `__name__`"
   ]
  },
  {
   "cell_type": "code",
   "execution_count": 6,
   "metadata": {
    "ExecuteTime": {
     "end_time": "2020-04-25T14:56:28.676939Z",
     "start_time": "2020-04-25T14:56:28.669926Z"
    }
   },
   "outputs": [
    {
     "name": "stdout",
     "output_type": "stream",
     "text": [
      "__main__\n"
     ]
    }
   ],
   "source": [
    "# If the source file is executed as the main program, \n",
    "# the interpreter sets the __name__ variable to have a value “__main__”.\n",
    "print(__name__)"
   ]
  },
  {
   "cell_type": "markdown",
   "metadata": {
    "colab_type": "text",
    "id": "UtEc0Az4q5jN"
   },
   "source": [
    "## How to reload modules?\n",
    "- If you've made some changes in your module file then to reflect the changes in the interpreter you need to do:\n",
    "    - `import importlib`\n",
    "    - `importlib.reload(modulename)`"
   ]
  },
  {
   "cell_type": "markdown",
   "metadata": {
    "colab_type": "text",
    "id": "ix2JcDxut_eh"
   },
   "source": [
    "## More on modules\n",
    "- Modules can import other modules\n",
    "- A module can contain executable statements as well as function definitions. These statements are intended to initialize the modules.\n",
    "- There is a variant of the import statement that imports names from a module directly into the importing module’s symbol table:\n",
    "  - from addsub import add, subtract\n",
    "This does not introduce the module name from which the imports are taken in the local symbol table (so in the example, fibo is not defined).\n",
    "- To import all names that a module defines.\n",
    "  - from addsub import *\n",
    "- If the module name is followed by ```as```, then you can play this way:\n",
    "  - import addsub as adsu\n",
    "  - adsu.add(50, 89)"
   ]
  },
  {
   "cell_type": "markdown",
   "metadata": {
    "colab_type": "text",
    "id": "Ag02rwfbym0k"
   },
   "source": [
    "## Similar to command-line arguments"
   ]
  },
  {
   "cell_type": "code",
   "execution_count": 1,
   "metadata": {
    "ExecuteTime": {
     "end_time": "2020-04-23T08:19:18.948228Z",
     "start_time": "2020-04-23T08:19:18.728079Z"
    },
    "colab": {},
    "colab_type": "code",
    "collapsed": true,
    "id": "qhJKMuzgzgX0"
   },
   "outputs": [
    {
     "ename": "ValueError",
     "evalue": "invalid literal for int() with base 10: '-f'",
     "output_type": "error",
     "traceback": [
      "\u001b[0;31m---------------------------------------------------------------------------\u001b[0m",
      "\u001b[0;31mValueError\u001b[0m                                Traceback (most recent call last)",
      "\u001b[0;32m<ipython-input-1-e64a5f1e21b3>\u001b[0m in \u001b[0;36m<module>\u001b[0;34m\u001b[0m\n\u001b[1;32m      8\u001b[0m \u001b[0;32mif\u001b[0m \u001b[0m__name__\u001b[0m \u001b[0;34m==\u001b[0m \u001b[0;34m\"__main__\"\u001b[0m\u001b[0;34m:\u001b[0m\u001b[0;34m\u001b[0m\u001b[0;34m\u001b[0m\u001b[0m\n\u001b[1;32m      9\u001b[0m     \u001b[0;32mimport\u001b[0m \u001b[0msys\u001b[0m\u001b[0;34m\u001b[0m\u001b[0;34m\u001b[0m\u001b[0m\n\u001b[0;32m---> 10\u001b[0;31m     \u001b[0madd\u001b[0m\u001b[0;34m(\u001b[0m\u001b[0mint\u001b[0m\u001b[0;34m(\u001b[0m\u001b[0msys\u001b[0m\u001b[0;34m.\u001b[0m\u001b[0margv\u001b[0m\u001b[0;34m[\u001b[0m\u001b[0;36m1\u001b[0m\u001b[0;34m]\u001b[0m\u001b[0;34m)\u001b[0m\u001b[0;34m,\u001b[0m \u001b[0mint\u001b[0m\u001b[0;34m(\u001b[0m\u001b[0msys\u001b[0m\u001b[0;34m.\u001b[0m\u001b[0margv\u001b[0m\u001b[0;34m[\u001b[0m\u001b[0;36m2\u001b[0m\u001b[0;34m]\u001b[0m\u001b[0;34m)\u001b[0m\u001b[0;34m)\u001b[0m\u001b[0;34m\u001b[0m\u001b[0;34m\u001b[0m\u001b[0m\n\u001b[0m\u001b[1;32m     11\u001b[0m \u001b[0;34m\u001b[0m\u001b[0m\n\u001b[1;32m     12\u001b[0m \u001b[0;31m# run it as:\u001b[0m\u001b[0;34m\u001b[0m\u001b[0;34m\u001b[0m\u001b[0;34m\u001b[0m\u001b[0m\n",
      "\u001b[0;31mValueError\u001b[0m: invalid literal for int() with base 10: '-f'"
     ]
    }
   ],
   "source": [
    "# Syntax: python3 filename.py <arguments>\n",
    "def add(a, b):\n",
    "  print(a+b)\n",
    "\n",
    "def subtract(a, b):\n",
    "  print(abs(a-b))\n",
    "\n",
    "if __name__ == \"__main__\":\n",
    "    import sys\n",
    "    add(int(sys.argv[1]), int(sys.argv[2]))\n",
    "\n",
    "# run it as:\n",
    "# python3 addsub.py 41 21"
   ]
  },
  {
   "cell_type": "markdown",
   "metadata": {
    "colab_type": "text",
    "id": "Y5hctZWv1HDW"
   },
   "source": [
    "## dir() function\n",
    "- It is an interesting method\n",
    "- displays all the names in a module"
   ]
  },
  {
   "cell_type": "code",
   "execution_count": null,
   "metadata": {
    "ExecuteTime": {
     "end_time": "2020-04-22T20:44:09.540718Z",
     "start_time": "2020-04-22T20:42:45.189Z"
    },
    "colab": {
     "base_uri": "https://localhost:8080/",
     "height": 54
    },
    "colab_type": "code",
    "id": "t1DNPY3p1QCU",
    "outputId": "667764d5-37d8-48c0-d7c0-15a4c53addd5"
   },
   "outputs": [],
   "source": [
    "import sys\n",
    "print(dir(sys), end=\" \")"
   ]
  },
  {
   "cell_type": "code",
   "execution_count": null,
   "metadata": {
    "ExecuteTime": {
     "end_time": "2020-04-22T20:44:09.543361Z",
     "start_time": "2020-04-22T20:42:45.196Z"
    },
    "colab": {
     "base_uri": "https://localhost:8080/",
     "height": 54
    },
    "colab_type": "code",
    "id": "BNd8jaOE1gOF",
    "outputId": "cb59efbe-d939-4cc8-b1e4-b535a91348cb"
   },
   "outputs": [],
   "source": [
    "# dir() without arguments lists all names that you have defined currently\n",
    "print(dir(), end=\" \")"
   ]
  },
  {
   "cell_type": "markdown",
   "metadata": {
    "colab_type": "text",
    "id": "_4GhX5iV2Nf0"
   },
   "source": [
    "## What's left to read in this chapter?\n",
    "- *After* Packages"
   ]
  },
  {
   "cell_type": "markdown",
   "metadata": {},
   "source": [
    "---"
   ]
  },
  {
   "cell_type": "markdown",
   "metadata": {
    "colab_type": "text",
    "id": "LAg7U54p13TN"
   },
   "source": [
    "# Input and Output\n",
    "https://docs.python.org/3/tutorial/inputoutput.html"
   ]
  },
  {
   "cell_type": "markdown",
   "metadata": {},
   "source": [
    "## Old string formatting"
   ]
  },
  {
   "cell_type": "code",
   "execution_count": 3,
   "metadata": {
    "ExecuteTime": {
     "end_time": "2020-04-23T16:33:06.788986Z",
     "start_time": "2020-04-23T16:33:06.781926Z"
    }
   },
   "outputs": [
    {
     "name": "stdout",
     "output_type": "stream",
     "text": [
      "a = 10 and b = 8.92\n"
     ]
    }
   ],
   "source": [
    "a = 10\n",
    "b = 8.92\n",
    "print(\"a = %d and b = %.2f\" %(a, b))"
   ]
  },
  {
   "cell_type": "markdown",
   "metadata": {},
   "source": [
    "## f-strings or Formatted  String Literals"
   ]
  },
  {
   "cell_type": "code",
   "execution_count": 21,
   "metadata": {
    "ExecuteTime": {
     "end_time": "2020-04-23T18:31:44.269478Z",
     "start_time": "2020-04-23T18:31:44.263219Z"
    }
   },
   "outputs": [
    {
     "name": "stdout",
     "output_type": "stream",
     "text": [
      "The value of pi is 3.142 approx.\n"
     ]
    }
   ],
   "source": [
    "import math\n",
    "print(f\"The value of pi is {math.pi:.3f} approx.\")"
   ]
  },
  {
   "cell_type": "markdown",
   "metadata": {},
   "source": [
    "Passing an integer after the ':' will cause that field to be a minimum number of characters wide. This is useful for making columns line up."
   ]
  },
  {
   "cell_type": "code",
   "execution_count": 25,
   "metadata": {
    "ExecuteTime": {
     "end_time": "2020-04-23T18:34:38.203885Z",
     "start_time": "2020-04-23T18:34:38.197574Z"
    }
   },
   "outputs": [
    {
     "name": "stdout",
     "output_type": "stream",
     "text": [
      "Sjoerd     =       4127\n",
      "Jack       =       4098\n",
      "Dcab       =    8637678\n"
     ]
    }
   ],
   "source": [
    "table = {'Sjoerd': 4127, 'Jack': 4098, 'Dcab': 8637678}\n",
    "for name, phone in table.items():\n",
    "    print(f\"{name:10} = {phone:10d}\")"
   ]
  },
  {
   "cell_type": "markdown",
   "metadata": {
    "colab_type": "text",
    "id": "Gvsjzy1ZWLcp"
   },
   "source": [
    "## String format method"
   ]
  },
  {
   "cell_type": "code",
   "execution_count": 7,
   "metadata": {
    "ExecuteTime": {
     "end_time": "2020-04-23T16:37:28.105210Z",
     "start_time": "2020-04-23T16:37:28.100092Z"
    },
    "colab": {
     "base_uri": "https://localhost:8080/",
     "height": 51
    },
    "colab_type": "code",
    "id": "69XE3jEFWN1n",
    "outputId": "7b4b455d-39ed-4a47-c89f-12f583a2bfb1"
   },
   "outputs": [
    {
     "name": "stdout",
     "output_type": "stream",
     "text": [
      "a = 10 and b = 8.92\n"
     ]
    }
   ],
   "source": [
    "print(\"a = {0} and b = {1}\".format(a, b))"
   ]
  },
  {
   "cell_type": "markdown",
   "metadata": {},
   "source": [
    "If keyword arguments are used in the str.format() method, their values are referred to by using the name of the argument."
   ]
  },
  {
   "cell_type": "code",
   "execution_count": 28,
   "metadata": {
    "ExecuteTime": {
     "end_time": "2020-04-23T18:41:59.618219Z",
     "start_time": "2020-04-23T18:41:59.612582Z"
    }
   },
   "outputs": [
    {
     "name": "stdout",
     "output_type": "stream",
     "text": [
      "Name = Aheri, Roll = 16.\n"
     ]
    }
   ],
   "source": [
    "print('Name = {name}, Roll = {roll}.'.format(name='Aheri', roll='16'))"
   ]
  },
  {
   "cell_type": "markdown",
   "metadata": {},
   "source": [
    "If you have a really long format string that you don’t want to split up, it would be nice if you could reference the variables to be formatted by name instead of by position. This can be done by simply passing the dict and using square brackets '[]' to access the keys"
   ]
  },
  {
   "cell_type": "code",
   "execution_count": 29,
   "metadata": {
    "ExecuteTime": {
     "end_time": "2020-04-23T18:42:16.884589Z",
     "start_time": "2020-04-23T18:42:16.877921Z"
    }
   },
   "outputs": [
    {
     "name": "stdout",
     "output_type": "stream",
     "text": [
      "Jack: 4098; Sjoerd: 4127; Dcab: 8637678\n"
     ]
    }
   ],
   "source": [
    "table = {'Sjoerd': 4127, 'Jack': 4098, 'Dcab': 8637678}\n",
    "print('Jack: {0[Jack]:d}; Sjoerd: {0[Sjoerd]:d}; Dcab: {0[Dcab]:d}'.format(table))"
   ]
  },
  {
   "cell_type": "markdown",
   "metadata": {},
   "source": [
    "This is a better way. This could also be done by passing the table as keyword arguments with the ‘**’ notation."
   ]
  },
  {
   "cell_type": "code",
   "execution_count": 30,
   "metadata": {
    "ExecuteTime": {
     "end_time": "2020-04-23T18:42:51.535003Z",
     "start_time": "2020-04-23T18:42:51.526881Z"
    },
    "scrolled": true
   },
   "outputs": [
    {
     "name": "stdout",
     "output_type": "stream",
     "text": [
      "Jack: 4098; Sjoerd: 4127; Dcab: 8637678\n"
     ]
    }
   ],
   "source": [
    "table = {'Sjoerd': 4127, 'Jack': 4098, 'Dcab': 8637678}\n",
    "print('Jack: {Jack:d}; Sjoerd: {Sjoerd:d}; Dcab: {Dcab:d}'.format(**table))"
   ]
  },
  {
   "cell_type": "markdown",
   "metadata": {},
   "source": [
    "## Reading and writing files\n",
    "- https://docs.python.org/3/tutorial/inputoutput.html#reading-and-writing-files"
   ]
  },
  {
   "cell_type": "markdown",
   "metadata": {},
   "source": [
    "---"
   ]
  },
  {
   "cell_type": "markdown",
   "metadata": {},
   "source": [
    "# Classes\n",
    "https://docs.python.org/3/tutorial/classes.html"
   ]
  },
  {
   "cell_type": "code",
   "execution_count": null,
   "metadata": {},
   "outputs": [],
   "source": []
  }
 ],
 "metadata": {
  "colab": {
   "collapsed_sections": [],
   "include_colab_link": true,
   "name": "Learning_Python.ipynb",
   "provenance": [],
   "toc_visible": true,
   "version": "0.3.2"
  },
  "kernelspec": {
   "display_name": "Python 3",
   "language": "python",
   "name": "python3"
  },
  "language_info": {
   "codemirror_mode": {
    "name": "ipython",
    "version": 3
   },
   "file_extension": ".py",
   "mimetype": "text/x-python",
   "name": "python",
   "nbconvert_exporter": "python",
   "pygments_lexer": "ipython3",
   "version": "3.7.7"
  },
  "toc": {
   "base_numbering": "0",
   "nav_menu": {},
   "number_sections": true,
   "sideBar": true,
   "skip_h1_title": false,
   "title_cell": "Table of Contents",
   "title_sidebar": "Contents",
   "toc_cell": false,
   "toc_position": {
    "height": "calc(100% - 180px)",
    "left": "10px",
    "top": "150px",
    "width": "322px"
   },
   "toc_section_display": true,
   "toc_window_display": true
  }
 },
 "nbformat": 4,
 "nbformat_minor": 4
}
