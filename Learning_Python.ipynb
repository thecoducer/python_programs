{
  "nbformat": 4,
  "nbformat_minor": 0,
  "metadata": {
    "colab": {
      "name": "Learning_Python.ipynb",
      "version": "0.3.2",
      "provenance": [],
      "collapsed_sections": [],
      "toc_visible": true,
      "include_colab_link": true
    },
    "kernelspec": {
      "display_name": "Python 3",
      "language": "python",
      "name": "python3"
    },
    "language_info": {
      "codemirror_mode": {
        "name": "ipython",
        "version": 3
      },
      "file_extension": ".py",
      "mimetype": "text/x-python",
      "name": "python",
      "nbconvert_exporter": "python",
      "pygments_lexer": "ipython3",
      "version": "3.7.3"
    }
  },
  "cells": [
    {
      "cell_type": "markdown",
      "metadata": {
        "id": "view-in-github",
        "colab_type": "text"
      },
      "source": [
        "<a href=\"https://colab.research.google.com/github/thecoducer/python_programs/blob/master/Learning_Python.ipynb\" target=\"_parent\"><img src=\"https://colab.research.google.com/assets/colab-badge.svg\" alt=\"Open In Colab\"/></a>"
      ]
    },
    {
      "cell_type": "markdown",
      "metadata": {
        "colab_type": "text",
        "id": "Bklp88xT3ZEw"
      },
      "source": [
        "# Learning Python\n",
        "---\n",
        "<img src=\"https://raw.githubusercontent.com/thecoducer/python_programs/master/python-harry-potter.jpg\" width=\"65%\" height=\"65%\" />\n",
        "\n",
        "Hey! I'm reading the official documentation of Python Software Foundation to learn Python programming language. It's great and detailed. We often need to write down notes when we learn something new. So, I've used Jupyter Notebook to write down notes as well as programs. You can open the notebook file and run the codes on Google Collaboratory. This notebook is intended to help me whenever I need to revise. It's not intended to teach anyone Python.\n",
        "\n",
        "I recommend you to read the official Python tutorial here: https://docs.python.org/3/tutorial/index.html.\n",
        "\n",
        "My blog post on learning Python: http://www.thecoducer.com/2019/07/effective-way-to-learn-python-for-free.html\n",
        "\n",
        "---\n",
        "***Email: [mayukh5741@gmail.com](mailto:mayukh5741@gmail.com)***\n",
        "\n",
        "***Website: https://thecoducer.github.io/***\n",
        "\n",
        "***Blog: http://www.thecoducer.com/***\n",
        "\n",
        "---\n",
        "\n",
        "\n"
      ]
    },
    {
      "cell_type": "markdown",
      "metadata": {
        "colab_type": "text",
        "id": "u6ZNC8hjmuHv"
      },
      "source": [
        "# An Informal introduction to Python\n",
        "https://docs.python.org/3/tutorial/introduction.html"
      ]
    },
    {
      "cell_type": "markdown",
      "metadata": {
        "colab_type": "text",
        "id": "FqTXzIdNOzrq"
      },
      "source": [
        "## Classic vs Floor division"
      ]
    },
    {
      "cell_type": "code",
      "metadata": {
        "colab_type": "code",
        "id": "CkAfCN22O4td",
        "outputId": "ab16bafc-9102-43d4-f528-9dbf6e14914d",
        "colab": {
          "base_uri": "https://localhost:8080/",
          "height": 51
        }
      },
      "source": [
        "print(19/5) # classic division returns float\n",
        "print(52//3) # floor division discards the fractional part"
      ],
      "execution_count": 2,
      "outputs": [
        {
          "output_type": "stream",
          "text": [
            "3.8\n",
            "17\n"
          ],
          "name": "stdout"
        }
      ]
    },
    {
      "cell_type": "markdown",
      "metadata": {
        "colab_type": "text",
        "id": "2Cc-OD7wQjys"
      },
      "source": [
        "## To calculate powers"
      ]
    },
    {
      "cell_type": "code",
      "metadata": {
        "colab_type": "code",
        "id": "jmgwfSYdOxnB",
        "outputId": "9d719609-15bf-4953-94e6-579c90bf52f9",
        "colab": {
          "base_uri": "https://localhost:8080/",
          "height": 34
        }
      },
      "source": [
        "# 2^5\n",
        "print(2**5)"
      ],
      "execution_count": 3,
      "outputs": [
        {
          "output_type": "stream",
          "text": [
            "32\n"
          ],
          "name": "stdout"
        }
      ]
    },
    {
      "cell_type": "markdown",
      "metadata": {
        "colab_type": "text",
        "id": "BKZBOBtgRWz_"
      },
      "source": [
        "- *In interactive mode, the last printed expression is assigned to the variable _*"
      ]
    },
    {
      "cell_type": "markdown",
      "metadata": {
        "colab_type": "text",
        "id": "7ONm7vuBSe-q"
      },
      "source": [
        "## Round a real number up to 2 places after decimal"
      ]
    },
    {
      "cell_type": "code",
      "metadata": {
        "colab_type": "code",
        "id": "tqpgix2oSNl3",
        "outputId": "daa08847-296f-4be3-f472-53fbb0b39240",
        "colab": {
          "base_uri": "https://localhost:8080/",
          "height": 34
        }
      },
      "source": [
        "k = 12.03635\n",
        "print(round(k, 2))"
      ],
      "execution_count": 4,
      "outputs": [
        {
          "output_type": "stream",
          "text": [
            "12.04\n"
          ],
          "name": "stdout"
        }
      ]
    },
    {
      "cell_type": "markdown",
      "metadata": {
        "colab_type": "text",
        "id": "npAYGQzQXrIS"
      },
      "source": [
        "## Strings\n",
        "- \\ can be used to escape quotes\n",
        "- can be also be enclosed within other pair of quotes\n",
        "- to print raw strings, use r"
      ]
    },
    {
      "cell_type": "markdown",
      "metadata": {
        "colab_type": "text",
        "id": "lSpJH8Rybs7D"
      },
      "source": [
        "## Raw string"
      ]
    },
    {
      "cell_type": "code",
      "metadata": {
        "colab_type": "code",
        "id": "nWLZAcexXzd4",
        "outputId": "0fca5991-4397-4a85-e894-7c9ea3f67d2d",
        "colab": {
          "base_uri": "https://localhost:8080/",
          "height": 68
        }
      },
      "source": [
        "print(r\"C:\\nebula\\MachineLearning\")\n",
        "# without it, \\n escape sequence gets triggered\n",
        "print(\"C:\\nebula\\MachineLearning\")"
      ],
      "execution_count": 5,
      "outputs": [
        {
          "output_type": "stream",
          "text": [
            "C:\\nebula\\MachineLearning\n",
            "C:\n",
            "ebula\\MachineLearning\n"
          ],
          "name": "stdout"
        }
      ]
    },
    {
      "cell_type": "markdown",
      "metadata": {
        "colab_type": "text",
        "id": "DAxID6VfbfOn"
      },
      "source": [
        "## String literals can span multiple lines"
      ]
    },
    {
      "cell_type": "code",
      "metadata": {
        "colab_type": "code",
        "id": "nO4qdjCTZ8-L",
        "outputId": "5c0f5947-8524-4054-c85b-f12b9ffa9e70",
        "colab": {
          "base_uri": "https://localhost:8080/",
          "height": 102
        }
      },
      "source": [
        "# Prevent automatic inclusion of end of lines by using \\ operator\n",
        "print(\"\"\"\\\n",
        "asdad\n",
        "awewer\n",
        "bnghjny\n",
        "it rty    dsrfgtr t\n",
        "er    sdefsdfg    dggh\"\"\")"
      ],
      "execution_count": 6,
      "outputs": [
        {
          "output_type": "stream",
          "text": [
            "asdad\n",
            "awewer\n",
            "bnghjny\n",
            "it rty    dsrfgtr t\n",
            "er    sdefsdfg    dggh\n"
          ],
          "name": "stdout"
        }
      ]
    },
    {
      "cell_type": "markdown",
      "metadata": {
        "colab_type": "text",
        "id": "UqYJCt94biwq"
      },
      "source": [
        "## Strings are 0-based indexed"
      ]
    },
    {
      "cell_type": "code",
      "metadata": {
        "colab_type": "code",
        "id": "1b4f2oD1bF7Q",
        "outputId": "e8692b19-d805-4b64-9275-a2e213333691",
        "colab": {
          "base_uri": "https://localhost:8080/",
          "height": 68
        }
      },
      "source": [
        "str = \"David Attenborough\"\n",
        "print(str)\n",
        "print(str[2] + str[9])\n",
        "print(str[-2]) # starts counting from the right\n",
        "# it is the second last character\n",
        "# Note that since -0 is the same as 0, negative indices start from -1."
      ],
      "execution_count": 7,
      "outputs": [
        {
          "output_type": "stream",
          "text": [
            "David Attenborough\n",
            "ve\n",
            "g\n"
          ],
          "name": "stdout"
        }
      ]
    },
    {
      "cell_type": "markdown",
      "metadata": {
        "colab_type": "text",
        "id": "w3chf8dwcZtG"
      },
      "source": [
        "## Slicing strings"
      ]
    },
    {
      "cell_type": "code",
      "metadata": {
        "colab_type": "code",
        "id": "w2AfMHM5cb2Z",
        "outputId": "a9293d10-a398-4c8e-a29c-be0f7becc576",
        "colab": {
          "base_uri": "https://localhost:8080/",
          "height": 102
        }
      },
      "source": [
        "str = 'Jekyll'\n",
        "print(str[1:])\n",
        "print(str[2:])\n",
        "print(str[:3])\n",
        "print(str[:2] + str[4:])\n",
        "print(str[-2:])"
      ],
      "execution_count": 8,
      "outputs": [
        {
          "output_type": "stream",
          "text": [
            "ekyll\n",
            "kyll\n",
            "Jek\n",
            "Jell\n",
            "ll\n"
          ],
          "name": "stdout"
        }
      ]
    },
    {
      "cell_type": "markdown",
      "metadata": {
        "colab_type": "text",
        "id": "h-xZTo76bxeZ"
      },
      "source": [
        "- **Like Java, Python strings are immutable.**"
      ]
    },
    {
      "cell_type": "markdown",
      "metadata": {
        "colab_type": "text",
        "id": "jLepF54MiSso"
      },
      "source": [
        "## Length of string"
      ]
    },
    {
      "cell_type": "code",
      "metadata": {
        "colab_type": "code",
        "id": "oCDiS4pLiU_1",
        "outputId": "e206edb6-240f-45b1-d3e4-de0a1ba46961",
        "colab": {
          "base_uri": "https://localhost:8080/",
          "height": 34
        }
      },
      "source": [
        "# str = \"Jekyll\"\n",
        "print(len(str))"
      ],
      "execution_count": 9,
      "outputs": [
        {
          "output_type": "stream",
          "text": [
            "6\n"
          ],
          "name": "stdout"
        }
      ]
    },
    {
      "cell_type": "markdown",
      "metadata": {
        "colab_type": "text",
        "id": "zDeDE_wljPx_"
      },
      "source": [
        "## String methods\n",
        "- https://docs.python.org/3/library/stdtypes.html#string-methods\n",
        "- https://www.geeksforgeeks.org/python-strings/"
      ]
    },
    {
      "cell_type": "code",
      "metadata": {
        "colab_type": "code",
        "id": "5R4hxcVmjOaZ",
        "outputId": "9c37f814-a895-4f1a-9d8e-16aef9674597",
        "colab": {
          "base_uri": "https://localhost:8080/",
          "height": 119
        }
      },
      "source": [
        "str1 = \"Data Structures\"\n",
        "str2 = \"Algorithms\"\n",
        "str3 = \"operating system\"\n",
        "print(str1.lower())\n",
        "print(str2.upper())\n",
        "print(str3.capitalize())\n",
        "print(str1.endswith(\"Structures\"))\n",
        "print(str2.endswith(\"thms\"))\n",
        "print(str3.startswith(\"oper\"))"
      ],
      "execution_count": 10,
      "outputs": [
        {
          "output_type": "stream",
          "text": [
            "data structures\n",
            "ALGORITHMS\n",
            "Operating system\n",
            "True\n",
            "True\n",
            "True\n"
          ],
          "name": "stdout"
        }
      ]
    },
    {
      "cell_type": "markdown",
      "metadata": {
        "colab_type": "text",
        "id": "PHLCtoQCwGpb"
      },
      "source": [
        "## Reverse a string"
      ]
    },
    {
      "cell_type": "code",
      "metadata": {
        "colab_type": "code",
        "id": "2reGPgJQwI8Z",
        "outputId": "73e4389d-4af6-45e2-8cc6-e44a365a5417",
        "colab": {
          "base_uri": "https://localhost:8080/",
          "height": 34
        }
      },
      "source": [
        "# Python string library has no reverse() method\n",
        "def reverse(s):\n",
        "  temp = \"\"\n",
        "  for i in s:\n",
        "    temp = i + temp # ... m + o + C\n",
        "  return temp\n",
        "\n",
        "subject = \"Computer Networks\"\n",
        "print(reverse(subject))"
      ],
      "execution_count": 11,
      "outputs": [
        {
          "output_type": "stream",
          "text": [
            "skrowteN retupmoC\n"
          ],
          "name": "stdout"
        }
      ]
    },
    {
      "cell_type": "code",
      "metadata": {
        "colab_type": "code",
        "id": "MZscvQpqzuhp",
        "outputId": "3c9de235-413f-472c-d400-2a944ef0ecb6",
        "colab": {
          "base_uri": "https://localhost:8080/",
          "height": 34
        }
      },
      "source": [
        "# Using recursion\n",
        "def reverse1(s):\n",
        "  if len(s) == 0:\n",
        "    return s\n",
        "  else:\n",
        "    return reverse(s[1:]) + s[0]\n",
        "s = \"Kolkata\"\n",
        "print(reverse1(s))"
      ],
      "execution_count": 12,
      "outputs": [
        {
          "output_type": "stream",
          "text": [
            "atakloK\n"
          ],
          "name": "stdout"
        }
      ]
    },
    {
      "cell_type": "code",
      "metadata": {
        "colab_type": "code",
        "id": "VYGJilgi3XdK",
        "outputId": "38454c97-3665-4c7f-9e68-6e56ff63d1b4",
        "colab": {
          "base_uri": "https://localhost:8080/",
          "height": 34
        }
      },
      "source": [
        "# Using extended slice syntax\n",
        "def reverse3(s):\n",
        "  return s[::-1]\n",
        "\n",
        "s = \"Quadilateral\"\n",
        "print(reverse3(s))"
      ],
      "execution_count": 13,
      "outputs": [
        {
          "output_type": "stream",
          "text": [
            "laretalidauQ\n"
          ],
          "name": "stdout"
        }
      ]
    },
    {
      "cell_type": "code",
      "metadata": {
        "colab_type": "code",
        "id": "agsLHpwl3xhO",
        "outputId": "242be4bd-0615-46f3-c90d-d486c3afa787",
        "colab": {
          "base_uri": "https://localhost:8080/",
          "height": 34
        }
      },
      "source": [
        "# Using reversed\n",
        "def reverse4(s):\n",
        "  return \"\".join(reversed(s))\n",
        "\n",
        "s = \"Gradle\"\n",
        "print(reverse4(s))"
      ],
      "execution_count": 14,
      "outputs": [
        {
          "output_type": "stream",
          "text": [
            "eldarG\n"
          ],
          "name": "stdout"
        }
      ]
    },
    {
      "cell_type": "markdown",
      "metadata": {
        "colab_type": "text",
        "id": "KqQ30chMhyFS"
      },
      "source": [
        "## Split a string"
      ]
    },
    {
      "cell_type": "code",
      "metadata": {
        "colab_type": "code",
        "id": "UVUx9-_yh0c5",
        "outputId": "87485f67-9f12-42df-b6c1-fe6689ce7d66",
        "colab": {
          "base_uri": "https://localhost:8080/",
          "height": 34
        }
      },
      "source": [
        "line = \"Brian Karnighan's algorithm is the most efficient way to count set bits.\"\n",
        "print(line.split()) # No delimiter takes whitespace as a delimiter implicitly"
      ],
      "execution_count": 15,
      "outputs": [
        {
          "output_type": "stream",
          "text": [
            "['Brian', \"Karnighan's\", 'algorithm', 'is', 'the', 'most', 'efficient', 'way', 'to', 'count', 'set', 'bits.']\n"
          ],
          "name": "stdout"
        }
      ]
    },
    {
      "cell_type": "code",
      "metadata": {
        "colab_type": "code",
        "id": "Wtqt2LN3ihDd",
        "outputId": "80953f5e-6a68-4b23-bdf6-ef45bf4d0c0a",
        "colab": {
          "base_uri": "https://localhost:8080/",
          "height": 51
        }
      },
      "source": [
        "word = \"dock:for:ipad\"\n",
        "print(word.split(\":\"))\n",
        "print(word.split(\":\", 1)) # maxsplit: 1"
      ],
      "execution_count": 16,
      "outputs": [
        {
          "output_type": "stream",
          "text": [
            "['dock', 'for', 'ipad']\n",
            "['dock', 'for:ipad']\n"
          ],
          "name": "stdout"
        }
      ]
    },
    {
      "cell_type": "markdown",
      "metadata": {
        "colab_type": "text",
        "id": "twuhHNOl1HMA"
      },
      "source": [
        "## Printing out multiples of strings"
      ]
    },
    {
      "cell_type": "code",
      "metadata": {
        "colab_type": "code",
        "id": "ALttcbwE1JXZ",
        "outputId": "d64e73ab-5c16-4c1c-d698-cace8914c697",
        "colab": {
          "base_uri": "https://localhost:8080/",
          "height": 34
        }
      },
      "source": [
        "print(\"Yes\"*5 + \"No\"*2)"
      ],
      "execution_count": 17,
      "outputs": [
        {
          "output_type": "stream",
          "text": [
            "YesYesYesYesYesNoNo\n"
          ],
          "name": "stdout"
        }
      ]
    },
    {
      "cell_type": "markdown",
      "metadata": {
        "colab_type": "text",
        "id": "odWhZASi0Ukv"
      },
      "source": [
        "## Lists"
      ]
    },
    {
      "cell_type": "code",
      "metadata": {
        "colab_type": "code",
        "id": "uYwKoydT0unw",
        "outputId": "d8d407c0-bbe4-4fc5-d3a2-8db4b2deae3d",
        "colab": {
          "base_uri": "https://localhost:8080/",
          "height": 153
        }
      },
      "source": [
        "# This is a list\n",
        "# Like strings, lists can be indexed and sliced\n",
        "veggies = [\"potato\", \"carrot\", \"brinjal\"]\n",
        "print(veggies)\n",
        "print(veggies[2])\n",
        "print(veggies[-1])\n",
        "# all slice operations return a new list(a copy) containing the requested elements\n",
        "print(veggies[1:2])\n",
        "# lists supports concatenation\n",
        "# unlike strings, lists are mutable\n",
        "# use append() method to add elements to the end of a list\n",
        "veggies.append(\"ladyfinger\")\n",
        "print(veggies)\n",
        "# assignment to slices is also possible\n",
        "veggies[2:] = [\"beetroot\", \"ginger\"]\n",
        "print(veggies)\n",
        "# length of list\n",
        "print(len(veggies))\n",
        "# we can nest lists too\n",
        "x = [['a', 'b'], ['k', 'l']]\n",
        "print(x, \"Length = \", len(x))"
      ],
      "execution_count": 18,
      "outputs": [
        {
          "output_type": "stream",
          "text": [
            "['potato', 'carrot', 'brinjal']\n",
            "brinjal\n",
            "brinjal\n",
            "['carrot']\n",
            "['potato', 'carrot', 'brinjal', 'ladyfinger']\n",
            "['potato', 'carrot', 'beetroot', 'ginger']\n",
            "4\n",
            "[['a', 'b'], ['k', 'l']] Length =  2\n"
          ],
          "name": "stdout"
        }
      ]
    },
    {
      "cell_type": "markdown",
      "metadata": {
        "colab_type": "text",
        "id": "zQr8_gevPVEX"
      },
      "source": [
        "## Fibonacci program"
      ]
    },
    {
      "cell_type": "code",
      "metadata": {
        "colab_type": "code",
        "id": "RlL_N-VBPZH6",
        "outputId": "fe6bded3-c1ad-4c8b-a09d-c0f25b065744",
        "colab": {
          "base_uri": "https://localhost:8080/",
          "height": 34
        }
      },
      "source": [
        "# Prints Fibonacci series upto Nth term where N < k\n",
        "def fibonacci(k):\n",
        "  first, second = 0, 1 # multiple assignment\n",
        "  while first < k:\n",
        "    print(first, end=', ')\n",
        "    first, second = second, first+second\n",
        "\n",
        "# invoke function\n",
        "fibonacci(20)\n"
      ],
      "execution_count": 19,
      "outputs": [
        {
          "output_type": "stream",
          "text": [
            "0, 1, 1, 2, 3, 5, 8, 13, "
          ],
          "name": "stdout"
        }
      ]
    },
    {
      "cell_type": "code",
      "metadata": {
        "colab_type": "code",
        "id": "kLR9NfFOQinu",
        "outputId": "582d242f-ee2d-430e-da89-385bec6a1d6b",
        "colab": {
          "base_uri": "https://localhost:8080/",
          "height": 51
        }
      },
      "source": [
        "# Prints Fibonacci series upto Nth term\n",
        "def fibo(n):\n",
        "  first, second = 0, 1\n",
        "  l = [] #empty list to store fibonacci numbers\n",
        "  for i in range(n):\n",
        "    #print(first, end=\" \")\n",
        "    l.append(first)\n",
        "    first, second = second, first+second\n",
        "  print(l)\n",
        "  print(\"Length of the list: \", len(l))\n",
        "\n",
        "fibo(20)\n",
        "    "
      ],
      "execution_count": 20,
      "outputs": [
        {
          "output_type": "stream",
          "text": [
            "[0, 1, 1, 2, 3, 5, 8, 13, 21, 34, 55, 89, 144, 233, 377, 610, 987, 1597, 2584, 4181]\n",
            "Length of the list:  20\n"
          ],
          "name": "stdout"
        }
      ]
    },
    {
      "cell_type": "code",
      "metadata": {
        "colab_type": "code",
        "id": "i_b5z-_gTS05",
        "outputId": "75b67452-13a2-4b09-ea0c-01ca7a728621",
        "colab": {
          "base_uri": "https://localhost:8080/",
          "height": 34
        }
      },
      "source": [
        "# Prints Nth fibonacci number\n",
        "def nthfibo(n):\n",
        "  first, second = 0, 1\n",
        "  for i in range(n-1):\n",
        "    first, second = second, first+second\n",
        "  print(\"%dth term is %d\" %(n, first))\n",
        "  # formatted output using string modulo operator\n",
        "\n",
        "nthfibo(20)\n"
      ],
      "execution_count": 21,
      "outputs": [
        {
          "output_type": "stream",
          "text": [
            "20th term is 4181\n"
          ],
          "name": "stdout"
        }
      ]
    },
    {
      "cell_type": "markdown",
      "metadata": {
        "colab_type": "text",
        "id": "M4hBsOWKzE2b"
      },
      "source": [
        "<img src=\"https://raw.githubusercontent.com/thecoducer/python_programs/master/code_happy.png\" width=\"65%\" height=\"65%\" />"
      ]
    },
    {
      "cell_type": "markdown",
      "metadata": {
        "colab_type": "text",
        "id": "fG5ijVy1nMkn"
      },
      "source": [
        "# More control flow tools\n",
        "https://docs.python.org/3/tutorial/controlflow.html"
      ]
    },
    {
      "cell_type": "markdown",
      "metadata": {
        "colab_type": "text",
        "id": "wP7A2lC5jnD9"
      },
      "source": [
        "## If statement"
      ]
    },
    {
      "cell_type": "code",
      "metadata": {
        "colab_type": "code",
        "id": "kulJjDbCjqrU",
        "outputId": "25e8d19e-0b9d-4882-a300-6735469f0d60",
        "colab": {
          "base_uri": "https://localhost:8080/",
          "height": 51
        }
      },
      "source": [
        "n = int(input(\"Enter a number: \"))\n",
        "if n<0:\n",
        "  print(\"It is a negative number.\")\n",
        "elif n==0:\n",
        "  print(\"It is a zero.\")\n",
        "else:\n",
        "  print(\"It is a positive number.\") "
      ],
      "execution_count": 22,
      "outputs": [
        {
          "output_type": "stream",
          "text": [
            "Enter a number: -96\n",
            "It is a negative number.\n"
          ],
          "name": "stdout"
        }
      ]
    },
    {
      "cell_type": "markdown",
      "metadata": {
        "colab_type": "text",
        "id": "Wxaor2bllEpX"
      },
      "source": [
        "## Switch or case statement\n",
        "\n",
        "Unlike other languages, Python does not have this feature. Python encourages to use if and elif instead.\n",
        "\n",
        "We can do something similar to switch-case by using dictionary mapping. Read here: https://www.geeksforgeeks.org/switch-case-in-python-replacement/"
      ]
    },
    {
      "cell_type": "markdown",
      "metadata": {
        "colab_type": "text",
        "id": "BNZ6ZRGnmEBl"
      },
      "source": [
        "## For statement"
      ]
    },
    {
      "cell_type": "code",
      "metadata": {
        "colab_type": "code",
        "id": "FbbT3rsImGxf",
        "outputId": "dc7ac22a-d92e-4eac-ac9a-849c610f568e",
        "colab": {
          "base_uri": "https://localhost:8080/",
          "height": 85
        }
      },
      "source": [
        "# Python’s for statement iterates over the items of \n",
        "# any sequence (a list or a string), in the order \n",
        "# that they appear in the sequence. \n",
        "# similar to for each loop in Java\n",
        "word = ['cat', 'dog', 'tiger', 'lion']\n",
        "for w in word:\n",
        "  print(w, len(w))"
      ],
      "execution_count": 23,
      "outputs": [
        {
          "output_type": "stream",
          "text": [
            "cat 3\n",
            "dog 3\n",
            "tiger 5\n",
            "lion 4\n"
          ],
          "name": "stdout"
        }
      ]
    },
    {
      "cell_type": "markdown",
      "metadata": {
        "colab_type": "text",
        "id": "qcMw7RqoTLTD"
      },
      "source": [
        "## range() method"
      ]
    },
    {
      "cell_type": "code",
      "metadata": {
        "colab_type": "code",
        "id": "VF9YHq4AO2d2",
        "outputId": "e036d818-47b1-4ae3-8478-44752fe8910e",
        "colab": {
          "base_uri": "https://localhost:8080/",
          "height": 34
        }
      },
      "source": [
        "# range() method generated arithmetic progressions.\n",
        "# and proves useful in case of for loop\n",
        "for i in range(10):\n",
        "  print(i, end=\" \")"
      ],
      "execution_count": 24,
      "outputs": [
        {
          "output_type": "stream",
          "text": [
            "0 1 2 3 4 5 6 7 8 9 "
          ],
          "name": "stdout"
        }
      ]
    },
    {
      "cell_type": "code",
      "metadata": {
        "colab_type": "code",
        "id": "i41F30mLTPaF",
        "outputId": "00f37e98-daa4-4252-ab8d-a5301f52c912",
        "colab": {
          "base_uri": "https://localhost:8080/",
          "height": 51
        }
      },
      "source": [
        "# range(a, b, c)\n",
        "# a = start\n",
        "# b = stop\n",
        "# c = step (common difference of AP)\n",
        "for i in range(5, 30, 5):\n",
        "  print(i, end=\" \")\n",
        "print()\n",
        "for i in range(-2, -40, -6):\n",
        "  print(i, end=\" \")"
      ],
      "execution_count": 25,
      "outputs": [
        {
          "output_type": "stream",
          "text": [
            "5 10 15 20 25 \n",
            "-2 -8 -14 -20 -26 -32 -38 "
          ],
          "name": "stdout"
        }
      ]
    },
    {
      "cell_type": "code",
      "metadata": {
        "colab_type": "code",
        "id": "Y1nZqDWpT99W",
        "outputId": "c4360c14-19ce-42d7-f2ea-aaf5ee00016f",
        "colab": {
          "base_uri": "https://localhost:8080/",
          "height": 34
        }
      },
      "source": [
        "# iterating over the indices of a sequence using range() and len()\n",
        "str = \"software engineering\"\n",
        "for i in range(len(str)):\n",
        "  print(str[i], end=\" \")"
      ],
      "execution_count": 26,
      "outputs": [
        {
          "output_type": "stream",
          "text": [
            "s o f t w a r e   e n g i n e e r i n g "
          ],
          "name": "stdout"
        }
      ]
    },
    {
      "cell_type": "markdown",
      "metadata": {
        "colab_type": "text",
        "id": "ZrorQqe6x7uY"
      },
      "source": [
        "## list() method"
      ]
    },
    {
      "cell_type": "code",
      "metadata": {
        "colab_type": "code",
        "id": "7Z1aCHI8VSEt",
        "outputId": "26824eae-9edc-45fb-b65e-aa0f2e9f8825",
        "scrolled": true,
        "colab": {
          "base_uri": "https://localhost:8080/",
          "height": 34
        }
      },
      "source": [
        "# we can create lists from iterables using this method\n",
        "list(range(10))"
      ],
      "execution_count": 27,
      "outputs": [
        {
          "output_type": "execute_result",
          "data": {
            "text/plain": [
              "[0, 1, 2, 3, 4, 5, 6, 7, 8, 9]"
            ]
          },
          "metadata": {
            "tags": []
          },
          "execution_count": 27
        }
      ]
    },
    {
      "cell_type": "markdown",
      "metadata": {
        "colab_type": "text",
        "id": "HM4HrwMzKv-j"
      },
      "source": [
        "## break statement and else clause on loop"
      ]
    },
    {
      "cell_type": "markdown",
      "metadata": {
        "colab_type": "text",
        "id": "1ZH99i67Lc1W"
      },
      "source": [
        "The break statement, like in C, breaks out of the innermost enclosing for or while loop.\n",
        "\n",
        "Loop statements may have an else clause; it is *executed when the loop terminates through exhaustion of the list (with for) or when the condition becomes false (with while)*, **but not when the loop is terminated by a break statement.**"
      ]
    },
    {
      "cell_type": "markdown",
      "metadata": {
        "colab_type": "text",
        "id": "TThqIfFDLxET"
      },
      "source": [
        "## Find primes upto N"
      ]
    },
    {
      "cell_type": "code",
      "metadata": {
        "colab_type": "code",
        "id": "1Ii6JWFlKvmP",
        "outputId": "378b3b33-cfda-43dd-ae42-ad47a3c48542",
        "colab": {
          "base_uri": "https://localhost:8080/",
          "height": 238
        }
      },
      "source": [
        "def primes(n):\n",
        "  for i in range(2, n):\n",
        "    for j in range(2, i):\n",
        "      if i % j == 0:\n",
        "        print(i, \"equals\", j, \"*\", i//j)\n",
        "        break\n",
        "    else:\n",
        "      # loop fell through without finding a factor\n",
        "      # else belongs to the for loop\n",
        "      # loop's else clause runs when no break occurs\n",
        "      # similar to try (in exception handling), when no exception occurs\n",
        "      # else clause of try executes\n",
        "      print(\"%d is a prime number\" %(i))\n",
        "\n",
        "primes(15)"
      ],
      "execution_count": 28,
      "outputs": [
        {
          "output_type": "stream",
          "text": [
            "2 is a prime number\n",
            "3 is a prime number\n",
            "4 equals 2 * 2\n",
            "5 is a prime number\n",
            "6 equals 2 * 3\n",
            "7 is a prime number\n",
            "8 equals 2 * 4\n",
            "9 equals 3 * 3\n",
            "10 equals 2 * 5\n",
            "11 is a prime number\n",
            "12 equals 2 * 6\n",
            "13 is a prime number\n",
            "14 equals 2 * 7\n"
          ],
          "name": "stdout"
        }
      ]
    },
    {
      "cell_type": "markdown",
      "metadata": {
        "colab_type": "text",
        "id": "TaGPiE5qQ5o5"
      },
      "source": [
        "## continue statement"
      ]
    },
    {
      "cell_type": "markdown",
      "metadata": {
        "colab_type": "text",
        "id": "Xem2mzF2RoA1"
      },
      "source": [
        "Like C, it continues with the next iteration of the loop."
      ]
    },
    {
      "cell_type": "markdown",
      "metadata": {
        "colab_type": "text",
        "id": "pblPcxWuRqIc"
      },
      "source": [
        "## pass statement"
      ]
    },
    {
      "cell_type": "markdown",
      "metadata": {
        "colab_type": "text",
        "id": "zZ2r82IcR7Za"
      },
      "source": [
        "It does nothing. Read more https://docs.python.org/3/tutorial/controlflow.html#pass-statements"
      ]
    },
    {
      "cell_type": "markdown",
      "metadata": {
        "colab_type": "text",
        "id": "OVoCcSk-SE7z"
      },
      "source": [
        "## Defining a function"
      ]
    },
    {
      "cell_type": "markdown",
      "metadata": {
        "colab_type": "text",
        "id": "s8T1qCAcSIgX"
      },
      "source": [
        "- The keyword def introduces a function definition. It must be followed by the function name and the parenthesized list of formal parameters. The statements that form the body of the function start at the next line, and must be indented.\n",
        "- The first statement of the function body can optionally be a string literal; this string literal is the function’s documentation string, or docstring.\n",
        "- The execution of a function introduces a new symbol table used for the local variables of the function.\n",
        "- The actual parameters (arguments) to a function call are introduced in the local symbol table of the called function when it is called; thus, arguments are passed using **call by value** (where the value is always an object reference, not the value of the object).\n",
        "- In fact, even functions without a return statement do return a value, albeit a rather boring one. This value is called None (it’s a built-in name). Writing the value None is normally suppressed by the interpreter if it would be the only value written."
      ]
    },
    {
      "cell_type": "markdown",
      "metadata": {
        "colab_type": "text",
        "id": "VEsofk7iaIO9"
      },
      "source": [
        "##  return statement"
      ]
    },
    {
      "cell_type": "code",
      "metadata": {
        "colab_type": "code",
        "id": "VJKxweq4aKq6",
        "outputId": "ce5558d9-de31-4c69-c96f-0ef85baf2473",
        "colab": {
          "base_uri": "https://localhost:8080/",
          "height": 34
        }
      },
      "source": [
        "def sublist(fruits, m, n):\n",
        "  return fruits[m:n]\n",
        "\n",
        "fruits = [\"mango\", \"apple\", \"guave\", \"grapes\", \"banana\", \"pineapple\", \"cucumber\", \"pomegranate\", \"watermelon\", \"naseberry\"]\n",
        "sublist(fruits, 2, 5)"
      ],
      "execution_count": 29,
      "outputs": [
        {
          "output_type": "execute_result",
          "data": {
            "text/plain": [
              "['guave', 'grapes', 'banana']"
            ]
          },
          "metadata": {
            "tags": []
          },
          "execution_count": 29
        }
      ]
    },
    {
      "cell_type": "markdown",
      "metadata": {
        "colab_type": "text",
        "id": "KO8x5g3TiNzb"
      },
      "source": [
        "## Default argument values in function\n",
        "\n",
        "- The default values are evaluated at the point of function definition in the defining scope.\n",
        "- The default value is evaluated only once. This makes a difference when the default is a mutable object such as a list, dictionary, or instances of most classes. Read more https://docs.python.org/3/tutorial/controlflow.html#default-argument-values"
      ]
    },
    {
      "cell_type": "code",
      "metadata": {
        "colab_type": "code",
        "id": "H3NAXRQpiSla",
        "outputId": "87133a7b-7180-4e8e-d98e-a0eb784caf7a",
        "colab": {
          "base_uri": "https://localhost:8080/",
          "height": 51
        }
      },
      "source": [
        "def ask_ok(prompt, retries=4, reminder='Please try again!'): # two arguments have been assigned a default\n",
        "    while True:\n",
        "        ok = input(prompt)\n",
        "        if ok in ('y', 'ye', 'yes'):\n",
        "            return True\n",
        "        if ok in ('n', 'no', 'nop', 'nope'):\n",
        "            return False\n",
        "        retries = retries - 1\n",
        "        if retries < 0:\n",
        "            raise ValueError('invalid user response')\n",
        "        print(reminder)\n",
        "\n",
        "# ask_ok(\"Do you really want to quit?\")\n",
        "ask_ok(\"Okay?\", 2, \"Only yes or no!\")"
      ],
      "execution_count": 30,
      "outputs": [
        {
          "output_type": "stream",
          "text": [
            "Okay?y\n"
          ],
          "name": "stdout"
        },
        {
          "output_type": "execute_result",
          "data": {
            "text/plain": [
              "True"
            ]
          },
          "metadata": {
            "tags": []
          },
          "execution_count": 30
        }
      ]
    },
    {
      "cell_type": "markdown",
      "metadata": {
        "colab_type": "text",
        "id": "HXM5bIQHn3wg"
      },
      "source": [
        "##  Lambda expression\n",
        "Small anonymous functions are created with the lambda keyword. No need of function name and return statement\n",
        "\n",
        "Read more https://www.geeksforgeeks.org/python-lambda-anonymous-functions-filter-map-reduce/"
      ]
    },
    {
      "cell_type": "code",
      "metadata": {
        "colab_type": "code",
        "id": "PlkEWhfToGdz",
        "outputId": "05103cae-1033-4525-eda7-90c95cbbb2e3",
        "colab": {
          "base_uri": "https://localhost:8080/",
          "height": 34
        }
      },
      "source": [
        "g = lambda x: x*x*x\n",
        "print(g(3))"
      ],
      "execution_count": 31,
      "outputs": [
        {
          "output_type": "stream",
          "text": [
            "27\n"
          ],
          "name": "stdout"
        }
      ]
    },
    {
      "cell_type": "code",
      "metadata": {
        "colab_type": "code",
        "id": "1cMvBIcDocNu",
        "outputId": "18105b2c-9a1b-413e-c68e-ca6d6c032154",
        "colab": {
          "base_uri": "https://localhost:8080/",
          "height": 34
        }
      },
      "source": [
        "# using filter function\n",
        "# The filter() function in Python takes in a function and a list as arguments.\n",
        "# This offers an elegant way to filter out all the elements of a sequence, \n",
        "# for which the function returns True. \n",
        "li = [5, 7, 22, 97, 54, 62, 77, 23, 73, 61]\n",
        "final_list = list(filter(lambda x:(x%2 != 0), li))\n",
        "print(final_list)"
      ],
      "execution_count": 32,
      "outputs": [
        {
          "output_type": "stream",
          "text": [
            "[5, 7, 97, 77, 23, 73, 61]\n"
          ],
          "name": "stdout"
        }
      ]
    },
    {
      "cell_type": "markdown",
      "metadata": {
        "colab_type": "text",
        "id": "sog7q2b9juZX"
      },
      "source": [
        "## What's left to read in this chapter?\n",
        "- Keyword Arguments\n",
        "- Arbitrary Argument Lists\n",
        "- Unpacking Argument Lists\n",
        "- Documentation Strings\n",
        "- Function Annotations"
      ]
    },
    {
      "cell_type": "markdown",
      "metadata": {
        "colab_type": "text",
        "id": "fyu5fdyoNsmy"
      },
      "source": [
        "<img src=\"https://raw.githubusercontent.com/thecoducer/python_programs/master/large.jpg\" width=\"65%\" height=\"65%\" />"
      ]
    },
    {
      "cell_type": "markdown",
      "metadata": {
        "colab_type": "text",
        "id": "w07rDMCSv2L_"
      },
      "source": [
        "# Data Structures\n",
        "\n",
        "https://docs.python.org/3/tutorial/datastructures.html"
      ]
    }
  ]
}