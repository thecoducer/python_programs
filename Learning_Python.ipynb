{
  "nbformat": 4,
  "nbformat_minor": 0,
  "metadata": {
    "colab": {
      "name": "Learning Python.ipynb",
      "version": "0.3.2",
      "provenance": [],
      "collapsed_sections": [],
      "toc_visible": true,
      "include_colab_link": true
    },
    "kernelspec": {
      "name": "python3",
      "display_name": "Python 3"
    }
  },
  "cells": [
    {
      "cell_type": "markdown",
      "metadata": {
        "id": "view-in-github",
        "colab_type": "text"
      },
      "source": [
        "<a href=\"https://colab.research.google.com/github/thecoducer/python_programs/blob/master/Learning_Python.ipynb\" target=\"_parent\"><img src=\"https://colab.research.google.com/assets/colab-badge.svg\" alt=\"Open In Colab\"/></a>"
      ]
    },
    {
      "cell_type": "markdown",
      "metadata": {
        "id": "Bklp88xT3ZEw",
        "colab_type": "text"
      },
      "source": [
        "#Learning Python\n",
        "\n",
        "---\n",
        "\n"
      ]
    },
    {
      "cell_type": "markdown",
      "metadata": {
        "id": "PPG0bHlT40BU",
        "colab_type": "text"
      },
      "source": [
        "## Take input"
      ]
    },
    {
      "cell_type": "code",
      "metadata": {
        "id": "PY77F0fh2lwF",
        "colab_type": "code",
        "outputId": "0c446c00-611c-4954-b6b6-e9cc7a443530",
        "colab": {
          "base_uri": "https://localhost:8080/",
          "height": 68
        }
      },
      "source": [
        "# in Python 3\n",
        "# in Python 2, we use raw_input()\n",
        "n = input(\"Enter: \") # stores as a string\n",
        "print(n)\n",
        "# typecast it before arithmetic operation\n",
        "n = int(n) + 900\n",
        "print(n)"
      ],
      "execution_count": 10,
      "outputs": [
        {
          "output_type": "stream",
          "text": [
            "Enter: 12\n",
            "12\n",
            "912\n"
          ],
          "name": "stdout"
        }
      ]
    }
  ]
}