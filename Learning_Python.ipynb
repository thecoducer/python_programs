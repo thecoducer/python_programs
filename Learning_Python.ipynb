{
  "nbformat": 4,
  "nbformat_minor": 0,
  "metadata": {
    "colab": {
      "name": "Learning Python.ipynb",
      "version": "0.3.2",
      "provenance": [],
      "collapsed_sections": [],
      "toc_visible": true,
      "include_colab_link": true
    },
    "kernelspec": {
      "name": "python3",
      "display_name": "Python 3"
    }
  },
  "cells": [
    {
      "cell_type": "markdown",
      "metadata": {
        "id": "view-in-github",
        "colab_type": "text"
      },
      "source": [
        "<a href=\"https://colab.research.google.com/github/thecoducer/python_programs/blob/master/Learning_Python.ipynb\" target=\"_parent\"><img src=\"https://colab.research.google.com/assets/colab-badge.svg\" alt=\"Open In Colab\"/></a>"
      ]
    },
    {
      "cell_type": "markdown",
      "metadata": {
        "id": "Bklp88xT3ZEw",
        "colab_type": "text"
      },
      "source": [
        "#Learning Python\n",
        "---\n",
        "<img src=\"https://raw.githubusercontent.com/thecoducer/python_programs/master/python-harry-potter.jpg\" width=\"65%\" height=\"65%\" />\n",
        "\n",
        "Hey! I'm reading the official documentation of Python Software Foundation to learn Python programming language. It's great and detailed. We often need to write down notes when we learn something new. So, I've used Jupyter Notebook to write down notes as well as programs. You can open the notebook file and run the codes on Google Collaboratory. This notebook is intended to help me whenever I need to revise. It's not intended to teach anyone Python.\n",
        "\n",
        "I recommend you to read the official Python tutorial here: https://docs.python.org/3/tutorial/index.html.\n",
        "\n",
        "My blog post on learning Python: http://www.thecoducer.com/2019/07/effective-way-to-learn-python-for-free.html\n",
        "\n",
        "---\n",
        "***Email: [mayukh5741@gmail.com](mailto:mayukh5741@gmail.com)***\n",
        "\n",
        "***Website: https://thecoducer.github.io/***\n",
        "\n",
        "***Blog: http://www.thecoducer.com/***\n",
        "\n",
        "---\n",
        "\n",
        "\n"
      ]
    },
    {
      "cell_type": "markdown",
      "metadata": {
        "id": "u6ZNC8hjmuHv",
        "colab_type": "text"
      },
      "source": [
        "#An Informal introduction to Python\n",
        "https://docs.python.org/3/tutorial/introduction.html"
      ]
    },
    {
      "cell_type": "markdown",
      "metadata": {
        "id": "FqTXzIdNOzrq",
        "colab_type": "text"
      },
      "source": [
        "##Classic vs Floor division"
      ]
    },
    {
      "cell_type": "code",
      "metadata": {
        "id": "CkAfCN22O4td",
        "colab_type": "code",
        "outputId": "ca4c38ff-82d6-4d6f-900f-13c0c117cddb",
        "colab": {
          "base_uri": "https://localhost:8080/",
          "height": 51
        }
      },
      "source": [
        "print(19/5) # classic division returns float\n",
        "print(52//3) # floor division discards the fractional part"
      ],
      "execution_count": 0,
      "outputs": [
        {
          "output_type": "stream",
          "text": [
            "3.8\n",
            "17\n"
          ],
          "name": "stdout"
        }
      ]
    },
    {
      "cell_type": "markdown",
      "metadata": {
        "id": "2Cc-OD7wQjys",
        "colab_type": "text"
      },
      "source": [
        "##To calculate powers"
      ]
    },
    {
      "cell_type": "code",
      "metadata": {
        "id": "jmgwfSYdOxnB",
        "colab_type": "code",
        "outputId": "4570bb0e-c036-4743-f394-3e442ad6d912",
        "colab": {
          "base_uri": "https://localhost:8080/",
          "height": 34
        }
      },
      "source": [
        "# 2^5\n",
        "print(2**5)"
      ],
      "execution_count": 0,
      "outputs": [
        {
          "output_type": "stream",
          "text": [
            "32\n"
          ],
          "name": "stdout"
        }
      ]
    },
    {
      "cell_type": "markdown",
      "metadata": {
        "id": "BKZBOBtgRWz_",
        "colab_type": "text"
      },
      "source": [
        "- *In interactive mode, the last printed expression is assigned to the variable _*"
      ]
    },
    {
      "cell_type": "markdown",
      "metadata": {
        "id": "7ONm7vuBSe-q",
        "colab_type": "text"
      },
      "source": [
        "## Round a real number up to 2 places after decimal"
      ]
    },
    {
      "cell_type": "code",
      "metadata": {
        "id": "tqpgix2oSNl3",
        "colab_type": "code",
        "outputId": "66954592-621b-4a23-bee8-f69fb0422f99",
        "colab": {
          "base_uri": "https://localhost:8080/",
          "height": 34
        }
      },
      "source": [
        "k = 12.03635\n",
        "print(round(k, 2))"
      ],
      "execution_count": 0,
      "outputs": [
        {
          "output_type": "stream",
          "text": [
            "12.04\n"
          ],
          "name": "stdout"
        }
      ]
    },
    {
      "cell_type": "markdown",
      "metadata": {
        "id": "npAYGQzQXrIS",
        "colab_type": "text"
      },
      "source": [
        "##Strings\n",
        "- \\ can be used to escape quotes\n",
        "- can be also be enclosed within other pair of quotes\n",
        "- to print raw strings, use r"
      ]
    },
    {
      "cell_type": "markdown",
      "metadata": {
        "id": "lSpJH8Rybs7D",
        "colab_type": "text"
      },
      "source": [
        "##Raw string"
      ]
    },
    {
      "cell_type": "code",
      "metadata": {
        "id": "nWLZAcexXzd4",
        "colab_type": "code",
        "outputId": "de0f984d-5d5a-4a8f-a763-5d401859646a",
        "colab": {
          "base_uri": "https://localhost:8080/",
          "height": 68
        }
      },
      "source": [
        "print(r\"C:\\nebula\\MachineLearning\")\n",
        "# without it, \\n escape sequence gets triggered\n",
        "print(\"C:\\nebula\\MachineLearning\")"
      ],
      "execution_count": 0,
      "outputs": [
        {
          "output_type": "stream",
          "text": [
            "C:\\nebula\\MachineLearning\n",
            "C:\n",
            "ebula\\MachineLearning\n"
          ],
          "name": "stdout"
        }
      ]
    },
    {
      "cell_type": "markdown",
      "metadata": {
        "id": "DAxID6VfbfOn",
        "colab_type": "text"
      },
      "source": [
        "##String literals can span multiple lines"
      ]
    },
    {
      "cell_type": "code",
      "metadata": {
        "id": "nO4qdjCTZ8-L",
        "colab_type": "code",
        "outputId": "b45ba90a-aa07-40ce-f646-57015b356404",
        "colab": {
          "base_uri": "https://localhost:8080/",
          "height": 102
        }
      },
      "source": [
        "# Prevent automatic inclusion of end of lines by using \\ operator\n",
        "print(\"\"\"\\\n",
        "asdad\n",
        "awewer\n",
        "bnghjny\n",
        "it rty    dsrfgtr t\n",
        "er    sdefsdfg    dggh\"\"\")"
      ],
      "execution_count": 0,
      "outputs": [
        {
          "output_type": "stream",
          "text": [
            "asdad\n",
            "awewer\n",
            "bnghjny\n",
            "it rty    dsrfgtr t\n",
            "er    sdefsdfg    dggh\n"
          ],
          "name": "stdout"
        }
      ]
    },
    {
      "cell_type": "markdown",
      "metadata": {
        "id": "UqYJCt94biwq",
        "colab_type": "text"
      },
      "source": [
        "##Strings are 0-based indexed"
      ]
    },
    {
      "cell_type": "code",
      "metadata": {
        "id": "1b4f2oD1bF7Q",
        "colab_type": "code",
        "outputId": "f1584e7a-5eb4-4b01-ac3f-863e8ff42098",
        "colab": {
          "base_uri": "https://localhost:8080/",
          "height": 68
        }
      },
      "source": [
        "str = \"David Attenborough\"\n",
        "print(str)\n",
        "print(str[2] + str[9])\n",
        "print(str[-2]) # starts counting from the right\n",
        "# it is the second last character\n",
        "# Note that since -0 is the same as 0, negative indices start from -1."
      ],
      "execution_count": 0,
      "outputs": [
        {
          "output_type": "stream",
          "text": [
            "David Attenborough\n",
            "ve\n",
            "g\n"
          ],
          "name": "stdout"
        }
      ]
    },
    {
      "cell_type": "markdown",
      "metadata": {
        "id": "w3chf8dwcZtG",
        "colab_type": "text"
      },
      "source": [
        "##Slicing strings"
      ]
    },
    {
      "cell_type": "code",
      "metadata": {
        "id": "w2AfMHM5cb2Z",
        "colab_type": "code",
        "outputId": "6984c824-d6b4-438f-abea-0b3efb3246fb",
        "colab": {
          "base_uri": "https://localhost:8080/",
          "height": 102
        }
      },
      "source": [
        "str = 'Jekyll'\n",
        "print(str[1:])\n",
        "print(str[2:])\n",
        "print(str[:3])\n",
        "print(str[:2] + str[4:])\n",
        "print(str[-2:])"
      ],
      "execution_count": 0,
      "outputs": [
        {
          "output_type": "stream",
          "text": [
            "ekyll\n",
            "kyll\n",
            "Jek\n",
            "Jell\n",
            "ll\n"
          ],
          "name": "stdout"
        }
      ]
    },
    {
      "cell_type": "markdown",
      "metadata": {
        "id": "h-xZTo76bxeZ",
        "colab_type": "text"
      },
      "source": [
        "- **Like Java, Python strings are immutable.**"
      ]
    },
    {
      "cell_type": "markdown",
      "metadata": {
        "id": "jLepF54MiSso",
        "colab_type": "text"
      },
      "source": [
        "##Length of string"
      ]
    },
    {
      "cell_type": "code",
      "metadata": {
        "id": "oCDiS4pLiU_1",
        "colab_type": "code",
        "outputId": "acb721e4-0a8c-41b3-f2cd-a3e54348671c",
        "colab": {
          "base_uri": "https://localhost:8080/",
          "height": 34
        }
      },
      "source": [
        "# str = \"Jekyll\"\n",
        "print(len(str))"
      ],
      "execution_count": 0,
      "outputs": [
        {
          "output_type": "stream",
          "text": [
            "6\n"
          ],
          "name": "stdout"
        }
      ]
    },
    {
      "cell_type": "markdown",
      "metadata": {
        "id": "zDeDE_wljPx_",
        "colab_type": "text"
      },
      "source": [
        "##String methods\n",
        "- https://docs.python.org/3/library/stdtypes.html#string-methods\n",
        "- https://www.geeksforgeeks.org/python-strings/"
      ]
    },
    {
      "cell_type": "code",
      "metadata": {
        "id": "5R4hxcVmjOaZ",
        "colab_type": "code",
        "outputId": "f938e670-6ebd-4c08-f6db-2c9096fc35c6",
        "colab": {
          "base_uri": "https://localhost:8080/",
          "height": 119
        }
      },
      "source": [
        "str1 = \"Data Structures\"\n",
        "str2 = \"Algorithms\"\n",
        "str3 = \"operating system\"\n",
        "print(str1.lower())\n",
        "print(str2.upper())\n",
        "print(str3.capitalize())\n",
        "print(str1.endswith(\"Structures\"))\n",
        "print(str2.endswith(\"thms\"))\n",
        "print(str3.startswith(\"oper\"))"
      ],
      "execution_count": 0,
      "outputs": [
        {
          "output_type": "stream",
          "text": [
            "data structures\n",
            "ALGORITHMS\n",
            "Operating system\n",
            "True\n",
            "True\n",
            "True\n"
          ],
          "name": "stdout"
        }
      ]
    },
    {
      "cell_type": "markdown",
      "metadata": {
        "id": "PHLCtoQCwGpb",
        "colab_type": "text"
      },
      "source": [
        "##Reverse a string"
      ]
    },
    {
      "cell_type": "code",
      "metadata": {
        "id": "2reGPgJQwI8Z",
        "colab_type": "code",
        "outputId": "571e19b3-7b78-4449-b436-835d73f10713",
        "colab": {
          "base_uri": "https://localhost:8080/",
          "height": 34
        }
      },
      "source": [
        "# Python string library has no reverse() method\n",
        "def reverse(s):\n",
        "  temp = \"\"\n",
        "  for i in s:\n",
        "    temp = i + temp # ... m + o + C\n",
        "  return temp\n",
        "\n",
        "subject = \"Computer Networks\"\n",
        "print(reverse(subject))"
      ],
      "execution_count": 0,
      "outputs": [
        {
          "output_type": "stream",
          "text": [
            "skrowteN retupmoC\n"
          ],
          "name": "stdout"
        }
      ]
    },
    {
      "cell_type": "code",
      "metadata": {
        "id": "MZscvQpqzuhp",
        "colab_type": "code",
        "outputId": "09594b44-0304-4047-f3a0-bc33be9a3b7f",
        "colab": {
          "base_uri": "https://localhost:8080/",
          "height": 34
        }
      },
      "source": [
        "# Using recursion\n",
        "def reverse1(s):\n",
        "  if len(s) == 0:\n",
        "    return s\n",
        "  else:\n",
        "    return reverse(s[1:]) + s[0]\n",
        "s = \"Kolkata\"\n",
        "print(reverse1(s))"
      ],
      "execution_count": 0,
      "outputs": [
        {
          "output_type": "stream",
          "text": [
            "atakloK\n"
          ],
          "name": "stdout"
        }
      ]
    },
    {
      "cell_type": "code",
      "metadata": {
        "id": "VYGJilgi3XdK",
        "colab_type": "code",
        "outputId": "caf75945-a5cf-40f3-8c91-0ffb7e6479e7",
        "colab": {
          "base_uri": "https://localhost:8080/",
          "height": 34
        }
      },
      "source": [
        "# Using extended slice syntax\n",
        "def reverse3(s):\n",
        "  return s[::-1]\n",
        "\n",
        "s = \"Quadilateral\"\n",
        "print(reverse3(s))"
      ],
      "execution_count": 0,
      "outputs": [
        {
          "output_type": "stream",
          "text": [
            "laretalidauQ\n"
          ],
          "name": "stdout"
        }
      ]
    },
    {
      "cell_type": "code",
      "metadata": {
        "id": "agsLHpwl3xhO",
        "colab_type": "code",
        "outputId": "990e29d2-65e4-462e-fd8c-0841b6fa5c4a",
        "colab": {
          "base_uri": "https://localhost:8080/",
          "height": 34
        }
      },
      "source": [
        "# Using reversed\n",
        "def reverse4(s):\n",
        "  return \"\".join(reversed(s))\n",
        "\n",
        "s = \"Gradle\"\n",
        "print(reverse4(s))"
      ],
      "execution_count": 0,
      "outputs": [
        {
          "output_type": "stream",
          "text": [
            "eldarG\n"
          ],
          "name": "stdout"
        }
      ]
    },
    {
      "cell_type": "markdown",
      "metadata": {
        "id": "KqQ30chMhyFS",
        "colab_type": "text"
      },
      "source": [
        "##Split a string"
      ]
    },
    {
      "cell_type": "code",
      "metadata": {
        "id": "UVUx9-_yh0c5",
        "colab_type": "code",
        "outputId": "ecea33f0-7fc2-4a9b-98a2-9539dee1b603",
        "colab": {
          "base_uri": "https://localhost:8080/",
          "height": 34
        }
      },
      "source": [
        "line = \"Brian Karnighan's algorithm is the most efficient way to count set bits.\"\n",
        "print(line.split()) # No delimiter takes whitespace as a delimiter implicitly"
      ],
      "execution_count": 0,
      "outputs": [
        {
          "output_type": "stream",
          "text": [
            "['Brian', \"Karnighan's\", 'algorithm', 'is', 'the', 'most', 'efficient', 'way', 'to', 'count', 'set', 'bits.']\n"
          ],
          "name": "stdout"
        }
      ]
    },
    {
      "cell_type": "code",
      "metadata": {
        "id": "Wtqt2LN3ihDd",
        "colab_type": "code",
        "outputId": "c6b3fcf5-8f84-4aba-8ebb-c8d7aed6eedb",
        "colab": {
          "base_uri": "https://localhost:8080/",
          "height": 51
        }
      },
      "source": [
        "word = \"dock:for:ipad\"\n",
        "print(word.split(\":\"))\n",
        "print(word.split(\":\", 1)) # maxsplit: 1"
      ],
      "execution_count": 0,
      "outputs": [
        {
          "output_type": "stream",
          "text": [
            "['dock', 'for', 'ipad']\n",
            "['dock', 'for:ipad']\n"
          ],
          "name": "stdout"
        }
      ]
    },
    {
      "cell_type": "markdown",
      "metadata": {
        "id": "twuhHNOl1HMA",
        "colab_type": "text"
      },
      "source": [
        "##Printing out multiples of strings"
      ]
    },
    {
      "cell_type": "code",
      "metadata": {
        "id": "ALttcbwE1JXZ",
        "colab_type": "code",
        "outputId": "f9911d65-6a18-433d-ee72-05f702f63227",
        "colab": {
          "base_uri": "https://localhost:8080/",
          "height": 34
        }
      },
      "source": [
        "print(\"Yes\"*5 + \"No\"*2)"
      ],
      "execution_count": 0,
      "outputs": [
        {
          "output_type": "stream",
          "text": [
            "YesYesYesYesYesNoNo\n"
          ],
          "name": "stdout"
        }
      ]
    },
    {
      "cell_type": "markdown",
      "metadata": {
        "id": "odWhZASi0Ukv",
        "colab_type": "text"
      },
      "source": [
        "##Lists"
      ]
    },
    {
      "cell_type": "code",
      "metadata": {
        "id": "uYwKoydT0unw",
        "colab_type": "code",
        "outputId": "09ef6c3c-bbd3-4961-e9f2-c18a6a90f3a7",
        "colab": {
          "base_uri": "https://localhost:8080/",
          "height": 153
        }
      },
      "source": [
        "# This is a list\n",
        "# Like strings, lists can be indexed and sliced\n",
        "veggies = [\"potato\", \"carrot\", \"brinjal\"]\n",
        "print(veggies)\n",
        "print(veggies[2])\n",
        "print(veggies[-1])\n",
        "# all slice operations return a new list(a copy) containing the requested elements\n",
        "print(veggies[1:2])\n",
        "# lists supports concatenation\n",
        "# unlike strings, lists are mutable\n",
        "# use append() method to add elements to the end of a list\n",
        "veggies.append(\"ladyfinger\")\n",
        "print(veggies)\n",
        "# assignment to slices is also possible\n",
        "veggies[2:] = [\"beetroot\", \"ginger\"]\n",
        "print(veggies)\n",
        "# length of list\n",
        "print(len(veggies))\n",
        "# we can nest lists too\n",
        "x = [['a', 'b'], ['k', 'l']]\n",
        "print(x, \"Length = \", len(x))"
      ],
      "execution_count": 0,
      "outputs": [
        {
          "output_type": "stream",
          "text": [
            "['potato', 'carrot', 'brinjal']\n",
            "brinjal\n",
            "brinjal\n",
            "['carrot']\n",
            "['potato', 'carrot', 'brinjal', 'ladyfinger']\n",
            "['potato', 'carrot', 'beetroot', 'ginger']\n",
            "4\n",
            "[['a', 'b'], ['k', 'l']] Length =  2\n"
          ],
          "name": "stdout"
        }
      ]
    },
    {
      "cell_type": "markdown",
      "metadata": {
        "id": "zQr8_gevPVEX",
        "colab_type": "text"
      },
      "source": [
        "##Fibonacci program"
      ]
    },
    {
      "cell_type": "code",
      "metadata": {
        "id": "RlL_N-VBPZH6",
        "colab_type": "code",
        "outputId": "53d10430-2dbc-4e02-af14-6a5cbce0a0f8",
        "colab": {
          "base_uri": "https://localhost:8080/",
          "height": 34
        }
      },
      "source": [
        "# Prints Fibonacci series upto Nth term where N < k\n",
        "def fibonacci(k):\n",
        "  first, second = 0, 1 # multiple assignment\n",
        "  while first < k:\n",
        "    print(first, end=', ')\n",
        "    first, second = second, first+second\n",
        "\n",
        "# invoke function\n",
        "fibonacci(20)\n"
      ],
      "execution_count": 0,
      "outputs": [
        {
          "output_type": "stream",
          "text": [
            "0, 1, 1, 2, 3, 5, 8, 13, "
          ],
          "name": "stdout"
        }
      ]
    },
    {
      "cell_type": "code",
      "metadata": {
        "id": "kLR9NfFOQinu",
        "colab_type": "code",
        "outputId": "5ef4639c-26c5-49a9-888b-5686e30c4fa3",
        "colab": {
          "base_uri": "https://localhost:8080/",
          "height": 129
        }
      },
      "source": [
        "# Prints Fibonacci series upto N\n",
        "def fibo(n):\n",
        "  for i in range()"
      ],
      "execution_count": 0,
      "outputs": [
        {
          "output_type": "error",
          "ename": "SyntaxError",
          "evalue": "ignored",
          "traceback": [
            "\u001b[0;36m  File \u001b[0;32m\"<ipython-input-19-da285bd29a4f>\"\u001b[0;36m, line \u001b[0;32m2\u001b[0m\n\u001b[0;31m    for i in range()\u001b[0m\n\u001b[0m                    ^\u001b[0m\n\u001b[0;31mSyntaxError\u001b[0m\u001b[0;31m:\u001b[0m invalid syntax\n"
          ]
        }
      ]
    },
    {
      "cell_type": "code",
      "metadata": {
        "id": "i_b5z-_gTS05",
        "colab_type": "code",
        "colab": {}
      },
      "source": [
        "# Prints Nth fibonacci number\n",
        "def nthfibo(n):\n"
      ],
      "execution_count": 0,
      "outputs": []
    },
    {
      "cell_type": "markdown",
      "metadata": {
        "id": "M4hBsOWKzE2b",
        "colab_type": "text"
      },
      "source": [
        "<img src=\"https://raw.githubusercontent.com/thecoducer/python_programs/master/code_happy.png\" width=\"65%\" height=\"65%\" />"
      ]
    },
    {
      "cell_type": "markdown",
      "metadata": {
        "id": "fG5ijVy1nMkn",
        "colab_type": "text"
      },
      "source": [
        "#More control flow tools\n",
        "https://docs.python.org/3/tutorial/controlflow.html"
      ]
    },
    {
      "cell_type": "markdown",
      "metadata": {
        "id": "wP7A2lC5jnD9",
        "colab_type": "text"
      },
      "source": [
        "##If statement"
      ]
    },
    {
      "cell_type": "code",
      "metadata": {
        "id": "kulJjDbCjqrU",
        "colab_type": "code",
        "colab": {}
      },
      "source": [
        "n = int(input(\"Enter a number: \"))\n",
        "if n<0:\n",
        "  print(\"It is a negative number.\")\n",
        "elif n==0:\n",
        "  print(\"It is a zero.\")\n",
        "else:\n",
        "  print(\"It is a positive number.\") "
      ],
      "execution_count": 0,
      "outputs": []
    },
    {
      "cell_type": "markdown",
      "metadata": {
        "id": "Wxaor2bllEpX",
        "colab_type": "text"
      },
      "source": [
        "##Switch or case statement\n",
        "\n",
        "Unlike other languages, Python does not have this feature. Python encourages to use if and elif instead.\n",
        "\n",
        "We can do something similar to switch-case by using dictionary mapping. Read here: https://www.geeksforgeeks.org/switch-case-in-python-replacement/"
      ]
    },
    {
      "cell_type": "markdown",
      "metadata": {
        "id": "BNZ6ZRGnmEBl",
        "colab_type": "text"
      },
      "source": [
        "##For statement"
      ]
    },
    {
      "cell_type": "code",
      "metadata": {
        "id": "FbbT3rsImGxf",
        "colab_type": "code",
        "outputId": "831ca5f2-7ccc-4ec2-9177-a5cf57acf62c",
        "colab": {
          "base_uri": "https://localhost:8080/",
          "height": 85
        }
      },
      "source": [
        "# Python’s for statement iterates over the items of \n",
        "# any sequence (a list or a string), in the order \n",
        "# that they appear in the sequence. \n",
        "# similar to for each loop in Java\n",
        "word = ['cat', 'dog', 'tiger', 'lion']\n",
        "for w in word:\n",
        "  print(w, len(w))"
      ],
      "execution_count": 0,
      "outputs": [
        {
          "output_type": "stream",
          "text": [
            "cat 3\n",
            "dog 3\n",
            "tiger 5\n",
            "lion 4\n"
          ],
          "name": "stdout"
        }
      ]
    },
    {
      "cell_type": "markdown",
      "metadata": {
        "id": "qcMw7RqoTLTD",
        "colab_type": "text"
      },
      "source": [
        "##range() method"
      ]
    },
    {
      "cell_type": "code",
      "metadata": {
        "id": "VF9YHq4AO2d2",
        "colab_type": "code",
        "colab": {
          "base_uri": "https://localhost:8080/",
          "height": 34
        },
        "outputId": "b2a80cad-bafb-47e4-caa8-d4c26a3b8218"
      },
      "source": [
        "# range() method generated arithmetic progressions.\n",
        "# and proves useful in case of for loop\n",
        "for i in range(10):\n",
        "  print(i, end=\" \")"
      ],
      "execution_count": 13,
      "outputs": [
        {
          "output_type": "stream",
          "text": [
            "0 1 2 3 4 5 6 7 8 9 "
          ],
          "name": "stdout"
        }
      ]
    },
    {
      "cell_type": "code",
      "metadata": {
        "id": "i41F30mLTPaF",
        "colab_type": "code",
        "colab": {
          "base_uri": "https://localhost:8080/",
          "height": 51
        },
        "outputId": "9b3c0fd2-0950-4200-af97-8661f27dd848"
      },
      "source": [
        "# range(a, b, c)\n",
        "# a = start\n",
        "# b = stop\n",
        "# c = step (common difference of AP)\n",
        "for i in range(5, 30, 5):\n",
        "  print(i, end=\" \")\n",
        "print()\n",
        "for i in range(-2, -40, -6):\n",
        "  print(i, end=\" \")"
      ],
      "execution_count": 20,
      "outputs": [
        {
          "output_type": "stream",
          "text": [
            "5 10 15 20 25 \n",
            "-2 -8 -14 -20 -26 -32 -38 "
          ],
          "name": "stdout"
        }
      ]
    },
    {
      "cell_type": "code",
      "metadata": {
        "id": "Y1nZqDWpT99W",
        "colab_type": "code",
        "colab": {
          "base_uri": "https://localhost:8080/",
          "height": 34
        },
        "outputId": "a70d6281-8e3e-4b9b-d154-2919ad106e71"
      },
      "source": [
        "# iterating over the indices of a sequence using range() and len()\n",
        "str = \"software engineering\"\n",
        "for i in range(len(str)):\n",
        "  print(str[i], end=\" \")"
      ],
      "execution_count": 22,
      "outputs": [
        {
          "output_type": "stream",
          "text": [
            "s o f t w a r e   e n g i n e e r i n g "
          ],
          "name": "stdout"
        }
      ]
    },
    {
      "cell_type": "code",
      "metadata": {
        "id": "7Z1aCHI8VSEt",
        "colab_type": "code",
        "colab": {}
      },
      "source": [
        ""
      ],
      "execution_count": 0,
      "outputs": []
    },
    {
      "cell_type": "markdown",
      "metadata": {
        "id": "aDxaEIwX1jiO",
        "colab_type": "text"
      },
      "source": [
        "Things to read:\n",
        "\n",
        "https://towardsdatascience.com/20-python-programming-tips-and-tricks-for-beginners-25d44db03aea\n",
        "\n",
        "https://www.geeksforgeeks.org/string-slicing-python-check-string-can-become-empty-recursive-deletion/\n",
        "\n",
        "https://www.geeksforgeeks.org/check-string-can-become-empty-recursively-deleting-given-sub-string/\n",
        "\n"
      ]
    }
  ]
}