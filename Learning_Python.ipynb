{
  "nbformat": 4,
  "nbformat_minor": 0,
  "metadata": {
    "colab": {
      "name": "Learning Python.ipynb",
      "version": "0.3.2",
      "provenance": [],
      "collapsed_sections": [],
      "toc_visible": true,
      "include_colab_link": true
    },
    "kernelspec": {
      "name": "python3",
      "display_name": "Python 3"
    }
  },
  "cells": [
    {
      "cell_type": "markdown",
      "metadata": {
        "id": "view-in-github",
        "colab_type": "text"
      },
      "source": [
        "<a href=\"https://colab.research.google.com/github/thecoducer/python_programs/blob/master/Learning_Python.ipynb\" target=\"_parent\"><img src=\"https://colab.research.google.com/assets/colab-badge.svg\" alt=\"Open In Colab\"/></a>"
      ]
    },
    {
      "cell_type": "markdown",
      "metadata": {
        "id": "Bklp88xT3ZEw",
        "colab_type": "text"
      },
      "source": [
        "#Learning Python\n",
        "---\n",
        "<img src=\"https://raw.githubusercontent.com/thecoducer/python_programs/master/python-harry-potter.jpg\" width=\"65%\" height=\"65%\" />\n",
        "\n",
        "Hey! I'm reading the official documentation of Python Software Foundation to learn Python programming language. It's great and detailed. We often need to write down notes when we learn something new. So, I've used Jupyter Notebook to write down notes as well as programs. You can open the notebook file and run the codes on Google Collaboratory. This notebook is intended to help me whenever I need to revise. It's not intended to teach anyone Python.\n",
        "\n",
        "I recommend you to read the official Python tutorial here: https://docs.python.org/3/tutorial/index.html.\n",
        "\n",
        "My blog post on learning Python: http://www.thecoducer.com/2019/07/effective-way-to-learn-python-for-free.html\n",
        "\n",
        "---\n",
        "***Email: [mayukh5741@gmail.com](mailto:mayukh5741@gmail.com)***\n",
        "\n",
        "***Website: https://thecoducer.github.io/***\n",
        "\n",
        "***Blog: http://www.thecoducer.com/***\n",
        "\n",
        "---\n",
        "\n",
        "\n"
      ]
    },
    {
      "cell_type": "markdown",
      "metadata": {
        "id": "u6ZNC8hjmuHv",
        "colab_type": "text"
      },
      "source": [
        "#An Informal introduction to Python\n",
        "https://docs.python.org/3/tutorial/introduction.html"
      ]
    },
    {
      "cell_type": "markdown",
      "metadata": {
        "id": "FqTXzIdNOzrq",
        "colab_type": "text"
      },
      "source": [
        "##Classic vs Floor division"
      ]
    },
    {
      "cell_type": "code",
      "metadata": {
        "id": "CkAfCN22O4td",
        "colab_type": "code",
        "outputId": "4fc7fff9-7a00-439b-f2fb-cac21bd30be8",
        "colab": {
          "base_uri": "https://localhost:8080/",
          "height": 51
        }
      },
      "source": [
        "print(19/5) # classic division returns float\n",
        "print(52//3) # floor division discards the fractional part"
      ],
      "execution_count": 66,
      "outputs": [
        {
          "output_type": "stream",
          "text": [
            "3.8\n",
            "17\n"
          ],
          "name": "stdout"
        }
      ]
    },
    {
      "cell_type": "markdown",
      "metadata": {
        "id": "2Cc-OD7wQjys",
        "colab_type": "text"
      },
      "source": [
        "##To calculate powers"
      ]
    },
    {
      "cell_type": "code",
      "metadata": {
        "id": "jmgwfSYdOxnB",
        "colab_type": "code",
        "outputId": "cbd006ad-b88f-4385-ee11-746a18349227",
        "colab": {
          "base_uri": "https://localhost:8080/",
          "height": 34
        }
      },
      "source": [
        "# 2^5\n",
        "print(2**5)"
      ],
      "execution_count": 67,
      "outputs": [
        {
          "output_type": "stream",
          "text": [
            "32\n"
          ],
          "name": "stdout"
        }
      ]
    },
    {
      "cell_type": "markdown",
      "metadata": {
        "id": "BKZBOBtgRWz_",
        "colab_type": "text"
      },
      "source": [
        "- *In interactive mode, the last printed expression is assigned to the variable _*"
      ]
    },
    {
      "cell_type": "markdown",
      "metadata": {
        "id": "7ONm7vuBSe-q",
        "colab_type": "text"
      },
      "source": [
        "## Round a real number up to 2 places after decimal"
      ]
    },
    {
      "cell_type": "code",
      "metadata": {
        "id": "tqpgix2oSNl3",
        "colab_type": "code",
        "outputId": "971ae24c-3d26-4624-8da6-53bab95ef9ec",
        "colab": {
          "base_uri": "https://localhost:8080/",
          "height": 34
        }
      },
      "source": [
        "k = 12.03635\n",
        "print(round(k, 2))"
      ],
      "execution_count": 68,
      "outputs": [
        {
          "output_type": "stream",
          "text": [
            "12.04\n"
          ],
          "name": "stdout"
        }
      ]
    },
    {
      "cell_type": "markdown",
      "metadata": {
        "id": "npAYGQzQXrIS",
        "colab_type": "text"
      },
      "source": [
        "##Strings\n",
        "- \\ can be used to escape quotes\n",
        "- can be also be enclosed within other pair of quotes\n",
        "- to print raw strings, use r"
      ]
    },
    {
      "cell_type": "markdown",
      "metadata": {
        "id": "lSpJH8Rybs7D",
        "colab_type": "text"
      },
      "source": [
        "##Raw string"
      ]
    },
    {
      "cell_type": "code",
      "metadata": {
        "id": "nWLZAcexXzd4",
        "colab_type": "code",
        "outputId": "0f642553-6a1e-4087-d251-2e11c0159221",
        "colab": {
          "base_uri": "https://localhost:8080/",
          "height": 68
        }
      },
      "source": [
        "print(r\"C:\\nebula\\MachineLearning\")\n",
        "# without it, \\n escape sequence gets triggered\n",
        "print(\"C:\\nebula\\MachineLearning\")"
      ],
      "execution_count": 69,
      "outputs": [
        {
          "output_type": "stream",
          "text": [
            "C:\\nebula\\MachineLearning\n",
            "C:\n",
            "ebula\\MachineLearning\n"
          ],
          "name": "stdout"
        }
      ]
    },
    {
      "cell_type": "markdown",
      "metadata": {
        "id": "DAxID6VfbfOn",
        "colab_type": "text"
      },
      "source": [
        "##String literals can span multiple lines"
      ]
    },
    {
      "cell_type": "code",
      "metadata": {
        "id": "nO4qdjCTZ8-L",
        "colab_type": "code",
        "outputId": "e4184f23-03f7-4c15-f0b4-33daf3c0b72f",
        "colab": {
          "base_uri": "https://localhost:8080/",
          "height": 102
        }
      },
      "source": [
        "# Prevent automatic inclusion of end of lines by using \\ operator\n",
        "print(\"\"\"\\\n",
        "asdad\n",
        "awewer\n",
        "bnghjny\n",
        "it rty    dsrfgtr t\n",
        "er    sdefsdfg    dggh\"\"\")"
      ],
      "execution_count": 70,
      "outputs": [
        {
          "output_type": "stream",
          "text": [
            "asdad\n",
            "awewer\n",
            "bnghjny\n",
            "it rty    dsrfgtr t\n",
            "er    sdefsdfg    dggh\n"
          ],
          "name": "stdout"
        }
      ]
    },
    {
      "cell_type": "markdown",
      "metadata": {
        "id": "UqYJCt94biwq",
        "colab_type": "text"
      },
      "source": [
        "##Strings are 0-based indexed"
      ]
    },
    {
      "cell_type": "code",
      "metadata": {
        "id": "1b4f2oD1bF7Q",
        "colab_type": "code",
        "outputId": "5dee4cfd-0c00-48b5-f33c-8a5420159748",
        "colab": {
          "base_uri": "https://localhost:8080/",
          "height": 68
        }
      },
      "source": [
        "str = \"David Attenborough\"\n",
        "print(str)\n",
        "print(str[2] + str[9])\n",
        "print(str[-2]) # starts counting from the right\n",
        "# it is the second last character\n",
        "# Note that since -0 is the same as 0, negative indices start from -1."
      ],
      "execution_count": 71,
      "outputs": [
        {
          "output_type": "stream",
          "text": [
            "David Attenborough\n",
            "ve\n",
            "g\n"
          ],
          "name": "stdout"
        }
      ]
    },
    {
      "cell_type": "markdown",
      "metadata": {
        "id": "w3chf8dwcZtG",
        "colab_type": "text"
      },
      "source": [
        "##Slicing strings"
      ]
    },
    {
      "cell_type": "code",
      "metadata": {
        "id": "w2AfMHM5cb2Z",
        "colab_type": "code",
        "outputId": "c6d5ffb6-475c-4adb-aec8-ff17b9f9a966",
        "colab": {
          "base_uri": "https://localhost:8080/",
          "height": 102
        }
      },
      "source": [
        "str = 'Jekyll'\n",
        "print(str[1:])\n",
        "print(str[2:])\n",
        "print(str[:3])\n",
        "print(str[:2] + str[4:])\n",
        "print(str[-2:])"
      ],
      "execution_count": 72,
      "outputs": [
        {
          "output_type": "stream",
          "text": [
            "ekyll\n",
            "kyll\n",
            "Jek\n",
            "Jell\n",
            "ll\n"
          ],
          "name": "stdout"
        }
      ]
    },
    {
      "cell_type": "markdown",
      "metadata": {
        "id": "h-xZTo76bxeZ",
        "colab_type": "text"
      },
      "source": [
        "- **Like Java, Python strings are immutable.**"
      ]
    },
    {
      "cell_type": "markdown",
      "metadata": {
        "id": "jLepF54MiSso",
        "colab_type": "text"
      },
      "source": [
        "##Length of string"
      ]
    },
    {
      "cell_type": "code",
      "metadata": {
        "id": "oCDiS4pLiU_1",
        "colab_type": "code",
        "outputId": "d2f50d32-18e4-4ee5-980e-e1101b9e2de0",
        "colab": {
          "base_uri": "https://localhost:8080/",
          "height": 34
        }
      },
      "source": [
        "# str = \"Jekyll\"\n",
        "print(len(str))"
      ],
      "execution_count": 73,
      "outputs": [
        {
          "output_type": "stream",
          "text": [
            "6\n"
          ],
          "name": "stdout"
        }
      ]
    },
    {
      "cell_type": "markdown",
      "metadata": {
        "id": "zDeDE_wljPx_",
        "colab_type": "text"
      },
      "source": [
        "##String methods\n",
        "- https://docs.python.org/3/library/stdtypes.html#string-methods\n",
        "- https://www.geeksforgeeks.org/python-strings/"
      ]
    },
    {
      "cell_type": "code",
      "metadata": {
        "id": "5R4hxcVmjOaZ",
        "colab_type": "code",
        "outputId": "d9607dd9-a09f-4024-ebde-031d7d07bdda",
        "colab": {
          "base_uri": "https://localhost:8080/",
          "height": 119
        }
      },
      "source": [
        "str1 = \"Data Structures\"\n",
        "str2 = \"Algorithms\"\n",
        "str3 = \"operating system\"\n",
        "print(str1.lower())\n",
        "print(str2.upper())\n",
        "print(str3.capitalize())\n",
        "print(str1.endswith(\"Structures\"))\n",
        "print(str2.endswith(\"thms\"))\n",
        "print(str3.startswith(\"oper\"))"
      ],
      "execution_count": 74,
      "outputs": [
        {
          "output_type": "stream",
          "text": [
            "data structures\n",
            "ALGORITHMS\n",
            "Operating system\n",
            "True\n",
            "True\n",
            "True\n"
          ],
          "name": "stdout"
        }
      ]
    },
    {
      "cell_type": "markdown",
      "metadata": {
        "id": "PHLCtoQCwGpb",
        "colab_type": "text"
      },
      "source": [
        "##Reverse a string"
      ]
    },
    {
      "cell_type": "code",
      "metadata": {
        "id": "2reGPgJQwI8Z",
        "colab_type": "code",
        "outputId": "8b2b88b5-e743-416d-ae3f-ee806db9afd1",
        "colab": {
          "base_uri": "https://localhost:8080/",
          "height": 34
        }
      },
      "source": [
        "# Python string library has no reverse() method\n",
        "def reverse(s):\n",
        "  temp = \"\"\n",
        "  for i in s:\n",
        "    temp = i + temp # ... m + o + C\n",
        "  return temp\n",
        "\n",
        "subject = \"Computer Networks\"\n",
        "print(reverse(subject))"
      ],
      "execution_count": 75,
      "outputs": [
        {
          "output_type": "stream",
          "text": [
            "skrowteN retupmoC\n"
          ],
          "name": "stdout"
        }
      ]
    },
    {
      "cell_type": "code",
      "metadata": {
        "id": "MZscvQpqzuhp",
        "colab_type": "code",
        "outputId": "80ee8889-911a-438b-8a8b-514a9b00e9b1",
        "colab": {
          "base_uri": "https://localhost:8080/",
          "height": 34
        }
      },
      "source": [
        "# Using recursion\n",
        "def reverse1(s):\n",
        "  if len(s) == 0:\n",
        "    return s\n",
        "  else:\n",
        "    return reverse(s[1:]) + s[0]\n",
        "s = \"Kolkata\"\n",
        "print(reverse1(s))"
      ],
      "execution_count": 76,
      "outputs": [
        {
          "output_type": "stream",
          "text": [
            "atakloK\n"
          ],
          "name": "stdout"
        }
      ]
    },
    {
      "cell_type": "code",
      "metadata": {
        "id": "VYGJilgi3XdK",
        "colab_type": "code",
        "outputId": "6610df58-1d8c-4a8c-c540-831338467394",
        "colab": {
          "base_uri": "https://localhost:8080/",
          "height": 34
        }
      },
      "source": [
        "# Using extended slice syntax\n",
        "def reverse3(s):\n",
        "  return s[::-1]\n",
        "\n",
        "s = \"Quadilateral\"\n",
        "print(reverse3(s))"
      ],
      "execution_count": 77,
      "outputs": [
        {
          "output_type": "stream",
          "text": [
            "laretalidauQ\n"
          ],
          "name": "stdout"
        }
      ]
    },
    {
      "cell_type": "code",
      "metadata": {
        "id": "agsLHpwl3xhO",
        "colab_type": "code",
        "outputId": "3fd4edee-5d8a-4781-f852-77fc750cb3d7",
        "colab": {
          "base_uri": "https://localhost:8080/",
          "height": 34
        }
      },
      "source": [
        "# Using reversed\n",
        "def reverse4(s):\n",
        "  return \"\".join(reversed(s))\n",
        "\n",
        "s = \"Gradle\"\n",
        "print(reverse4(s))"
      ],
      "execution_count": 78,
      "outputs": [
        {
          "output_type": "stream",
          "text": [
            "eldarG\n"
          ],
          "name": "stdout"
        }
      ]
    },
    {
      "cell_type": "markdown",
      "metadata": {
        "id": "KqQ30chMhyFS",
        "colab_type": "text"
      },
      "source": [
        "##Split a string"
      ]
    },
    {
      "cell_type": "code",
      "metadata": {
        "id": "UVUx9-_yh0c5",
        "colab_type": "code",
        "outputId": "fb7e66cf-8821-4861-e061-b1f69d26fcfb",
        "colab": {
          "base_uri": "https://localhost:8080/",
          "height": 34
        }
      },
      "source": [
        "line = \"Brian Karnighan's algorithm is the most efficient way to count set bits.\"\n",
        "print(line.split()) # No delimiter takes whitespace as a delimiter implicitly"
      ],
      "execution_count": 79,
      "outputs": [
        {
          "output_type": "stream",
          "text": [
            "['Brian', \"Karnighan's\", 'algorithm', 'is', 'the', 'most', 'efficient', 'way', 'to', 'count', 'set', 'bits.']\n"
          ],
          "name": "stdout"
        }
      ]
    },
    {
      "cell_type": "code",
      "metadata": {
        "id": "Wtqt2LN3ihDd",
        "colab_type": "code",
        "outputId": "47583cff-5d20-407a-d11e-b311e355e85e",
        "colab": {
          "base_uri": "https://localhost:8080/",
          "height": 51
        }
      },
      "source": [
        "word = \"dock:for:ipad\"\n",
        "print(word.split(\":\"))\n",
        "print(word.split(\":\", 1)) # maxsplit: 1"
      ],
      "execution_count": 80,
      "outputs": [
        {
          "output_type": "stream",
          "text": [
            "['dock', 'for', 'ipad']\n",
            "['dock', 'for:ipad']\n"
          ],
          "name": "stdout"
        }
      ]
    },
    {
      "cell_type": "markdown",
      "metadata": {
        "id": "twuhHNOl1HMA",
        "colab_type": "text"
      },
      "source": [
        "##Printing out multiples of strings"
      ]
    },
    {
      "cell_type": "code",
      "metadata": {
        "id": "ALttcbwE1JXZ",
        "colab_type": "code",
        "outputId": "5d37653a-e81d-43ae-e122-00a5b8c1257a",
        "colab": {
          "base_uri": "https://localhost:8080/",
          "height": 34
        }
      },
      "source": [
        "print(\"Yes\"*5 + \"No\"*2)"
      ],
      "execution_count": 81,
      "outputs": [
        {
          "output_type": "stream",
          "text": [
            "YesYesYesYesYesNoNo\n"
          ],
          "name": "stdout"
        }
      ]
    },
    {
      "cell_type": "markdown",
      "metadata": {
        "id": "odWhZASi0Ukv",
        "colab_type": "text"
      },
      "source": [
        "##Lists"
      ]
    },
    {
      "cell_type": "code",
      "metadata": {
        "id": "uYwKoydT0unw",
        "colab_type": "code",
        "outputId": "28dc0cfc-2063-4f01-835f-682898ac7e4c",
        "colab": {
          "base_uri": "https://localhost:8080/",
          "height": 153
        }
      },
      "source": [
        "# This is a list\n",
        "# Like strings, lists can be indexed and sliced\n",
        "veggies = [\"potato\", \"carrot\", \"brinjal\"]\n",
        "print(veggies)\n",
        "print(veggies[2])\n",
        "print(veggies[-1])\n",
        "# all slice operations return a new list(a copy) containing the requested elements\n",
        "print(veggies[1:2])\n",
        "# lists supports concatenation\n",
        "# unlike strings, lists are mutable\n",
        "# use append() method to add elements to the end of a list\n",
        "veggies.append(\"ladyfinger\")\n",
        "print(veggies)\n",
        "# assignment to slices is also possible\n",
        "veggies[2:] = [\"beetroot\", \"ginger\"]\n",
        "print(veggies)\n",
        "# length of list\n",
        "print(len(veggies))\n",
        "# we can nest lists too\n",
        "x = [['a', 'b'], ['k', 'l']]\n",
        "print(x, \"Length = \", len(x))"
      ],
      "execution_count": 82,
      "outputs": [
        {
          "output_type": "stream",
          "text": [
            "['potato', 'carrot', 'brinjal']\n",
            "brinjal\n",
            "brinjal\n",
            "['carrot']\n",
            "['potato', 'carrot', 'brinjal', 'ladyfinger']\n",
            "['potato', 'carrot', 'beetroot', 'ginger']\n",
            "4\n",
            "[['a', 'b'], ['k', 'l']] Length =  2\n"
          ],
          "name": "stdout"
        }
      ]
    },
    {
      "cell_type": "markdown",
      "metadata": {
        "id": "zQr8_gevPVEX",
        "colab_type": "text"
      },
      "source": [
        "##Fibonacci program"
      ]
    },
    {
      "cell_type": "code",
      "metadata": {
        "id": "RlL_N-VBPZH6",
        "colab_type": "code",
        "outputId": "f3b63a40-1401-46ae-cdc6-74d58110ab28",
        "colab": {
          "base_uri": "https://localhost:8080/",
          "height": 34
        }
      },
      "source": [
        "# Prints Fibonacci series upto Nth term where N < k\n",
        "def fibonacci(k):\n",
        "  first, second = 0, 1 # multiple assignment\n",
        "  while first < k:\n",
        "    print(first, end=', ')\n",
        "    first, second = second, first+second\n",
        "\n",
        "# invoke function\n",
        "fibonacci(20)\n"
      ],
      "execution_count": 83,
      "outputs": [
        {
          "output_type": "stream",
          "text": [
            "0, 1, 1, 2, 3, 5, 8, 13, "
          ],
          "name": "stdout"
        }
      ]
    },
    {
      "cell_type": "code",
      "metadata": {
        "id": "kLR9NfFOQinu",
        "colab_type": "code",
        "outputId": "5f6ee7e7-18cc-4cca-912d-2423db85656f",
        "colab": {
          "base_uri": "https://localhost:8080/",
          "height": 51
        }
      },
      "source": [
        "# Prints Fibonacci series upto Nth term\n",
        "def fibo(n):\n",
        "  first, second = 0, 1\n",
        "  l = [] #empty list to store fibonacci numbers\n",
        "  for i in range(n):\n",
        "    #print(first, end=\" \")\n",
        "    l.append(first)\n",
        "    first, second = second, first+second\n",
        "  print(l)\n",
        "  print(\"Length of the list: \", len(l))\n",
        "\n",
        "fibo(20)\n",
        "    "
      ],
      "execution_count": 84,
      "outputs": [
        {
          "output_type": "stream",
          "text": [
            "[0, 1, 1, 2, 3, 5, 8, 13, 21, 34, 55, 89, 144, 233, 377, 610, 987, 1597, 2584, 4181]\n",
            "Length of the list:  20\n"
          ],
          "name": "stdout"
        }
      ]
    },
    {
      "cell_type": "code",
      "metadata": {
        "id": "i_b5z-_gTS05",
        "colab_type": "code",
        "colab": {
          "base_uri": "https://localhost:8080/",
          "height": 34
        },
        "outputId": "40304ffe-93f4-4ce0-80c6-dd52a54df298"
      },
      "source": [
        "# Prints Nth fibonacci number\n",
        "def nthfibo(n):\n",
        "  first, second = 0, 1\n",
        "  for i in range(n-1):\n",
        "    first, second = second, first+second\n",
        "  print(\"%dth term is %d\" %(n, first))\n",
        "  # formatted output using string modulo operator\n",
        "\n",
        "nthfibo(20)\n"
      ],
      "execution_count": 85,
      "outputs": [
        {
          "output_type": "stream",
          "text": [
            "20th term is 4181\n"
          ],
          "name": "stdout"
        }
      ]
    },
    {
      "cell_type": "markdown",
      "metadata": {
        "id": "M4hBsOWKzE2b",
        "colab_type": "text"
      },
      "source": [
        "<img src=\"https://raw.githubusercontent.com/thecoducer/python_programs/master/code_happy.png\" width=\"65%\" height=\"65%\" />"
      ]
    },
    {
      "cell_type": "markdown",
      "metadata": {
        "id": "fG5ijVy1nMkn",
        "colab_type": "text"
      },
      "source": [
        "#More control flow tools\n",
        "https://docs.python.org/3/tutorial/controlflow.html"
      ]
    },
    {
      "cell_type": "markdown",
      "metadata": {
        "id": "wP7A2lC5jnD9",
        "colab_type": "text"
      },
      "source": [
        "##If statement"
      ]
    },
    {
      "cell_type": "code",
      "metadata": {
        "id": "kulJjDbCjqrU",
        "colab_type": "code",
        "colab": {
          "base_uri": "https://localhost:8080/",
          "height": 51
        },
        "outputId": "dee2c7f8-12e0-49b7-a8d7-b887155f3947"
      },
      "source": [
        "n = int(input(\"Enter a number: \"))\n",
        "if n<0:\n",
        "  print(\"It is a negative number.\")\n",
        "elif n==0:\n",
        "  print(\"It is a zero.\")\n",
        "else:\n",
        "  print(\"It is a positive number.\") "
      ],
      "execution_count": 86,
      "outputs": [
        {
          "output_type": "stream",
          "text": [
            "Enter a number: 20\n",
            "It is a positive number.\n"
          ],
          "name": "stdout"
        }
      ]
    },
    {
      "cell_type": "markdown",
      "metadata": {
        "id": "Wxaor2bllEpX",
        "colab_type": "text"
      },
      "source": [
        "##Switch or case statement\n",
        "\n",
        "Unlike other languages, Python does not have this feature. Python encourages to use if and elif instead.\n",
        "\n",
        "We can do something similar to switch-case by using dictionary mapping. Read here: https://www.geeksforgeeks.org/switch-case-in-python-replacement/"
      ]
    },
    {
      "cell_type": "markdown",
      "metadata": {
        "id": "BNZ6ZRGnmEBl",
        "colab_type": "text"
      },
      "source": [
        "##For statement"
      ]
    },
    {
      "cell_type": "code",
      "metadata": {
        "id": "FbbT3rsImGxf",
        "colab_type": "code",
        "outputId": "a00098c6-13f2-42ee-9a0d-fe2528e1f14b",
        "colab": {
          "base_uri": "https://localhost:8080/",
          "height": 85
        }
      },
      "source": [
        "# Python’s for statement iterates over the items of \n",
        "# any sequence (a list or a string), in the order \n",
        "# that they appear in the sequence. \n",
        "# similar to for each loop in Java\n",
        "word = ['cat', 'dog', 'tiger', 'lion']\n",
        "for w in word:\n",
        "  print(w, len(w))"
      ],
      "execution_count": 87,
      "outputs": [
        {
          "output_type": "stream",
          "text": [
            "cat 3\n",
            "dog 3\n",
            "tiger 5\n",
            "lion 4\n"
          ],
          "name": "stdout"
        }
      ]
    },
    {
      "cell_type": "markdown",
      "metadata": {
        "id": "qcMw7RqoTLTD",
        "colab_type": "text"
      },
      "source": [
        "##range() method"
      ]
    },
    {
      "cell_type": "code",
      "metadata": {
        "id": "VF9YHq4AO2d2",
        "colab_type": "code",
        "colab": {
          "base_uri": "https://localhost:8080/",
          "height": 34
        },
        "outputId": "fe62a8f7-b166-4085-bd30-cb798420b761"
      },
      "source": [
        "# range() method generated arithmetic progressions.\n",
        "# and proves useful in case of for loop\n",
        "for i in range(10):\n",
        "  print(i, end=\" \")"
      ],
      "execution_count": 88,
      "outputs": [
        {
          "output_type": "stream",
          "text": [
            "0 1 2 3 4 5 6 7 8 9 "
          ],
          "name": "stdout"
        }
      ]
    },
    {
      "cell_type": "code",
      "metadata": {
        "id": "i41F30mLTPaF",
        "colab_type": "code",
        "colab": {
          "base_uri": "https://localhost:8080/",
          "height": 51
        },
        "outputId": "b4a61dcd-aaf7-4544-d48f-7db96732accf"
      },
      "source": [
        "# range(a, b, c)\n",
        "# a = start\n",
        "# b = stop\n",
        "# c = step (common difference of AP)\n",
        "for i in range(5, 30, 5):\n",
        "  print(i, end=\" \")\n",
        "print()\n",
        "for i in range(-2, -40, -6):\n",
        "  print(i, end=\" \")"
      ],
      "execution_count": 89,
      "outputs": [
        {
          "output_type": "stream",
          "text": [
            "5 10 15 20 25 \n",
            "-2 -8 -14 -20 -26 -32 -38 "
          ],
          "name": "stdout"
        }
      ]
    },
    {
      "cell_type": "code",
      "metadata": {
        "id": "Y1nZqDWpT99W",
        "colab_type": "code",
        "colab": {
          "base_uri": "https://localhost:8080/",
          "height": 34
        },
        "outputId": "136f8f04-6814-49ae-805f-e9e13ba5dc39"
      },
      "source": [
        "# iterating over the indices of a sequence using range() and len()\n",
        "str = \"software engineering\"\n",
        "for i in range(len(str)):\n",
        "  print(str[i], end=\" \")"
      ],
      "execution_count": 90,
      "outputs": [
        {
          "output_type": "stream",
          "text": [
            "s o f t w a r e   e n g i n e e r i n g "
          ],
          "name": "stdout"
        }
      ]
    },
    {
      "cell_type": "markdown",
      "metadata": {
        "id": "ZrorQqe6x7uY",
        "colab_type": "text"
      },
      "source": [
        "##list() method"
      ]
    },
    {
      "cell_type": "code",
      "metadata": {
        "id": "7Z1aCHI8VSEt",
        "colab_type": "code",
        "colab": {
          "base_uri": "https://localhost:8080/",
          "height": 34
        },
        "outputId": "565f4ee3-f141-4581-be39-e4c88f84ae67"
      },
      "source": [
        "# we can create lists from iterables using this method\n",
        "list(range(10))"
      ],
      "execution_count": 91,
      "outputs": [
        {
          "output_type": "execute_result",
          "data": {
            "text/plain": [
              "[0, 1, 2, 3, 4, 5, 6, 7, 8, 9]"
            ]
          },
          "metadata": {
            "tags": []
          },
          "execution_count": 91
        }
      ]
    },
    {
      "cell_type": "markdown",
      "metadata": {
        "id": "HM4HrwMzKv-j",
        "colab_type": "text"
      },
      "source": [
        "##break statement and else clause on loop"
      ]
    },
    {
      "cell_type": "markdown",
      "metadata": {
        "id": "1ZH99i67Lc1W",
        "colab_type": "text"
      },
      "source": [
        "The break statement, like in C, breaks out of the innermost enclosing for or while loop.\n",
        "\n",
        "Loop statements may have an else clause; it is *executed when the loop terminates through exhaustion of the list (with for) or when the condition becomes false (with while)*, **but not when the loop is terminated by a break statement.**"
      ]
    },
    {
      "cell_type": "markdown",
      "metadata": {
        "id": "TThqIfFDLxET",
        "colab_type": "text"
      },
      "source": [
        "##Find primes upto N"
      ]
    },
    {
      "cell_type": "code",
      "metadata": {
        "id": "1Ii6JWFlKvmP",
        "colab_type": "code",
        "colab": {
          "base_uri": "https://localhost:8080/",
          "height": 238
        },
        "outputId": "0695795b-2a50-4367-f86c-3621f535ac0c"
      },
      "source": [
        "def primes(n):\n",
        "  for i in range(2, n):\n",
        "    for j in range(2, i):\n",
        "      if i % j == 0:\n",
        "        print(i, \"equals\", j, \"*\", i//j)\n",
        "        break\n",
        "    else:\n",
        "      # loop fell through without finding a factor\n",
        "      # else belongs to the for loop\n",
        "      # loop's else clause runs when no break occurs\n",
        "      # similar to try (in exception handling), when no exception occurs\n",
        "      # else clause of try executes\n",
        "      print(\"%d is a prime number\" %(i))\n",
        "\n",
        "primes(15)"
      ],
      "execution_count": 106,
      "outputs": [
        {
          "output_type": "stream",
          "text": [
            "2 is a prime number\n",
            "3 is a prime number\n",
            "4 equals 2 * 2\n",
            "5 is a prime number\n",
            "6 equals 2 * 3\n",
            "7 is a prime number\n",
            "8 equals 2 * 4\n",
            "9 equals 3 * 3\n",
            "10 equals 2 * 5\n",
            "11 is a prime number\n",
            "12 equals 2 * 6\n",
            "13 is a prime number\n",
            "14 equals 2 * 7\n"
          ],
          "name": "stdout"
        }
      ]
    },
    {
      "cell_type": "markdown",
      "metadata": {
        "id": "TaGPiE5qQ5o5",
        "colab_type": "text"
      },
      "source": [
        "##continue statement"
      ]
    },
    {
      "cell_type": "markdown",
      "metadata": {
        "id": "Xem2mzF2RoA1",
        "colab_type": "text"
      },
      "source": [
        "Like C, it continues with the next iteration of the loop."
      ]
    },
    {
      "cell_type": "markdown",
      "metadata": {
        "id": "pblPcxWuRqIc",
        "colab_type": "text"
      },
      "source": [
        "##pass statement"
      ]
    },
    {
      "cell_type": "markdown",
      "metadata": {
        "id": "zZ2r82IcR7Za",
        "colab_type": "text"
      },
      "source": [
        "It does nothing. Read more https://docs.python.org/3/tutorial/controlflow.html#pass-statements"
      ]
    },
    {
      "cell_type": "markdown",
      "metadata": {
        "id": "OVoCcSk-SE7z",
        "colab_type": "text"
      },
      "source": [
        "##Defining a function"
      ]
    },
    {
      "cell_type": "markdown",
      "metadata": {
        "id": "s8T1qCAcSIgX",
        "colab_type": "text"
      },
      "source": [
        "- The keyword def introduces a function definition. It must be followed by the function name and the parenthesized list of formal parameters. The statements that form the body of the function start at the next line, and must be indented.\n",
        "- The first statement of the function body can optionally be a string literal; this string literal is the function’s documentation string, or docstring.\n",
        "- The execution of a function introduces a new symbol table used for the local variables of the function.\n",
        "- The actual parameters (arguments) to a function call are introduced in the local symbol table of the called function when it is called; thus, arguments are passed using **call by value** (where the value is always an object reference, not the value of the object).\n",
        "- In fact, even functions without a return statement do return a value, albeit a rather boring one. This value is called None (it’s a built-in name). Writing the value None is normally suppressed by the interpreter if it would be the only value written."
      ]
    },
    {
      "cell_type": "markdown",
      "metadata": {
        "id": "VEsofk7iaIO9",
        "colab_type": "text"
      },
      "source": [
        "##return statement"
      ]
    },
    {
      "cell_type": "code",
      "metadata": {
        "id": "VJKxweq4aKq6",
        "colab_type": "code",
        "colab": {
          "base_uri": "https://localhost:8080/",
          "height": 34
        },
        "outputId": "86d5eec6-19b7-42f5-826b-1d2ab7f783b2"
      },
      "source": [
        "def sublist(fruits, m, n):\n",
        "  return fruits[m:n]\n",
        "\n",
        "fruits = [\"mango\", \"apple\", \"guave\", \"grapes\", \"banana\", \"pineapple\", \"cucumber\", \"pomegranate\", \"watermelon\", \"naseberry\"]\n",
        "sublist(fruits, 2, 5)"
      ],
      "execution_count": 107,
      "outputs": [
        {
          "output_type": "execute_result",
          "data": {
            "text/plain": [
              "['guave', 'grapes', 'banana']"
            ]
          },
          "metadata": {
            "tags": []
          },
          "execution_count": 107
        }
      ]
    },
    {
      "cell_type": "markdown",
      "metadata": {
        "id": "fyu5fdyoNsmy",
        "colab_type": "text"
      },
      "source": [
        "<img src=\"https://raw.githubusercontent.com/thecoducer/python_programs/master/large.jpg\" width=\"65%\" height=\"65%\" />"
      ]
    }
  ]
}