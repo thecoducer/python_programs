{
  "nbformat": 4,
  "nbformat_minor": 0,
  "metadata": {
    "colab": {
      "name": "Learning Python.ipynb",
      "version": "0.3.2",
      "provenance": [],
      "collapsed_sections": [],
      "toc_visible": true,
      "include_colab_link": true
    },
    "kernelspec": {
      "name": "python3",
      "display_name": "Python 3"
    }
  },
  "cells": [
    {
      "cell_type": "markdown",
      "metadata": {
        "id": "view-in-github",
        "colab_type": "text"
      },
      "source": [
        "<a href=\"https://colab.research.google.com/github/thecoducer/python_programs/blob/master/Learning_Python.ipynb\" target=\"_parent\"><img src=\"https://colab.research.google.com/assets/colab-badge.svg\" alt=\"Open In Colab\"/></a>"
      ]
    },
    {
      "cell_type": "markdown",
      "metadata": {
        "id": "Bklp88xT3ZEw",
        "colab_type": "text"
      },
      "source": [
        "#Learning Python\n",
        "---\n",
        "<img src=\"https://raw.githubusercontent.com/thecoducer/python_programs/master/python-harry-potter.jpg\" width=\"65%\" height=\"65%\" />\n",
        "\n",
        "Hey! I'm reading the official documentation of Python Software Foundation to learn Python programming language. It's great and detailed. We often need to write down notes when we learn something new. I've used Jupyter Notebook to write down notes as well as programs. You can open the notebook file and run the codes on Google Collaboratory. I can refer to this notebook whenever I have to revise. It is intended for doing the same and not to teach anyone Python. I recommend you to read the official Python tutorial here: https://docs.python.org/3/tutorial/index.html.\n",
        "\n",
        "---\n",
        "***Email: mayukh5741@gmail.com***\n",
        "\n",
        "***Website: https://thecoducer.github.io/***\n",
        "\n",
        "***Blog: http://www.thecoducer.com/***\n",
        "\n",
        "---"
      ]
    },
    {
      "cell_type": "markdown",
      "metadata": {
        "id": "u6ZNC8hjmuHv",
        "colab_type": "text"
      },
      "source": [
        "#An Informal introduction to Python\n",
        "https://docs.python.org/3/tutorial/introduction.html"
      ]
    },
    {
      "cell_type": "markdown",
      "metadata": {
        "id": "FqTXzIdNOzrq",
        "colab_type": "text"
      },
      "source": [
        "##Classic vs Floor division"
      ]
    },
    {
      "cell_type": "code",
      "metadata": {
        "id": "CkAfCN22O4td",
        "colab_type": "code",
        "outputId": "8c97fe40-8ed1-4e37-b779-e9084f1b3c74",
        "colab": {
          "base_uri": "https://localhost:8080/",
          "height": 51
        }
      },
      "source": [
        "print(19/5) # classic division returns float\n",
        "print(52//3) # floor division discards the fractional part"
      ],
      "execution_count": 62,
      "outputs": [
        {
          "output_type": "stream",
          "text": [
            "3.8\n",
            "17\n"
          ],
          "name": "stdout"
        }
      ]
    },
    {
      "cell_type": "markdown",
      "metadata": {
        "id": "2Cc-OD7wQjys",
        "colab_type": "text"
      },
      "source": [
        "##To calculate powers"
      ]
    },
    {
      "cell_type": "code",
      "metadata": {
        "id": "jmgwfSYdOxnB",
        "colab_type": "code",
        "outputId": "83585e8e-7c8c-41e4-afd0-1a3f9afc705e",
        "colab": {
          "base_uri": "https://localhost:8080/",
          "height": 34
        }
      },
      "source": [
        "# 2^5\n",
        "print(2**5)"
      ],
      "execution_count": 63,
      "outputs": [
        {
          "output_type": "stream",
          "text": [
            "32\n"
          ],
          "name": "stdout"
        }
      ]
    },
    {
      "cell_type": "markdown",
      "metadata": {
        "id": "BKZBOBtgRWz_",
        "colab_type": "text"
      },
      "source": [
        "- *In interactive mode, the last printed expression is assigned to the variable _*"
      ]
    },
    {
      "cell_type": "markdown",
      "metadata": {
        "id": "7ONm7vuBSe-q",
        "colab_type": "text"
      },
      "source": [
        "## Round a real number up to 2 places after decimal"
      ]
    },
    {
      "cell_type": "code",
      "metadata": {
        "id": "tqpgix2oSNl3",
        "colab_type": "code",
        "outputId": "80474519-feef-4871-e7fc-742da0f4d80c",
        "colab": {
          "base_uri": "https://localhost:8080/",
          "height": 34
        }
      },
      "source": [
        "k = 12.03635\n",
        "print(round(k, 2))"
      ],
      "execution_count": 64,
      "outputs": [
        {
          "output_type": "stream",
          "text": [
            "12.04\n"
          ],
          "name": "stdout"
        }
      ]
    },
    {
      "cell_type": "markdown",
      "metadata": {
        "id": "npAYGQzQXrIS",
        "colab_type": "text"
      },
      "source": [
        "##Strings\n",
        "- \\ can be used to escape quotes\n",
        "- can be also be enclosed within other pair of quotes\n",
        "- to print raw strings, use r"
      ]
    },
    {
      "cell_type": "markdown",
      "metadata": {
        "id": "lSpJH8Rybs7D",
        "colab_type": "text"
      },
      "source": [
        "##Raw string"
      ]
    },
    {
      "cell_type": "code",
      "metadata": {
        "id": "nWLZAcexXzd4",
        "colab_type": "code",
        "outputId": "5ea4ab8f-ebd4-47f6-ede2-240c4abd34f3",
        "colab": {
          "base_uri": "https://localhost:8080/",
          "height": 68
        }
      },
      "source": [
        "print(r\"C:\\nebula\\MachineLearning\")\n",
        "# without it, \\n escape sequence gets triggered\n",
        "print(\"C:\\nebula\\MachineLearning\")"
      ],
      "execution_count": 65,
      "outputs": [
        {
          "output_type": "stream",
          "text": [
            "C:\\nebula\\MachineLearning\n",
            "C:\n",
            "ebula\\MachineLearning\n"
          ],
          "name": "stdout"
        }
      ]
    },
    {
      "cell_type": "markdown",
      "metadata": {
        "id": "DAxID6VfbfOn",
        "colab_type": "text"
      },
      "source": [
        "##String literals can span multiple lines"
      ]
    },
    {
      "cell_type": "code",
      "metadata": {
        "id": "nO4qdjCTZ8-L",
        "colab_type": "code",
        "outputId": "ff23fed6-a2cd-48ea-b879-3da7b3973599",
        "colab": {
          "base_uri": "https://localhost:8080/",
          "height": 102
        }
      },
      "source": [
        "# Prevent automatic inclusion of end of lines by using \\ operator\n",
        "print(\"\"\"\\\n",
        "asdad\n",
        "awewer\n",
        "bnghjny\n",
        "it rty    dsrfgtr t\n",
        "er    sdefsdfg    dggh\"\"\")"
      ],
      "execution_count": 66,
      "outputs": [
        {
          "output_type": "stream",
          "text": [
            "asdad\n",
            "awewer\n",
            "bnghjny\n",
            "it rty    dsrfgtr t\n",
            "er    sdefsdfg    dggh\n"
          ],
          "name": "stdout"
        }
      ]
    },
    {
      "cell_type": "markdown",
      "metadata": {
        "id": "UqYJCt94biwq",
        "colab_type": "text"
      },
      "source": [
        "##Strings are 0-based indexed"
      ]
    },
    {
      "cell_type": "code",
      "metadata": {
        "id": "1b4f2oD1bF7Q",
        "colab_type": "code",
        "outputId": "8aa04f9c-03b1-4ee8-e2fe-ffa5caa06e54",
        "colab": {
          "base_uri": "https://localhost:8080/",
          "height": 68
        }
      },
      "source": [
        "str = \"David Attenborough\"\n",
        "print(str)\n",
        "print(str[2] + str[9])\n",
        "print(str[-2]) # starts counting from the right\n",
        "# it is the second last character\n",
        "# Note that since -0 is the same as 0, negative indices start from -1."
      ],
      "execution_count": 67,
      "outputs": [
        {
          "output_type": "stream",
          "text": [
            "David Attenborough\n",
            "ve\n",
            "g\n"
          ],
          "name": "stdout"
        }
      ]
    },
    {
      "cell_type": "markdown",
      "metadata": {
        "id": "w3chf8dwcZtG",
        "colab_type": "text"
      },
      "source": [
        "##Slicing strings"
      ]
    },
    {
      "cell_type": "code",
      "metadata": {
        "id": "w2AfMHM5cb2Z",
        "colab_type": "code",
        "outputId": "dfcacd26-8a37-491b-b59f-7bd9aaedf925",
        "colab": {
          "base_uri": "https://localhost:8080/",
          "height": 102
        }
      },
      "source": [
        "str = 'Jekyll'\n",
        "print(str[1:])\n",
        "print(str[2:])\n",
        "print(str[:3])\n",
        "print(str[:2] + str[4:])\n",
        "print(str[-2:])"
      ],
      "execution_count": 68,
      "outputs": [
        {
          "output_type": "stream",
          "text": [
            "ekyll\n",
            "kyll\n",
            "Jek\n",
            "Jell\n",
            "ll\n"
          ],
          "name": "stdout"
        }
      ]
    },
    {
      "cell_type": "markdown",
      "metadata": {
        "id": "h-xZTo76bxeZ",
        "colab_type": "text"
      },
      "source": [
        "- **Like Java, Python strings are immutable.**"
      ]
    },
    {
      "cell_type": "markdown",
      "metadata": {
        "id": "jLepF54MiSso",
        "colab_type": "text"
      },
      "source": [
        "##Length of string"
      ]
    },
    {
      "cell_type": "code",
      "metadata": {
        "id": "oCDiS4pLiU_1",
        "colab_type": "code",
        "outputId": "bdee7dec-4246-4150-b3de-1d31446f6735",
        "colab": {
          "base_uri": "https://localhost:8080/",
          "height": 34
        }
      },
      "source": [
        "# str = \"Jekyll\"\n",
        "print(len(str))"
      ],
      "execution_count": 69,
      "outputs": [
        {
          "output_type": "stream",
          "text": [
            "6\n"
          ],
          "name": "stdout"
        }
      ]
    },
    {
      "cell_type": "markdown",
      "metadata": {
        "id": "zDeDE_wljPx_",
        "colab_type": "text"
      },
      "source": [
        "##String methods\n",
        "- https://docs.python.org/3/library/stdtypes.html#string-methods\n",
        "- https://www.geeksforgeeks.org/python-strings/"
      ]
    },
    {
      "cell_type": "code",
      "metadata": {
        "id": "5R4hxcVmjOaZ",
        "colab_type": "code",
        "outputId": "3937dd53-8ed9-4838-eb14-87c1b00779c0",
        "colab": {
          "base_uri": "https://localhost:8080/",
          "height": 119
        }
      },
      "source": [
        "str1 = \"Data Structures\"\n",
        "str2 = \"Algorithms\"\n",
        "str3 = \"operating system\"\n",
        "print(str1.lower())\n",
        "print(str2.upper())\n",
        "print(str3.capitalize())\n",
        "print(str1.endswith(\"Structures\"))\n",
        "print(str2.endswith(\"thms\"))\n",
        "print(str3.startswith(\"oper\"))"
      ],
      "execution_count": 70,
      "outputs": [
        {
          "output_type": "stream",
          "text": [
            "data structures\n",
            "ALGORITHMS\n",
            "Operating system\n",
            "True\n",
            "True\n",
            "True\n"
          ],
          "name": "stdout"
        }
      ]
    },
    {
      "cell_type": "markdown",
      "metadata": {
        "id": "PHLCtoQCwGpb",
        "colab_type": "text"
      },
      "source": [
        "##Reverse a string"
      ]
    },
    {
      "cell_type": "code",
      "metadata": {
        "id": "2reGPgJQwI8Z",
        "colab_type": "code",
        "outputId": "a450a3f1-ff87-45c3-ba44-cbd22eaf1133",
        "colab": {
          "base_uri": "https://localhost:8080/",
          "height": 34
        }
      },
      "source": [
        "# Python string library has no reverse() method\n",
        "def reverse(s):\n",
        "  temp = \"\"\n",
        "  for i in s:\n",
        "    temp = i + temp # ... m + o + C\n",
        "  return temp\n",
        "\n",
        "subject = \"Computer Networks\"\n",
        "print(reverse(subject))"
      ],
      "execution_count": 71,
      "outputs": [
        {
          "output_type": "stream",
          "text": [
            "skrowteN retupmoC\n"
          ],
          "name": "stdout"
        }
      ]
    },
    {
      "cell_type": "code",
      "metadata": {
        "id": "MZscvQpqzuhp",
        "colab_type": "code",
        "outputId": "8b6dd2d8-5804-4586-88a1-b13c0ca41cbd",
        "colab": {
          "base_uri": "https://localhost:8080/",
          "height": 34
        }
      },
      "source": [
        "# Using recursion\n",
        "def reverse1(s):\n",
        "  if len(s) == 0:\n",
        "    return s\n",
        "  else:\n",
        "    return reverse(s[1:]) + s[0]\n",
        "s = \"Kolkata\"\n",
        "print(reverse1(s))"
      ],
      "execution_count": 72,
      "outputs": [
        {
          "output_type": "stream",
          "text": [
            "atakloK\n"
          ],
          "name": "stdout"
        }
      ]
    },
    {
      "cell_type": "code",
      "metadata": {
        "id": "VYGJilgi3XdK",
        "colab_type": "code",
        "outputId": "82f319a1-900f-424b-c6fa-654a073108c5",
        "colab": {
          "base_uri": "https://localhost:8080/",
          "height": 34
        }
      },
      "source": [
        "# Using extended slice syntax\n",
        "def reverse3(s):\n",
        "  return s[::-1]\n",
        "\n",
        "s = \"Quadilateral\"\n",
        "print(reverse3(s))"
      ],
      "execution_count": 73,
      "outputs": [
        {
          "output_type": "stream",
          "text": [
            "laretalidauQ\n"
          ],
          "name": "stdout"
        }
      ]
    },
    {
      "cell_type": "code",
      "metadata": {
        "id": "agsLHpwl3xhO",
        "colab_type": "code",
        "outputId": "37647f73-0515-4711-d7b9-5904ace63a26",
        "colab": {
          "base_uri": "https://localhost:8080/",
          "height": 34
        }
      },
      "source": [
        "# Using reversed\n",
        "def reverse4(s):\n",
        "  return \"\".join(reversed(s))\n",
        "\n",
        "s = \"Gradle\"\n",
        "print(reverse4(s))"
      ],
      "execution_count": 74,
      "outputs": [
        {
          "output_type": "stream",
          "text": [
            "eldarG\n"
          ],
          "name": "stdout"
        }
      ]
    },
    {
      "cell_type": "markdown",
      "metadata": {
        "id": "KqQ30chMhyFS",
        "colab_type": "text"
      },
      "source": [
        "##Split a string"
      ]
    },
    {
      "cell_type": "code",
      "metadata": {
        "id": "UVUx9-_yh0c5",
        "colab_type": "code",
        "outputId": "e10bf362-23aa-4cdc-cdbf-5984dd1ac03f",
        "colab": {
          "base_uri": "https://localhost:8080/",
          "height": 34
        }
      },
      "source": [
        "line = \"Brian Karnighan's algorithm is the most efficient way to count set bits.\"\n",
        "print(line.split()) # No delimiter takes whitespace as a delimiter implicitly"
      ],
      "execution_count": 75,
      "outputs": [
        {
          "output_type": "stream",
          "text": [
            "['Brian', \"Karnighan's\", 'algorithm', 'is', 'the', 'most', 'efficient', 'way', 'to', 'count', 'set', 'bits.']\n"
          ],
          "name": "stdout"
        }
      ]
    },
    {
      "cell_type": "code",
      "metadata": {
        "id": "Wtqt2LN3ihDd",
        "colab_type": "code",
        "outputId": "be5e1b27-1901-4385-f9b1-cece3a8428e7",
        "colab": {
          "base_uri": "https://localhost:8080/",
          "height": 51
        }
      },
      "source": [
        "word = \"dock:for:ipad\"\n",
        "print(word.split(\":\"))\n",
        "print(word.split(\":\", 1)) # maxsplit: 1"
      ],
      "execution_count": 76,
      "outputs": [
        {
          "output_type": "stream",
          "text": [
            "['dock', 'for', 'ipad']\n",
            "['dock', 'for:ipad']\n"
          ],
          "name": "stdout"
        }
      ]
    },
    {
      "cell_type": "markdown",
      "metadata": {
        "id": "odWhZASi0Ukv",
        "colab_type": "text"
      },
      "source": [
        "##Lists"
      ]
    },
    {
      "cell_type": "code",
      "metadata": {
        "id": "uYwKoydT0unw",
        "colab_type": "code",
        "outputId": "6f16a543-f22e-48b5-aad2-a1c7955c51b7",
        "colab": {
          "base_uri": "https://localhost:8080/",
          "height": 153
        }
      },
      "source": [
        "# This is a list\n",
        "# Like strings, lists can be indexed and sliced\n",
        "veggies = [\"potato\", \"carrot\", \"brinjal\"]\n",
        "print(veggies)\n",
        "print(veggies[2])\n",
        "print(veggies[-1])\n",
        "# all slice operations return a new list(a copy) containing the requested elements\n",
        "print(veggies[1:2])\n",
        "# lists supports concatenation\n",
        "# unlike strings, lists are mutable\n",
        "# use append() method to add elements to the end of a list\n",
        "veggies.append(\"ladyfinger\")\n",
        "print(veggies)\n",
        "# assignment to slices is also possible\n",
        "veggies[2:] = [\"beetroot\", \"ginger\"]\n",
        "print(veggies)\n",
        "# length of list\n",
        "print(len(veggies))\n",
        "# we can nest lists too\n",
        "x = [['a', 'b'], ['k', 'l']]\n",
        "print(x, \"Length = \", len(x))"
      ],
      "execution_count": 77,
      "outputs": [
        {
          "output_type": "stream",
          "text": [
            "['potato', 'carrot', 'brinjal']\n",
            "brinjal\n",
            "brinjal\n",
            "['carrot']\n",
            "['potato', 'carrot', 'brinjal', 'ladyfinger']\n",
            "['potato', 'carrot', 'beetroot', 'ginger']\n",
            "4\n",
            "[['a', 'b'], ['k', 'l']] Length =  2\n"
          ],
          "name": "stdout"
        }
      ]
    },
    {
      "cell_type": "markdown",
      "metadata": {
        "id": "zQr8_gevPVEX",
        "colab_type": "text"
      },
      "source": [
        "##Fibonacci program"
      ]
    },
    {
      "cell_type": "code",
      "metadata": {
        "id": "RlL_N-VBPZH6",
        "colab_type": "code",
        "outputId": "d7143e17-393f-4a61-c369-aff616d87190",
        "colab": {
          "base_uri": "https://localhost:8080/",
          "height": 34
        }
      },
      "source": [
        "# Prints Fibonacci series upto Nth term where N < k\n",
        "def fibonacci(k):\n",
        "  first, second = 0, 1 # multiple assignment\n",
        "  while first < k:\n",
        "    print(first, end=', ')\n",
        "    first, second = second, first+second\n",
        "\n",
        "# invoke function\n",
        "fibonacci(20)\n"
      ],
      "execution_count": 78,
      "outputs": [
        {
          "output_type": "stream",
          "text": [
            "0, 1, 1, 2, 3, 5, 8, 13, "
          ],
          "name": "stdout"
        }
      ]
    },
    {
      "cell_type": "code",
      "metadata": {
        "id": "kLR9NfFOQinu",
        "colab_type": "code",
        "colab": {
          "base_uri": "https://localhost:8080/",
          "height": 129
        },
        "outputId": "d2e01cf5-6329-43d0-da92-5d8533fd310c"
      },
      "source": [
        "# Prints Fibonacci series upto N\n",
        "def fibo(n):\n",
        "  for i in range()"
      ],
      "execution_count": 79,
      "outputs": [
        {
          "output_type": "error",
          "ename": "SyntaxError",
          "evalue": "ignored",
          "traceback": [
            "\u001b[0;36m  File \u001b[0;32m\"<ipython-input-79-da285bd29a4f>\"\u001b[0;36m, line \u001b[0;32m2\u001b[0m\n\u001b[0;31m    for i in range()\u001b[0m\n\u001b[0m                    ^\u001b[0m\n\u001b[0;31mSyntaxError\u001b[0m\u001b[0;31m:\u001b[0m invalid syntax\n"
          ]
        }
      ]
    },
    {
      "cell_type": "code",
      "metadata": {
        "id": "i_b5z-_gTS05",
        "colab_type": "code",
        "colab": {}
      },
      "source": [
        "# Prints Nth fibonacci number\n",
        "def nthfibo(n):\n"
      ],
      "execution_count": 0,
      "outputs": []
    },
    {
      "cell_type": "markdown",
      "metadata": {
        "id": "fG5ijVy1nMkn",
        "colab_type": "text"
      },
      "source": [
        "#More control flow tools\n",
        "https://docs.python.org/3/tutorial/controlflow.html"
      ]
    },
    {
      "cell_type": "markdown",
      "metadata": {
        "id": "wP7A2lC5jnD9",
        "colab_type": "text"
      },
      "source": [
        "##If statement"
      ]
    },
    {
      "cell_type": "code",
      "metadata": {
        "id": "kulJjDbCjqrU",
        "colab_type": "code",
        "colab": {}
      },
      "source": [
        "n = int(input(\"Enter a number: \"))\n",
        "if n<0:\n",
        "  print(\"It is a negative number.\")\n",
        "elif n==0:\n",
        "  print(\"It is a zero.\")\n",
        "else:\n",
        "  print(\"It is a positive number.\") "
      ],
      "execution_count": 0,
      "outputs": []
    },
    {
      "cell_type": "markdown",
      "metadata": {
        "id": "Wxaor2bllEpX",
        "colab_type": "text"
      },
      "source": [
        "##Switch or case statement\n",
        "\n",
        "Unlike other languages, Python does not have this feature. Python encourages to use if and elif instead.\n",
        "\n",
        "We can do something similar to switch-case by using dictionary mapping. Read here: https://www.geeksforgeeks.org/switch-case-in-python-replacement/"
      ]
    },
    {
      "cell_type": "markdown",
      "metadata": {
        "id": "BNZ6ZRGnmEBl",
        "colab_type": "text"
      },
      "source": [
        "##For statement"
      ]
    },
    {
      "cell_type": "code",
      "metadata": {
        "id": "FbbT3rsImGxf",
        "colab_type": "code",
        "colab": {}
      },
      "source": [
        ""
      ],
      "execution_count": 0,
      "outputs": []
    }
  ]
}