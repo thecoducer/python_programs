{
 "cells": [
  {
   "cell_type": "markdown",
   "metadata": {
    "colab_type": "text",
    "id": "view-in-github"
   },
   "source": [
    "<a href=\"https://colab.research.google.com/github/thecoducer/python_programs/blob/master/Learning_Python.ipynb\" target=\"_parent\"><img src=\"https://colab.research.google.com/assets/colab-badge.svg\" alt=\"Open In Colab\"/></a>"
   ]
  },
  {
   "cell_type": "markdown",
   "metadata": {
    "colab_type": "text",
    "id": "Bklp88xT3ZEw"
   },
   "source": [
    "# Learning Python\n",
    "---\n",
    "<img src=\"https://raw.githubusercontent.com/thecoducer/python_programs/master/python-harry-potter.jpg\" width=\"65%\" height=\"65%\" />\n",
    "\n",
    "Hey! I'm reading the official documentation of Python Software Foundation to learn Python programming language. It's great and detailed. We often need to write down notes when we learn something new. So, I've used Jupyter Notebook to write down notes as well as programs. You can open the notebook file and run the codes on Google Collaboratory. This notebook is intended to help me whenever I need to revise. It's not intended to teach anyone Python.\n",
    "\n",
    "I recommend you to read the official Python tutorial here: https://docs.python.org/3/tutorial/index.html.\n",
    "\n",
    "My blog post on learning Python: http://www.thecoducer.com/2019/07/effective-way-to-learn-python-for-free.html\n",
    "\n",
    "---\n",
    "***Email: [mayukh5741@gmail.com](mailto:mayukh5741@gmail.com)***\n",
    "\n",
    "***Website: https://thecoducer.github.io/***\n",
    "\n",
    "***Blog: http://www.thecoducer.com/***\n",
    "\n",
    "---\n",
    "\n",
    "\n"
   ]
  },
  {
   "cell_type": "markdown",
   "metadata": {
    "colab_type": "text",
    "id": "u6ZNC8hjmuHv"
   },
   "source": [
    "# An Informal introduction to Python\n",
    "https://docs.python.org/3/tutorial/introduction.html"
   ]
  },
  {
   "cell_type": "markdown",
   "metadata": {
    "colab_type": "text",
    "id": "FqTXzIdNOzrq"
   },
   "source": [
    "## Classic vs Floor division"
   ]
  },
  {
   "cell_type": "code",
   "execution_count": 66,
   "metadata": {
    "colab": {
     "base_uri": "https://localhost:8080/",
     "height": 51
    },
    "colab_type": "code",
    "id": "CkAfCN22O4td",
    "outputId": "4fc7fff9-7a00-439b-f2fb-cac21bd30be8"
   },
   "outputs": [
    {
     "name": "stdout",
     "output_type": "stream",
     "text": [
      "3.8\n",
      "17\n"
     ]
    }
   ],
   "source": [
    "print(19/5) # classic division returns float\n",
    "print(52//3) # floor division discards the fractional part"
   ]
  },
  {
   "cell_type": "markdown",
   "metadata": {
    "colab_type": "text",
    "id": "2Cc-OD7wQjys"
   },
   "source": [
    "## To calculate powers"
   ]
  },
  {
   "cell_type": "code",
   "execution_count": 67,
   "metadata": {
    "colab": {
     "base_uri": "https://localhost:8080/",
     "height": 34
    },
    "colab_type": "code",
    "id": "jmgwfSYdOxnB",
    "outputId": "cbd006ad-b88f-4385-ee11-746a18349227"
   },
   "outputs": [
    {
     "name": "stdout",
     "output_type": "stream",
     "text": [
      "32\n"
     ]
    }
   ],
   "source": [
    "# 2^5\n",
    "print(2**5)"
   ]
  },
  {
   "cell_type": "markdown",
   "metadata": {
    "colab_type": "text",
    "id": "BKZBOBtgRWz_"
   },
   "source": [
    "- *In interactive mode, the last printed expression is assigned to the variable _*"
   ]
  },
  {
   "cell_type": "markdown",
   "metadata": {
    "colab_type": "text",
    "id": "7ONm7vuBSe-q"
   },
   "source": [
    "## Round a real number up to 2 places after decimal"
   ]
  },
  {
   "cell_type": "code",
   "execution_count": 68,
   "metadata": {
    "colab": {
     "base_uri": "https://localhost:8080/",
     "height": 34
    },
    "colab_type": "code",
    "id": "tqpgix2oSNl3",
    "outputId": "971ae24c-3d26-4624-8da6-53bab95ef9ec"
   },
   "outputs": [
    {
     "name": "stdout",
     "output_type": "stream",
     "text": [
      "12.04\n"
     ]
    }
   ],
   "source": [
    "k = 12.03635\n",
    "print(round(k, 2))"
   ]
  },
  {
   "cell_type": "markdown",
   "metadata": {
    "colab_type": "text",
    "id": "npAYGQzQXrIS"
   },
   "source": [
    "## Strings\n",
    "- \\ can be used to escape quotes\n",
    "- can be also be enclosed within other pair of quotes\n",
    "- to print raw strings, use r"
   ]
  },
  {
   "cell_type": "markdown",
   "metadata": {
    "colab_type": "text",
    "id": "lSpJH8Rybs7D"
   },
   "source": [
    "## Raw string"
   ]
  },
  {
   "cell_type": "code",
   "execution_count": 69,
   "metadata": {
    "colab": {
     "base_uri": "https://localhost:8080/",
     "height": 68
    },
    "colab_type": "code",
    "id": "nWLZAcexXzd4",
    "outputId": "0f642553-6a1e-4087-d251-2e11c0159221"
   },
   "outputs": [
    {
     "name": "stdout",
     "output_type": "stream",
     "text": [
      "C:\\nebula\\MachineLearning\n",
      "C:\n",
      "ebula\\MachineLearning\n"
     ]
    }
   ],
   "source": [
    "print(r\"C:\\nebula\\MachineLearning\")\n",
    "# without it, \\n escape sequence gets triggered\n",
    "print(\"C:\\nebula\\MachineLearning\")"
   ]
  },
  {
   "cell_type": "markdown",
   "metadata": {
    "colab_type": "text",
    "id": "DAxID6VfbfOn"
   },
   "source": [
    "##String literals can span multiple lines"
   ]
  },
  {
   "cell_type": "code",
   "execution_count": 70,
   "metadata": {
    "colab": {
     "base_uri": "https://localhost:8080/",
     "height": 102
    },
    "colab_type": "code",
    "id": "nO4qdjCTZ8-L",
    "outputId": "e4184f23-03f7-4c15-f0b4-33daf3c0b72f"
   },
   "outputs": [
    {
     "name": "stdout",
     "output_type": "stream",
     "text": [
      "asdad\n",
      "awewer\n",
      "bnghjny\n",
      "it rty    dsrfgtr t\n",
      "er    sdefsdfg    dggh\n"
     ]
    }
   ],
   "source": [
    "# Prevent automatic inclusion of end of lines by using \\ operator\n",
    "print(\"\"\"\\\n",
    "asdad\n",
    "awewer\n",
    "bnghjny\n",
    "it rty    dsrfgtr t\n",
    "er    sdefsdfg    dggh\"\"\")"
   ]
  },
  {
   "cell_type": "markdown",
   "metadata": {
    "colab_type": "text",
    "id": "UqYJCt94biwq"
   },
   "source": [
    "##Strings are 0-based indexed"
   ]
  },
  {
   "cell_type": "code",
   "execution_count": 71,
   "metadata": {
    "colab": {
     "base_uri": "https://localhost:8080/",
     "height": 68
    },
    "colab_type": "code",
    "id": "1b4f2oD1bF7Q",
    "outputId": "5dee4cfd-0c00-48b5-f33c-8a5420159748"
   },
   "outputs": [
    {
     "name": "stdout",
     "output_type": "stream",
     "text": [
      "David Attenborough\n",
      "ve\n",
      "g\n"
     ]
    }
   ],
   "source": [
    "str = \"David Attenborough\"\n",
    "print(str)\n",
    "print(str[2] + str[9])\n",
    "print(str[-2]) # starts counting from the right\n",
    "# it is the second last character\n",
    "# Note that since -0 is the same as 0, negative indices start from -1."
   ]
  },
  {
   "cell_type": "markdown",
   "metadata": {
    "colab_type": "text",
    "id": "w3chf8dwcZtG"
   },
   "source": [
    "##Slicing strings"
   ]
  },
  {
   "cell_type": "code",
   "execution_count": 72,
   "metadata": {
    "colab": {
     "base_uri": "https://localhost:8080/",
     "height": 102
    },
    "colab_type": "code",
    "id": "w2AfMHM5cb2Z",
    "outputId": "c6d5ffb6-475c-4adb-aec8-ff17b9f9a966"
   },
   "outputs": [
    {
     "name": "stdout",
     "output_type": "stream",
     "text": [
      "ekyll\n",
      "kyll\n",
      "Jek\n",
      "Jell\n",
      "ll\n"
     ]
    }
   ],
   "source": [
    "str = 'Jekyll'\n",
    "print(str[1:])\n",
    "print(str[2:])\n",
    "print(str[:3])\n",
    "print(str[:2] + str[4:])\n",
    "print(str[-2:])"
   ]
  },
  {
   "cell_type": "markdown",
   "metadata": {
    "colab_type": "text",
    "id": "h-xZTo76bxeZ"
   },
   "source": [
    "- **Like Java, Python strings are immutable.**"
   ]
  },
  {
   "cell_type": "markdown",
   "metadata": {
    "colab_type": "text",
    "id": "jLepF54MiSso"
   },
   "source": [
    "##Length of string"
   ]
  },
  {
   "cell_type": "code",
   "execution_count": 73,
   "metadata": {
    "colab": {
     "base_uri": "https://localhost:8080/",
     "height": 34
    },
    "colab_type": "code",
    "id": "oCDiS4pLiU_1",
    "outputId": "d2f50d32-18e4-4ee5-980e-e1101b9e2de0"
   },
   "outputs": [
    {
     "name": "stdout",
     "output_type": "stream",
     "text": [
      "6\n"
     ]
    }
   ],
   "source": [
    "# str = \"Jekyll\"\n",
    "print(len(str))"
   ]
  },
  {
   "cell_type": "markdown",
   "metadata": {
    "colab_type": "text",
    "id": "zDeDE_wljPx_"
   },
   "source": [
    "##String methods\n",
    "- https://docs.python.org/3/library/stdtypes.html#string-methods\n",
    "- https://www.geeksforgeeks.org/python-strings/"
   ]
  },
  {
   "cell_type": "code",
   "execution_count": 74,
   "metadata": {
    "colab": {
     "base_uri": "https://localhost:8080/",
     "height": 119
    },
    "colab_type": "code",
    "id": "5R4hxcVmjOaZ",
    "outputId": "d9607dd9-a09f-4024-ebde-031d7d07bdda"
   },
   "outputs": [
    {
     "name": "stdout",
     "output_type": "stream",
     "text": [
      "data structures\n",
      "ALGORITHMS\n",
      "Operating system\n",
      "True\n",
      "True\n",
      "True\n"
     ]
    }
   ],
   "source": [
    "str1 = \"Data Structures\"\n",
    "str2 = \"Algorithms\"\n",
    "str3 = \"operating system\"\n",
    "print(str1.lower())\n",
    "print(str2.upper())\n",
    "print(str3.capitalize())\n",
    "print(str1.endswith(\"Structures\"))\n",
    "print(str2.endswith(\"thms\"))\n",
    "print(str3.startswith(\"oper\"))"
   ]
  },
  {
   "cell_type": "markdown",
   "metadata": {
    "colab_type": "text",
    "id": "PHLCtoQCwGpb"
   },
   "source": [
    "##Reverse a string"
   ]
  },
  {
   "cell_type": "code",
   "execution_count": 75,
   "metadata": {
    "colab": {
     "base_uri": "https://localhost:8080/",
     "height": 34
    },
    "colab_type": "code",
    "id": "2reGPgJQwI8Z",
    "outputId": "8b2b88b5-e743-416d-ae3f-ee806db9afd1"
   },
   "outputs": [
    {
     "name": "stdout",
     "output_type": "stream",
     "text": [
      "skrowteN retupmoC\n"
     ]
    }
   ],
   "source": [
    "# Python string library has no reverse() method\n",
    "def reverse(s):\n",
    "  temp = \"\"\n",
    "  for i in s:\n",
    "    temp = i + temp # ... m + o + C\n",
    "  return temp\n",
    "\n",
    "subject = \"Computer Networks\"\n",
    "print(reverse(subject))"
   ]
  },
  {
   "cell_type": "code",
   "execution_count": 76,
   "metadata": {
    "colab": {
     "base_uri": "https://localhost:8080/",
     "height": 34
    },
    "colab_type": "code",
    "id": "MZscvQpqzuhp",
    "outputId": "80ee8889-911a-438b-8a8b-514a9b00e9b1"
   },
   "outputs": [
    {
     "name": "stdout",
     "output_type": "stream",
     "text": [
      "atakloK\n"
     ]
    }
   ],
   "source": [
    "# Using recursion\n",
    "def reverse1(s):\n",
    "  if len(s) == 0:\n",
    "    return s\n",
    "  else:\n",
    "    return reverse(s[1:]) + s[0]\n",
    "s = \"Kolkata\"\n",
    "print(reverse1(s))"
   ]
  },
  {
   "cell_type": "code",
   "execution_count": 77,
   "metadata": {
    "colab": {
     "base_uri": "https://localhost:8080/",
     "height": 34
    },
    "colab_type": "code",
    "id": "VYGJilgi3XdK",
    "outputId": "6610df58-1d8c-4a8c-c540-831338467394"
   },
   "outputs": [
    {
     "name": "stdout",
     "output_type": "stream",
     "text": [
      "laretalidauQ\n"
     ]
    }
   ],
   "source": [
    "# Using extended slice syntax\n",
    "def reverse3(s):\n",
    "  return s[::-1]\n",
    "\n",
    "s = \"Quadilateral\"\n",
    "print(reverse3(s))"
   ]
  },
  {
   "cell_type": "code",
   "execution_count": 78,
   "metadata": {
    "colab": {
     "base_uri": "https://localhost:8080/",
     "height": 34
    },
    "colab_type": "code",
    "id": "agsLHpwl3xhO",
    "outputId": "3fd4edee-5d8a-4781-f852-77fc750cb3d7"
   },
   "outputs": [
    {
     "name": "stdout",
     "output_type": "stream",
     "text": [
      "eldarG\n"
     ]
    }
   ],
   "source": [
    "# Using reversed\n",
    "def reverse4(s):\n",
    "  return \"\".join(reversed(s))\n",
    "\n",
    "s = \"Gradle\"\n",
    "print(reverse4(s))"
   ]
  },
  {
   "cell_type": "markdown",
   "metadata": {
    "colab_type": "text",
    "id": "KqQ30chMhyFS"
   },
   "source": [
    "##Split a string"
   ]
  },
  {
   "cell_type": "code",
   "execution_count": 79,
   "metadata": {
    "colab": {
     "base_uri": "https://localhost:8080/",
     "height": 34
    },
    "colab_type": "code",
    "id": "UVUx9-_yh0c5",
    "outputId": "fb7e66cf-8821-4861-e061-b1f69d26fcfb"
   },
   "outputs": [
    {
     "name": "stdout",
     "output_type": "stream",
     "text": [
      "['Brian', \"Karnighan's\", 'algorithm', 'is', 'the', 'most', 'efficient', 'way', 'to', 'count', 'set', 'bits.']\n"
     ]
    }
   ],
   "source": [
    "line = \"Brian Karnighan's algorithm is the most efficient way to count set bits.\"\n",
    "print(line.split()) # No delimiter takes whitespace as a delimiter implicitly"
   ]
  },
  {
   "cell_type": "code",
   "execution_count": 80,
   "metadata": {
    "colab": {
     "base_uri": "https://localhost:8080/",
     "height": 51
    },
    "colab_type": "code",
    "id": "Wtqt2LN3ihDd",
    "outputId": "47583cff-5d20-407a-d11e-b311e355e85e"
   },
   "outputs": [
    {
     "name": "stdout",
     "output_type": "stream",
     "text": [
      "['dock', 'for', 'ipad']\n",
      "['dock', 'for:ipad']\n"
     ]
    }
   ],
   "source": [
    "word = \"dock:for:ipad\"\n",
    "print(word.split(\":\"))\n",
    "print(word.split(\":\", 1)) # maxsplit: 1"
   ]
  },
  {
   "cell_type": "markdown",
   "metadata": {
    "colab_type": "text",
    "id": "twuhHNOl1HMA"
   },
   "source": [
    "##Printing out multiples of strings"
   ]
  },
  {
   "cell_type": "code",
   "execution_count": 81,
   "metadata": {
    "colab": {
     "base_uri": "https://localhost:8080/",
     "height": 34
    },
    "colab_type": "code",
    "id": "ALttcbwE1JXZ",
    "outputId": "5d37653a-e81d-43ae-e122-00a5b8c1257a"
   },
   "outputs": [
    {
     "name": "stdout",
     "output_type": "stream",
     "text": [
      "YesYesYesYesYesNoNo\n"
     ]
    }
   ],
   "source": [
    "print(\"Yes\"*5 + \"No\"*2)"
   ]
  },
  {
   "cell_type": "markdown",
   "metadata": {
    "colab_type": "text",
    "id": "odWhZASi0Ukv"
   },
   "source": [
    "##Lists"
   ]
  },
  {
   "cell_type": "code",
   "execution_count": 82,
   "metadata": {
    "colab": {
     "base_uri": "https://localhost:8080/",
     "height": 153
    },
    "colab_type": "code",
    "id": "uYwKoydT0unw",
    "outputId": "28dc0cfc-2063-4f01-835f-682898ac7e4c"
   },
   "outputs": [
    {
     "name": "stdout",
     "output_type": "stream",
     "text": [
      "['potato', 'carrot', 'brinjal']\n",
      "brinjal\n",
      "brinjal\n",
      "['carrot']\n",
      "['potato', 'carrot', 'brinjal', 'ladyfinger']\n",
      "['potato', 'carrot', 'beetroot', 'ginger']\n",
      "4\n",
      "[['a', 'b'], ['k', 'l']] Length =  2\n"
     ]
    }
   ],
   "source": [
    "# This is a list\n",
    "# Like strings, lists can be indexed and sliced\n",
    "veggies = [\"potato\", \"carrot\", \"brinjal\"]\n",
    "print(veggies)\n",
    "print(veggies[2])\n",
    "print(veggies[-1])\n",
    "# all slice operations return a new list(a copy) containing the requested elements\n",
    "print(veggies[1:2])\n",
    "# lists supports concatenation\n",
    "# unlike strings, lists are mutable\n",
    "# use append() method to add elements to the end of a list\n",
    "veggies.append(\"ladyfinger\")\n",
    "print(veggies)\n",
    "# assignment to slices is also possible\n",
    "veggies[2:] = [\"beetroot\", \"ginger\"]\n",
    "print(veggies)\n",
    "# length of list\n",
    "print(len(veggies))\n",
    "# we can nest lists too\n",
    "x = [['a', 'b'], ['k', 'l']]\n",
    "print(x, \"Length = \", len(x))"
   ]
  },
  {
   "cell_type": "markdown",
   "metadata": {
    "colab_type": "text",
    "id": "zQr8_gevPVEX"
   },
   "source": [
    "##Fibonacci program"
   ]
  },
  {
   "cell_type": "code",
   "execution_count": 83,
   "metadata": {
    "colab": {
     "base_uri": "https://localhost:8080/",
     "height": 34
    },
    "colab_type": "code",
    "id": "RlL_N-VBPZH6",
    "outputId": "f3b63a40-1401-46ae-cdc6-74d58110ab28"
   },
   "outputs": [
    {
     "name": "stdout",
     "output_type": "stream",
     "text": [
      "0, 1, 1, 2, 3, 5, 8, 13, "
     ]
    }
   ],
   "source": [
    "# Prints Fibonacci series upto Nth term where N < k\n",
    "def fibonacci(k):\n",
    "  first, second = 0, 1 # multiple assignment\n",
    "  while first < k:\n",
    "    print(first, end=', ')\n",
    "    first, second = second, first+second\n",
    "\n",
    "# invoke function\n",
    "fibonacci(20)\n"
   ]
  },
  {
   "cell_type": "code",
   "execution_count": 84,
   "metadata": {
    "colab": {
     "base_uri": "https://localhost:8080/",
     "height": 51
    },
    "colab_type": "code",
    "id": "kLR9NfFOQinu",
    "outputId": "5f6ee7e7-18cc-4cca-912d-2423db85656f"
   },
   "outputs": [
    {
     "name": "stdout",
     "output_type": "stream",
     "text": [
      "[0, 1, 1, 2, 3, 5, 8, 13, 21, 34, 55, 89, 144, 233, 377, 610, 987, 1597, 2584, 4181]\n",
      "Length of the list:  20\n"
     ]
    }
   ],
   "source": [
    "# Prints Fibonacci series upto Nth term\n",
    "def fibo(n):\n",
    "  first, second = 0, 1\n",
    "  l = [] #empty list to store fibonacci numbers\n",
    "  for i in range(n):\n",
    "    #print(first, end=\" \")\n",
    "    l.append(first)\n",
    "    first, second = second, first+second\n",
    "  print(l)\n",
    "  print(\"Length of the list: \", len(l))\n",
    "\n",
    "fibo(20)\n",
    "    "
   ]
  },
  {
   "cell_type": "code",
   "execution_count": 5,
   "metadata": {
    "colab": {
     "base_uri": "https://localhost:8080/",
     "height": 34
    },
    "colab_type": "code",
    "id": "i_b5z-_gTS05",
    "outputId": "40304ffe-93f4-4ce0-80c6-dd52a54df298"
   },
   "outputs": [
    {
     "name": "stdout",
     "output_type": "stream",
     "text": [
      "20th term is 4181\n"
     ]
    }
   ],
   "source": [
    "# Prints Nth fibonacci number\n",
    "def nthfibo(n):\n",
    "  first, second = 0, 1\n",
    "  for i in range(n-1):\n",
    "    first, second = second, first+second\n",
    "  print(\"%dth term is %d\" %(n, first))\n",
    "  # formatted output using string modulo operator\n",
    "\n",
    "nthfibo(20)\n"
   ]
  },
  {
   "cell_type": "markdown",
   "metadata": {
    "colab_type": "text",
    "id": "M4hBsOWKzE2b"
   },
   "source": [
    "<img src=\"https://raw.githubusercontent.com/thecoducer/python_programs/master/code_happy.png\" width=\"65%\" height=\"65%\" />"
   ]
  },
  {
   "cell_type": "markdown",
   "metadata": {
    "colab_type": "text",
    "id": "fG5ijVy1nMkn"
   },
   "source": [
    "#More control flow tools\n",
    "https://docs.python.org/3/tutorial/controlflow.html"
   ]
  },
  {
   "cell_type": "markdown",
   "metadata": {
    "colab_type": "text",
    "id": "wP7A2lC5jnD9"
   },
   "source": [
    "##If statement"
   ]
  },
  {
   "cell_type": "code",
   "execution_count": 86,
   "metadata": {
    "colab": {
     "base_uri": "https://localhost:8080/",
     "height": 51
    },
    "colab_type": "code",
    "id": "kulJjDbCjqrU",
    "outputId": "dee2c7f8-12e0-49b7-a8d7-b887155f3947"
   },
   "outputs": [
    {
     "name": "stdout",
     "output_type": "stream",
     "text": [
      "Enter a number: 20\n",
      "It is a positive number.\n"
     ]
    }
   ],
   "source": [
    "n = int(input(\"Enter a number: \"))\n",
    "if n<0:\n",
    "  print(\"It is a negative number.\")\n",
    "elif n==0:\n",
    "  print(\"It is a zero.\")\n",
    "else:\n",
    "  print(\"It is a positive number.\") "
   ]
  },
  {
   "cell_type": "markdown",
   "metadata": {
    "colab_type": "text",
    "id": "Wxaor2bllEpX"
   },
   "source": [
    "##Switch or case statement\n",
    "\n",
    "Unlike other languages, Python does not have this feature. Python encourages to use if and elif instead.\n",
    "\n",
    "We can do something similar to switch-case by using dictionary mapping. Read here: https://www.geeksforgeeks.org/switch-case-in-python-replacement/"
   ]
  },
  {
   "cell_type": "markdown",
   "metadata": {
    "colab_type": "text",
    "id": "BNZ6ZRGnmEBl"
   },
   "source": [
    "##For statement"
   ]
  },
  {
   "cell_type": "code",
   "execution_count": 87,
   "metadata": {
    "colab": {
     "base_uri": "https://localhost:8080/",
     "height": 85
    },
    "colab_type": "code",
    "id": "FbbT3rsImGxf",
    "outputId": "a00098c6-13f2-42ee-9a0d-fe2528e1f14b"
   },
   "outputs": [
    {
     "name": "stdout",
     "output_type": "stream",
     "text": [
      "cat 3\n",
      "dog 3\n",
      "tiger 5\n",
      "lion 4\n"
     ]
    }
   ],
   "source": [
    "# Python’s for statement iterates over the items of \n",
    "# any sequence (a list or a string), in the order \n",
    "# that they appear in the sequence. \n",
    "# similar to for each loop in Java\n",
    "word = ['cat', 'dog', 'tiger', 'lion']\n",
    "for w in word:\n",
    "  print(w, len(w))"
   ]
  },
  {
   "cell_type": "markdown",
   "metadata": {
    "colab_type": "text",
    "id": "qcMw7RqoTLTD"
   },
   "source": [
    "##range() method"
   ]
  },
  {
   "cell_type": "code",
   "execution_count": 88,
   "metadata": {
    "colab": {
     "base_uri": "https://localhost:8080/",
     "height": 34
    },
    "colab_type": "code",
    "id": "VF9YHq4AO2d2",
    "outputId": "fe62a8f7-b166-4085-bd30-cb798420b761"
   },
   "outputs": [
    {
     "name": "stdout",
     "output_type": "stream",
     "text": [
      "0 1 2 3 4 5 6 7 8 9 "
     ]
    }
   ],
   "source": [
    "# range() method generated arithmetic progressions.\n",
    "# and proves useful in case of for loop\n",
    "for i in range(10):\n",
    "  print(i, end=\" \")"
   ]
  },
  {
   "cell_type": "code",
   "execution_count": 89,
   "metadata": {
    "colab": {
     "base_uri": "https://localhost:8080/",
     "height": 51
    },
    "colab_type": "code",
    "id": "i41F30mLTPaF",
    "outputId": "b4a61dcd-aaf7-4544-d48f-7db96732accf"
   },
   "outputs": [
    {
     "name": "stdout",
     "output_type": "stream",
     "text": [
      "5 10 15 20 25 \n",
      "-2 -8 -14 -20 -26 -32 -38 "
     ]
    }
   ],
   "source": [
    "# range(a, b, c)\n",
    "# a = start\n",
    "# b = stop\n",
    "# c = step (common difference of AP)\n",
    "for i in range(5, 30, 5):\n",
    "  print(i, end=\" \")\n",
    "print()\n",
    "for i in range(-2, -40, -6):\n",
    "  print(i, end=\" \")"
   ]
  },
  {
   "cell_type": "code",
   "execution_count": 90,
   "metadata": {
    "colab": {
     "base_uri": "https://localhost:8080/",
     "height": 34
    },
    "colab_type": "code",
    "id": "Y1nZqDWpT99W",
    "outputId": "136f8f04-6814-49ae-805f-e9e13ba5dc39"
   },
   "outputs": [
    {
     "name": "stdout",
     "output_type": "stream",
     "text": [
      "s o f t w a r e   e n g i n e e r i n g "
     ]
    }
   ],
   "source": [
    "# iterating over the indices of a sequence using range() and len()\n",
    "str = \"software engineering\"\n",
    "for i in range(len(str)):\n",
    "  print(str[i], end=\" \")"
   ]
  },
  {
   "cell_type": "markdown",
   "metadata": {
    "colab_type": "text",
    "id": "ZrorQqe6x7uY"
   },
   "source": [
    "##list() method"
   ]
  },
  {
   "cell_type": "code",
   "execution_count": 91,
   "metadata": {
    "colab": {
     "base_uri": "https://localhost:8080/",
     "height": 34
    },
    "colab_type": "code",
    "id": "7Z1aCHI8VSEt",
    "outputId": "565f4ee3-f141-4581-be39-e4c88f84ae67",
    "scrolled": true
   },
   "outputs": [
    {
     "data": {
      "text/plain": [
       "[0, 1, 2, 3, 4, 5, 6, 7, 8, 9]"
      ]
     },
     "execution_count": 91,
     "metadata": {
      "tags": []
     },
     "output_type": "execute_result"
    }
   ],
   "source": [
    "# we can create lists from iterables using this method\n",
    "list(range(10))"
   ]
  },
  {
   "cell_type": "markdown",
   "metadata": {
    "colab_type": "text",
    "id": "HM4HrwMzKv-j"
   },
   "source": [
    "##break statement and else clause on loop"
   ]
  },
  {
   "cell_type": "markdown",
   "metadata": {
    "colab_type": "text",
    "id": "1ZH99i67Lc1W"
   },
   "source": [
    "The break statement, like in C, breaks out of the innermost enclosing for or while loop.\n",
    "\n",
    "Loop statements may have an else clause; it is *executed when the loop terminates through exhaustion of the list (with for) or when the condition becomes false (with while)*, **but not when the loop is terminated by a break statement.**"
   ]
  },
  {
   "cell_type": "markdown",
   "metadata": {
    "colab_type": "text",
    "id": "TThqIfFDLxET"
   },
   "source": [
    "##Find primes upto N"
   ]
  },
  {
   "cell_type": "code",
   "execution_count": 106,
   "metadata": {
    "colab": {
     "base_uri": "https://localhost:8080/",
     "height": 238
    },
    "colab_type": "code",
    "id": "1Ii6JWFlKvmP",
    "outputId": "0695795b-2a50-4367-f86c-3621f535ac0c"
   },
   "outputs": [
    {
     "name": "stdout",
     "output_type": "stream",
     "text": [
      "2 is a prime number\n",
      "3 is a prime number\n",
      "4 equals 2 * 2\n",
      "5 is a prime number\n",
      "6 equals 2 * 3\n",
      "7 is a prime number\n",
      "8 equals 2 * 4\n",
      "9 equals 3 * 3\n",
      "10 equals 2 * 5\n",
      "11 is a prime number\n",
      "12 equals 2 * 6\n",
      "13 is a prime number\n",
      "14 equals 2 * 7\n"
     ]
    }
   ],
   "source": [
    "def primes(n):\n",
    "  for i in range(2, n):\n",
    "    for j in range(2, i):\n",
    "      if i % j == 0:\n",
    "        print(i, \"equals\", j, \"*\", i//j)\n",
    "        break\n",
    "    else:\n",
    "      # loop fell through without finding a factor\n",
    "      # else belongs to the for loop\n",
    "      # loop's else clause runs when no break occurs\n",
    "      # similar to try (in exception handling), when no exception occurs\n",
    "      # else clause of try executes\n",
    "      print(\"%d is a prime number\" %(i))\n",
    "\n",
    "primes(15)"
   ]
  },
  {
   "cell_type": "markdown",
   "metadata": {
    "colab_type": "text",
    "id": "TaGPiE5qQ5o5"
   },
   "source": [
    "##continue statement"
   ]
  },
  {
   "cell_type": "markdown",
   "metadata": {
    "colab_type": "text",
    "id": "Xem2mzF2RoA1"
   },
   "source": [
    "Like C, it continues with the next iteration of the loop."
   ]
  },
  {
   "cell_type": "markdown",
   "metadata": {
    "colab_type": "text",
    "id": "pblPcxWuRqIc"
   },
   "source": [
    "##pass statement"
   ]
  },
  {
   "cell_type": "markdown",
   "metadata": {
    "colab_type": "text",
    "id": "zZ2r82IcR7Za"
   },
   "source": [
    "It does nothing. Read more https://docs.python.org/3/tutorial/controlflow.html#pass-statements"
   ]
  },
  {
   "cell_type": "markdown",
   "metadata": {
    "colab_type": "text",
    "id": "OVoCcSk-SE7z"
   },
   "source": [
    "##Defining a function"
   ]
  },
  {
   "cell_type": "markdown",
   "metadata": {
    "colab_type": "text",
    "id": "s8T1qCAcSIgX"
   },
   "source": [
    "- The keyword def introduces a function definition. It must be followed by the function name and the parenthesized list of formal parameters. The statements that form the body of the function start at the next line, and must be indented.\n",
    "- The first statement of the function body can optionally be a string literal; this string literal is the function’s documentation string, or docstring.\n",
    "- The execution of a function introduces a new symbol table used for the local variables of the function.\n",
    "- The actual parameters (arguments) to a function call are introduced in the local symbol table of the called function when it is called; thus, arguments are passed using **call by value** (where the value is always an object reference, not the value of the object).\n",
    "- In fact, even functions without a return statement do return a value, albeit a rather boring one. This value is called None (it’s a built-in name). Writing the value None is normally suppressed by the interpreter if it would be the only value written."
   ]
  },
  {
   "cell_type": "markdown",
   "metadata": {
    "colab_type": "text",
    "id": "VEsofk7iaIO9"
   },
   "source": [
    "## return statement"
   ]
  },
  {
   "cell_type": "code",
   "execution_count": 107,
   "metadata": {
    "colab": {
     "base_uri": "https://localhost:8080/",
     "height": 34
    },
    "colab_type": "code",
    "id": "VJKxweq4aKq6",
    "outputId": "86d5eec6-19b7-42f5-826b-1d2ab7f783b2"
   },
   "outputs": [
    {
     "data": {
      "text/plain": [
       "['guave', 'grapes', 'banana']"
      ]
     },
     "execution_count": 107,
     "metadata": {
      "tags": []
     },
     "output_type": "execute_result"
    }
   ],
   "source": [
    "def sublist(fruits, m, n):\n",
    "  return fruits[m:n]\n",
    "\n",
    "fruits = [\"mango\", \"apple\", \"guave\", \"grapes\", \"banana\", \"pineapple\", \"cucumber\", \"pomegranate\", \"watermelon\", \"naseberry\"]\n",
    "sublist(fruits, 2, 5)"
   ]
  },
  {
   "cell_type": "markdown",
   "metadata": {
    "colab_type": "text",
    "id": "KO8x5g3TiNzb"
   },
   "source": [
    "##Default argument values in function\n",
    "\n",
    "- The default values are evaluated at the point of function definition in the defining scope.\n",
    "- The default value is evaluated only once. This makes a difference when the default is a mutable object such as a list, dictionary, or instances of most classes. Read more https://docs.python.org/3/tutorial/controlflow.html#default-argument-values"
   ]
  },
  {
   "cell_type": "code",
   "execution_count": 4,
   "metadata": {
    "colab": {
     "base_uri": "https://localhost:8080/",
     "height": 51
    },
    "colab_type": "code",
    "id": "H3NAXRQpiSla",
    "outputId": "81d295ad-fb7c-4c5a-b4c4-9a9a229a64f5"
   },
   "outputs": [
    {
     "name": "stdout",
     "output_type": "stream",
     "text": [
      "Okay?y\n"
     ]
    },
    {
     "data": {
      "text/plain": [
       "True"
      ]
     },
     "execution_count": 4,
     "metadata": {
      "tags": []
     },
     "output_type": "execute_result"
    }
   ],
   "source": [
    "def ask_ok(prompt, retries=4, reminder='Please try again!'): # two arguments have been assigned a default\n",
    "    while True:\n",
    "        ok = input(prompt)\n",
    "        if ok in ('y', 'ye', 'yes'):\n",
    "            return True\n",
    "        if ok in ('n', 'no', 'nop', 'nope'):\n",
    "            return False\n",
    "        retries = retries - 1\n",
    "        if retries < 0:\n",
    "            raise ValueError('invalid user response')\n",
    "        print(reminder)\n",
    "\n",
    "# ask_ok(\"Do you really want to quit?\")\n",
    "ask_ok(\"Okay?\", 2, \"Only yes or no!\")"
   ]
  },
  {
   "cell_type": "markdown",
   "metadata": {
    "colab_type": "text",
    "id": "HXM5bIQHn3wg"
   },
   "source": [
    "## Lambda expression\n",
    "Small anonymous functions are created with the lambda keyword. No need of function name and return statement\n",
    "\n",
    "Read more https://www.geeksforgeeks.org/python-lambda-anonymous-functions-filter-map-reduce/"
   ]
  },
  {
   "cell_type": "code",
   "execution_count": 7,
   "metadata": {
    "colab": {
     "base_uri": "https://localhost:8080/",
     "height": 34
    },
    "colab_type": "code",
    "id": "PlkEWhfToGdz",
    "outputId": "b3330450-3ef3-484b-c391-9589450d5fc7"
   },
   "outputs": [
    {
     "name": "stdout",
     "output_type": "stream",
     "text": [
      "27\n"
     ]
    }
   ],
   "source": [
    "g = lambda x: x*x*x\n",
    "print(g(3))"
   ]
  },
  {
   "cell_type": "code",
   "execution_count": 1,
   "metadata": {
    "colab": {
     "base_uri": "https://localhost:8080/",
     "height": 34
    },
    "colab_type": "code",
    "id": "1cMvBIcDocNu",
    "outputId": "d3792acc-0cea-4f18-eb6b-d33add8bec84"
   },
   "outputs": [
    {
     "name": "stdout",
     "output_type": "stream",
     "text": [
      "[5, 7, 97, 77, 23, 73, 61]\n"
     ]
    }
   ],
   "source": [
    "# using filter function\n",
    "# The filter() function in Python takes in a function and a list as arguments.\n",
    "# This offers an elegant way to filter out all the elements of a sequence, \n",
    "# for which the function returns True. \n",
    "li = [5, 7, 22, 97, 54, 62, 77, 23, 73, 61]\n",
    "final_list = list(filter(lambda x:(x%2 != 0), li))\n",
    "print(final_list)"
   ]
  },
  {
   "cell_type": "markdown",
   "metadata": {
    "colab_type": "text",
    "id": "sog7q2b9juZX"
   },
   "source": [
    "##What's left to read in this chapter?\n",
    "- Keyword Arguments\n",
    "- Arbitrary Argument Lists\n",
    "- Unpacking Argument Lists\n",
    "- Documentation Strings\n",
    "- Function Annotations"
   ]
  },
  {
   "cell_type": "markdown",
   "metadata": {
    "colab_type": "text",
    "id": "fyu5fdyoNsmy"
   },
   "source": [
    "<img src=\"https://raw.githubusercontent.com/thecoducer/python_programs/master/large.jpg\" width=\"65%\" height=\"65%\" />"
   ]
  },
  {
   "cell_type": "markdown",
   "metadata": {
    "colab_type": "text",
    "id": "w07rDMCSv2L_"
   },
   "source": [
    "#Data Structures\n",
    "\n",
    "https://docs.python.org/3/tutorial/datastructures.html"
   ]
  },
  {
   "cell_type": "markdown",
   "metadata": {
    "colab_type": "text",
    "id": "WJ48bxJHwBSV"
   },
   "source": []
  }
 ],
 "metadata": {
  "colab": {
   "collapsed_sections": [],
   "include_colab_link": true,
   "name": "Learning Python.ipynb",
   "provenance": [],
   "toc_visible": true,
   "version": "0.3.2"
  },
  "kernelspec": {
   "display_name": "Python 3",
   "language": "python",
   "name": "python3"
  },
  "language_info": {
   "codemirror_mode": {
    "name": "ipython",
    "version": 3
   },
   "file_extension": ".py",
   "mimetype": "text/x-python",
   "name": "python",
   "nbconvert_exporter": "python",
   "pygments_lexer": "ipython3",
   "version": "3.7.3"
  }
 },
 "nbformat": 4,
 "nbformat_minor": 1
}
