{
  "nbformat": 4,
  "nbformat_minor": 0,
  "metadata": {
    "colab": {
      "name": "Learning_Python.ipynb",
      "version": "0.3.2",
      "provenance": [],
      "collapsed_sections": [],
      "toc_visible": true,
      "include_colab_link": true
    },
    "kernelspec": {
      "display_name": "Python 3",
      "language": "python",
      "name": "python3"
    },
    "language_info": {
      "codemirror_mode": {
        "name": "ipython",
        "version": 3
      },
      "file_extension": ".py",
      "mimetype": "text/x-python",
      "name": "python",
      "nbconvert_exporter": "python",
      "pygments_lexer": "ipython3",
      "version": "3.7.3"
    }
  },
  "cells": [
    {
      "cell_type": "markdown",
      "metadata": {
        "id": "view-in-github",
        "colab_type": "text"
      },
      "source": [
        "<a href=\"https://colab.research.google.com/github/thecoducer/python_programs/blob/master/Learning_Python.ipynb\" target=\"_parent\"><img src=\"https://colab.research.google.com/assets/colab-badge.svg\" alt=\"Open In Colab\"/></a>"
      ]
    },
    {
      "cell_type": "markdown",
      "metadata": {
        "colab_type": "text",
        "id": "Bklp88xT3ZEw"
      },
      "source": [
        "# Learning Python\n",
        "---\n",
        "<img src=\"https://raw.githubusercontent.com/thecoducer/python_programs/master/Images/python-harry-potter.jpg\" width=\"65%\" height=\"65%\" />\n",
        "\n",
        "Hey! I'm reading the official documentation of Python Software Foundation to learn Python programming language. It's great and detailed. We often need to write down notes when we learn something new. So, I've used Jupyter Notebook to write down notes as well as programs. You can open the notebook file and run the codes on Google Collaboratory. This notebook is intended to help me whenever I need to revise. It's not intended to teach anyone Python.\n",
        "\n",
        "I recommend you to read the official Python tutorial here: https://docs.python.org/3/tutorial/index.html.\n",
        "\n",
        "My blog post on learning Python: http://www.thecoducer.com/2019/07/effective-way-to-learn-python-for-free.html\n",
        "\n",
        "---\n",
        "***Email: [mayukh5741@gmail.com](mailto:mayukh5741@gmail.com)***\n",
        "\n",
        "***Website: https://thecoducer.github.io/***\n",
        "\n",
        "***Blog: http://www.thecoducer.com/***\n",
        "\n",
        "---\n",
        "\n",
        "\n",
        "\n",
        "\n",
        "\n"
      ]
    },
    {
      "cell_type": "markdown",
      "metadata": {
        "colab_type": "text",
        "id": "u6ZNC8hjmuHv"
      },
      "source": [
        "# An Informal introduction to Python\n",
        "https://docs.python.org/3/tutorial/introduction.html"
      ]
    },
    {
      "cell_type": "markdown",
      "metadata": {
        "id": "OyRu-VntlF2B",
        "colab_type": "text"
      },
      "source": [
        "\n",
        "\n",
        "> Python is an easy to learn, powerful programming language. It has efficient high-level data structures and a simple but effective approach to object-oriented programming. Python’s elegant syntax and dynamic typing, together with its interpreted nature, make it an ideal language for scripting and rapid application development in many areas on most platforms.\n",
        "\n"
      ]
    },
    {
      "cell_type": "markdown",
      "metadata": {
        "colab_type": "text",
        "id": "FqTXzIdNOzrq"
      },
      "source": [
        "## Classic vs Floor division"
      ]
    },
    {
      "cell_type": "code",
      "metadata": {
        "colab_type": "code",
        "id": "CkAfCN22O4td",
        "outputId": "c82f35f5-f7c4-4a48-ed2c-b917f562ec18",
        "colab": {
          "base_uri": "https://localhost:8080/",
          "height": 51
        }
      },
      "source": [
        "print(19/5) # classic division returns float\n",
        "print(52//3) # floor division discards the fractional part"
      ],
      "execution_count": 0,
      "outputs": [
        {
          "output_type": "stream",
          "text": [
            "3.8\n",
            "17\n"
          ],
          "name": "stdout"
        }
      ]
    },
    {
      "cell_type": "markdown",
      "metadata": {
        "colab_type": "text",
        "id": "2Cc-OD7wQjys"
      },
      "source": [
        "## To calculate powers"
      ]
    },
    {
      "cell_type": "code",
      "metadata": {
        "colab_type": "code",
        "id": "jmgwfSYdOxnB",
        "outputId": "2ebc95b4-7c7f-43a9-a344-b4f7ee0f5e88",
        "colab": {
          "base_uri": "https://localhost:8080/",
          "height": 34
        }
      },
      "source": [
        "# 2^5\n",
        "print(2**5)"
      ],
      "execution_count": 0,
      "outputs": [
        {
          "output_type": "stream",
          "text": [
            "32\n"
          ],
          "name": "stdout"
        }
      ]
    },
    {
      "cell_type": "markdown",
      "metadata": {
        "colab_type": "text",
        "id": "BKZBOBtgRWz_"
      },
      "source": [
        "- *In interactive mode, the last printed expression is assigned to the variable _*"
      ]
    },
    {
      "cell_type": "markdown",
      "metadata": {
        "colab_type": "text",
        "id": "7ONm7vuBSe-q"
      },
      "source": [
        "## Round a real number up to 2 places after decimal"
      ]
    },
    {
      "cell_type": "code",
      "metadata": {
        "colab_type": "code",
        "id": "tqpgix2oSNl3",
        "outputId": "c6a5d21a-d176-471c-b556-226b799f3278",
        "colab": {
          "base_uri": "https://localhost:8080/",
          "height": 34
        }
      },
      "source": [
        "k = 12.03635\n",
        "print(round(k, 2))"
      ],
      "execution_count": 0,
      "outputs": [
        {
          "output_type": "stream",
          "text": [
            "12.04\n"
          ],
          "name": "stdout"
        }
      ]
    },
    {
      "cell_type": "markdown",
      "metadata": {
        "id": "Fgz3-bxNH555",
        "colab_type": "text"
      },
      "source": [
        "## type() method"
      ]
    },
    {
      "cell_type": "code",
      "metadata": {
        "id": "oHaVYwlWH557",
        "colab_type": "code",
        "outputId": "c3d20597-a35d-4217-b143-df8a7398aed8",
        "colab": {
          "base_uri": "https://localhost:8080/",
          "height": 34
        }
      },
      "source": [
        "h = \"Kolkata\"\n",
        "print(type(h))"
      ],
      "execution_count": 0,
      "outputs": [
        {
          "output_type": "stream",
          "text": [
            "<class 'str'>\n"
          ],
          "name": "stdout"
        }
      ]
    },
    {
      "cell_type": "markdown",
      "metadata": {
        "colab_type": "text",
        "id": "npAYGQzQXrIS"
      },
      "source": [
        "## Strings\n",
        "- \\ can be used to escape quotes\n",
        "- can be also be enclosed within other pair of quotes\n",
        "- to print raw strings, use r"
      ]
    },
    {
      "cell_type": "markdown",
      "metadata": {
        "colab_type": "text",
        "id": "lSpJH8Rybs7D"
      },
      "source": [
        "## Raw string"
      ]
    },
    {
      "cell_type": "code",
      "metadata": {
        "colab_type": "code",
        "id": "nWLZAcexXzd4",
        "outputId": "2e25bbbf-ccb1-4820-b70f-96fde6558ad5",
        "colab": {
          "base_uri": "https://localhost:8080/",
          "height": 68
        }
      },
      "source": [
        "print(r\"C:\\nebula\\MachineLearning\")\n",
        "# without it, \\n escape sequence gets triggered\n",
        "print(\"C:\\nebula\\MachineLearning\")"
      ],
      "execution_count": 0,
      "outputs": [
        {
          "output_type": "stream",
          "text": [
            "C:\\nebula\\MachineLearning\n",
            "C:\n",
            "ebula\\MachineLearning\n"
          ],
          "name": "stdout"
        }
      ]
    },
    {
      "cell_type": "markdown",
      "metadata": {
        "colab_type": "text",
        "id": "DAxID6VfbfOn"
      },
      "source": [
        "## String literals can span multiple lines"
      ]
    },
    {
      "cell_type": "code",
      "metadata": {
        "colab_type": "code",
        "id": "nO4qdjCTZ8-L",
        "outputId": "ed0200e4-722c-4913-8f03-316cefc92fc7",
        "colab": {
          "base_uri": "https://localhost:8080/",
          "height": 102
        }
      },
      "source": [
        "# Prevent automatic inclusion of end of lines by using \\ operator\n",
        "print(\"\"\"\\\n",
        "asdad\n",
        "awewer\n",
        "bnghjny\n",
        "it rty    dsrfgtr t\n",
        "er    sdefsdfg    dggh\"\"\")"
      ],
      "execution_count": 0,
      "outputs": [
        {
          "output_type": "stream",
          "text": [
            "asdad\n",
            "awewer\n",
            "bnghjny\n",
            "it rty    dsrfgtr t\n",
            "er    sdefsdfg    dggh\n"
          ],
          "name": "stdout"
        }
      ]
    },
    {
      "cell_type": "markdown",
      "metadata": {
        "colab_type": "text",
        "id": "UqYJCt94biwq"
      },
      "source": [
        "## Strings are 0-based indexed"
      ]
    },
    {
      "cell_type": "code",
      "metadata": {
        "colab_type": "code",
        "id": "1b4f2oD1bF7Q",
        "outputId": "6c30c523-4841-4b70-cd39-46c791b743e4",
        "colab": {
          "base_uri": "https://localhost:8080/",
          "height": 68
        }
      },
      "source": [
        "str = \"David Attenborough\"\n",
        "print(str)\n",
        "print(str[2] + str[9])\n",
        "print(str[-2]) # starts counting from the right\n",
        "# it is the second last character\n",
        "# Note that since -0 is the same as 0, negative indices start from -1."
      ],
      "execution_count": 0,
      "outputs": [
        {
          "output_type": "stream",
          "text": [
            "David Attenborough\n",
            "ve\n",
            "g\n"
          ],
          "name": "stdout"
        }
      ]
    },
    {
      "cell_type": "markdown",
      "metadata": {
        "colab_type": "text",
        "id": "w3chf8dwcZtG"
      },
      "source": [
        "## Slicing strings"
      ]
    },
    {
      "cell_type": "code",
      "metadata": {
        "colab_type": "code",
        "id": "w2AfMHM5cb2Z",
        "outputId": "e0ba200e-0a94-4919-ffbd-e29567eb77f3",
        "colab": {
          "base_uri": "https://localhost:8080/",
          "height": 102
        }
      },
      "source": [
        "str = 'Jekyll'\n",
        "print(str[1:])\n",
        "print(str[2:])\n",
        "print(str[:3])\n",
        "print(str[:2] + str[4:])\n",
        "print(str[-2:])"
      ],
      "execution_count": 0,
      "outputs": [
        {
          "output_type": "stream",
          "text": [
            "ekyll\n",
            "kyll\n",
            "Jek\n",
            "Jell\n",
            "ll\n"
          ],
          "name": "stdout"
        }
      ]
    },
    {
      "cell_type": "markdown",
      "metadata": {
        "colab_type": "text",
        "id": "h-xZTo76bxeZ"
      },
      "source": [
        "- **Like Java, Python strings are immutable.**"
      ]
    },
    {
      "cell_type": "markdown",
      "metadata": {
        "colab_type": "text",
        "id": "jLepF54MiSso"
      },
      "source": [
        "## Length of string"
      ]
    },
    {
      "cell_type": "code",
      "metadata": {
        "colab_type": "code",
        "id": "oCDiS4pLiU_1",
        "outputId": "5ab73fa1-bbfa-4f64-d90c-37d1f981bc6c",
        "colab": {
          "base_uri": "https://localhost:8080/",
          "height": 34
        }
      },
      "source": [
        "# str = \"Jekyll\"\n",
        "print(len(str))"
      ],
      "execution_count": 0,
      "outputs": [
        {
          "output_type": "stream",
          "text": [
            "6\n"
          ],
          "name": "stdout"
        }
      ]
    },
    {
      "cell_type": "markdown",
      "metadata": {
        "colab_type": "text",
        "id": "zDeDE_wljPx_"
      },
      "source": [
        "## String methods\n",
        "- https://docs.python.org/3/library/stdtypes.html#string-methods\n",
        "- https://www.geeksforgeeks.org/python-strings/"
      ]
    },
    {
      "cell_type": "code",
      "metadata": {
        "colab_type": "code",
        "id": "5R4hxcVmjOaZ",
        "outputId": "b7dfc4a5-2f53-4a9e-b9c7-28557c912baa",
        "colab": {
          "base_uri": "https://localhost:8080/",
          "height": 119
        }
      },
      "source": [
        "str1 = \"Data Structures\"\n",
        "str2 = \"Algorithms\"\n",
        "str3 = \"operating system\"\n",
        "print(str1.lower())\n",
        "print(str2.upper())\n",
        "print(str3.capitalize())\n",
        "print(str1.endswith(\"Structures\"))\n",
        "print(str2.endswith(\"thms\"))\n",
        "print(str3.startswith(\"oper\"))"
      ],
      "execution_count": 0,
      "outputs": [
        {
          "output_type": "stream",
          "text": [
            "data structures\n",
            "ALGORITHMS\n",
            "Operating system\n",
            "True\n",
            "True\n",
            "True\n"
          ],
          "name": "stdout"
        }
      ]
    },
    {
      "cell_type": "markdown",
      "metadata": {
        "colab_type": "text",
        "id": "PHLCtoQCwGpb"
      },
      "source": [
        "## Reverse a string"
      ]
    },
    {
      "cell_type": "code",
      "metadata": {
        "colab_type": "code",
        "id": "2reGPgJQwI8Z",
        "outputId": "ac7337aa-ca78-4366-ce7b-eeaca754a430",
        "colab": {
          "base_uri": "https://localhost:8080/",
          "height": 34
        }
      },
      "source": [
        "# Python string library has no reverse() method\n",
        "def reverse(s):\n",
        "  temp = \"\"\n",
        "  for i in s:\n",
        "    temp = i + temp # ... m + o + C\n",
        "  return temp\n",
        "\n",
        "subject = \"Computer Networks\"\n",
        "print(reverse(subject))"
      ],
      "execution_count": 0,
      "outputs": [
        {
          "output_type": "stream",
          "text": [
            "skrowteN retupmoC\n"
          ],
          "name": "stdout"
        }
      ]
    },
    {
      "cell_type": "code",
      "metadata": {
        "colab_type": "code",
        "id": "MZscvQpqzuhp",
        "outputId": "e55778c3-0b3e-4c6e-9307-e55e1636f8ab",
        "colab": {
          "base_uri": "https://localhost:8080/",
          "height": 34
        }
      },
      "source": [
        "# Using recursion\n",
        "def reverse1(s):\n",
        "  if len(s) == 0:\n",
        "    return s\n",
        "  else:\n",
        "    return reverse(s[1:]) + s[0]\n",
        "s = \"Kolkata\"\n",
        "print(reverse1(s))"
      ],
      "execution_count": 0,
      "outputs": [
        {
          "output_type": "stream",
          "text": [
            "atakloK\n"
          ],
          "name": "stdout"
        }
      ]
    },
    {
      "cell_type": "code",
      "metadata": {
        "colab_type": "code",
        "id": "VYGJilgi3XdK",
        "outputId": "b6b74ac4-68ad-42e7-98f7-514a90fcdb4b",
        "colab": {
          "base_uri": "https://localhost:8080/",
          "height": 34
        }
      },
      "source": [
        "# Using extended slice syntax\n",
        "def reverse3(s):\n",
        "  return s[::-1]\n",
        "\n",
        "s = \"Quadilateral\"\n",
        "print(reverse3(s))"
      ],
      "execution_count": 0,
      "outputs": [
        {
          "output_type": "stream",
          "text": [
            "laretalidauQ\n"
          ],
          "name": "stdout"
        }
      ]
    },
    {
      "cell_type": "code",
      "metadata": {
        "colab_type": "code",
        "id": "agsLHpwl3xhO",
        "outputId": "a8ada193-83b0-4e39-91eb-a3be81a87492",
        "colab": {
          "base_uri": "https://localhost:8080/",
          "height": 34
        }
      },
      "source": [
        "# Using reversed\n",
        "def reverse4(s):\n",
        "  return \"\".join(reversed(s))\n",
        "\n",
        "s = \"Gradle\"\n",
        "print(reverse4(s))"
      ],
      "execution_count": 0,
      "outputs": [
        {
          "output_type": "stream",
          "text": [
            "eldarG\n"
          ],
          "name": "stdout"
        }
      ]
    },
    {
      "cell_type": "markdown",
      "metadata": {
        "colab_type": "text",
        "id": "KqQ30chMhyFS"
      },
      "source": [
        "## Split a string"
      ]
    },
    {
      "cell_type": "code",
      "metadata": {
        "colab_type": "code",
        "id": "UVUx9-_yh0c5",
        "outputId": "e1391287-7c3c-475f-b7b8-9309cdc5e16d",
        "colab": {
          "base_uri": "https://localhost:8080/",
          "height": 34
        }
      },
      "source": [
        "line = \"Brian Karnighan's algorithm is the most efficient way to count set bits.\"\n",
        "print(line.split()) # No delimiter takes whitespace as a delimiter implicitly"
      ],
      "execution_count": 0,
      "outputs": [
        {
          "output_type": "stream",
          "text": [
            "['Brian', \"Karnighan's\", 'algorithm', 'is', 'the', 'most', 'efficient', 'way', 'to', 'count', 'set', 'bits.']\n"
          ],
          "name": "stdout"
        }
      ]
    },
    {
      "cell_type": "code",
      "metadata": {
        "colab_type": "code",
        "id": "Wtqt2LN3ihDd",
        "outputId": "52ff64d9-baaa-4983-c642-c469562b3961",
        "colab": {
          "base_uri": "https://localhost:8080/",
          "height": 51
        }
      },
      "source": [
        "word = \"dock:for:ipad\"\n",
        "print(word.split(\":\"))\n",
        "print(word.split(\":\", 1)) # maxsplit: 1"
      ],
      "execution_count": 0,
      "outputs": [
        {
          "output_type": "stream",
          "text": [
            "['dock', 'for', 'ipad']\n",
            "['dock', 'for:ipad']\n"
          ],
          "name": "stdout"
        }
      ]
    },
    {
      "cell_type": "markdown",
      "metadata": {
        "colab_type": "text",
        "id": "1jfeDrQF2h40"
      },
      "source": [
        "## String to integer"
      ]
    },
    {
      "cell_type": "code",
      "metadata": {
        "colab_type": "code",
        "id": "ys9RMOZ52kaO",
        "outputId": "13677177-65bc-4e51-8171-ea19cabd929e",
        "colab": {
          "base_uri": "https://localhost:8080/",
          "height": 34
        }
      },
      "source": [
        "s = \"101011\"\n",
        "# intify them!\n",
        "l = list(map(int, s))\n",
        "print(l)"
      ],
      "execution_count": 0,
      "outputs": [
        {
          "output_type": "stream",
          "text": [
            "[1, 0, 1, 0, 1, 1]\n"
          ],
          "name": "stdout"
        }
      ]
    },
    {
      "cell_type": "markdown",
      "metadata": {
        "colab_type": "text",
        "id": "twuhHNOl1HMA"
      },
      "source": [
        "## Printing out multiples of strings"
      ]
    },
    {
      "cell_type": "code",
      "metadata": {
        "colab_type": "code",
        "id": "ALttcbwE1JXZ",
        "outputId": "d1e05b72-8b94-4f3f-e8ff-17ccc9e9e875",
        "colab": {
          "base_uri": "https://localhost:8080/",
          "height": 34
        }
      },
      "source": [
        "print(\"Yes\"*5 + \"No\"*2)"
      ],
      "execution_count": 0,
      "outputs": [
        {
          "output_type": "stream",
          "text": [
            "YesYesYesYesYesNoNo\n"
          ],
          "name": "stdout"
        }
      ]
    },
    {
      "cell_type": "markdown",
      "metadata": {
        "colab_type": "text",
        "id": "Y_4GfScp6FdX"
      },
      "source": [
        "## List to string"
      ]
    },
    {
      "cell_type": "code",
      "metadata": {
        "colab_type": "code",
        "id": "jQ4Tvs8s6Pae",
        "outputId": "f701e70d-b579-4504-e632-e35f954fbe6c",
        "colab": {
          "base_uri": "https://localhost:8080/",
          "height": 34
        }
      },
      "source": [
        "a = [\"I\", \"am\", \"here\"]\n",
        "print(\" \".join(a))"
      ],
      "execution_count": 0,
      "outputs": [
        {
          "output_type": "stream",
          "text": [
            "I am here\n"
          ],
          "name": "stdout"
        }
      ]
    },
    {
      "cell_type": "markdown",
      "metadata": {
        "colab_type": "text",
        "id": "clVywHmm6Woe"
      },
      "source": [
        "## Check anagram or not\n",
        "- Counter is a subclass of dictionary object. The Counter() function in collections module takes an iterable or a mapping as the argument and returns a Dictionary. In this dictionary, a key is an element in the iterable or the mapping and value is the number of times that element exists in the iterable or the mapping.\n",
        "- The Counter() function can take a dictionary as an argument. In this dictionary, the value of a key should be the 'count' of that key."
      ]
    },
    {
      "cell_type": "code",
      "metadata": {
        "colab_type": "code",
        "id": "Za8_p15P6Y_B",
        "outputId": "2323472d-8e38-47e5-b780-46eff1a79a3b",
        "colab": {
          "base_uri": "https://localhost:8080/",
          "height": 68
        }
      },
      "source": [
        "from collections import Counter \n",
        "def is_anagram(str1, str2): \n",
        " return Counter(str1) == Counter(str2) \n",
        "\n",
        "word1 = input(\"Enter first word:\")\n",
        "word2 = input(\"Enter second word:\")\n",
        "print(is_anagram(word1, word2))"
      ],
      "execution_count": 0,
      "outputs": [
        {
          "output_type": "stream",
          "text": [
            "Enter first word:geek\n",
            "Enter second word:kgee\n",
            "True\n"
          ],
          "name": "stdout"
        }
      ]
    },
    {
      "cell_type": "markdown",
      "metadata": {
        "colab_type": "text",
        "id": "XLGfouSu6tNd"
      },
      "source": [
        "## Flatten lists"
      ]
    },
    {
      "cell_type": "code",
      "metadata": {
        "colab_type": "code",
        "id": "ADEqnNYD8IYw",
        "outputId": "8e76096b-0a45-4679-eebb-87c40d23f8cd",
        "colab": {
          "base_uri": "https://localhost:8080/",
          "height": 34
        }
      },
      "source": [
        "import itertools\n",
        "a = [[1, 2], [3, 4], [5, 6]]\n",
        "b = list(itertools.chain.from_iterable(a))\n",
        "print(b)"
      ],
      "execution_count": 0,
      "outputs": [
        {
          "output_type": "stream",
          "text": [
            "[1, 2, 3, 4, 5, 6]\n"
          ],
          "name": "stdout"
        }
      ]
    },
    {
      "cell_type": "markdown",
      "metadata": {
        "colab_type": "text",
        "id": "a8yecSGy8K7I"
      },
      "source": [
        "## More such shortcuts ...\n",
        "https://towardsdatascience.com/20-python-programming-tips-and-tricks-for-beginners-25d44db03aea"
      ]
    },
    {
      "cell_type": "markdown",
      "metadata": {
        "colab_type": "text",
        "id": "odWhZASi0Ukv"
      },
      "source": [
        "## Lists"
      ]
    },
    {
      "cell_type": "code",
      "metadata": {
        "colab_type": "code",
        "id": "uYwKoydT0unw",
        "outputId": "fa1e51d6-7012-42a8-ed67-2a054ec0e033",
        "colab": {
          "base_uri": "https://localhost:8080/",
          "height": 153
        }
      },
      "source": [
        "# This is a list\n",
        "# Like strings, lists can be indexed and sliced\n",
        "veggies = [\"potato\", \"carrot\", \"brinjal\"]\n",
        "print(veggies)\n",
        "print(veggies[2])\n",
        "print(veggies[-1])\n",
        "# all slice operations return a new list(a copy) containing the requested elements\n",
        "print(veggies[1:2])\n",
        "# lists supports concatenation\n",
        "# unlike strings, lists are mutable\n",
        "# use append() method to add elements to the end of a list\n",
        "veggies.append(\"ladyfinger\")\n",
        "print(veggies)\n",
        "# assignment to slices is also possible\n",
        "veggies[2:] = [\"beetroot\", \"ginger\"]\n",
        "print(veggies)\n",
        "# length of list\n",
        "print(len(veggies))\n",
        "# we can nest lists too\n",
        "x = [['a', 'b'], ['k', 'l']]\n",
        "print(x, \"Length = \", len(x))"
      ],
      "execution_count": 0,
      "outputs": [
        {
          "output_type": "stream",
          "text": [
            "['potato', 'carrot', 'brinjal']\n",
            "brinjal\n",
            "brinjal\n",
            "['carrot']\n",
            "['potato', 'carrot', 'brinjal', 'ladyfinger']\n",
            "['potato', 'carrot', 'beetroot', 'ginger']\n",
            "4\n",
            "[['a', 'b'], ['k', 'l']] Length =  2\n"
          ],
          "name": "stdout"
        }
      ]
    },
    {
      "cell_type": "markdown",
      "metadata": {
        "colab_type": "text",
        "id": "zQr8_gevPVEX"
      },
      "source": [
        "## Fibonacci program"
      ]
    },
    {
      "cell_type": "code",
      "metadata": {
        "colab_type": "code",
        "id": "RlL_N-VBPZH6",
        "outputId": "089782f6-0f53-44fe-c707-930beaf44b8f",
        "colab": {
          "base_uri": "https://localhost:8080/",
          "height": 34
        }
      },
      "source": [
        "# Prints Fibonacci series upto Nth term where N < k\n",
        "def fibonacci(k):\n",
        "  first, second = 0, 1 # multiple assignment\n",
        "  while first < k:\n",
        "    print(first, end=', ')\n",
        "    first, second = second, first+second\n",
        "\n",
        "# invoke function\n",
        "fibonacci(20)\n"
      ],
      "execution_count": 0,
      "outputs": [
        {
          "output_type": "stream",
          "text": [
            "0, 1, 1, 2, 3, 5, 8, 13, "
          ],
          "name": "stdout"
        }
      ]
    },
    {
      "cell_type": "code",
      "metadata": {
        "colab_type": "code",
        "id": "kLR9NfFOQinu",
        "outputId": "2d960214-97e6-4993-e64f-831c50a93348",
        "colab": {
          "base_uri": "https://localhost:8080/",
          "height": 51
        }
      },
      "source": [
        "# Prints Fibonacci series upto Nth term\n",
        "def fibo(n):\n",
        "  first, second = 0, 1\n",
        "  l = [] #empty list to store fibonacci numbers\n",
        "  for i in range(n):\n",
        "    #print(first, end=\" \")\n",
        "    l.append(first)\n",
        "    first, second = second, first+second\n",
        "  print(l)\n",
        "  print(\"Length of the list: \", len(l))\n",
        "\n",
        "fibo(20)\n",
        "    "
      ],
      "execution_count": 0,
      "outputs": [
        {
          "output_type": "stream",
          "text": [
            "[0, 1, 1, 2, 3, 5, 8, 13, 21, 34, 55, 89, 144, 233, 377, 610, 987, 1597, 2584, 4181]\n",
            "Length of the list:  20\n"
          ],
          "name": "stdout"
        }
      ]
    },
    {
      "cell_type": "code",
      "metadata": {
        "colab_type": "code",
        "id": "i_b5z-_gTS05",
        "outputId": "196d5a72-9610-4c99-98fa-3d7034b8243e",
        "colab": {
          "base_uri": "https://localhost:8080/",
          "height": 34
        }
      },
      "source": [
        "# Prints Nth fibonacci number\n",
        "def nthfibo(n):\n",
        "  first, second = 0, 1\n",
        "  for i in range(n-1):\n",
        "    first, second = second, first+second\n",
        "  print(\"%dth term is %d\" %(n, first))\n",
        "  # formatted output using string modulo operator\n",
        "\n",
        "nthfibo(20)\n"
      ],
      "execution_count": 0,
      "outputs": [
        {
          "output_type": "stream",
          "text": [
            "20th term is 4181\n"
          ],
          "name": "stdout"
        }
      ]
    },
    {
      "cell_type": "markdown",
      "metadata": {
        "colab_type": "text",
        "id": "M4hBsOWKzE2b"
      },
      "source": [
        "<img src=\"https://raw.githubusercontent.com/thecoducer/python_programs/master/Images/code_happy.png\" width=\"65%\" height=\"65%\" />"
      ]
    },
    {
      "cell_type": "markdown",
      "metadata": {
        "colab_type": "text",
        "id": "fG5ijVy1nMkn"
      },
      "source": [
        "# More control flow tools\n",
        "https://docs.python.org/3/tutorial/controlflow.html"
      ]
    },
    {
      "cell_type": "markdown",
      "metadata": {
        "colab_type": "text",
        "id": "O6d-rW0BboIW"
      },
      "source": [
        "## Basic operators\n",
        "- https://www.geeksforgeeks.org/basic-operators-python/"
      ]
    },
    {
      "cell_type": "markdown",
      "metadata": {
        "colab_type": "text",
        "id": "wP7A2lC5jnD9"
      },
      "source": [
        "## If statement"
      ]
    },
    {
      "cell_type": "code",
      "metadata": {
        "colab_type": "code",
        "id": "kulJjDbCjqrU",
        "outputId": "c69fdaeb-3a69-48cb-8c79-ab1823412821",
        "colab": {
          "base_uri": "https://localhost:8080/",
          "height": 51
        }
      },
      "source": [
        "n = int(input(\"Enter a number: \"))\n",
        "if n<0:\n",
        "  print(\"It is a negative number.\")\n",
        "elif n==0:\n",
        "  print(\"It is a zero.\")\n",
        "else:\n",
        "  print(\"It is a positive number.\") "
      ],
      "execution_count": 0,
      "outputs": [
        {
          "output_type": "stream",
          "text": [
            "Enter a number: -65\n",
            "It is a negative number.\n"
          ],
          "name": "stdout"
        }
      ]
    },
    {
      "cell_type": "markdown",
      "metadata": {
        "colab_type": "text",
        "id": "Wxaor2bllEpX"
      },
      "source": [
        "## Switch or case statement\n",
        "\n",
        "Unlike other languages, Python does not have this feature. Python encourages to use if and elif instead.\n",
        "\n",
        "We can do something similar to switch-case by using dictionary mapping. Read here: https://www.geeksforgeeks.org/switch-case-in-python-replacement/"
      ]
    },
    {
      "cell_type": "markdown",
      "metadata": {
        "colab_type": "text",
        "id": "BNZ6ZRGnmEBl"
      },
      "source": [
        "## For statement"
      ]
    },
    {
      "cell_type": "code",
      "metadata": {
        "colab_type": "code",
        "id": "FbbT3rsImGxf",
        "outputId": "8849682e-cd39-41e1-f1b2-1e3a36a7bc03",
        "colab": {
          "base_uri": "https://localhost:8080/",
          "height": 34
        }
      },
      "source": [
        "# Python’s for statement iterates over the items of \n",
        "# any sequence (a list or a string), in the order \n",
        "# that they appear in the sequence. \n",
        "# similar to for each loop in Java\n",
        "word = ['cat', 'dog', 'tiger', 'lion']\n",
        "for w in word:\n",
        "  w = w.capitalize()\n",
        "print(word)\n",
        "  #print(w.capitalize(), len(w))"
      ],
      "execution_count": 0,
      "outputs": [
        {
          "output_type": "stream",
          "text": [
            "['cat', 'dog', 'tiger', 'lion']\n"
          ],
          "name": "stdout"
        }
      ]
    },
    {
      "cell_type": "markdown",
      "metadata": {
        "colab_type": "text",
        "id": "PjmQRf0rQ3kQ"
      },
      "source": [
        "## while loop"
      ]
    },
    {
      "cell_type": "code",
      "metadata": {
        "colab_type": "code",
        "id": "sREfZN0nQ51t",
        "outputId": "9116eb12-5dc9-4055-f8c9-0178d5f5ae31",
        "colab": {
          "base_uri": "https://localhost:8080/",
          "height": 34
        }
      },
      "source": [
        "i = 10\n",
        "while i > 0:\n",
        "  print(i, end=\" \")\n",
        "  i = i - 1"
      ],
      "execution_count": 0,
      "outputs": [
        {
          "output_type": "stream",
          "text": [
            "10 9 8 7 6 5 4 3 2 1 "
          ],
          "name": "stdout"
        }
      ]
    },
    {
      "cell_type": "markdown",
      "metadata": {
        "colab_type": "text",
        "id": "tes9e9CtWtyh"
      },
      "source": [
        "## Find second largest element in array"
      ]
    },
    {
      "cell_type": "code",
      "metadata": {
        "colab_type": "code",
        "id": "Y5ljTYZKR5OG",
        "outputId": "610e7895-2f28-4f27-ef43-44960810fe5d",
        "colab": {
          "base_uri": "https://localhost:8080/",
          "height": 136
        }
      },
      "source": [
        "import sys\n",
        "\n",
        "t = int(input())\n",
        "while t > 0:\n",
        "    n = int(input())\n",
        "    arr = list(map(int, input().split()))\n",
        "    first = second = -sys.maxsize # maximum negative integer\n",
        "    for i in range(0, len(arr)):\n",
        "        if arr[i] > first:\n",
        "            second = first\n",
        "            first = arr[i]\n",
        "        elif arr[i] > second and arr[i] != first:\n",
        "            second = arr[i]\n",
        "    print(second)\n",
        "    t = t - 1"
      ],
      "execution_count": 0,
      "outputs": [
        {
          "output_type": "stream",
          "text": [
            "2\n",
            "5\n",
            "10 2 -96 21 3\n",
            "10\n",
            "6\n",
            "10 20 -96 -31 2 1\n",
            "10\n"
          ],
          "name": "stdout"
        }
      ]
    },
    {
      "cell_type": "markdown",
      "metadata": {
        "colab_type": "text",
        "id": "QLz_e380aTXq"
      },
      "source": [
        "## sys.maxsize and -sys.maxsize\n",
        "- An integer giving the maximum value a variable of type Py_ssize_t can take. It’s usually 2^31 - 1 on a 32-bit platform and 2^63 - 1 on a 64-bit platform."
      ]
    },
    {
      "cell_type": "markdown",
      "metadata": {
        "colab_type": "text",
        "id": "qcMw7RqoTLTD"
      },
      "source": [
        "## range() method"
      ]
    },
    {
      "cell_type": "code",
      "metadata": {
        "colab_type": "code",
        "id": "VF9YHq4AO2d2",
        "outputId": "425aef01-e430-4df8-851d-5da3a9d4a3d9",
        "colab": {
          "base_uri": "https://localhost:8080/",
          "height": 34
        }
      },
      "source": [
        "# range() method generated arithmetic progressions.\n",
        "# and proves useful in case of for loop\n",
        "for i in range(10):\n",
        "  print(i, end=\" \")"
      ],
      "execution_count": 0,
      "outputs": [
        {
          "output_type": "stream",
          "text": [
            "0 1 2 3 4 5 6 7 8 9 "
          ],
          "name": "stdout"
        }
      ]
    },
    {
      "cell_type": "code",
      "metadata": {
        "colab_type": "code",
        "id": "i41F30mLTPaF",
        "outputId": "af48c129-8132-4dd2-fe23-7df0b139401f",
        "colab": {
          "base_uri": "https://localhost:8080/",
          "height": 51
        }
      },
      "source": [
        "# range(a, b, c)\n",
        "# a = start\n",
        "# b = stop\n",
        "# c = step (common difference of AP)\n",
        "for i in range(5, 30, 5):\n",
        "  print(i, end=\" \")\n",
        "print()\n",
        "for i in range(-2, -40, -6):\n",
        "  print(i, end=\" \")"
      ],
      "execution_count": 0,
      "outputs": [
        {
          "output_type": "stream",
          "text": [
            "5 10 15 20 25 \n",
            "-2 -8 -14 -20 -26 -32 -38 "
          ],
          "name": "stdout"
        }
      ]
    },
    {
      "cell_type": "code",
      "metadata": {
        "colab_type": "code",
        "id": "Y1nZqDWpT99W",
        "outputId": "df745b1a-c659-44da-a137-ce119daf5e58",
        "colab": {
          "base_uri": "https://localhost:8080/",
          "height": 34
        }
      },
      "source": [
        "# iterating over the indices of a sequence using range() and len()\n",
        "str = \"software engineering\"\n",
        "for i in range(len(str)):\n",
        "  print(str[i], end=\" \")"
      ],
      "execution_count": 0,
      "outputs": [
        {
          "output_type": "stream",
          "text": [
            "s o f t w a r e   e n g i n e e r i n g "
          ],
          "name": "stdout"
        }
      ]
    },
    {
      "cell_type": "markdown",
      "metadata": {
        "colab_type": "text",
        "id": "ZrorQqe6x7uY"
      },
      "source": [
        "## list() method"
      ]
    },
    {
      "cell_type": "code",
      "metadata": {
        "colab_type": "code",
        "id": "7Z1aCHI8VSEt",
        "outputId": "72b99023-28dc-40d1-cf6f-3c7c83e034f7",
        "scrolled": true,
        "colab": {
          "base_uri": "https://localhost:8080/",
          "height": 34
        }
      },
      "source": [
        "# we can create lists from iterables using this method\n",
        "list(range(10))"
      ],
      "execution_count": 0,
      "outputs": [
        {
          "output_type": "execute_result",
          "data": {
            "text/plain": [
              "[0, 1, 2, 3, 4, 5, 6, 7, 8, 9]"
            ]
          },
          "metadata": {
            "tags": []
          },
          "execution_count": 104
        }
      ]
    },
    {
      "cell_type": "markdown",
      "metadata": {
        "colab_type": "text",
        "id": "HM4HrwMzKv-j"
      },
      "source": [
        "## break statement and else clause on loop"
      ]
    },
    {
      "cell_type": "markdown",
      "metadata": {
        "colab_type": "text",
        "id": "1ZH99i67Lc1W"
      },
      "source": [
        "The break statement, like in C, breaks out of the innermost enclosing for or while loop.\n",
        "\n",
        "Loop statements may have an else clause; it is *executed when the loop terminates through exhaustion of the list (with for) or when the condition becomes false (with while)*, **but not when the loop is terminated by a break statement.**"
      ]
    },
    {
      "cell_type": "markdown",
      "metadata": {
        "colab_type": "text",
        "id": "TThqIfFDLxET"
      },
      "source": [
        "## Find primes upto N"
      ]
    },
    {
      "cell_type": "code",
      "metadata": {
        "colab_type": "code",
        "id": "1Ii6JWFlKvmP",
        "outputId": "d0092e23-e5c7-4a4b-d9e6-6fc200e0ccd3",
        "colab": {
          "base_uri": "https://localhost:8080/",
          "height": 238
        }
      },
      "source": [
        "def primes(n):\n",
        "  for i in range(2, n):\n",
        "    for j in range(2, i):\n",
        "      if i % j == 0:\n",
        "        print(i, \"equals\", j, \"*\", i//j)\n",
        "        break\n",
        "    else:\n",
        "      # loop fell through without finding a factor\n",
        "      # else belongs to the for loop\n",
        "      # loop's else clause runs when no break occurs\n",
        "      # similar to try (in exception handling), when no exception occurs\n",
        "      # else clause of try executes\n",
        "      print(\"%d is a prime number\" %(i))\n",
        "\n",
        "primes(15)"
      ],
      "execution_count": 0,
      "outputs": [
        {
          "output_type": "stream",
          "text": [
            "2 is a prime number\n",
            "3 is a prime number\n",
            "4 equals 2 * 2\n",
            "5 is a prime number\n",
            "6 equals 2 * 3\n",
            "7 is a prime number\n",
            "8 equals 2 * 4\n",
            "9 equals 3 * 3\n",
            "10 equals 2 * 5\n",
            "11 is a prime number\n",
            "12 equals 2 * 6\n",
            "13 is a prime number\n",
            "14 equals 2 * 7\n"
          ],
          "name": "stdout"
        }
      ]
    },
    {
      "cell_type": "markdown",
      "metadata": {
        "id": "StuwFYb5Lk-b",
        "colab_type": "text"
      },
      "source": [
        "## Find primes within a range\n",
        "- we can do it efficiently if we use sieve of eratosthenes method"
      ]
    },
    {
      "cell_type": "code",
      "metadata": {
        "id": "JnHoKgiyLkI-",
        "colab_type": "code",
        "outputId": "bc52095f-a81d-4d08-ee25-ff6bffc48187",
        "colab": {
          "base_uri": "https://localhost:8080/",
          "height": 34
        }
      },
      "source": [
        "def prime1(l, u):\n",
        "  for i in range(l, u+1):\n",
        "    count = 0\n",
        "    for j in range(1, i+1):\n",
        "      if i%j == 0:\n",
        "        count+=1\n",
        "    \n",
        "    if count==2:\n",
        "      print(i, end=\" \")\n",
        "\n",
        "prime1(5, 30)"
      ],
      "execution_count": 0,
      "outputs": [
        {
          "output_type": "stream",
          "text": [
            "5 7 11 13 17 19 23 29 "
          ],
          "name": "stdout"
        }
      ]
    },
    {
      "cell_type": "markdown",
      "metadata": {
        "id": "snDs61vWNrtD",
        "colab_type": "text"
      },
      "source": [
        "## Perfect number"
      ]
    },
    {
      "cell_type": "code",
      "metadata": {
        "id": "jk71Pi0MNuio",
        "colab_type": "code",
        "outputId": "3fb55309-ae22-4084-e29b-1498b3b77bd4",
        "colab": {
          "base_uri": "https://localhost:8080/",
          "height": 68
        }
      },
      "source": [
        "import math\n",
        "\n",
        "def perfect(n):\n",
        "  sum = 1\n",
        "  k = int(math.ceil(math.sqrt(n+1)))\n",
        "  for i in range(2, k):\n",
        "    if n%i == 0:\n",
        "      sum+=(i+(n/i))\n",
        "  if sum == n:\n",
        "    print(\"{0} is a perfect number.\".format(n))\n",
        "  else:\n",
        "    print(\"{0} is not a perfect number.\".format(n))\n",
        "\n",
        "perfect(6)\n",
        "perfect(496)\n",
        "perfect(494)"
      ],
      "execution_count": 0,
      "outputs": [
        {
          "output_type": "stream",
          "text": [
            "6 is a perfect number.\n",
            "496 is a perfect number.\n",
            "494 is not a perfect number.\n"
          ],
          "name": "stdout"
        }
      ]
    },
    {
      "cell_type": "markdown",
      "metadata": {
        "id": "vGQaCSQUOkLH",
        "colab_type": "text"
      },
      "source": [
        "## Perfect number within range"
      ]
    },
    {
      "cell_type": "code",
      "metadata": {
        "id": "fZKQGif1OnXC",
        "colab_type": "code",
        "outputId": "7164fc08-abcd-44a3-fb99-ec4091290ce6",
        "colab": {
          "base_uri": "https://localhost:8080/",
          "height": 51
        }
      },
      "source": [
        "import math\n",
        "\n",
        "def perfect1(l, u):\n",
        "  # corner case\n",
        "  if l == 1:\n",
        "    l = 2\n",
        "\n",
        "  for i in range(l, u+1):\n",
        "    sum = 1\n",
        "    k = int(math.ceil(math.sqrt(i+1)))\n",
        "    for j in range(2, k):\n",
        "      if i%j == 0:\n",
        "        sum+=(j + (i/j))\n",
        "    if sum == i:\n",
        "      print(i, end=\" \")\n",
        "\n",
        "  print()\n",
        "\n",
        "perfect1(1, 10000)\n",
        "perfect1(20, 90000)"
      ],
      "execution_count": 0,
      "outputs": [
        {
          "output_type": "stream",
          "text": [
            "6 28 496 8128 \n",
            "28 496 8128 \n"
          ],
          "name": "stdout"
        }
      ]
    },
    {
      "cell_type": "markdown",
      "metadata": {
        "id": "QdK-3QjSetZ2",
        "colab_type": "text"
      },
      "source": [
        "## Strong number"
      ]
    },
    {
      "cell_type": "code",
      "metadata": {
        "id": "O6J-SkAbevZ2",
        "colab_type": "code",
        "outputId": "d4e4559c-830c-406d-bbb0-ca1d3a6295b0",
        "colab": {
          "base_uri": "https://localhost:8080/",
          "height": 85
        }
      },
      "source": [
        "def factorial(n):\n",
        "  if n <= 0:\n",
        "    return 1\n",
        "  else:\n",
        "    return n * factorial(n-1)\n",
        "\n",
        "def strong(n):\n",
        "  temp = n\n",
        "  sum = 0\n",
        "  while n > 0:\n",
        "      f = factorial(n%10)\n",
        "      sum += f\n",
        "      n = n // 10\n",
        "  \n",
        "  if sum == temp:\n",
        "    print(\"It's a strong number.\")\n",
        "  else:\n",
        "    print(\"It's not a strong number.\")\n",
        "\n",
        "strong(145)\n",
        "strong(2)\n",
        "strong(56)\n",
        "strong(21)"
      ],
      "execution_count": 0,
      "outputs": [
        {
          "output_type": "stream",
          "text": [
            "It's a strong number.\n",
            "It's a strong number.\n",
            "It's not a strong number.\n",
            "It's not a strong number.\n"
          ],
          "name": "stdout"
        }
      ]
    },
    {
      "cell_type": "markdown",
      "metadata": {
        "colab_type": "text",
        "id": "TaGPiE5qQ5o5"
      },
      "source": [
        "## continue statement"
      ]
    },
    {
      "cell_type": "markdown",
      "metadata": {
        "colab_type": "text",
        "id": "Xem2mzF2RoA1"
      },
      "source": [
        "Like C, it continues with the next iteration of the loop."
      ]
    },
    {
      "cell_type": "markdown",
      "metadata": {
        "colab_type": "text",
        "id": "pblPcxWuRqIc"
      },
      "source": [
        "## pass statement"
      ]
    },
    {
      "cell_type": "markdown",
      "metadata": {
        "colab_type": "text",
        "id": "zZ2r82IcR7Za"
      },
      "source": [
        "It does nothing. Read more https://docs.python.org/3/tutorial/controlflow.html#pass-statements"
      ]
    },
    {
      "cell_type": "markdown",
      "metadata": {
        "colab_type": "text",
        "id": "OVoCcSk-SE7z"
      },
      "source": [
        "## Defining a function"
      ]
    },
    {
      "cell_type": "markdown",
      "metadata": {
        "colab_type": "text",
        "id": "s8T1qCAcSIgX"
      },
      "source": [
        "- The keyword def introduces a function definition. It must be followed by the function name and the parenthesized list of formal parameters. The statements that form the body of the function start at the next line, and must be indented.\n",
        "- The first statement of the function body can optionally be a string literal; this string literal is the function’s documentation string, or docstring.\n",
        "- The execution of a function introduces a new symbol table used for the local variables of the function.\n",
        "- The actual parameters (arguments) to a function call are introduced in the local symbol table of the called function when it is called; thus, arguments are passed using **call by value** (where the value is always an object reference, not the value of the object).\n",
        "- In fact, even functions without a return statement do return a value, albeit a rather boring one. **This value is called None (it’s a built-in name)**. Writing the value None is normally suppressed by the interpreter if it would be the only value written."
      ]
    },
    {
      "cell_type": "markdown",
      "metadata": {
        "colab_type": "text",
        "id": "VEsofk7iaIO9"
      },
      "source": [
        "##  return statement"
      ]
    },
    {
      "cell_type": "code",
      "metadata": {
        "colab_type": "code",
        "id": "VJKxweq4aKq6",
        "outputId": "2e5f73c0-c8fd-4994-fccc-fa09aab87541",
        "colab": {
          "base_uri": "https://localhost:8080/",
          "height": 34
        }
      },
      "source": [
        "def sublist(fruits, m, n):\n",
        "  return fruits[m:n]\n",
        "\n",
        "fruits = [\"mango\", \"apple\", \"guave\", \"grapes\", \"banana\", \"pineapple\", \"cucumber\", \"pomegranate\", \"watermelon\", \"naseberry\"]\n",
        "sublist(fruits, 2, 5)"
      ],
      "execution_count": 0,
      "outputs": [
        {
          "output_type": "execute_result",
          "data": {
            "text/plain": [
              "['guave', 'grapes', 'banana']"
            ]
          },
          "metadata": {
            "tags": []
          },
          "execution_count": 109
        }
      ]
    },
    {
      "cell_type": "markdown",
      "metadata": {
        "colab_type": "text",
        "id": "KO8x5g3TiNzb"
      },
      "source": [
        "## Default argument values in function\n",
        "\n",
        "- The default values are evaluated at the point of function definition in the defining scope.\n",
        "- The default value is evaluated only once. This makes a difference when the default is a mutable object such as a list, dictionary, or instances of most classes. Read more https://docs.python.org/3/tutorial/controlflow.html#default-argument-values"
      ]
    },
    {
      "cell_type": "code",
      "metadata": {
        "colab_type": "code",
        "id": "H3NAXRQpiSla",
        "outputId": "d4176fea-7d6d-4ea8-9709-619280bab9a4",
        "colab": {
          "base_uri": "https://localhost:8080/",
          "height": 51
        }
      },
      "source": [
        "def ask_ok(prompt, retries=4, reminder='Please try again!'): # two arguments have been assigned a default\n",
        "    while True:\n",
        "        ok = input(prompt)\n",
        "        if ok in ('y', 'ye', 'yes'):\n",
        "            return True\n",
        "        if ok in ('n', 'no', 'nop', 'nope'):\n",
        "            return False\n",
        "        retries = retries - 1\n",
        "        if retries < 0:\n",
        "            raise ValueError('invalid user response')\n",
        "        print(reminder)\n",
        "\n",
        "# ask_ok(\"Do you really want to quit?\")\n",
        "ask_ok(\"Okay?\", 2, \"Only yes or no!\")"
      ],
      "execution_count": 0,
      "outputs": [
        {
          "output_type": "stream",
          "text": [
            "Okay?y\n"
          ],
          "name": "stdout"
        },
        {
          "output_type": "execute_result",
          "data": {
            "text/plain": [
              "True"
            ]
          },
          "metadata": {
            "tags": []
          },
          "execution_count": 110
        }
      ]
    },
    {
      "cell_type": "markdown",
      "metadata": {
        "colab_type": "text",
        "id": "NZhQFmIZ8ZwJ"
      },
      "source": [
        "## in and not in operator\n",
        "- The operators in and not in **test for membership**. x in s evaluates to True if x is a member of s, and False otherwise. x not in s returns the negation of x in s. \n",
        "- Read more https://docs.python.org/3/reference/expressions.html#membership-test-operations"
      ]
    },
    {
      "cell_type": "markdown",
      "metadata": {
        "colab_type": "text",
        "id": "HXM5bIQHn3wg"
      },
      "source": [
        "##  Lambda expression\n",
        "Small anonymous functions are created with the lambda keyword. No need of function name and return statement\n",
        "\n",
        "Read more https://www.geeksforgeeks.org/python-lambda-anonymous-functions-filter-map-reduce/"
      ]
    },
    {
      "cell_type": "code",
      "metadata": {
        "colab_type": "code",
        "id": "PlkEWhfToGdz",
        "outputId": "55ad9406-3793-420e-9794-96229d1c7401",
        "colab": {
          "base_uri": "https://localhost:8080/",
          "height": 34
        }
      },
      "source": [
        "g = lambda x: x*x*x\n",
        "print(g(3))"
      ],
      "execution_count": 0,
      "outputs": [
        {
          "output_type": "stream",
          "text": [
            "27\n"
          ],
          "name": "stdout"
        }
      ]
    },
    {
      "cell_type": "code",
      "metadata": {
        "colab_type": "code",
        "id": "1cMvBIcDocNu",
        "outputId": "d4e73d2e-c2ca-4b61-84e3-b5be46bf4f29",
        "colab": {
          "base_uri": "https://localhost:8080/",
          "height": 34
        }
      },
      "source": [
        "# using filter function\n",
        "# The filter() function in Python takes in a function and a list as arguments.\n",
        "# This offers an elegant way to filter out all the elements of a sequence, \n",
        "# for which the function returns True. \n",
        "li = [5, 7, 22, 97, 54, 62, 77, 23, 73, 61]\n",
        "final_list = list(filter(lambda x:(x%2 != 0), li))\n",
        "print(final_list)"
      ],
      "execution_count": 0,
      "outputs": [
        {
          "output_type": "stream",
          "text": [
            "[5, 7, 97, 77, 23, 73, 61]\n"
          ],
          "name": "stdout"
        }
      ]
    },
    {
      "cell_type": "markdown",
      "metadata": {
        "colab_type": "text",
        "id": "5JW9sGfC5Rvi"
      },
      "source": [
        "## Unpacking Argument Lists"
      ]
    },
    {
      "cell_type": "code",
      "metadata": {
        "colab_type": "code",
        "id": "J6nTQlpN5Tnm",
        "outputId": "a954f335-eb95-4e01-bcdd-f79bbfd7eab9",
        "colab": {
          "base_uri": "https://localhost:8080/",
          "height": 34
        }
      },
      "source": [
        "a = [3, 8]\n",
        "print(list(range(*a)))"
      ],
      "execution_count": 0,
      "outputs": [
        {
          "output_type": "stream",
          "text": [
            "[3, 4, 5, 6, 7]\n"
          ],
          "name": "stdout"
        }
      ]
    },
    {
      "cell_type": "markdown",
      "metadata": {
        "colab_type": "text",
        "id": "sog7q2b9juZX"
      },
      "source": [
        "## What's left to read in this chapter?\n",
        "- Keyword Arguments\n",
        "- Arbitrary Argument Lists\n",
        "- Documentation Strings\n",
        "- Function Annotations"
      ]
    },
    {
      "cell_type": "markdown",
      "metadata": {
        "colab_type": "text",
        "id": "fyu5fdyoNsmy"
      },
      "source": [
        "<img src=\"https://raw.githubusercontent.com/thecoducer/python_programs/master/Images/large.jpg\" width=\"65%\" height=\"65%\" />"
      ]
    },
    {
      "cell_type": "markdown",
      "metadata": {
        "colab_type": "text",
        "id": "w07rDMCSv2L_"
      },
      "source": [
        "# Data Structures\n",
        "\n",
        "https://docs.python.org/3/tutorial/datastructures.html"
      ]
    },
    {
      "cell_type": "markdown",
      "metadata": {
        "colab_type": "text",
        "id": "U3hJypyQhdDP"
      },
      "source": [
        "## More on lists"
      ]
    },
    {
      "cell_type": "code",
      "metadata": {
        "colab_type": "code",
        "id": "b_oB5qflgBd6",
        "outputId": "5f62cb46-1075-433a-d67e-a2f29a8fefc4",
        "colab": {
          "base_uri": "https://localhost:8080/",
          "height": 289
        }
      },
      "source": [
        "# list.append(x) - adds to the end of the list\n",
        "l1 = [1, 2, 3]\n",
        "l1.append(4)\n",
        "print(l1)\n",
        "\n",
        "# list.extend(iterable) - extends the list by appending all the items from the iterable\n",
        "l1.extend(range(6, 10))\n",
        "print(l1)\n",
        "\n",
        "# list.insert(i, x) - i is the index value and x is the data to insert\n",
        "l1.insert(4, 5)\n",
        "print(l1)\n",
        "\n",
        "# list.remove(x) - removes first item from the list whose value is equal to x. Raises ValueError if not found\n",
        "l1.remove(3)\n",
        "print(l1)\n",
        "\n",
        "# list.pop([i]) - passing the parameter is optional and hence written within [].\n",
        "# removes the item at a given position\n",
        "# list.pop() removes and returns the last item in the list\n",
        "print(l1.pop())\n",
        "print(l1)\n",
        "\n",
        "# list.clear() - removes all items from the list. Equivalent to del list[:]\n",
        "l2 = [98, 56, 21, 30]\n",
        "print(l2)\n",
        "l2.clear()\n",
        "print(l2)\n",
        "\n",
        "# list.index(x[, start[, end]])\n",
        "print(l1.index(4))\n",
        "print(l1.index(7, 1, len(l1)))\n",
        "# print(l1.index(7, 1, 3)) # raises ValueError since 7 is not in the slice | 1 | 2 | 3 |\n",
        "\n",
        "# list.count(x) - return the number of times x appears in the list\n",
        "l2 = [6, 51, 6, 21, 52, 6, 2]\n",
        "print(l2.count(6))\n",
        "\n",
        "#list.sort(key=None, reverse=False) - sorts elements in place\n",
        "print(l2)\n",
        "l2.sort()\n",
        "print(l2)\n",
        "l2.sort(reverse=True)\n",
        "print(l2)\n",
        "\n",
        "# list.reverse() - reverse the elements in \n",
        "l1.reverse()\n",
        "print(l1)\n",
        "\n",
        "# list.copy() - returns a shallow copy of the list. Equivalent to list[:]\n",
        "print(l2.copy())"
      ],
      "execution_count": 0,
      "outputs": [
        {
          "output_type": "stream",
          "text": [
            "[1, 2, 3, 4]\n",
            "[1, 2, 3, 4, 6, 7, 8, 9]\n",
            "[1, 2, 3, 4, 5, 6, 7, 8, 9]\n",
            "[1, 2, 4, 5, 6, 7, 8, 9]\n",
            "9\n",
            "[1, 2, 4, 5, 6, 7, 8]\n",
            "[98, 56, 21, 30]\n",
            "[]\n",
            "2\n",
            "5\n",
            "3\n",
            "[6, 51, 6, 21, 52, 6, 2]\n",
            "[2, 6, 6, 6, 21, 51, 52]\n",
            "[52, 51, 21, 6, 6, 6, 2]\n",
            "[8, 7, 6, 5, 4, 2, 1]\n",
            "[52, 51, 21, 6, 6, 6, 2]\n"
          ],
          "name": "stdout"
        }
      ]
    },
    {
      "cell_type": "markdown",
      "metadata": {
        "colab_type": "text",
        "id": "X_oQ24ys7dzI"
      },
      "source": [
        "## Using lists as stacks\n",
        "- stack follows LIFO(last-in, first-out) principle\n",
        "- to push we use append()\n",
        "- to pop we use pop()"
      ]
    },
    {
      "cell_type": "code",
      "metadata": {
        "colab_type": "code",
        "id": "RrxSICe67ggS",
        "outputId": "34836239-a049-4e57-93c1-cd37f955a6ca",
        "colab": {
          "base_uri": "https://localhost:8080/",
          "height": 85
        }
      },
      "source": [
        "stack = [3, 8, 2]\n",
        "stack.append(4)\n",
        "stack.append(7)\n",
        "print(stack)\n",
        "print(stack.pop())\n",
        "print(stack.pop())\n",
        "print(stack)"
      ],
      "execution_count": 0,
      "outputs": [
        {
          "output_type": "stream",
          "text": [
            "[3, 8, 2, 4, 7]\n",
            "7\n",
            "4\n",
            "[3, 8, 2]\n"
          ],
          "name": "stdout"
        }
      ]
    },
    {
      "cell_type": "markdown",
      "metadata": {
        "colab_type": "text",
        "id": "tMX-QOQb8xoE"
      },
      "source": [
        "## Using lists as queues\n",
        "- queue follows FIFO(first-in, first-out) principle\n",
        "- It is also possible to use a list as a queue, where the first element added is the first element retrieved.\n",
        "- However, lists are not efficient for this purpose.\n",
        "- While appends and pops from the end of list are fast.\n",
        "- but doing inserts or pops from the beginning of a list is slow (because all of the other elements have to be shifted by one).\n",
        "- to implement a queue, use collections.deque which was designed to have fast appends and pops from both ends.\n",
        "- Deques support thread-safe, memory efficient appends and pops from either side of the deque with approximately the same O(1) performance in either direction."
      ]
    },
    {
      "cell_type": "code",
      "metadata": {
        "colab_type": "code",
        "id": "SueUMHkb80Jq",
        "outputId": "a33d2756-2232-4e43-88ed-fd5e9608d041",
        "colab": {
          "base_uri": "https://localhost:8080/",
          "height": 68
        }
      },
      "source": [
        "from collections import deque\n",
        "queue = deque([\"Amit\", \"Karthik\", \"Sammy\", \"Avik\"])\n",
        "queue.append(\"Tanmoy\")\n",
        "queue.append(\"Komal\")\n",
        "print(queue.popleft())\n",
        "print(queue.popleft())\n",
        "print(queue)"
      ],
      "execution_count": 0,
      "outputs": [
        {
          "output_type": "stream",
          "text": [
            "Amit\n",
            "Karthik\n",
            "deque(['Sammy', 'Avik', 'Tanmoy', 'Komal'])\n"
          ],
          "name": "stdout"
        }
      ]
    },
    {
      "cell_type": "markdown",
      "metadata": {
        "colab_type": "text",
        "id": "8cLOqRrW-_x8"
      },
      "source": [
        "## List comprehensions\n",
        "- List comprehensions provide a concise way to create lists. Common applications are to make new lists where each element is the result of some operations applied to each member of another sequence or iterable, or to create a subsequence of those elements that satisfy a certain condition.\n",
        "- **basic syntax: new_list = [expression for_loop_one_or_more condtions]**"
      ]
    },
    {
      "cell_type": "code",
      "metadata": {
        "colab_type": "code",
        "id": "HGAHxXBNARnQ",
        "outputId": "f1eaea7d-3819-47f8-997f-1ac0bd40ee2f",
        "colab": {
          "base_uri": "https://localhost:8080/",
          "height": 34
        }
      },
      "source": [
        "squares = []\n",
        "for x in range(10):\n",
        "    squares.append(x**2)\n",
        "\n",
        "print(squares)"
      ],
      "execution_count": 0,
      "outputs": [
        {
          "output_type": "stream",
          "text": [
            "[0, 1, 4, 9, 16, 25, 36, 49, 64, 81]\n"
          ],
          "name": "stdout"
        }
      ]
    },
    {
      "cell_type": "code",
      "metadata": {
        "colab_type": "code",
        "id": "GoQzuVs9Abdo",
        "outputId": "1066405c-f586-4883-eb5e-a1d2bba693aa",
        "colab": {
          "base_uri": "https://localhost:8080/",
          "height": 34
        }
      },
      "source": [
        "squares = list(map(lambda x:x**2, range(10)))\n",
        "print(squares)"
      ],
      "execution_count": 0,
      "outputs": [
        {
          "output_type": "stream",
          "text": [
            "[0, 1, 4, 9, 16, 25, 36, 49, 64, 81]\n"
          ],
          "name": "stdout"
        }
      ]
    },
    {
      "cell_type": "code",
      "metadata": {
        "colab_type": "code",
        "id": "LO25YkRlKCvE",
        "outputId": "34f651f6-132f-46de-82b6-d359340811e6",
        "colab": {
          "base_uri": "https://localhost:8080/",
          "height": 34
        }
      },
      "source": [
        "# more concise and readable\n",
        "# this is list comprehension\n",
        "squares = [x**2 for x in range(1, 10)]\n",
        "print(squares)"
      ],
      "execution_count": 0,
      "outputs": [
        {
          "output_type": "stream",
          "text": [
            "[1, 4, 9, 16, 25, 36, 49, 64, 81]\n"
          ],
          "name": "stdout"
        }
      ]
    },
    {
      "cell_type": "code",
      "metadata": {
        "colab_type": "code",
        "id": "vXFNSF9PMnor",
        "outputId": "f5891ddd-400f-4a72-88b6-311243fe5704",
        "colab": {
          "base_uri": "https://localhost:8080/",
          "height": 34
        }
      },
      "source": [
        "# If the expression is a tuple, it must be parenthesized.\n",
        "[(x, y) for x in [1,2,3] for y in [3,1,4] if x != y]"
      ],
      "execution_count": 0,
      "outputs": [
        {
          "output_type": "execute_result",
          "data": {
            "text/plain": [
              "[(1, 3), (1, 4), (2, 3), (2, 1), (2, 4), (3, 1), (3, 4)]"
            ]
          },
          "metadata": {
            "tags": []
          },
          "execution_count": 120
        }
      ]
    },
    {
      "cell_type": "code",
      "metadata": {
        "colab_type": "code",
        "id": "Kj3DZbnTPO2n",
        "outputId": "4e047621-969c-418d-c014-2774cd3d6f51",
        "colab": {
          "base_uri": "https://localhost:8080/",
          "height": 34
        }
      },
      "source": [
        "# flatten a list using a list comprehension with two 'for'\n",
        "vec = [[1,2,3], [4,5,6], [7,8,9]]\n",
        "[num for elem in vec for num in elem]"
      ],
      "execution_count": 0,
      "outputs": [
        {
          "output_type": "execute_result",
          "data": {
            "text/plain": [
              "[1, 2, 3, 4, 5, 6, 7, 8, 9]"
            ]
          },
          "metadata": {
            "tags": []
          },
          "execution_count": 121
        }
      ]
    },
    {
      "cell_type": "code",
      "metadata": {
        "colab_type": "code",
        "id": "mTDRvqZZP7Kn",
        "outputId": "2c9c0a62-1f97-4d08-a910-91fc4fc78947",
        "colab": {
          "base_uri": "https://localhost:8080/",
          "height": 34
        }
      },
      "source": [
        "# call a method on each element\n",
        "freshfruit = ['  banana', '  loganberry ', 'passion fruit  ']\n",
        "[weapon.strip() for weapon in freshfruit]"
      ],
      "execution_count": 0,
      "outputs": [
        {
          "output_type": "execute_result",
          "data": {
            "text/plain": [
              "['banana', 'loganberry', 'passion fruit']"
            ]
          },
          "metadata": {
            "tags": []
          },
          "execution_count": 122
        }
      ]
    },
    {
      "cell_type": "markdown",
      "metadata": {
        "colab_type": "text",
        "id": "aRwCpcqUkSuU"
      },
      "source": [
        "## Capitalize each word in a string"
      ]
    },
    {
      "cell_type": "code",
      "metadata": {
        "colab_type": "code",
        "id": "62ta21OEkWTU",
        "outputId": "b0bcda5f-5ca7-4b2b-a6c2-9551f33c55ec",
        "colab": {
          "base_uri": "https://localhost:8080/",
          "height": 51
        }
      },
      "source": [
        "str = input()\n",
        "l = str.split()\n",
        "print(\" \".join(word.capitalize() for word in l)) # list comprehension"
      ],
      "execution_count": 0,
      "outputs": [
        {
          "output_type": "stream",
          "text": [
            "operating system\n",
            "Operating System\n"
          ],
          "name": "stdout"
        }
      ]
    },
    {
      "cell_type": "markdown",
      "metadata": {
        "colab_type": "text",
        "id": "IeHP1X30KDNI"
      },
      "source": [
        "## map() method\n",
        "- map(function, iterable, ...)\n",
        "- map() function returns a list of the results after applying the given function to each item of a given iterable (list, tuple etc.)\n",
        "- read: https://www.geeksforgeeks.org/python-map-function/\n",
        "- read: https://docs.python.org/3/library/functions.html#map"
      ]
    },
    {
      "cell_type": "code",
      "metadata": {
        "colab_type": "code",
        "id": "z3Yg6wRjLOIv",
        "outputId": "7998aedf-7f78-445e-8fc6-f99d5be358ab",
        "colab": {
          "base_uri": "https://localhost:8080/",
          "height": 34
        }
      },
      "source": [
        "# listify the list of strings individually\n",
        "\n",
        "l = ['sat', 'bat', 'cat', 'mat'] \n",
        "\n",
        "test = list(map(list, l)) \n",
        "print(test) \n"
      ],
      "execution_count": 0,
      "outputs": [
        {
          "output_type": "stream",
          "text": [
            "[['s', 'a', 't'], ['b', 'a', 't'], ['c', 'a', 't'], ['m', 'a', 't']]\n"
          ],
          "name": "stdout"
        }
      ]
    },
    {
      "cell_type": "markdown",
      "metadata": {
        "colab_type": "text",
        "id": "odhSt-ciOs65"
      },
      "source": [
        "## Iterator vs Iterable\n",
        "- read: https://www.geeksforgeeks.org/python-difference-iterable-iterator/"
      ]
    },
    {
      "cell_type": "markdown",
      "metadata": {
        "colab_type": "text",
        "id": "JOrPZIRZmvgv"
      },
      "source": [
        "## Nested list comprehensions"
      ]
    },
    {
      "cell_type": "code",
      "metadata": {
        "colab_type": "code",
        "id": "kN3FY2zgmzZi",
        "outputId": "f49b6eb7-2053-4b60-fea6-8bec43f68a5f",
        "colab": {
          "base_uri": "https://localhost:8080/",
          "height": 34
        }
      },
      "source": [
        "# transpose a matrix\n",
        "# using nested list comprehensions\n",
        "matrix = [\n",
        "    [1, 2, 3, 4],\n",
        "    [5, 6, 7, 8],\n",
        "    [9, 10, 11, 12],\n",
        "]\n",
        "\n",
        "print([[row[i] for row in matrix] for i in range(4)])\n",
        "\n",
        "#for row in matrix:\n",
        "#  print(row)"
      ],
      "execution_count": 0,
      "outputs": [
        {
          "output_type": "stream",
          "text": [
            "[[1, 5, 9], [2, 6, 10], [3, 7, 11], [4, 8, 12]]\n"
          ],
          "name": "stdout"
        }
      ]
    },
    {
      "cell_type": "code",
      "metadata": {
        "colab_type": "code",
        "id": "pnV3aDki41Vj",
        "outputId": "ebfe8a62-84f2-4c66-cedb-07e2a8ebff18",
        "colab": {
          "base_uri": "https://localhost:8080/",
          "height": 34
        }
      },
      "source": [
        "# using zip()\n",
        "matrix = [\n",
        "    [1, 2, 3, 4],\n",
        "    [5, 6, 7, 8],\n",
        "    [9, 10, 11, 12],\n",
        "]\n",
        "\n",
        "print(list(zip(*matrix))) # *matrix unpacks argument lists"
      ],
      "execution_count": 0,
      "outputs": [
        {
          "output_type": "stream",
          "text": [
            "[(1, 5, 9), (2, 6, 10), (3, 7, 11), (4, 8, 12)]\n"
          ],
          "name": "stdout"
        }
      ]
    },
    {
      "cell_type": "markdown",
      "metadata": {
        "colab_type": "text",
        "id": "waoItAGD6NZC"
      },
      "source": [
        "## zip() method\n",
        "- The purpose of zip() is to map the similar index of multiple containers so that they can be used just using as single entity.\n",
        "- Syntax : \n",
        "zip(*iterators)\n",
        "- Parameters : \n",
        "Python iterables or containers ( list, string etc )\n",
        "- Return Value : \n",
        "Returns a single iterator object, having mapped values from all the\n",
        "containers."
      ]
    },
    {
      "cell_type": "markdown",
      "metadata": {
        "colab_type": "text",
        "id": "XImrPpRpFJBK"
      },
      "source": [
        "## del statement"
      ]
    },
    {
      "cell_type": "code",
      "metadata": {
        "colab_type": "code",
        "id": "-ivJQGoFFLdB",
        "outputId": "d0c689ab-4627-4f60-bdf5-183e57254305",
        "colab": {
          "base_uri": "https://localhost:8080/",
          "height": 51
        }
      },
      "source": [
        "m = [1, 2, 3, 4, 5]\n",
        "del m[2:4]\n",
        "print(m)\n",
        "del m[2]\n",
        "print(m)"
      ],
      "execution_count": 0,
      "outputs": [
        {
          "output_type": "stream",
          "text": [
            "[1, 2, 5]\n",
            "[1, 2]\n"
          ],
          "name": "stdout"
        }
      ]
    },
    {
      "cell_type": "markdown",
      "metadata": {
        "colab_type": "text",
        "id": "GXHO7ladKNi-"
      },
      "source": [
        "## Tuples and sequences\n",
        "- List, strings, tuples, range are all examples of sequence types\n",
        "- tuple consists of a number of values seperated by commas\n",
        "- tuples may be nested\n",
        "- tuples are immutable\n",
        "- tuples when printed are always enclosed in parentheses\n",
        "- generally, tuples are used to store heterogenous elements whereas lists are used to store homogenous elements\n",
        "- Note that multiple assignment is really just a combination of tuple packing and sequence unpacking."
      ]
    },
    {
      "cell_type": "code",
      "metadata": {
        "colab_type": "code",
        "id": "rHDegqd0Xnkf",
        "outputId": "db5d999e-1f1d-4fd7-a2dd-b853e4ac0c0a",
        "colab": {
          "base_uri": "https://localhost:8080/",
          "height": 119
        }
      },
      "source": [
        "t = 748, 9709, \"Hello\"\n",
        "print(t)\n",
        "y = t, 76, 97 # nested tuple\n",
        "print(y)\n",
        "print(t[2])\n",
        "# tuple consists no item\n",
        "p = ()\n",
        "print(len(p))\n",
        "# tuple has one item\n",
        "o = \"Hey!\", # note trailing comma\n",
        "print(len(o))\n",
        "print(o)"
      ],
      "execution_count": 0,
      "outputs": [
        {
          "output_type": "stream",
          "text": [
            "(748, 9709, 'Hello')\n",
            "((748, 9709, 'Hello'), 76, 97)\n",
            "Hello\n",
            "0\n",
            "1\n",
            "('Hey!',)\n"
          ],
          "name": "stdout"
        }
      ]
    },
    {
      "cell_type": "code",
      "metadata": {
        "colab_type": "code",
        "id": "7kfjWPy6avit",
        "outputId": "36b74b13-e36d-42d0-bd7e-31af31be62fe",
        "colab": {
          "base_uri": "https://localhost:8080/",
          "height": 34
        }
      },
      "source": [
        "# multiple assignment is really just a combination of tuple packing and sequence unpacking\n",
        "# x, y, z = 56, 25, 89\n",
        "# print(x, y, z)\n",
        "# same as:\n",
        "t = 56, 25, 89 # tuple packing\n",
        "x, y, z = t # sequence unpacking\n",
        "print(x, y, z)"
      ],
      "execution_count": 0,
      "outputs": [
        {
          "output_type": "stream",
          "text": [
            "56 25 89\n"
          ],
          "name": "stdout"
        }
      ]
    },
    {
      "cell_type": "markdown",
      "metadata": {
        "colab_type": "text",
        "id": "o09Rk8JWZJ37"
      },
      "source": [
        "## Sets\n",
        "- a set is an unordered collection with no duplicate elements\n",
        "- Basic uses include membership testing and eliminating duplicate entries.\n",
        "- also supports mathematical opeartions like union, intersection, difference and symmetric difference\n",
        "- like list comprehensions, set comprehensions are also supported\n",
        "- sets can also be created using set() constructor"
      ]
    },
    {
      "cell_type": "code",
      "metadata": {
        "colab_type": "code",
        "id": "hbDG-yJrZLDm",
        "outputId": "c292ce5b-4453-487d-fc2f-e08d7937aebd",
        "colab": {
          "base_uri": "https://localhost:8080/",
          "height": 68
        }
      },
      "source": [
        "basket = {'apple', 'orange', 'apple', 'pear', 'orange', 'banana'}\n",
        "print(basket) # notice: duplicates have been removed\n",
        "# search an element in set by fast membership testing\n",
        "print(\"apple\" in basket)\n",
        "print(\"guave\" in basket)"
      ],
      "execution_count": 0,
      "outputs": [
        {
          "output_type": "stream",
          "text": [
            "{'banana', 'apple', 'orange', 'pear'}\n",
            "True\n",
            "False\n"
          ],
          "name": "stdout"
        }
      ]
    },
    {
      "cell_type": "code",
      "metadata": {
        "colab_type": "code",
        "id": "GrcK_qP3TxMN",
        "outputId": "a2b88c41-a272-4e9b-aac6-77fad438241f",
        "colab": {
          "base_uri": "https://localhost:8080/",
          "height": 102
        }
      },
      "source": [
        "# set operations\n",
        "a = set(\"abracadabra\")\n",
        "b = set(\"alacazam\")\n",
        "print(a, b)\n",
        "# letters in a but not in b\n",
        "print(a-b)\n",
        "# letters in a or b or both\n",
        "print(a | b)\n",
        "# letters in both a and b\n",
        "print(a & b)\n",
        "# letters in a or b but not both\n",
        "print(a ^ b)"
      ],
      "execution_count": 0,
      "outputs": [
        {
          "output_type": "stream",
          "text": [
            "{'d', 'a', 'b', 'c', 'r'} {'z', 'a', 'l', 'm', 'c'}\n",
            "{'d', 'r', 'b'}\n",
            "{'d', 'z', 'a', 'b', 'l', 'm', 'c', 'r'}\n",
            "{'c', 'a'}\n",
            "{'d', 'l', 'z', 'm', 'r', 'b'}\n"
          ],
          "name": "stdout"
        }
      ]
    },
    {
      "cell_type": "code",
      "metadata": {
        "colab_type": "code",
        "id": "j-kwaaPhUumZ",
        "outputId": "61d7e50f-d97d-4f87-9917-dc2439034e1b",
        "colab": {
          "base_uri": "https://localhost:8080/",
          "height": 34
        }
      },
      "source": [
        "# set comprehensions\n",
        "a = {x for x in \"alacazam\" if x not in \"alm\"}\n",
        "print(a)"
      ],
      "execution_count": 0,
      "outputs": [
        {
          "output_type": "stream",
          "text": [
            "{'z', 'c'}\n"
          ],
          "name": "stdout"
        }
      ]
    },
    {
      "cell_type": "markdown",
      "metadata": {
        "colab_type": "text",
        "id": "l6TPAUMeVGWU"
      },
      "source": [
        "## Dictionaries\n",
        "- till now we have read built-in types those were sequences\n",
        "- now we will study dictionary which is a mapping type/object\n",
        "- a mapping object maps hashable values to arbitary objects\n",
        "- mappings are mutable objects\n",
        "- Dictionaries can be created by placing a comma-separated list of **key: value pairs** within braces or by the dict constructor\n",
        "- Unlike sequences, which are indexed by a range of numbers, **dictionaries are indexed by keys**, which can be any immutable type; strings and numbers can always be keys\n",
        "- Tuples can be used as keys if they contain only strings, numbers, or tuples; if a tuple contains any mutable object either directly or indirectly, it cannot be used as a key.\n",
        "- You can't use lists as keys since they are mutable"
      ]
    },
    {
      "cell_type": "code",
      "metadata": {
        "colab_type": "code",
        "id": "qUocpBeLXi49",
        "outputId": "c5e191be-3def-449b-ede2-3253fcda6de4",
        "colab": {
          "base_uri": "https://localhost:8080/",
          "height": 119
        }
      },
      "source": [
        "tel = {\"jack\": 4098, \"sape\": 4139, \"klein\": 5206}\n",
        "print(tel)\n",
        "# add new key: value pair\n",
        "tel[\"dire\"] = 8521\n",
        "print(tel)\n",
        "del tel[\"sape\"]\n",
        "print(tel)\n",
        "l = list(tel) # list of keys\n",
        "l = sorted(l)\n",
        "print(l)\n",
        "print(\"kol\" in l)\n",
        "tel.update(jack=6102) # update() method written below\n",
        "print(tel)"
      ],
      "execution_count": 0,
      "outputs": [
        {
          "output_type": "stream",
          "text": [
            "{'jack': 4098, 'sape': 4139, 'klein': 5206}\n",
            "{'jack': 4098, 'sape': 4139, 'klein': 5206, 'dire': 8521}\n",
            "{'jack': 4098, 'klein': 5206, 'dire': 8521}\n",
            "['dire', 'jack', 'klein']\n",
            "False\n",
            "{'jack': 6102, 'klein': 5206, 'dire': 8521}\n"
          ],
          "name": "stdout"
        }
      ]
    },
    {
      "cell_type": "code",
      "metadata": {
        "id": "i_P3e7RFIX4A",
        "colab_type": "code",
        "outputId": "79f427ee-2b6f-4688-b802-f41ebcf2370e",
        "colab": {
          "base_uri": "https://localhost:8080/",
          "height": 34
        }
      },
      "source": [
        "dd = {1: 25, 2: 30, 3:58}\n",
        "print(dd[1])"
      ],
      "execution_count": 0,
      "outputs": [
        {
          "output_type": "stream",
          "text": [
            "25\n"
          ],
          "name": "stdout"
        }
      ]
    },
    {
      "cell_type": "code",
      "metadata": {
        "colab_type": "code",
        "id": "jeM8vRhjjDdD",
        "outputId": "9f98a46d-6918-4cb6-f312-56e1241fd6f9",
        "colab": {
          "base_uri": "https://localhost:8080/",
          "height": 34
        }
      },
      "source": [
        "# The dict() constructor builds dictionaries directly from sequences of key-value pairs:\n",
        "d = dict([('sape', 4139), ('guido', 4127), ('jack', 4098)])\n",
        "print(d)"
      ],
      "execution_count": 0,
      "outputs": [
        {
          "output_type": "stream",
          "text": [
            "{'sape': 4139, 'guido': 4127, 'jack': 4098}\n"
          ],
          "name": "stdout"
        }
      ]
    },
    {
      "cell_type": "code",
      "metadata": {
        "colab_type": "code",
        "id": "CVYnAR8CjNl_",
        "outputId": "beb338d7-f9c5-4188-b209-2186d6aa60ec",
        "colab": {
          "base_uri": "https://localhost:8080/",
          "height": 34
        }
      },
      "source": [
        "# dict comprehensions\n",
        "f = {x: x**2 for x in (2, 4, 6)}\n",
        "print(f)"
      ],
      "execution_count": 0,
      "outputs": [
        {
          "output_type": "stream",
          "text": [
            "{2: 4, 4: 16, 6: 36}\n"
          ],
          "name": "stdout"
        }
      ]
    },
    {
      "cell_type": "code",
      "metadata": {
        "colab_type": "code",
        "id": "DttYu3PijiHq",
        "outputId": "65b3f6e0-acff-4731-8be1-57a36d965b85",
        "colab": {
          "base_uri": "https://localhost:8080/",
          "height": 34
        }
      },
      "source": [
        "# when keys are simple strings, it is sometimes easier to specify pairs using keyword arguments\n",
        "g = dict(sape=4139, guido=4127, jack=4098)\n",
        "print(g)"
      ],
      "execution_count": 0,
      "outputs": [
        {
          "output_type": "stream",
          "text": [
            "{'sape': 4139, 'guido': 4127, 'jack': 4098}\n"
          ],
          "name": "stdout"
        }
      ]
    },
    {
      "cell_type": "markdown",
      "metadata": {
        "colab_type": "text",
        "id": "v-38UIINI3fg"
      },
      "source": [
        "## update()\n",
        "- Update the dictionary with the key/value pairs from other, overwriting existing keys. Return None.\n",
        "- update() accepts either another dictionary object or an iterable of key/value pairs (as tuples or other iterables of length two). If keyword arguments are specified, the dictionary is then updated with those key/value pairs: d.update(red=1, blue=2)."
      ]
    },
    {
      "cell_type": "markdown",
      "metadata": {
        "colab_type": "text",
        "id": "pqEBrc85jvLn"
      },
      "source": [
        "## Looping techniques"
      ]
    },
    {
      "cell_type": "code",
      "metadata": {
        "colab_type": "code",
        "id": "-xfZonkIjxIy",
        "outputId": "5e415107-b11f-40b4-9499-4edef52ecd3a",
        "colab": {
          "base_uri": "https://localhost:8080/",
          "height": 51
        }
      },
      "source": [
        "# When looping through dictionaries, the key and corresponding value \n",
        "# can be retrieved at the same time using the items() method.\n",
        "knights = {'gallahad': 'the pure', 'robin': 'the brave'}\n",
        "\n",
        "for k, v in knights.items():\n",
        "  print(k, v)"
      ],
      "execution_count": 0,
      "outputs": [
        {
          "output_type": "stream",
          "text": [
            "gallahad the pure\n",
            "robin the brave\n"
          ],
          "name": "stdout"
        }
      ]
    },
    {
      "cell_type": "code",
      "metadata": {
        "colab_type": "code",
        "id": "payOo1jORJ0m",
        "outputId": "5160ebfb-3eb1-4bb5-f70c-c2c50ea094d4",
        "colab": {
          "base_uri": "https://localhost:8080/",
          "height": 68
        }
      },
      "source": [
        "# When looping through a sequence, the position index and corresponding \n",
        "# value can be retrieved at the same time using the enumerate() function.\n",
        "# i = index, v = value\n",
        "l = [\"tic\", \"tac\", \"toe\"]\n",
        "for i, v in enumerate(l):\n",
        "  print(i, v)"
      ],
      "execution_count": 1,
      "outputs": [
        {
          "output_type": "stream",
          "text": [
            "0 tic\n",
            "1 tac\n",
            "2 toe\n"
          ],
          "name": "stdout"
        }
      ]
    },
    {
      "cell_type": "code",
      "metadata": {
        "colab_type": "code",
        "id": "O-noxvSwR1jA",
        "outputId": "f6965789-8ea1-4b00-8023-8f8f3b0762e8",
        "colab": {
          "base_uri": "https://localhost:8080/",
          "height": 68
        }
      },
      "source": [
        "# to loop over two or more sequence we can use zip()\n",
        "questions = ['name', 'quest', 'favorite color']\n",
        "answers = ['lancelot', 'the holy grail', 'blue']\n",
        "for q, a in zip(questions, answers):\n",
        "    print('What is your {0}?  It is {1}.'.format(q, a)) "
      ],
      "execution_count": 0,
      "outputs": [
        {
          "output_type": "stream",
          "text": [
            "What is your name?  It is lancelot.\n",
            "What is your quest?  It is the holy grail.\n",
            "What is your favorite color?  It is blue.\n"
          ],
          "name": "stdout"
        }
      ]
    },
    {
      "cell_type": "code",
      "metadata": {
        "colab_type": "code",
        "id": "9UyIYkZZXOzW",
        "outputId": "ab0efa3b-c24d-4ec0-8102-dba8970bd1ea",
        "colab": {
          "base_uri": "https://localhost:8080/",
          "height": 34
        }
      },
      "source": [
        "# To loop over a sequence in reverse, first specify the sequence \n",
        "# in a forward direction and then call the reversed() function.\n",
        "for i in reversed(range(5, 30, 5)):\n",
        "  print(i, end=\" \")"
      ],
      "execution_count": 0,
      "outputs": [
        {
          "output_type": "stream",
          "text": [
            "25 20 15 10 5 "
          ],
          "name": "stdout"
        }
      ]
    },
    {
      "cell_type": "code",
      "metadata": {
        "colab_type": "code",
        "id": "PWeewGslXfNv",
        "outputId": "5110a9f7-1bcc-4528-cae6-5960deb479db",
        "colab": {
          "base_uri": "https://localhost:8080/",
          "height": 119
        }
      },
      "source": [
        "# To loop over a sequence in sorted order, use the sorted() function \n",
        "# which returns a new sorted list while leaving the source unaltered.\n",
        "basket = ['apple', 'orange', 'apple', 'pear', 'orange', 'banana']\n",
        "for b in sorted(basket):\n",
        "  print(b)"
      ],
      "execution_count": 0,
      "outputs": [
        {
          "output_type": "stream",
          "text": [
            "apple\n",
            "apple\n",
            "banana\n",
            "orange\n",
            "orange\n",
            "pear\n"
          ],
          "name": "stdout"
        }
      ]
    },
    {
      "cell_type": "markdown",
      "metadata": {
        "colab_type": "text",
        "id": "35aFcMKKbcfr"
      },
      "source": [
        "## More on conditions\n",
        "- operators **in and not in** check whether a value occurs or not in a sequence\n",
        "- operators **is and is not** compare whether two objects are equal or not; this only matters for mutable objects like lists\n",
        "- all comparison operators have the same priority, which is lower than that of all numerical operators\n",
        "- comparisons can be chained, a < b == c tests whether a is less than b and moreover b equals c\n",
        "- not has the highest priority and or has the lowest\n",
        "- the boolean operators and & or are so-called short circuit operators. Evaluated from left to right and evaluation stops as soon as the outcome is determined\n",
        "- when used as a general value and not as a boolean, the return value of short-circuit operators is the last evaluated argument"
      ]
    },
    {
      "cell_type": "code",
      "metadata": {
        "colab_type": "code",
        "id": "Yx2g_kUjckM_",
        "outputId": "0d814448-30a1-4713-8469-87df9c15d3c1",
        "colab": {
          "base_uri": "https://localhost:8080/",
          "height": 51
        }
      },
      "source": [
        "a = 1\n",
        "b = 0\n",
        "c = 5\n",
        "print(a and not b or c)\n",
        "print(not a and b)"
      ],
      "execution_count": 0,
      "outputs": [
        {
          "output_type": "stream",
          "text": [
            "True\n",
            "False\n"
          ],
          "name": "stdout"
        }
      ]
    },
    {
      "cell_type": "code",
      "metadata": {
        "colab_type": "code",
        "id": "lV6237hOgUTj",
        "outputId": "eb39f061-e0d1-4af3-a379-e21cc68f36fd",
        "colab": {
          "base_uri": "https://localhost:8080/",
          "height": 68
        }
      },
      "source": [
        "string1, string2, string3 = '', 'Old', 'New'\n",
        "print(string1 or (False or string3))\n",
        "print(string1 or string2 or string3)\n",
        "print(string1 or (string2 or string3))"
      ],
      "execution_count": 0,
      "outputs": [
        {
          "output_type": "stream",
          "text": [
            "New\n",
            "Old\n",
            "Old\n"
          ],
          "name": "stdout"
        }
      ]
    },
    {
      "cell_type": "markdown",
      "metadata": {
        "colab_type": "text",
        "id": "olyQSLscgOUW"
      },
      "source": [
        "## What's left to read in this chapter?\n",
        "- Comparing Sequences and Other Types"
      ]
    },
    {
      "cell_type": "markdown",
      "metadata": {
        "colab_type": "text",
        "id": "924c4iSXWfI3"
      },
      "source": [
        "<img src=\"https://raw.githubusercontent.com/thecoducer/python_programs/master/Images/programming-quotes-for-developers-made4dev-progress.jpg\" width=\"50%\" height=\"50%\" />"
      ]
    },
    {
      "cell_type": "markdown",
      "metadata": {
        "colab_type": "text",
        "id": "J_286qs3hydF"
      },
      "source": [
        "# Modules\n",
        "https://docs.python.org/3/tutorial/modules.html"
      ]
    },
    {
      "cell_type": "markdown",
      "metadata": {
        "colab_type": "text",
        "id": "SFKhmO5ghvcQ"
      },
      "source": [
        "## What are modules?\n",
        "- Python has a way to put definitions in a file and use them in a script or in an interactive instance of the interpreter. Such a file is called a module; definitions from a module can be imported into other modules or into the main module (the collection of variables that you have access to in a script executed at the top level and in calculator mode).\n",
        "- A module is a file containing Python definitions and statements. \n",
        "- **Within a module, the module’s name (as a string) is available as the value of the global variable ```__name__```**"
      ]
    },
    {
      "cell_type": "code",
      "metadata": {
        "colab_type": "code",
        "id": "0mEc4fb1sIsy",
        "colab": {}
      },
      "source": [
        "# Save this as addsub.py\n",
        "\n",
        "def add(a, b):\n",
        "  print(a+b)\n",
        "\n",
        "def subtract(a, b):\n",
        "  print(abs(a-b))\n",
        "\n",
        "# import this file with the following command:\n",
        "# import addsub\n",
        "# invoke add/subtract method inside the interpreter by:\n",
        "# addsub.add(50, 20)\n",
        "# if you intend to use a method often then assign it a local name:\n",
        "# add = addsub.add\n",
        "# then invoke it\n",
        "# add(25, 20)"
      ],
      "execution_count": 0,
      "outputs": []
    },
    {
      "cell_type": "markdown",
      "metadata": {
        "colab_type": "text",
        "id": "UtEc0Az4q5jN"
      },
      "source": [
        "## How to reload modules?\n",
        "- If you've made some changes in your module file then to reflect the changes in the interpreter you need to do:\n",
        "  - import importlib\n",
        "  - importlib.reload(modulename)"
      ]
    },
    {
      "cell_type": "markdown",
      "metadata": {
        "colab_type": "text",
        "id": "ix2JcDxut_eh"
      },
      "source": [
        "## More on modules\n",
        "- Modules can import other modules\n",
        "- A module can contain executable statements as well as function definitions. These statements are intended to initialize the modules.\n",
        "- There is a variant of the import statement that imports names from a module directly into the importing module’s symbol table:\n",
        "  - from addsub import add, subtract\n",
        "This does not introduce the module name from which the imports are taken in the local symbol table (so in the example, fibo is not defined).\n",
        "- To import all names that a module defines.\n",
        "  - from addsub import *\n",
        "- If the module name is followed by ```as```, then you can play this way:\n",
        "  - import addsub as adsu\n",
        "  - adsu.add(50, 89)"
      ]
    },
    {
      "cell_type": "markdown",
      "metadata": {
        "colab_type": "text",
        "id": "Ag02rwfbym0k"
      },
      "source": [
        "## Similar to command-line arguments"
      ]
    },
    {
      "cell_type": "code",
      "metadata": {
        "colab_type": "code",
        "id": "qhJKMuzgzgX0",
        "colab": {}
      },
      "source": [
        "# Syntax: python3 filename.py <arguments>\n",
        "def add(a, b):\n",
        "  print(a+b)\n",
        "\n",
        "def subtract(a, b):\n",
        "  print(abs(a-b))\n",
        "\n",
        "if __name__ == \"__main__\":\n",
        "    import sys\n",
        "    add(int(sys.argv[1]), int(sys.argv[2]))\n",
        "\n",
        "# run it as:\n",
        "# python3 addsub.py 41 21"
      ],
      "execution_count": 0,
      "outputs": []
    },
    {
      "cell_type": "markdown",
      "metadata": {
        "colab_type": "text",
        "id": "Y5hctZWv1HDW"
      },
      "source": [
        "## dir() function\n",
        "- It is an interesting method\n",
        "- displays all the names in a module"
      ]
    },
    {
      "cell_type": "code",
      "metadata": {
        "colab_type": "code",
        "id": "t1DNPY3p1QCU",
        "outputId": "667764d5-37d8-48c0-d7c0-15a4c53addd5",
        "colab": {
          "base_uri": "https://localhost:8080/",
          "height": 54
        }
      },
      "source": [
        "import sys\n",
        "print(dir(sys), end=\" \")"
      ],
      "execution_count": 0,
      "outputs": [
        {
          "output_type": "stream",
          "text": [
            "['__displayhook__', '__doc__', '__excepthook__', '__interactivehook__', '__loader__', '__name__', '__package__', '__spec__', '__stderr__', '__stdin__', '__stdout__', '_clear_type_cache', '_current_frames', '_debugmallocstats', '_getframe', '_git', '_home', '_xoptions', 'abiflags', 'api_version', 'argv', 'base_exec_prefix', 'base_prefix', 'builtin_module_names', 'byteorder', 'call_tracing', 'callstats', 'copyright', 'displayhook', 'dont_write_bytecode', 'exc_info', 'excepthook', 'exec_prefix', 'executable', 'exit', 'flags', 'float_info', 'float_repr_style', 'get_asyncgen_hooks', 'get_coroutine_wrapper', 'getallocatedblocks', 'getcheckinterval', 'getdefaultencoding', 'getdlopenflags', 'getfilesystemencodeerrors', 'getfilesystemencoding', 'getprofile', 'getrecursionlimit', 'getrefcount', 'getsizeof', 'getswitchinterval', 'gettrace', 'hash_info', 'hexversion', 'implementation', 'int_info', 'intern', 'is_finalizing', 'last_traceback', 'last_type', 'last_value', 'maxsize', 'maxunicode', 'meta_path', 'modules', 'path', 'path_hooks', 'path_importer_cache', 'platform', 'prefix', 'ps1', 'ps2', 'ps3', 'set_asyncgen_hooks', 'set_coroutine_wrapper', 'setcheckinterval', 'setdlopenflags', 'setprofile', 'setrecursionlimit', 'setswitchinterval', 'settrace', 'stderr', 'stdin', 'stdout', 'thread_info', 'version', 'version_info', 'warnoptions'] "
          ],
          "name": "stdout"
        }
      ]
    },
    {
      "cell_type": "code",
      "metadata": {
        "colab_type": "code",
        "id": "BNd8jaOE1gOF",
        "outputId": "cb59efbe-d939-4cc8-b1e4-b535a91348cb",
        "colab": {
          "base_uri": "https://localhost:8080/",
          "height": 54
        }
      },
      "source": [
        "# dir() without arguments lists all names that you have defined currently\n",
        "print(dir(), end=\" \")"
      ],
      "execution_count": 0,
      "outputs": [
        {
          "output_type": "stream",
          "text": [
            "['Counter', 'In', 'Out', '_', '_104', '_109', '_110', '_120', '_121', '_122', '__', '___', '__builtin__', '__builtins__', '__doc__', '__loader__', '__name__', '__package__', '__spec__', '_dh', '_i', '_i1', '_i10', '_i100', '_i101', '_i102', '_i103', '_i104', '_i105', '_i106', '_i107', '_i108', '_i109', '_i11', '_i110', '_i111', '_i112', '_i113', '_i114', '_i115', '_i116', '_i117', '_i118', '_i119', '_i12', '_i120', '_i121', '_i122', '_i123', '_i124', '_i125', '_i126', '_i127', '_i128', '_i129', '_i13', '_i130', '_i131', '_i132', '_i133', '_i134', '_i135', '_i136', '_i137', '_i138', '_i139', '_i14', '_i140', '_i141', '_i142', '_i143', '_i144', '_i145', '_i146', '_i147', '_i148', '_i149', '_i15', '_i150', '_i16', '_i17', '_i18', '_i19', '_i2', '_i20', '_i21', '_i22', '_i23', '_i24', '_i25', '_i26', '_i27', '_i28', '_i29', '_i3', '_i30', '_i31', '_i32', '_i33', '_i34', '_i35', '_i36', '_i37', '_i38', '_i39', '_i4', '_i40', '_i41', '_i42', '_i43', '_i44', '_i45', '_i46', '_i47', '_i48', '_i49', '_i5', '_i50', '_i51', '_i52', '_i53', '_i54', '_i55', '_i56', '_i57', '_i58', '_i59', '_i6', '_i60', '_i61', '_i62', '_i63', '_i64', '_i65', '_i66', '_i67', '_i68', '_i69', '_i7', '_i70', '_i71', '_i72', '_i73', '_i74', '_i75', '_i76', '_i77', '_i78', '_i79', '_i8', '_i80', '_i81', '_i82', '_i83', '_i84', '_i85', '_i86', '_i87', '_i88', '_i89', '_i9', '_i90', '_i91', '_i92', '_i93', '_i94', '_i95', '_i96', '_i97', '_i98', '_i99', '_ih', '_ii', '_iii', '_oh', '_sh', 'a', 'add', 'answers', 'arr', 'ask_ok', 'b', 'basket', 'c', 'd', 'deque', 'exit', 'f', 'fibo', 'fibonacci', 'final_list', 'first', 'freshfruit', 'fruits', 'g', 'get_ipython', 'h', 'i', 'is_anagram', 'itertools', 'k', 'knights', 'l', 'l1', 'l2', 'li', 'line', 'm', 'main', 'math', 'matrix', 'n', 'nthfibo', 'o', 'p', 'perfect', 'perfect1', 'prime1', 'primes', 'q', 'questions', 'queue', 'quit', 'reverse', 'reverse1', 'reverse3', 'reverse4', 's', 'second', 'squares', 'stack', 'str', 'str1', 'str2', 'str3', 'string1', 'string2', 'string3', 'subject', 'sublist', 'subtract', 'sys', 't', 'tel', 'test', 'v', 'vec', 'veggies', 'w', 'word', 'word1', 'word2', 'x', 'y', 'z'] "
          ],
          "name": "stdout"
        }
      ]
    },
    {
      "cell_type": "markdown",
      "metadata": {
        "colab_type": "text",
        "id": "_4GhX5iV2Nf0"
      },
      "source": [
        "## What's left to read in this chapter?\n",
        "- *After* Packages"
      ]
    },
    {
      "cell_type": "markdown",
      "metadata": {
        "colab_type": "text",
        "id": "FrDHBKb2jqHF"
      },
      "source": [
        "<img src=\"https://raw.githubusercontent.com/thecoducer/python_programs/master/Images/design-quote.jpg\" width=\"65%\" height=\"65%\" />"
      ]
    },
    {
      "cell_type": "markdown",
      "metadata": {
        "colab_type": "text",
        "id": "LAg7U54p13TN"
      },
      "source": [
        "# Input and Output\n",
        "https://docs.python.org/3/tutorial/inputoutput.html"
      ]
    },
    {
      "cell_type": "markdown",
      "metadata": {
        "colab_type": "text",
        "id": "Gvsjzy1ZWLcp"
      },
      "source": [
        "## Output formatting"
      ]
    },
    {
      "cell_type": "code",
      "metadata": {
        "colab_type": "code",
        "id": "69XE3jEFWN1n",
        "outputId": "7b4b455d-39ed-4a47-c89f-12f583a2bfb1",
        "colab": {
          "base_uri": "https://localhost:8080/",
          "height": 51
        }
      },
      "source": [
        "m = 10\n",
        "n = 20\n",
        "print(\"The value of m is {0} and the value of n is {1}.\".format(m, n))\n",
        "print(\"Value of m: %d and value of n: %d.\" %(m, n))"
      ],
      "execution_count": 0,
      "outputs": [
        {
          "output_type": "stream",
          "text": [
            "The value of m is 10 and the value of n is 20.\n",
            "Value of m: 10 and value of n: 20.\n"
          ],
          "name": "stdout"
        }
      ]
    }
  ]
}