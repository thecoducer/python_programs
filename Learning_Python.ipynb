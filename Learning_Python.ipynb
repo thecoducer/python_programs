{
  "nbformat": 4,
  "nbformat_minor": 0,
  "metadata": {
    "colab": {
      "name": "Learning_Python.ipynb",
      "version": "0.3.2",
      "provenance": [],
      "collapsed_sections": [],
      "toc_visible": true,
      "include_colab_link": true
    },
    "kernelspec": {
      "display_name": "Python 3",
      "language": "python",
      "name": "python3"
    },
    "language_info": {
      "codemirror_mode": {
        "name": "ipython",
        "version": 3
      },
      "file_extension": ".py",
      "mimetype": "text/x-python",
      "name": "python",
      "nbconvert_exporter": "python",
      "pygments_lexer": "ipython3",
      "version": "3.7.3"
    }
  },
  "cells": [
    {
      "cell_type": "markdown",
      "metadata": {
        "id": "view-in-github",
        "colab_type": "text"
      },
      "source": [
        "<a href=\"https://colab.research.google.com/github/thecoducer/python_programs/blob/master/Learning_Python.ipynb\" target=\"_parent\"><img src=\"https://colab.research.google.com/assets/colab-badge.svg\" alt=\"Open In Colab\"/></a>"
      ]
    },
    {
      "cell_type": "markdown",
      "metadata": {
        "colab_type": "text",
        "id": "Bklp88xT3ZEw"
      },
      "source": [
        "# Learning Python\n",
        "---\n",
        "<img src=\"https://raw.githubusercontent.com/thecoducer/python_programs/master/Images/python-harry-potter.jpg\" width=\"65%\" height=\"65%\" />\n",
        "\n",
        "Hey! I'm reading the official documentation of Python Software Foundation to learn Python programming language. It's great and detailed. We often need to write down notes when we learn something new. So, I've used Jupyter Notebook to write down notes as well as programs. You can open the notebook file and run the codes on Google Collaboratory. This notebook is intended to help me whenever I need to revise. It's not intended to teach anyone Python.\n",
        "\n",
        "I recommend you to read the official Python tutorial here: https://docs.python.org/3/tutorial/index.html.\n",
        "\n",
        "My blog post on learning Python: http://www.thecoducer.com/2019/07/effective-way-to-learn-python-for-free.html\n",
        "\n",
        "---\n",
        "***Email: [mayukh5741@gmail.com](mailto:mayukh5741@gmail.com)***\n",
        "\n",
        "***Website: https://thecoducer.github.io/***\n",
        "\n",
        "***Blog: http://www.thecoducer.com/***\n",
        "\n",
        "---\n",
        "\n",
        "\n",
        "\n"
      ]
    },
    {
      "cell_type": "markdown",
      "metadata": {
        "colab_type": "text",
        "id": "u6ZNC8hjmuHv"
      },
      "source": [
        "# An Informal introduction to Python\n",
        "https://docs.python.org/3/tutorial/introduction.html"
      ]
    },
    {
      "cell_type": "markdown",
      "metadata": {
        "colab_type": "text",
        "id": "FqTXzIdNOzrq"
      },
      "source": [
        "## Classic vs Floor division"
      ]
    },
    {
      "cell_type": "code",
      "metadata": {
        "colab_type": "code",
        "id": "CkAfCN22O4td",
        "outputId": "534d922b-22b1-41f2-906c-4301d8e7dd15",
        "colab": {
          "base_uri": "https://localhost:8080/",
          "height": 51
        }
      },
      "source": [
        "print(19/5) # classic division returns float\n",
        "print(52//3) # floor division discards the fractional part"
      ],
      "execution_count": 0,
      "outputs": [
        {
          "output_type": "stream",
          "text": [
            "3.8\n",
            "17\n"
          ],
          "name": "stdout"
        }
      ]
    },
    {
      "cell_type": "markdown",
      "metadata": {
        "colab_type": "text",
        "id": "2Cc-OD7wQjys"
      },
      "source": [
        "## To calculate powers"
      ]
    },
    {
      "cell_type": "code",
      "metadata": {
        "colab_type": "code",
        "id": "jmgwfSYdOxnB",
        "outputId": "e4f97186-8e65-4ab4-f123-bf0594ba77f6",
        "colab": {
          "base_uri": "https://localhost:8080/",
          "height": 34
        }
      },
      "source": [
        "# 2^5\n",
        "print(2**5)"
      ],
      "execution_count": 0,
      "outputs": [
        {
          "output_type": "stream",
          "text": [
            "32\n"
          ],
          "name": "stdout"
        }
      ]
    },
    {
      "cell_type": "markdown",
      "metadata": {
        "colab_type": "text",
        "id": "BKZBOBtgRWz_"
      },
      "source": [
        "- *In interactive mode, the last printed expression is assigned to the variable _*"
      ]
    },
    {
      "cell_type": "markdown",
      "metadata": {
        "colab_type": "text",
        "id": "7ONm7vuBSe-q"
      },
      "source": [
        "## Round a real number up to 2 places after decimal"
      ]
    },
    {
      "cell_type": "code",
      "metadata": {
        "colab_type": "code",
        "id": "tqpgix2oSNl3",
        "outputId": "ffeee0ad-f982-4de0-8f1f-eb7b6ab466d5",
        "colab": {
          "base_uri": "https://localhost:8080/",
          "height": 34
        }
      },
      "source": [
        "k = 12.03635\n",
        "print(round(k, 2))"
      ],
      "execution_count": 0,
      "outputs": [
        {
          "output_type": "stream",
          "text": [
            "12.04\n"
          ],
          "name": "stdout"
        }
      ]
    },
    {
      "cell_type": "markdown",
      "metadata": {
        "colab_type": "text",
        "id": "npAYGQzQXrIS"
      },
      "source": [
        "## Strings\n",
        "- \\ can be used to escape quotes\n",
        "- can be also be enclosed within other pair of quotes\n",
        "- to print raw strings, use r"
      ]
    },
    {
      "cell_type": "markdown",
      "metadata": {
        "colab_type": "text",
        "id": "lSpJH8Rybs7D"
      },
      "source": [
        "## Raw string"
      ]
    },
    {
      "cell_type": "code",
      "metadata": {
        "colab_type": "code",
        "id": "nWLZAcexXzd4",
        "outputId": "1a66d5fc-ec9e-444f-cfb4-f9aab9b14ecb",
        "colab": {
          "base_uri": "https://localhost:8080/",
          "height": 68
        }
      },
      "source": [
        "print(r\"C:\\nebula\\MachineLearning\")\n",
        "# without it, \\n escape sequence gets triggered\n",
        "print(\"C:\\nebula\\MachineLearning\")"
      ],
      "execution_count": 0,
      "outputs": [
        {
          "output_type": "stream",
          "text": [
            "C:\\nebula\\MachineLearning\n",
            "C:\n",
            "ebula\\MachineLearning\n"
          ],
          "name": "stdout"
        }
      ]
    },
    {
      "cell_type": "markdown",
      "metadata": {
        "colab_type": "text",
        "id": "DAxID6VfbfOn"
      },
      "source": [
        "## String literals can span multiple lines"
      ]
    },
    {
      "cell_type": "code",
      "metadata": {
        "colab_type": "code",
        "id": "nO4qdjCTZ8-L",
        "outputId": "c005f91f-d604-4b11-d675-b1c59876889e",
        "colab": {
          "base_uri": "https://localhost:8080/",
          "height": 102
        }
      },
      "source": [
        "# Prevent automatic inclusion of end of lines by using \\ operator\n",
        "print(\"\"\"\\\n",
        "asdad\n",
        "awewer\n",
        "bnghjny\n",
        "it rty    dsrfgtr t\n",
        "er    sdefsdfg    dggh\"\"\")"
      ],
      "execution_count": 0,
      "outputs": [
        {
          "output_type": "stream",
          "text": [
            "asdad\n",
            "awewer\n",
            "bnghjny\n",
            "it rty    dsrfgtr t\n",
            "er    sdefsdfg    dggh\n"
          ],
          "name": "stdout"
        }
      ]
    },
    {
      "cell_type": "markdown",
      "metadata": {
        "colab_type": "text",
        "id": "UqYJCt94biwq"
      },
      "source": [
        "## Strings are 0-based indexed"
      ]
    },
    {
      "cell_type": "code",
      "metadata": {
        "colab_type": "code",
        "id": "1b4f2oD1bF7Q",
        "outputId": "230e95e0-1741-4d76-f08b-0aa480f8ff67",
        "colab": {
          "base_uri": "https://localhost:8080/",
          "height": 68
        }
      },
      "source": [
        "str = \"David Attenborough\"\n",
        "print(str)\n",
        "print(str[2] + str[9])\n",
        "print(str[-2]) # starts counting from the right\n",
        "# it is the second last character\n",
        "# Note that since -0 is the same as 0, negative indices start from -1."
      ],
      "execution_count": 0,
      "outputs": [
        {
          "output_type": "stream",
          "text": [
            "David Attenborough\n",
            "ve\n",
            "g\n"
          ],
          "name": "stdout"
        }
      ]
    },
    {
      "cell_type": "markdown",
      "metadata": {
        "colab_type": "text",
        "id": "w3chf8dwcZtG"
      },
      "source": [
        "## Slicing strings"
      ]
    },
    {
      "cell_type": "code",
      "metadata": {
        "colab_type": "code",
        "id": "w2AfMHM5cb2Z",
        "outputId": "570b4dde-912e-434f-806a-6a91596b5362",
        "colab": {
          "base_uri": "https://localhost:8080/",
          "height": 102
        }
      },
      "source": [
        "str = 'Jekyll'\n",
        "print(str[1:])\n",
        "print(str[2:])\n",
        "print(str[:3])\n",
        "print(str[:2] + str[4:])\n",
        "print(str[-2:])"
      ],
      "execution_count": 0,
      "outputs": [
        {
          "output_type": "stream",
          "text": [
            "ekyll\n",
            "kyll\n",
            "Jek\n",
            "Jell\n",
            "ll\n"
          ],
          "name": "stdout"
        }
      ]
    },
    {
      "cell_type": "markdown",
      "metadata": {
        "colab_type": "text",
        "id": "h-xZTo76bxeZ"
      },
      "source": [
        "- **Like Java, Python strings are immutable.**"
      ]
    },
    {
      "cell_type": "markdown",
      "metadata": {
        "colab_type": "text",
        "id": "jLepF54MiSso"
      },
      "source": [
        "## Length of string"
      ]
    },
    {
      "cell_type": "code",
      "metadata": {
        "colab_type": "code",
        "id": "oCDiS4pLiU_1",
        "outputId": "4b988717-af86-43aa-edcc-3f6b2f43439b",
        "colab": {
          "base_uri": "https://localhost:8080/",
          "height": 34
        }
      },
      "source": [
        "# str = \"Jekyll\"\n",
        "print(len(str))"
      ],
      "execution_count": 0,
      "outputs": [
        {
          "output_type": "stream",
          "text": [
            "6\n"
          ],
          "name": "stdout"
        }
      ]
    },
    {
      "cell_type": "markdown",
      "metadata": {
        "colab_type": "text",
        "id": "zDeDE_wljPx_"
      },
      "source": [
        "## String methods\n",
        "- https://docs.python.org/3/library/stdtypes.html#string-methods\n",
        "- https://www.geeksforgeeks.org/python-strings/"
      ]
    },
    {
      "cell_type": "code",
      "metadata": {
        "colab_type": "code",
        "id": "5R4hxcVmjOaZ",
        "outputId": "2ba48c0b-6ec8-4f15-92b3-fb2c3c9238d0",
        "colab": {
          "base_uri": "https://localhost:8080/",
          "height": 119
        }
      },
      "source": [
        "str1 = \"Data Structures\"\n",
        "str2 = \"Algorithms\"\n",
        "str3 = \"operating system\"\n",
        "print(str1.lower())\n",
        "print(str2.upper())\n",
        "print(str3.capitalize())\n",
        "print(str1.endswith(\"Structures\"))\n",
        "print(str2.endswith(\"thms\"))\n",
        "print(str3.startswith(\"oper\"))"
      ],
      "execution_count": 0,
      "outputs": [
        {
          "output_type": "stream",
          "text": [
            "data structures\n",
            "ALGORITHMS\n",
            "Operating system\n",
            "True\n",
            "True\n",
            "True\n"
          ],
          "name": "stdout"
        }
      ]
    },
    {
      "cell_type": "markdown",
      "metadata": {
        "colab_type": "text",
        "id": "PHLCtoQCwGpb"
      },
      "source": [
        "## Reverse a string"
      ]
    },
    {
      "cell_type": "code",
      "metadata": {
        "colab_type": "code",
        "id": "2reGPgJQwI8Z",
        "outputId": "8d8a5d06-3545-4110-ccfa-9fa358866eb6",
        "colab": {
          "base_uri": "https://localhost:8080/",
          "height": 34
        }
      },
      "source": [
        "# Python string library has no reverse() method\n",
        "def reverse(s):\n",
        "  temp = \"\"\n",
        "  for i in s:\n",
        "    temp = i + temp # ... m + o + C\n",
        "  return temp\n",
        "\n",
        "subject = \"Computer Networks\"\n",
        "print(reverse(subject))"
      ],
      "execution_count": 0,
      "outputs": [
        {
          "output_type": "stream",
          "text": [
            "skrowteN retupmoC\n"
          ],
          "name": "stdout"
        }
      ]
    },
    {
      "cell_type": "code",
      "metadata": {
        "colab_type": "code",
        "id": "MZscvQpqzuhp",
        "outputId": "7abe3d0d-3484-451f-8ef0-a1ee02cf3ba2",
        "colab": {
          "base_uri": "https://localhost:8080/",
          "height": 34
        }
      },
      "source": [
        "# Using recursion\n",
        "def reverse1(s):\n",
        "  if len(s) == 0:\n",
        "    return s\n",
        "  else:\n",
        "    return reverse(s[1:]) + s[0]\n",
        "s = \"Kolkata\"\n",
        "print(reverse1(s))"
      ],
      "execution_count": 0,
      "outputs": [
        {
          "output_type": "stream",
          "text": [
            "atakloK\n"
          ],
          "name": "stdout"
        }
      ]
    },
    {
      "cell_type": "code",
      "metadata": {
        "colab_type": "code",
        "id": "VYGJilgi3XdK",
        "outputId": "4d10f8c3-5b8d-4e9a-c121-2d82115bdfef",
        "colab": {
          "base_uri": "https://localhost:8080/",
          "height": 34
        }
      },
      "source": [
        "# Using extended slice syntax\n",
        "def reverse3(s):\n",
        "  return s[::-1]\n",
        "\n",
        "s = \"Quadilateral\"\n",
        "print(reverse3(s))"
      ],
      "execution_count": 0,
      "outputs": [
        {
          "output_type": "stream",
          "text": [
            "laretalidauQ\n"
          ],
          "name": "stdout"
        }
      ]
    },
    {
      "cell_type": "code",
      "metadata": {
        "colab_type": "code",
        "id": "agsLHpwl3xhO",
        "outputId": "36eb7815-e24e-4aa5-c6a0-aec8369bea30",
        "colab": {
          "base_uri": "https://localhost:8080/",
          "height": 34
        }
      },
      "source": [
        "# Using reversed\n",
        "def reverse4(s):\n",
        "  return \"\".join(reversed(s))\n",
        "\n",
        "s = \"Gradle\"\n",
        "print(reverse4(s))"
      ],
      "execution_count": 0,
      "outputs": [
        {
          "output_type": "stream",
          "text": [
            "eldarG\n"
          ],
          "name": "stdout"
        }
      ]
    },
    {
      "cell_type": "markdown",
      "metadata": {
        "colab_type": "text",
        "id": "KqQ30chMhyFS"
      },
      "source": [
        "## Split a string"
      ]
    },
    {
      "cell_type": "code",
      "metadata": {
        "colab_type": "code",
        "id": "UVUx9-_yh0c5",
        "outputId": "860492f7-d4b9-4cd7-9d60-0c9a2a2ed033",
        "colab": {
          "base_uri": "https://localhost:8080/",
          "height": 34
        }
      },
      "source": [
        "line = \"Brian Karnighan's algorithm is the most efficient way to count set bits.\"\n",
        "print(line.split()) # No delimiter takes whitespace as a delimiter implicitly"
      ],
      "execution_count": 0,
      "outputs": [
        {
          "output_type": "stream",
          "text": [
            "['Brian', \"Karnighan's\", 'algorithm', 'is', 'the', 'most', 'efficient', 'way', 'to', 'count', 'set', 'bits.']\n"
          ],
          "name": "stdout"
        }
      ]
    },
    {
      "cell_type": "code",
      "metadata": {
        "colab_type": "code",
        "id": "Wtqt2LN3ihDd",
        "outputId": "a5bc27f4-8c22-47d7-e786-8b615b7e3516",
        "colab": {
          "base_uri": "https://localhost:8080/",
          "height": 51
        }
      },
      "source": [
        "word = \"dock:for:ipad\"\n",
        "print(word.split(\":\"))\n",
        "print(word.split(\":\", 1)) # maxsplit: 1"
      ],
      "execution_count": 0,
      "outputs": [
        {
          "output_type": "stream",
          "text": [
            "['dock', 'for', 'ipad']\n",
            "['dock', 'for:ipad']\n"
          ],
          "name": "stdout"
        }
      ]
    },
    {
      "cell_type": "markdown",
      "metadata": {
        "colab_type": "text",
        "id": "twuhHNOl1HMA"
      },
      "source": [
        "## Printing out multiples of strings"
      ]
    },
    {
      "cell_type": "code",
      "metadata": {
        "colab_type": "code",
        "id": "ALttcbwE1JXZ",
        "outputId": "9fd15725-24a0-408b-be34-6fd354e4c651",
        "colab": {
          "base_uri": "https://localhost:8080/",
          "height": 34
        }
      },
      "source": [
        "print(\"Yes\"*5 + \"No\"*2)"
      ],
      "execution_count": 0,
      "outputs": [
        {
          "output_type": "stream",
          "text": [
            "YesYesYesYesYesNoNo\n"
          ],
          "name": "stdout"
        }
      ]
    },
    {
      "cell_type": "markdown",
      "metadata": {
        "id": "Y_4GfScp6FdX",
        "colab_type": "text"
      },
      "source": [
        "## List to string"
      ]
    },
    {
      "cell_type": "code",
      "metadata": {
        "id": "jQ4Tvs8s6Pae",
        "colab_type": "code",
        "outputId": "dd761a25-a498-4574-a3f7-6f3c7f273b44",
        "colab": {
          "base_uri": "https://localhost:8080/",
          "height": 34
        }
      },
      "source": [
        "a = [\"I\", \"am\", \"here\"]\n",
        "print(\" \".join(a))"
      ],
      "execution_count": 0,
      "outputs": [
        {
          "output_type": "stream",
          "text": [
            "I am here\n"
          ],
          "name": "stdout"
        }
      ]
    },
    {
      "cell_type": "markdown",
      "metadata": {
        "id": "clVywHmm6Woe",
        "colab_type": "text"
      },
      "source": [
        "## Check anagram or not\n",
        "- Counter is a subclass of dictionary object. The Counter() function in collections module takes an iterable or a mapping as the argument and returns a Dictionary. In this dictionary, a key is an element in the iterable or the mapping and value is the number of times that element exists in the iterable or the mapping.\n",
        "- The Counter() function can take a dictionary as an argument. In this dictionary, the value of a key should be the 'count' of that key."
      ]
    },
    {
      "cell_type": "code",
      "metadata": {
        "id": "Za8_p15P6Y_B",
        "colab_type": "code",
        "outputId": "2ebf9ab7-00a2-4596-c6ce-4457d26a9b35",
        "colab": {
          "base_uri": "https://localhost:8080/",
          "height": 68
        }
      },
      "source": [
        "from collections import Counter \n",
        "def is_anagram(str1, str2): \n",
        " return Counter(str1) == Counter(str2) \n",
        "\n",
        "word1 = input(\"Enter first word:\")\n",
        "word2 = input(\"Enter second word:\")\n",
        "print(is_anagram(word1, word2))"
      ],
      "execution_count": 0,
      "outputs": [
        {
          "output_type": "stream",
          "text": [
            "Enter first word:geek\n",
            "Enter second word:keeg\n",
            "True\n"
          ],
          "name": "stdout"
        }
      ]
    },
    {
      "cell_type": "markdown",
      "metadata": {
        "id": "XLGfouSu6tNd",
        "colab_type": "text"
      },
      "source": [
        "## Flatten lists"
      ]
    },
    {
      "cell_type": "code",
      "metadata": {
        "id": "ADEqnNYD8IYw",
        "colab_type": "code",
        "outputId": "abbfbb47-0566-4929-cc5f-5e34470039ba",
        "colab": {
          "base_uri": "https://localhost:8080/",
          "height": 34
        }
      },
      "source": [
        "import itertools\n",
        "a = [[1, 2], [3, 4], [5, 6]]\n",
        "b = list(itertools.chain.from_iterable(a))\n",
        "print(b)"
      ],
      "execution_count": 0,
      "outputs": [
        {
          "output_type": "stream",
          "text": [
            "[1, 2, 3, 4, 5, 6]\n"
          ],
          "name": "stdout"
        }
      ]
    },
    {
      "cell_type": "markdown",
      "metadata": {
        "id": "a8yecSGy8K7I",
        "colab_type": "text"
      },
      "source": [
        "## More such shortcuts ...\n",
        "https://towardsdatascience.com/20-python-programming-tips-and-tricks-for-beginners-25d44db03aea"
      ]
    },
    {
      "cell_type": "markdown",
      "metadata": {
        "colab_type": "text",
        "id": "odWhZASi0Ukv"
      },
      "source": [
        "## Lists"
      ]
    },
    {
      "cell_type": "code",
      "metadata": {
        "colab_type": "code",
        "id": "uYwKoydT0unw",
        "outputId": "ebd7ab3d-7bc4-4617-bee4-149bed1121be",
        "colab": {
          "base_uri": "https://localhost:8080/",
          "height": 153
        }
      },
      "source": [
        "# This is a list\n",
        "# Like strings, lists can be indexed and sliced\n",
        "veggies = [\"potato\", \"carrot\", \"brinjal\"]\n",
        "print(veggies)\n",
        "print(veggies[2])\n",
        "print(veggies[-1])\n",
        "# all slice operations return a new list(a copy) containing the requested elements\n",
        "print(veggies[1:2])\n",
        "# lists supports concatenation\n",
        "# unlike strings, lists are mutable\n",
        "# use append() method to add elements to the end of a list\n",
        "veggies.append(\"ladyfinger\")\n",
        "print(veggies)\n",
        "# assignment to slices is also possible\n",
        "veggies[2:] = [\"beetroot\", \"ginger\"]\n",
        "print(veggies)\n",
        "# length of list\n",
        "print(len(veggies))\n",
        "# we can nest lists too\n",
        "x = [['a', 'b'], ['k', 'l']]\n",
        "print(x, \"Length = \", len(x))"
      ],
      "execution_count": 0,
      "outputs": [
        {
          "output_type": "stream",
          "text": [
            "['potato', 'carrot', 'brinjal']\n",
            "brinjal\n",
            "brinjal\n",
            "['carrot']\n",
            "['potato', 'carrot', 'brinjal', 'ladyfinger']\n",
            "['potato', 'carrot', 'beetroot', 'ginger']\n",
            "4\n",
            "[['a', 'b'], ['k', 'l']] Length =  2\n"
          ],
          "name": "stdout"
        }
      ]
    },
    {
      "cell_type": "markdown",
      "metadata": {
        "colab_type": "text",
        "id": "zQr8_gevPVEX"
      },
      "source": [
        "## Fibonacci program"
      ]
    },
    {
      "cell_type": "code",
      "metadata": {
        "colab_type": "code",
        "id": "RlL_N-VBPZH6",
        "outputId": "2bd231af-9752-45ec-cfa1-4c8c22aa3d84",
        "colab": {
          "base_uri": "https://localhost:8080/",
          "height": 34
        }
      },
      "source": [
        "# Prints Fibonacci series upto Nth term where N < k\n",
        "def fibonacci(k):\n",
        "  first, second = 0, 1 # multiple assignment\n",
        "  while first < k:\n",
        "    print(first, end=', ')\n",
        "    first, second = second, first+second\n",
        "\n",
        "# invoke function\n",
        "fibonacci(20)\n"
      ],
      "execution_count": 0,
      "outputs": [
        {
          "output_type": "stream",
          "text": [
            "0, 1, 1, 2, 3, 5, 8, 13, "
          ],
          "name": "stdout"
        }
      ]
    },
    {
      "cell_type": "code",
      "metadata": {
        "colab_type": "code",
        "id": "kLR9NfFOQinu",
        "outputId": "8f6a6f5c-8039-4ed3-f2ed-8523b3ebf996",
        "colab": {
          "base_uri": "https://localhost:8080/",
          "height": 51
        }
      },
      "source": [
        "# Prints Fibonacci series upto Nth term\n",
        "def fibo(n):\n",
        "  first, second = 0, 1\n",
        "  l = [] #empty list to store fibonacci numbers\n",
        "  for i in range(n):\n",
        "    #print(first, end=\" \")\n",
        "    l.append(first)\n",
        "    first, second = second, first+second\n",
        "  print(l)\n",
        "  print(\"Length of the list: \", len(l))\n",
        "\n",
        "fibo(20)\n",
        "    "
      ],
      "execution_count": 0,
      "outputs": [
        {
          "output_type": "stream",
          "text": [
            "[0, 1, 1, 2, 3, 5, 8, 13, 21, 34, 55, 89, 144, 233, 377, 610, 987, 1597, 2584, 4181]\n",
            "Length of the list:  20\n"
          ],
          "name": "stdout"
        }
      ]
    },
    {
      "cell_type": "code",
      "metadata": {
        "colab_type": "code",
        "id": "i_b5z-_gTS05",
        "outputId": "a7fde30b-8bd5-48e8-f5bc-c021f9f7b854",
        "colab": {
          "base_uri": "https://localhost:8080/",
          "height": 34
        }
      },
      "source": [
        "# Prints Nth fibonacci number\n",
        "def nthfibo(n):\n",
        "  first, second = 0, 1\n",
        "  for i in range(n-1):\n",
        "    first, second = second, first+second\n",
        "  print(\"%dth term is %d\" %(n, first))\n",
        "  # formatted output using string modulo operator\n",
        "\n",
        "nthfibo(20)\n"
      ],
      "execution_count": 0,
      "outputs": [
        {
          "output_type": "stream",
          "text": [
            "20th term is 4181\n"
          ],
          "name": "stdout"
        }
      ]
    },
    {
      "cell_type": "markdown",
      "metadata": {
        "colab_type": "text",
        "id": "M4hBsOWKzE2b"
      },
      "source": [
        "<img src=\"https://raw.githubusercontent.com/thecoducer/python_programs/master/Images/code_happy.png\" width=\"65%\" height=\"65%\" />"
      ]
    },
    {
      "cell_type": "markdown",
      "metadata": {
        "colab_type": "text",
        "id": "fG5ijVy1nMkn"
      },
      "source": [
        "# More control flow tools\n",
        "https://docs.python.org/3/tutorial/controlflow.html"
      ]
    },
    {
      "cell_type": "markdown",
      "metadata": {
        "id": "O6d-rW0BboIW",
        "colab_type": "text"
      },
      "source": [
        "## Basic operators\n",
        "- https://www.geeksforgeeks.org/basic-operators-python/"
      ]
    },
    {
      "cell_type": "markdown",
      "metadata": {
        "colab_type": "text",
        "id": "wP7A2lC5jnD9"
      },
      "source": [
        "## If statement"
      ]
    },
    {
      "cell_type": "code",
      "metadata": {
        "colab_type": "code",
        "id": "kulJjDbCjqrU",
        "outputId": "088d5ec2-53b5-4f3a-f6af-15b1e7344387",
        "colab": {
          "base_uri": "https://localhost:8080/",
          "height": 51
        }
      },
      "source": [
        "n = int(input(\"Enter a number: \"))\n",
        "if n<0:\n",
        "  print(\"It is a negative number.\")\n",
        "elif n==0:\n",
        "  print(\"It is a zero.\")\n",
        "else:\n",
        "  print(\"It is a positive number.\") "
      ],
      "execution_count": 0,
      "outputs": [
        {
          "output_type": "stream",
          "text": [
            "Enter a number: -96\n",
            "It is a negative number.\n"
          ],
          "name": "stdout"
        }
      ]
    },
    {
      "cell_type": "markdown",
      "metadata": {
        "colab_type": "text",
        "id": "Wxaor2bllEpX"
      },
      "source": [
        "## Switch or case statement\n",
        "\n",
        "Unlike other languages, Python does not have this feature. Python encourages to use if and elif instead.\n",
        "\n",
        "We can do something similar to switch-case by using dictionary mapping. Read here: https://www.geeksforgeeks.org/switch-case-in-python-replacement/"
      ]
    },
    {
      "cell_type": "markdown",
      "metadata": {
        "colab_type": "text",
        "id": "BNZ6ZRGnmEBl"
      },
      "source": [
        "## For statement"
      ]
    },
    {
      "cell_type": "code",
      "metadata": {
        "colab_type": "code",
        "id": "FbbT3rsImGxf",
        "outputId": "a5defbef-d6d1-4316-b7a3-38cb0a8db76c",
        "colab": {
          "base_uri": "https://localhost:8080/",
          "height": 34
        }
      },
      "source": [
        "# Python’s for statement iterates over the items of \n",
        "# any sequence (a list or a string), in the order \n",
        "# that they appear in the sequence. \n",
        "# similar to for each loop in Java\n",
        "word = ['cat', 'dog', 'tiger', 'lion']\n",
        "for w in word:\n",
        "  w = w.capitalize()\n",
        "print(word)\n",
        "  #print(w.capitalize(), len(w))"
      ],
      "execution_count": 0,
      "outputs": [
        {
          "output_type": "stream",
          "text": [
            "['cat', 'dog', 'tiger', 'lion']\n"
          ],
          "name": "stdout"
        }
      ]
    },
    {
      "cell_type": "markdown",
      "metadata": {
        "id": "PjmQRf0rQ3kQ",
        "colab_type": "text"
      },
      "source": [
        "## while loop"
      ]
    },
    {
      "cell_type": "code",
      "metadata": {
        "id": "sREfZN0nQ51t",
        "colab_type": "code",
        "outputId": "42a645f2-5cc4-457e-f20e-4f4c65428d71",
        "colab": {
          "base_uri": "https://localhost:8080/",
          "height": 34
        }
      },
      "source": [
        "i = 10\n",
        "while i > 0:\n",
        "  print(i, end=\" \")\n",
        "  i = i - 1"
      ],
      "execution_count": 0,
      "outputs": [
        {
          "output_type": "stream",
          "text": [
            "10 9 8 7 6 5 4 3 2 1 "
          ],
          "name": "stdout"
        }
      ]
    },
    {
      "cell_type": "markdown",
      "metadata": {
        "id": "tes9e9CtWtyh",
        "colab_type": "text"
      },
      "source": [
        "## Find second largest element in array"
      ]
    },
    {
      "cell_type": "code",
      "metadata": {
        "id": "Y5ljTYZKR5OG",
        "colab_type": "code",
        "outputId": "b84fb3b4-187d-4d24-ffd3-d61ce704e02a",
        "colab": {
          "base_uri": "https://localhost:8080/",
          "height": 136
        }
      },
      "source": [
        "import sys\n",
        "\n",
        "t = int(input())\n",
        "while t > 0:\n",
        "    n = int(input())\n",
        "    arr = list(map(int, input().split()))\n",
        "    first = second = -sys.maxsize # maximum negative integer\n",
        "    for i in range(0, len(arr)):\n",
        "        if arr[i] > first:\n",
        "            second = first\n",
        "            first = arr[i]\n",
        "        elif arr[i] > second and arr[i] != first:\n",
        "            second = arr[i]\n",
        "    print(second)\n",
        "    t = t - 1"
      ],
      "execution_count": 0,
      "outputs": [
        {
          "output_type": "stream",
          "text": [
            "2\n",
            "5\n",
            "10 21 32 21 89\n",
            "32\n",
            "6\n",
            "-9 -78 -98 -6 -3 2\n",
            "-3\n"
          ],
          "name": "stdout"
        }
      ]
    },
    {
      "cell_type": "markdown",
      "metadata": {
        "id": "QLz_e380aTXq",
        "colab_type": "text"
      },
      "source": [
        "## sys.maxsize and -sys.maxsize\n",
        "- An integer giving the maximum value a variable of type Py_ssize_t can take. It’s usually 2^31 - 1 on a 32-bit platform and 2^63 - 1 on a 64-bit platform."
      ]
    },
    {
      "cell_type": "markdown",
      "metadata": {
        "colab_type": "text",
        "id": "qcMw7RqoTLTD"
      },
      "source": [
        "## range() method"
      ]
    },
    {
      "cell_type": "code",
      "metadata": {
        "colab_type": "code",
        "id": "VF9YHq4AO2d2",
        "outputId": "8211b903-3f33-41bf-b947-9fb00706ee69",
        "colab": {
          "base_uri": "https://localhost:8080/",
          "height": 34
        }
      },
      "source": [
        "# range() method generated arithmetic progressions.\n",
        "# and proves useful in case of for loop\n",
        "for i in range(10):\n",
        "  print(i, end=\" \")"
      ],
      "execution_count": 0,
      "outputs": [
        {
          "output_type": "stream",
          "text": [
            "0 1 2 3 4 5 6 7 8 9 "
          ],
          "name": "stdout"
        }
      ]
    },
    {
      "cell_type": "code",
      "metadata": {
        "colab_type": "code",
        "id": "i41F30mLTPaF",
        "outputId": "a459a853-788a-41e0-a47e-090b1beb53c2",
        "colab": {
          "base_uri": "https://localhost:8080/",
          "height": 51
        }
      },
      "source": [
        "# range(a, b, c)\n",
        "# a = start\n",
        "# b = stop\n",
        "# c = step (common difference of AP)\n",
        "for i in range(5, 30, 5):\n",
        "  print(i, end=\" \")\n",
        "print()\n",
        "for i in range(-2, -40, -6):\n",
        "  print(i, end=\" \")"
      ],
      "execution_count": 0,
      "outputs": [
        {
          "output_type": "stream",
          "text": [
            "5 10 15 20 25 \n",
            "-2 -8 -14 -20 -26 -32 -38 "
          ],
          "name": "stdout"
        }
      ]
    },
    {
      "cell_type": "code",
      "metadata": {
        "colab_type": "code",
        "id": "Y1nZqDWpT99W",
        "outputId": "31943a36-c051-4df2-de6c-e415b79a6785",
        "colab": {
          "base_uri": "https://localhost:8080/",
          "height": 34
        }
      },
      "source": [
        "# iterating over the indices of a sequence using range() and len()\n",
        "str = \"software engineering\"\n",
        "for i in range(len(str)):\n",
        "  print(str[i], end=\" \")"
      ],
      "execution_count": 0,
      "outputs": [
        {
          "output_type": "stream",
          "text": [
            "s o f t w a r e   e n g i n e e r i n g "
          ],
          "name": "stdout"
        }
      ]
    },
    {
      "cell_type": "markdown",
      "metadata": {
        "colab_type": "text",
        "id": "ZrorQqe6x7uY"
      },
      "source": [
        "## list() method"
      ]
    },
    {
      "cell_type": "code",
      "metadata": {
        "colab_type": "code",
        "id": "7Z1aCHI8VSEt",
        "outputId": "2c930160-f706-48c5-a4d2-5d48284428ea",
        "scrolled": true,
        "colab": {
          "base_uri": "https://localhost:8080/",
          "height": 34
        }
      },
      "source": [
        "# we can create lists from iterables using this method\n",
        "list(range(10))"
      ],
      "execution_count": 0,
      "outputs": [
        {
          "output_type": "execute_result",
          "data": {
            "text/plain": [
              "[0, 1, 2, 3, 4, 5, 6, 7, 8, 9]"
            ]
          },
          "metadata": {
            "tags": []
          },
          "execution_count": 88
        }
      ]
    },
    {
      "cell_type": "markdown",
      "metadata": {
        "colab_type": "text",
        "id": "HM4HrwMzKv-j"
      },
      "source": [
        "## break statement and else clause on loop"
      ]
    },
    {
      "cell_type": "markdown",
      "metadata": {
        "colab_type": "text",
        "id": "1ZH99i67Lc1W"
      },
      "source": [
        "The break statement, like in C, breaks out of the innermost enclosing for or while loop.\n",
        "\n",
        "Loop statements may have an else clause; it is *executed when the loop terminates through exhaustion of the list (with for) or when the condition becomes false (with while)*, **but not when the loop is terminated by a break statement.**"
      ]
    },
    {
      "cell_type": "markdown",
      "metadata": {
        "colab_type": "text",
        "id": "TThqIfFDLxET"
      },
      "source": [
        "## Find primes upto N"
      ]
    },
    {
      "cell_type": "code",
      "metadata": {
        "colab_type": "code",
        "id": "1Ii6JWFlKvmP",
        "outputId": "9c8003b9-3fb4-4b25-9df9-aabaf6e9deda",
        "colab": {
          "base_uri": "https://localhost:8080/",
          "height": 238
        }
      },
      "source": [
        "def primes(n):\n",
        "  for i in range(2, n):\n",
        "    for j in range(2, i):\n",
        "      if i % j == 0:\n",
        "        print(i, \"equals\", j, \"*\", i//j)\n",
        "        break\n",
        "    else:\n",
        "      # loop fell through without finding a factor\n",
        "      # else belongs to the for loop\n",
        "      # loop's else clause runs when no break occurs\n",
        "      # similar to try (in exception handling), when no exception occurs\n",
        "      # else clause of try executes\n",
        "      print(\"%d is a prime number\" %(i))\n",
        "\n",
        "primes(15)"
      ],
      "execution_count": 0,
      "outputs": [
        {
          "output_type": "stream",
          "text": [
            "2 is a prime number\n",
            "3 is a prime number\n",
            "4 equals 2 * 2\n",
            "5 is a prime number\n",
            "6 equals 2 * 3\n",
            "7 is a prime number\n",
            "8 equals 2 * 4\n",
            "9 equals 3 * 3\n",
            "10 equals 2 * 5\n",
            "11 is a prime number\n",
            "12 equals 2 * 6\n",
            "13 is a prime number\n",
            "14 equals 2 * 7\n"
          ],
          "name": "stdout"
        }
      ]
    },
    {
      "cell_type": "markdown",
      "metadata": {
        "colab_type": "text",
        "id": "TaGPiE5qQ5o5"
      },
      "source": [
        "## continue statement"
      ]
    },
    {
      "cell_type": "markdown",
      "metadata": {
        "colab_type": "text",
        "id": "Xem2mzF2RoA1"
      },
      "source": [
        "Like C, it continues with the next iteration of the loop."
      ]
    },
    {
      "cell_type": "markdown",
      "metadata": {
        "colab_type": "text",
        "id": "pblPcxWuRqIc"
      },
      "source": [
        "## pass statement"
      ]
    },
    {
      "cell_type": "markdown",
      "metadata": {
        "colab_type": "text",
        "id": "zZ2r82IcR7Za"
      },
      "source": [
        "It does nothing. Read more https://docs.python.org/3/tutorial/controlflow.html#pass-statements"
      ]
    },
    {
      "cell_type": "markdown",
      "metadata": {
        "colab_type": "text",
        "id": "OVoCcSk-SE7z"
      },
      "source": [
        "## Defining a function"
      ]
    },
    {
      "cell_type": "markdown",
      "metadata": {
        "colab_type": "text",
        "id": "s8T1qCAcSIgX"
      },
      "source": [
        "- The keyword def introduces a function definition. It must be followed by the function name and the parenthesized list of formal parameters. The statements that form the body of the function start at the next line, and must be indented.\n",
        "- The first statement of the function body can optionally be a string literal; this string literal is the function’s documentation string, or docstring.\n",
        "- The execution of a function introduces a new symbol table used for the local variables of the function.\n",
        "- The actual parameters (arguments) to a function call are introduced in the local symbol table of the called function when it is called; thus, arguments are passed using **call by value** (where the value is always an object reference, not the value of the object).\n",
        "- In fact, even functions without a return statement do return a value, albeit a rather boring one. **This value is called None (it’s a built-in name)**. Writing the value None is normally suppressed by the interpreter if it would be the only value written."
      ]
    },
    {
      "cell_type": "markdown",
      "metadata": {
        "colab_type": "text",
        "id": "VEsofk7iaIO9"
      },
      "source": [
        "##  return statement"
      ]
    },
    {
      "cell_type": "code",
      "metadata": {
        "colab_type": "code",
        "id": "VJKxweq4aKq6",
        "outputId": "ee2326cf-795c-47cc-8679-57321d951a4c",
        "colab": {
          "base_uri": "https://localhost:8080/",
          "height": 34
        }
      },
      "source": [
        "def sublist(fruits, m, n):\n",
        "  return fruits[m:n]\n",
        "\n",
        "fruits = [\"mango\", \"apple\", \"guave\", \"grapes\", \"banana\", \"pineapple\", \"cucumber\", \"pomegranate\", \"watermelon\", \"naseberry\"]\n",
        "sublist(fruits, 2, 5)"
      ],
      "execution_count": 0,
      "outputs": [
        {
          "output_type": "execute_result",
          "data": {
            "text/plain": [
              "['guave', 'grapes', 'banana']"
            ]
          },
          "metadata": {
            "tags": []
          },
          "execution_count": 90
        }
      ]
    },
    {
      "cell_type": "markdown",
      "metadata": {
        "colab_type": "text",
        "id": "KO8x5g3TiNzb"
      },
      "source": [
        "## Default argument values in function\n",
        "\n",
        "- The default values are evaluated at the point of function definition in the defining scope.\n",
        "- The default value is evaluated only once. This makes a difference when the default is a mutable object such as a list, dictionary, or instances of most classes. Read more https://docs.python.org/3/tutorial/controlflow.html#default-argument-values"
      ]
    },
    {
      "cell_type": "code",
      "metadata": {
        "colab_type": "code",
        "id": "H3NAXRQpiSla",
        "outputId": "4c6b1e56-5b92-466b-bf5d-fff30d54feb0",
        "colab": {
          "base_uri": "https://localhost:8080/",
          "height": 51
        }
      },
      "source": [
        "def ask_ok(prompt, retries=4, reminder='Please try again!'): # two arguments have been assigned a default\n",
        "    while True:\n",
        "        ok = input(prompt)\n",
        "        if ok in ('y', 'ye', 'yes'):\n",
        "            return True\n",
        "        if ok in ('n', 'no', 'nop', 'nope'):\n",
        "            return False\n",
        "        retries = retries - 1\n",
        "        if retries < 0:\n",
        "            raise ValueError('invalid user response')\n",
        "        print(reminder)\n",
        "\n",
        "# ask_ok(\"Do you really want to quit?\")\n",
        "ask_ok(\"Okay?\", 2, \"Only yes or no!\")"
      ],
      "execution_count": 0,
      "outputs": [
        {
          "output_type": "stream",
          "text": [
            "Okay?y\n"
          ],
          "name": "stdout"
        },
        {
          "output_type": "execute_result",
          "data": {
            "text/plain": [
              "True"
            ]
          },
          "metadata": {
            "tags": []
          },
          "execution_count": 91
        }
      ]
    },
    {
      "cell_type": "markdown",
      "metadata": {
        "id": "NZhQFmIZ8ZwJ",
        "colab_type": "text"
      },
      "source": [
        "## in and not in operator\n",
        "- The operators in and not in **test for membership**. x in s evaluates to True if x is a member of s, and False otherwise. x not in s returns the negation of x in s. \n",
        "- Read more https://docs.python.org/3/reference/expressions.html#membership-test-operations"
      ]
    },
    {
      "cell_type": "markdown",
      "metadata": {
        "colab_type": "text",
        "id": "HXM5bIQHn3wg"
      },
      "source": [
        "##  Lambda expression\n",
        "Small anonymous functions are created with the lambda keyword. No need of function name and return statement\n",
        "\n",
        "Read more https://www.geeksforgeeks.org/python-lambda-anonymous-functions-filter-map-reduce/"
      ]
    },
    {
      "cell_type": "code",
      "metadata": {
        "colab_type": "code",
        "id": "PlkEWhfToGdz",
        "outputId": "f38fdfdc-6269-4931-a42e-dbd82ec792e0",
        "colab": {
          "base_uri": "https://localhost:8080/",
          "height": 34
        }
      },
      "source": [
        "g = lambda x: x*x*x\n",
        "print(g(3))"
      ],
      "execution_count": 0,
      "outputs": [
        {
          "output_type": "stream",
          "text": [
            "27\n"
          ],
          "name": "stdout"
        }
      ]
    },
    {
      "cell_type": "code",
      "metadata": {
        "colab_type": "code",
        "id": "1cMvBIcDocNu",
        "outputId": "28848d8a-0422-42f7-fe34-7185dae2e4e8",
        "colab": {
          "base_uri": "https://localhost:8080/",
          "height": 34
        }
      },
      "source": [
        "# using filter function\n",
        "# The filter() function in Python takes in a function and a list as arguments.\n",
        "# This offers an elegant way to filter out all the elements of a sequence, \n",
        "# for which the function returns True. \n",
        "li = [5, 7, 22, 97, 54, 62, 77, 23, 73, 61]\n",
        "final_list = list(filter(lambda x:(x%2 != 0), li))\n",
        "print(final_list)"
      ],
      "execution_count": 0,
      "outputs": [
        {
          "output_type": "stream",
          "text": [
            "[5, 7, 97, 77, 23, 73, 61]\n"
          ],
          "name": "stdout"
        }
      ]
    },
    {
      "cell_type": "markdown",
      "metadata": {
        "id": "5JW9sGfC5Rvi",
        "colab_type": "text"
      },
      "source": [
        "## Unpacking Argument Lists"
      ]
    },
    {
      "cell_type": "code",
      "metadata": {
        "id": "J6nTQlpN5Tnm",
        "colab_type": "code",
        "outputId": "a3691a9c-9a1f-4aa6-b83d-a4b63b32b306",
        "colab": {
          "base_uri": "https://localhost:8080/",
          "height": 34
        }
      },
      "source": [
        "a = [3, 8]\n",
        "print(list(range(*a)))"
      ],
      "execution_count": 0,
      "outputs": [
        {
          "output_type": "stream",
          "text": [
            "[3, 4, 5, 6, 7]\n"
          ],
          "name": "stdout"
        }
      ]
    },
    {
      "cell_type": "markdown",
      "metadata": {
        "colab_type": "text",
        "id": "sog7q2b9juZX"
      },
      "source": [
        "## What's left to read in this chapter?\n",
        "- Keyword Arguments\n",
        "- Arbitrary Argument Lists\n",
        "- Documentation Strings\n",
        "- Function Annotations"
      ]
    },
    {
      "cell_type": "markdown",
      "metadata": {
        "colab_type": "text",
        "id": "fyu5fdyoNsmy"
      },
      "source": [
        "<img src=\"https://raw.githubusercontent.com/thecoducer/python_programs/master/Images/large.jpg\" width=\"65%\" height=\"65%\" />"
      ]
    },
    {
      "cell_type": "markdown",
      "metadata": {
        "colab_type": "text",
        "id": "w07rDMCSv2L_"
      },
      "source": [
        "# Data Structures\n",
        "\n",
        "https://docs.python.org/3/tutorial/datastructures.html"
      ]
    },
    {
      "cell_type": "markdown",
      "metadata": {
        "id": "U3hJypyQhdDP",
        "colab_type": "text"
      },
      "source": [
        "## More on lists"
      ]
    },
    {
      "cell_type": "code",
      "metadata": {
        "id": "b_oB5qflgBd6",
        "colab_type": "code",
        "outputId": "45a8b731-c912-4351-f01a-1d0c8283e625",
        "colab": {
          "base_uri": "https://localhost:8080/",
          "height": 289
        }
      },
      "source": [
        "# list.append(x) - adds to the end of the list\n",
        "l1 = [1, 2, 3]\n",
        "l1.append(4)\n",
        "print(l1)\n",
        "\n",
        "# list.extend(iterable) - extends the list by appending all the items from the iterable\n",
        "l1.extend(range(6, 10))\n",
        "print(l1)\n",
        "\n",
        "# list.insert(i, x) - i is the index value and x is the data to insert\n",
        "l1.insert(4, 5)\n",
        "print(l1)\n",
        "\n",
        "# list.remove(x) - removes first item from the list whose value is equal to x. Raises ValueError if not found\n",
        "l1.remove(3)\n",
        "print(l1)\n",
        "\n",
        "# list.pop([i]) - passing the parameter is optional and hence written within [].\n",
        "# removes the item at a given position\n",
        "# list.pop() removes and returns the last item in the list\n",
        "print(l1.pop())\n",
        "print(l1)\n",
        "\n",
        "# list.clear() - removes all items from the list. Equivalent to del list[:]\n",
        "l2 = [98, 56, 21, 30]\n",
        "print(l2)\n",
        "l2.clear()\n",
        "print(l2)\n",
        "\n",
        "# list.index(x[, start[, end]])\n",
        "print(l1.index(4))\n",
        "print(l1.index(7, 1, len(l1)))\n",
        "# print(l1.index(7, 1, 3)) # raises ValueError since 7 is not in the slice | 1 | 2 | 3 |\n",
        "\n",
        "# list.count(x) - return the number of times x appears in the list\n",
        "l2 = [6, 51, 6, 21, 52, 6, 2]\n",
        "print(l2.count(6))\n",
        "\n",
        "#list.sort(key=None, reverse=False) - sorts elements in place\n",
        "print(l2)\n",
        "l2.sort()\n",
        "print(l2)\n",
        "l2.sort(reverse=True)\n",
        "print(l2)\n",
        "\n",
        "# list.reverse() - reverse the elements in \n",
        "l1.reverse()\n",
        "print(l1)\n",
        "\n",
        "# list.copy() - returns a shallow copy of the list. Equivalent to list[:]\n",
        "print(l2.copy())"
      ],
      "execution_count": 0,
      "outputs": [
        {
          "output_type": "stream",
          "text": [
            "[1, 2, 3, 4]\n",
            "[1, 2, 3, 4, 6, 7, 8, 9]\n",
            "[1, 2, 3, 4, 5, 6, 7, 8, 9]\n",
            "[1, 2, 4, 5, 6, 7, 8, 9]\n",
            "9\n",
            "[1, 2, 4, 5, 6, 7, 8]\n",
            "[98, 56, 21, 30]\n",
            "[]\n",
            "2\n",
            "5\n",
            "3\n",
            "[6, 51, 6, 21, 52, 6, 2]\n",
            "[2, 6, 6, 6, 21, 51, 52]\n",
            "[52, 51, 21, 6, 6, 6, 2]\n",
            "[8, 7, 6, 5, 4, 2, 1]\n",
            "[52, 51, 21, 6, 6, 6, 2]\n"
          ],
          "name": "stdout"
        }
      ]
    },
    {
      "cell_type": "markdown",
      "metadata": {
        "id": "X_oQ24ys7dzI",
        "colab_type": "text"
      },
      "source": [
        "## Using lists as stacks\n",
        "- stack follows LIFO(last-in, first-out) principle\n",
        "- to push we use append()\n",
        "- to pop we use pop()"
      ]
    },
    {
      "cell_type": "code",
      "metadata": {
        "id": "RrxSICe67ggS",
        "colab_type": "code",
        "outputId": "0a3e14ab-0f95-41fe-dabb-cb36917272c3",
        "colab": {
          "base_uri": "https://localhost:8080/",
          "height": 85
        }
      },
      "source": [
        "stack = [3, 8, 2]\n",
        "stack.append(4)\n",
        "stack.append(7)\n",
        "print(stack)\n",
        "print(stack.pop())\n",
        "print(stack.pop())\n",
        "print(stack)"
      ],
      "execution_count": 0,
      "outputs": [
        {
          "output_type": "stream",
          "text": [
            "[3, 8, 2, 4, 7]\n",
            "7\n",
            "4\n",
            "[3, 8, 2]\n"
          ],
          "name": "stdout"
        }
      ]
    },
    {
      "cell_type": "markdown",
      "metadata": {
        "id": "tMX-QOQb8xoE",
        "colab_type": "text"
      },
      "source": [
        "## Using lists as queues\n",
        "- queue follows FIFO(first-in, first-out) principle\n",
        "- It is also possible to use a list as a queue, where the first element added is the first element retrieved.\n",
        "- However, lists are not efficient for this purpose.\n",
        "- While appends and pops from the end of list are fast.\n",
        "- but doing inserts or pops from the beginning of a list is slow (because all of the other elements have to be shifted by one).\n",
        "- to implement a queue, use collections.deque which was designed to have fast appends and pops from both ends.\n",
        "- Deques support thread-safe, memory efficient appends and pops from either side of the deque with approximately the same O(1) performance in either direction."
      ]
    },
    {
      "cell_type": "code",
      "metadata": {
        "id": "SueUMHkb80Jq",
        "colab_type": "code",
        "outputId": "867365ae-ddc3-43e9-e1d9-1e7e2254c5c2",
        "colab": {
          "base_uri": "https://localhost:8080/",
          "height": 68
        }
      },
      "source": [
        "from collections import deque\n",
        "queue = deque([\"Amit\", \"Karthik\", \"Sammy\", \"Avik\"])\n",
        "queue.append(\"Tanmoy\")\n",
        "queue.append(\"Komal\")\n",
        "print(queue.popleft())\n",
        "print(queue.popleft())\n",
        "print(queue)"
      ],
      "execution_count": 0,
      "outputs": [
        {
          "output_type": "stream",
          "text": [
            "Amit\n",
            "Karthik\n",
            "deque(['Sammy', 'Avik', 'Tanmoy', 'Komal'])\n"
          ],
          "name": "stdout"
        }
      ]
    },
    {
      "cell_type": "markdown",
      "metadata": {
        "id": "8cLOqRrW-_x8",
        "colab_type": "text"
      },
      "source": [
        "## List comprehensions\n",
        "- List comprehensions provide a concise way to create lists. Common applications are to make new lists where each element is the result of some operations applied to each member of another sequence or iterable, or to create a subsequence of those elements that satisfy a certain condition.\n",
        "- **basic syntax: new_list = [expression for_loop_one_or_more condtions]**"
      ]
    },
    {
      "cell_type": "code",
      "metadata": {
        "id": "HGAHxXBNARnQ",
        "colab_type": "code",
        "outputId": "df566a1e-5c69-497d-9784-29e6bc74e55e",
        "colab": {
          "base_uri": "https://localhost:8080/",
          "height": 34
        }
      },
      "source": [
        "squares = []\n",
        "for x in range(10):\n",
        "    squares.append(x**2)\n",
        "\n",
        "print(squares)"
      ],
      "execution_count": 0,
      "outputs": [
        {
          "output_type": "stream",
          "text": [
            "[0, 1, 4, 9, 16, 25, 36, 49, 64, 81]\n"
          ],
          "name": "stdout"
        }
      ]
    },
    {
      "cell_type": "code",
      "metadata": {
        "id": "GoQzuVs9Abdo",
        "colab_type": "code",
        "outputId": "3ada9e48-285e-4997-e263-f90318401a6b",
        "colab": {
          "base_uri": "https://localhost:8080/",
          "height": 34
        }
      },
      "source": [
        "squares = list(map(lambda x:x**2, range(10)))\n",
        "print(squares)"
      ],
      "execution_count": 0,
      "outputs": [
        {
          "output_type": "stream",
          "text": [
            "[0, 1, 4, 9, 16, 25, 36, 49, 64, 81]\n"
          ],
          "name": "stdout"
        }
      ]
    },
    {
      "cell_type": "code",
      "metadata": {
        "id": "LO25YkRlKCvE",
        "colab_type": "code",
        "outputId": "1dc9202f-f45d-4e7b-9cde-365362c70ba1",
        "colab": {
          "base_uri": "https://localhost:8080/",
          "height": 34
        }
      },
      "source": [
        "# more concise and readable\n",
        "# this is list comprehension\n",
        "squares = [x**2 for x in range(1, 10)]\n",
        "print(squares)"
      ],
      "execution_count": 0,
      "outputs": [
        {
          "output_type": "stream",
          "text": [
            "[1, 4, 9, 16, 25, 36, 49, 64, 81]\n"
          ],
          "name": "stdout"
        }
      ]
    },
    {
      "cell_type": "code",
      "metadata": {
        "id": "vXFNSF9PMnor",
        "colab_type": "code",
        "outputId": "793526a3-76e7-4589-a6bf-9265bf133474",
        "colab": {
          "base_uri": "https://localhost:8080/",
          "height": 34
        }
      },
      "source": [
        "# If the expression is a tuple, it must be parenthesized.\n",
        "[(x, y) for x in [1,2,3] for y in [3,1,4] if x != y]"
      ],
      "execution_count": 0,
      "outputs": [
        {
          "output_type": "execute_result",
          "data": {
            "text/plain": [
              "[(1, 3), (1, 4), (2, 3), (2, 1), (2, 4), (3, 1), (3, 4)]"
            ]
          },
          "metadata": {
            "tags": []
          },
          "execution_count": 101
        }
      ]
    },
    {
      "cell_type": "code",
      "metadata": {
        "id": "Kj3DZbnTPO2n",
        "colab_type": "code",
        "outputId": "c99774b8-62ce-4870-d14f-9789bd92b2f6",
        "colab": {
          "base_uri": "https://localhost:8080/",
          "height": 34
        }
      },
      "source": [
        "# flatten a list using a list comprehension with two 'for'\n",
        "vec = [[1,2,3], [4,5,6], [7,8,9]]\n",
        "[num for elem in vec for num in elem]"
      ],
      "execution_count": 0,
      "outputs": [
        {
          "output_type": "execute_result",
          "data": {
            "text/plain": [
              "[1, 2, 3, 4, 5, 6, 7, 8, 9]"
            ]
          },
          "metadata": {
            "tags": []
          },
          "execution_count": 102
        }
      ]
    },
    {
      "cell_type": "code",
      "metadata": {
        "id": "mTDRvqZZP7Kn",
        "colab_type": "code",
        "outputId": "d9c3f0fd-b351-4653-a310-278bd19e7645",
        "colab": {
          "base_uri": "https://localhost:8080/",
          "height": 34
        }
      },
      "source": [
        "# call a method on each element\n",
        "freshfruit = ['  banana', '  loganberry ', 'passion fruit  ']\n",
        "[weapon.strip() for weapon in freshfruit]"
      ],
      "execution_count": 0,
      "outputs": [
        {
          "output_type": "execute_result",
          "data": {
            "text/plain": [
              "['banana', 'loganberry', 'passion fruit']"
            ]
          },
          "metadata": {
            "tags": []
          },
          "execution_count": 103
        }
      ]
    },
    {
      "cell_type": "markdown",
      "metadata": {
        "id": "aRwCpcqUkSuU",
        "colab_type": "text"
      },
      "source": [
        "## Capitalize each word in a string"
      ]
    },
    {
      "cell_type": "code",
      "metadata": {
        "id": "62ta21OEkWTU",
        "colab_type": "code",
        "outputId": "e421be32-476f-4177-fe17-8dde5457b8ea",
        "colab": {
          "base_uri": "https://localhost:8080/",
          "height": 51
        }
      },
      "source": [
        "str = input()\n",
        "l = str.split()\n",
        "print(\" \".join(word.capitalize() for word in l))"
      ],
      "execution_count": 0,
      "outputs": [
        {
          "output_type": "stream",
          "text": [
            "operating system\n",
            "Operating System\n"
          ],
          "name": "stdout"
        }
      ]
    },
    {
      "cell_type": "markdown",
      "metadata": {
        "id": "IeHP1X30KDNI",
        "colab_type": "text"
      },
      "source": [
        "## map() method\n",
        "- map(function, iterable, ...)\n",
        "- map() function returns a list of the results after applying the given function to each item of a given iterable (list, tuple etc.)\n",
        "- read: https://www.geeksforgeeks.org/python-map-function/\n",
        "- read: https://docs.python.org/3/library/functions.html#map"
      ]
    },
    {
      "cell_type": "code",
      "metadata": {
        "id": "z3Yg6wRjLOIv",
        "colab_type": "code",
        "outputId": "7e489567-e319-42b6-f6f1-d897883c8342",
        "colab": {
          "base_uri": "https://localhost:8080/",
          "height": 34
        }
      },
      "source": [
        "# listify the list of strings individually\n",
        "\n",
        "l = ['sat', 'bat', 'cat', 'mat'] \n",
        "\n",
        "test = list(map(list, l)) \n",
        "print(test) \n"
      ],
      "execution_count": 0,
      "outputs": [
        {
          "output_type": "stream",
          "text": [
            "[['s', 'a', 't'], ['b', 'a', 't'], ['c', 'a', 't'], ['m', 'a', 't']]\n"
          ],
          "name": "stdout"
        }
      ]
    },
    {
      "cell_type": "markdown",
      "metadata": {
        "id": "odhSt-ciOs65",
        "colab_type": "text"
      },
      "source": [
        "## Iterator vs Iterable\n",
        "- read: https://www.geeksforgeeks.org/python-difference-iterable-iterator/"
      ]
    },
    {
      "cell_type": "markdown",
      "metadata": {
        "id": "JOrPZIRZmvgv",
        "colab_type": "text"
      },
      "source": [
        "## Nested list comprehensions"
      ]
    },
    {
      "cell_type": "code",
      "metadata": {
        "id": "kN3FY2zgmzZi",
        "colab_type": "code",
        "outputId": "4d39e439-ae7c-42e9-c0ab-d7d85bb2fcdc",
        "colab": {
          "base_uri": "https://localhost:8080/",
          "height": 34
        }
      },
      "source": [
        "# transpose a matrix\n",
        "# using nested list comprehensions\n",
        "matrix = [\n",
        "    [1, 2, 3, 4],\n",
        "    [5, 6, 7, 8],\n",
        "    [9, 10, 11, 12],\n",
        "]\n",
        "\n",
        "print([[row[i] for row in matrix] for i in range(4)])\n",
        "\n",
        "#for row in matrix:\n",
        "#  print(row)"
      ],
      "execution_count": 0,
      "outputs": [
        {
          "output_type": "stream",
          "text": [
            "[[1, 5, 9], [2, 6, 10], [3, 7, 11], [4, 8, 12]]\n"
          ],
          "name": "stdout"
        }
      ]
    },
    {
      "cell_type": "code",
      "metadata": {
        "id": "pnV3aDki41Vj",
        "colab_type": "code",
        "outputId": "a1391d9d-bcab-46b5-8223-c42d76fb7cf3",
        "colab": {
          "base_uri": "https://localhost:8080/",
          "height": 34
        }
      },
      "source": [
        "# using zip()\n",
        "matrix = [\n",
        "    [1, 2, 3, 4],\n",
        "    [5, 6, 7, 8],\n",
        "    [9, 10, 11, 12],\n",
        "]\n",
        "\n",
        "print(list(zip(*matrix))) # *matrix unpacks argument lists"
      ],
      "execution_count": 0,
      "outputs": [
        {
          "output_type": "stream",
          "text": [
            "[(1, 5, 9), (2, 6, 10), (3, 7, 11), (4, 8, 12)]\n"
          ],
          "name": "stdout"
        }
      ]
    },
    {
      "cell_type": "markdown",
      "metadata": {
        "id": "waoItAGD6NZC",
        "colab_type": "text"
      },
      "source": [
        "## zip() method\n",
        "- The purpose of zip() is to map the similar index of multiple containers so that they can be used just using as single entity.\n",
        "- Syntax : \n",
        "zip(*iterators)\n",
        "- Parameters : \n",
        "Python iterables or containers ( list, string etc )\n",
        "- Return Value : \n",
        "Returns a single iterator object, having mapped values from all the\n",
        "containers."
      ]
    },
    {
      "cell_type": "markdown",
      "metadata": {
        "id": "XImrPpRpFJBK",
        "colab_type": "text"
      },
      "source": [
        "## del statement"
      ]
    },
    {
      "cell_type": "code",
      "metadata": {
        "id": "-ivJQGoFFLdB",
        "colab_type": "code",
        "outputId": "c4f66a4d-4e43-45a4-fe94-8b063a20b5a2",
        "colab": {
          "base_uri": "https://localhost:8080/",
          "height": 34
        }
      },
      "source": [
        "m = [1, 2, 3, 4, 5]\n",
        "del m[2:4]\n",
        "print(m)"
      ],
      "execution_count": 0,
      "outputs": [
        {
          "output_type": "stream",
          "text": [
            "[1, 2, 5]\n"
          ],
          "name": "stdout"
        }
      ]
    },
    {
      "cell_type": "markdown",
      "metadata": {
        "id": "GXHO7ladKNi-",
        "colab_type": "text"
      },
      "source": [
        "## Tuples and sequences\n",
        "- List, strings, tuples, range are all examples of sequence types\n",
        "- tuple consists of a number of values seperated by commas\n",
        "- tuples may be nested\n",
        "- tuples are immutable\n",
        "- tuples when printed are always enclosed in parentheses\n",
        "- generally, tuples are used to store heterogenous elements whereas lists are used to store homogenous elements\n",
        "- Note that multiple assignment is really just a combination of tuple packing and sequence unpacking."
      ]
    },
    {
      "cell_type": "code",
      "metadata": {
        "id": "rHDegqd0Xnkf",
        "colab_type": "code",
        "outputId": "ae0b8b07-91d5-407d-ef10-f2c9f271fa9c",
        "colab": {
          "base_uri": "https://localhost:8080/",
          "height": 119
        }
      },
      "source": [
        "t = 748, 9709, \"Hello\"\n",
        "print(t)\n",
        "y = t, 76, 97 # nested tuple\n",
        "print(y)\n",
        "print(t[2])\n",
        "# tuple consists no item\n",
        "p = ()\n",
        "print(len(p))\n",
        "# tuple has one item\n",
        "o = \"Hey!\", # note trailing comma\n",
        "print(len(o))\n",
        "print(o)"
      ],
      "execution_count": 0,
      "outputs": [
        {
          "output_type": "stream",
          "text": [
            "(748, 9709, 'Hello')\n",
            "((748, 9709, 'Hello'), 76, 97)\n",
            "Hello\n",
            "0\n",
            "1\n",
            "('Hey!',)\n"
          ],
          "name": "stdout"
        }
      ]
    },
    {
      "cell_type": "code",
      "metadata": {
        "id": "7kfjWPy6avit",
        "colab_type": "code",
        "outputId": "e251d435-0f86-4df5-a421-bccaf26a801a",
        "colab": {
          "base_uri": "https://localhost:8080/",
          "height": 34
        }
      },
      "source": [
        "# multiple assignment is really just a combination of tuple packing and sequence unpacking\n",
        "# x, y, z = 56, 25, 89\n",
        "# print(x, y, z)\n",
        "# same as:\n",
        "t = 56, 25, 89 # tuple packing\n",
        "x, y, z = t # sequence unpacking\n",
        "print(x, y, z)"
      ],
      "execution_count": 0,
      "outputs": [
        {
          "output_type": "stream",
          "text": [
            "56 25 89\n"
          ],
          "name": "stdout"
        }
      ]
    },
    {
      "cell_type": "markdown",
      "metadata": {
        "id": "o09Rk8JWZJ37",
        "colab_type": "text"
      },
      "source": [
        "## Sets\n",
        "- a set is an unordered collection with no duplicate elements\n",
        "- Basic uses include membership testing and eliminating duplicate entries.\n",
        "- also supports mathematical opeartions like union, intersection, difference and symmetric difference\n",
        "- like list comprehensions, set comprehensions are also supported\n",
        "- sets can also be created using set() constructor"
      ]
    },
    {
      "cell_type": "code",
      "metadata": {
        "id": "hbDG-yJrZLDm",
        "colab_type": "code",
        "outputId": "37301399-4d9a-4a85-d5b2-9f047b3c0379",
        "colab": {
          "base_uri": "https://localhost:8080/",
          "height": 68
        }
      },
      "source": [
        "basket = {'apple', 'orange', 'apple', 'pear', 'orange', 'banana'}\n",
        "print(basket) # notice: duplicates have been removed\n",
        "# search an element in set by fast membership testing\n",
        "print(\"apple\" in basket)\n",
        "print(\"guave\" in basket)"
      ],
      "execution_count": 0,
      "outputs": [
        {
          "output_type": "stream",
          "text": [
            "{'apple', 'banana', 'orange', 'pear'}\n",
            "True\n",
            "False\n"
          ],
          "name": "stdout"
        }
      ]
    },
    {
      "cell_type": "code",
      "metadata": {
        "id": "GrcK_qP3TxMN",
        "colab_type": "code",
        "outputId": "ce1f8ed4-7e67-4629-ff45-de073b58efc1",
        "colab": {
          "base_uri": "https://localhost:8080/",
          "height": 102
        }
      },
      "source": [
        "# set operations\n",
        "a = set(\"abracadabra\")\n",
        "b = set(\"alacazam\")\n",
        "print(a, b)\n",
        "# letters in a but not in b\n",
        "print(a-b)\n",
        "# letters in a or b or both\n",
        "print(a | b)\n",
        "# letters in both a and b\n",
        "print(a & b)\n",
        "# letters in a or b but not both\n",
        "print(a ^ b)"
      ],
      "execution_count": 0,
      "outputs": [
        {
          "output_type": "stream",
          "text": [
            "{'d', 'b', 'a', 'r', 'c'} {'l', 'a', 'z', 'm', 'c'}\n",
            "{'d', 'b', 'r'}\n",
            "{'l', 'd', 'b', 'a', 'r', 'z', 'm', 'c'}\n",
            "{'a', 'c'}\n",
            "{'l', 'd', 'b', 'r', 'z', 'm'}\n"
          ],
          "name": "stdout"
        }
      ]
    },
    {
      "cell_type": "code",
      "metadata": {
        "id": "j-kwaaPhUumZ",
        "colab_type": "code",
        "outputId": "afa2b48a-f059-430f-9438-b34b21ec6bf1",
        "colab": {
          "base_uri": "https://localhost:8080/",
          "height": 34
        }
      },
      "source": [
        "# set comprehensions\n",
        "a = {x for x in \"alacazam\" if x not in \"alm\"}\n",
        "print(a)"
      ],
      "execution_count": 0,
      "outputs": [
        {
          "output_type": "stream",
          "text": [
            "{'z', 'c'}\n"
          ],
          "name": "stdout"
        }
      ]
    },
    {
      "cell_type": "markdown",
      "metadata": {
        "id": "l6TPAUMeVGWU",
        "colab_type": "text"
      },
      "source": [
        "## Dictionaries\n",
        "- till now we have read built-in types those were sequences\n",
        "- now we will study dictionary which is a mapping type/object\n",
        "- a mapping object maps hashable values to arbitary objects\n",
        "- mappings are mutable objects\n",
        "- Dictionaries can be created by placing a comma-separated list of **key: value pairs** within braces or by the dict constructor\n",
        "- Unlike sequences, which are indexed by a range of numbers, **dictionaries are indexed by keys**, which can be any immutable type; strings and numbers can always be keys\n",
        "- Tuples can be used as keys if they contain only strings, numbers, or tuples; if a tuple contains any mutable object either directly or indirectly, it cannot be used as a key.\n",
        "- You can't use lists as keys since they are mutable"
      ]
    },
    {
      "cell_type": "code",
      "metadata": {
        "id": "qUocpBeLXi49",
        "colab_type": "code",
        "outputId": "9ec5dc40-9648-47dd-8f9d-6c27d069faed",
        "colab": {
          "base_uri": "https://localhost:8080/",
          "height": 119
        }
      },
      "source": [
        "tel = {\"jack\": 4098, \"sape\": 4139, \"klein\": 5206}\n",
        "print(tel)\n",
        "# add new key: value pair\n",
        "tel[\"dire\"] = 8521\n",
        "print(tel)\n",
        "del tel[\"sape\"]\n",
        "print(tel)\n",
        "l = list(tel) # list of keys\n",
        "l = sorted(l)\n",
        "print(l)\n",
        "print(\"kol\" in l)\n",
        "tel.update(jack=6102) # update() method written below\n",
        "print(tel)"
      ],
      "execution_count": 0,
      "outputs": [
        {
          "output_type": "stream",
          "text": [
            "{'jack': 4098, 'sape': 4139, 'klein': 5206}\n",
            "{'jack': 4098, 'sape': 4139, 'klein': 5206, 'dire': 8521}\n",
            "{'jack': 4098, 'klein': 5206, 'dire': 8521}\n",
            "['dire', 'jack', 'klein']\n",
            "False\n",
            "{'jack': 6102, 'klein': 5206, 'dire': 8521}\n"
          ],
          "name": "stdout"
        }
      ]
    },
    {
      "cell_type": "code",
      "metadata": {
        "id": "jeM8vRhjjDdD",
        "colab_type": "code",
        "outputId": "0ecb05d2-b3f9-4c4e-bddf-49b6f25c5092",
        "colab": {
          "base_uri": "https://localhost:8080/",
          "height": 34
        }
      },
      "source": [
        "# The dict() constructor builds dictionaries directly from sequences of key-value pairs:\n",
        "d = dict([('sape', 4139), ('guido', 4127), ('jack', 4098)])\n",
        "print(d)"
      ],
      "execution_count": 0,
      "outputs": [
        {
          "output_type": "stream",
          "text": [
            "{'sape': 4139, 'guido': 4127, 'jack': 4098}\n"
          ],
          "name": "stdout"
        }
      ]
    },
    {
      "cell_type": "code",
      "metadata": {
        "id": "CVYnAR8CjNl_",
        "colab_type": "code",
        "outputId": "fcdc7cc7-ddc0-4273-a048-cfef712f4640",
        "colab": {
          "base_uri": "https://localhost:8080/",
          "height": 34
        }
      },
      "source": [
        "# dict comprehensions\n",
        "f = {x: x**2 for x in (2, 4, 6)}\n",
        "print(f)"
      ],
      "execution_count": 0,
      "outputs": [
        {
          "output_type": "stream",
          "text": [
            "{2: 4, 4: 16, 6: 36}\n"
          ],
          "name": "stdout"
        }
      ]
    },
    {
      "cell_type": "code",
      "metadata": {
        "id": "DttYu3PijiHq",
        "colab_type": "code",
        "outputId": "3399f309-4c75-497f-a4f4-0539a0e29e00",
        "colab": {
          "base_uri": "https://localhost:8080/",
          "height": 34
        }
      },
      "source": [
        "# when keys are simple strings, it is sometimes easier to specify pairs using keyword arguments\n",
        "g = dict(sape=4139, guido=4127, jack=4098)\n",
        "print(g)"
      ],
      "execution_count": 0,
      "outputs": [
        {
          "output_type": "stream",
          "text": [
            "{'sape': 4139, 'guido': 4127, 'jack': 4098}\n"
          ],
          "name": "stdout"
        }
      ]
    },
    {
      "cell_type": "markdown",
      "metadata": {
        "id": "v-38UIINI3fg",
        "colab_type": "text"
      },
      "source": [
        "## update()\n",
        "- Update the dictionary with the key/value pairs from other, overwriting existing keys. Return None.\n",
        "- update() accepts either another dictionary object or an iterable of key/value pairs (as tuples or other iterables of length two). If keyword arguments are specified, the dictionary is then updated with those key/value pairs: d.update(red=1, blue=2)."
      ]
    },
    {
      "cell_type": "markdown",
      "metadata": {
        "id": "pqEBrc85jvLn",
        "colab_type": "text"
      },
      "source": [
        "## Looping techniques"
      ]
    },
    {
      "cell_type": "code",
      "metadata": {
        "id": "-xfZonkIjxIy",
        "colab_type": "code",
        "outputId": "0f97f62b-c707-47ce-a9ad-c779a3e374c7",
        "colab": {
          "base_uri": "https://localhost:8080/",
          "height": 51
        }
      },
      "source": [
        "# When looping through dictionaries, the key and corresponding value \n",
        "# can be retrieved at the same time using the items() method.\n",
        "knights = {'gallahad': 'the pure', 'robin': 'the brave'}\n",
        "\n",
        "for k, v in knights.items():\n",
        "  print(k, v)"
      ],
      "execution_count": 0,
      "outputs": [
        {
          "output_type": "stream",
          "text": [
            "gallahad the pure\n",
            "robin the brave\n"
          ],
          "name": "stdout"
        }
      ]
    },
    {
      "cell_type": "code",
      "metadata": {
        "id": "payOo1jORJ0m",
        "colab_type": "code",
        "outputId": "a2f6daa3-5d27-4227-fb40-d796caec0e0a",
        "colab": {
          "base_uri": "https://localhost:8080/",
          "height": 68
        }
      },
      "source": [
        "# When looping through a sequence, the position index and corresponding \n",
        "# value can be retrieved at the same time using the enumerate() function.\n",
        "# i = index, v = value\n",
        "for i, v in enumerate([\"tic\", \"tac\", \"toe\"]):\n",
        "  print(i, v)"
      ],
      "execution_count": 0,
      "outputs": [
        {
          "output_type": "stream",
          "text": [
            "0 tic\n",
            "1 tac\n",
            "2 toe\n"
          ],
          "name": "stdout"
        }
      ]
    },
    {
      "cell_type": "code",
      "metadata": {
        "id": "O-noxvSwR1jA",
        "colab_type": "code",
        "outputId": "b9314aa2-1e7f-4046-feea-d36726629b41",
        "colab": {
          "base_uri": "https://localhost:8080/",
          "height": 68
        }
      },
      "source": [
        "# to loop over two or more sequence we can use zip()\n",
        "questions = ['name', 'quest', 'favorite color']\n",
        "answers = ['lancelot', 'the holy grail', 'blue']\n",
        "for q, a in zip(questions, answers):\n",
        "    print('What is your {0}?  It is {1}.'.format(q, a)) "
      ],
      "execution_count": 0,
      "outputs": [
        {
          "output_type": "stream",
          "text": [
            "What is your name?  It is lancelot.\n",
            "What is your quest?  It is the holy grail.\n",
            "What is your favorite color?  It is blue.\n"
          ],
          "name": "stdout"
        }
      ]
    },
    {
      "cell_type": "code",
      "metadata": {
        "id": "9UyIYkZZXOzW",
        "colab_type": "code",
        "outputId": "126c3ac3-fc59-4e6a-8d19-6caf6211a40d",
        "colab": {
          "base_uri": "https://localhost:8080/",
          "height": 34
        }
      },
      "source": [
        "# To loop over a sequence in reverse, first specify the sequence \n",
        "# in a forward direction and then call the reversed() function.\n",
        "for i in reversed(range(5, 30, 5)):\n",
        "  print(i, end=\" \")"
      ],
      "execution_count": 0,
      "outputs": [
        {
          "output_type": "stream",
          "text": [
            "25 20 15 10 5 "
          ],
          "name": "stdout"
        }
      ]
    },
    {
      "cell_type": "code",
      "metadata": {
        "id": "PWeewGslXfNv",
        "colab_type": "code",
        "outputId": "b57fe9a9-8d55-464e-8698-fc2c84382842",
        "colab": {
          "base_uri": "https://localhost:8080/",
          "height": 119
        }
      },
      "source": [
        "# To loop over a sequence in sorted order, use the sorted() function \n",
        "# which returns a new sorted list while leaving the source unaltered.\n",
        "basket = ['apple', 'orange', 'apple', 'pear', 'orange', 'banana']\n",
        "for b in sorted(basket):\n",
        "  print(b)"
      ],
      "execution_count": 0,
      "outputs": [
        {
          "output_type": "stream",
          "text": [
            "apple\n",
            "apple\n",
            "banana\n",
            "orange\n",
            "orange\n",
            "pear\n"
          ],
          "name": "stdout"
        }
      ]
    },
    {
      "cell_type": "markdown",
      "metadata": {
        "id": "35aFcMKKbcfr",
        "colab_type": "text"
      },
      "source": [
        "## More on conditions\n",
        "- operators **in and not in** check whether a value occurs or not in a sequence\n",
        "- operators **is and is not** compare whether two objects are equal or not; this only matters for mutable objects like lists\n",
        "- all comparison operators have the same priority, which is lower than that of all numerical operators\n",
        "- comparisons can be chained, a < b == c tests whether a is less than b and moreover b equals c\n",
        "- not has the highest priority and or has the lowest\n",
        "- the boolean operators and & or are so-called short circuit operators. Evaluated from left to right and evaluation stops as soon as the outcome is determined\n",
        "- when used as a general value and not as a boolean, the return value of short-circuit operators is the last evaluated argument"
      ]
    },
    {
      "cell_type": "code",
      "metadata": {
        "id": "Yx2g_kUjckM_",
        "colab_type": "code",
        "outputId": "a03282d5-5183-4610-c9a9-75596c5c1a67",
        "colab": {
          "base_uri": "https://localhost:8080/",
          "height": 51
        }
      },
      "source": [
        "a = 1\n",
        "b = 0\n",
        "c = 5\n",
        "print(a and not b or c)\n",
        "print(not a and b)"
      ],
      "execution_count": 0,
      "outputs": [
        {
          "output_type": "stream",
          "text": [
            "True\n",
            "False\n"
          ],
          "name": "stdout"
        }
      ]
    },
    {
      "cell_type": "code",
      "metadata": {
        "id": "lV6237hOgUTj",
        "colab_type": "code",
        "outputId": "88c1c870-c33b-479f-eaef-77287f645580",
        "colab": {
          "base_uri": "https://localhost:8080/",
          "height": 68
        }
      },
      "source": [
        "string1, string2, string3 = '', 'Old', 'New'\n",
        "print(string1 or (False or string3))\n",
        "print(string1 or string2 or string3)\n",
        "print(string1 or (string2 or string3))"
      ],
      "execution_count": 0,
      "outputs": [
        {
          "output_type": "stream",
          "text": [
            "New\n",
            "Old\n",
            "Old\n"
          ],
          "name": "stdout"
        }
      ]
    },
    {
      "cell_type": "markdown",
      "metadata": {
        "id": "olyQSLscgOUW",
        "colab_type": "text"
      },
      "source": [
        "## What's left to read in this chapter?\n",
        "- Comparing Sequences and Other Types"
      ]
    },
    {
      "cell_type": "markdown",
      "metadata": {
        "id": "924c4iSXWfI3",
        "colab_type": "text"
      },
      "source": [
        "<img src=\"https://raw.githubusercontent.com/thecoducer/python_programs/master/Images/programming-quotes-for-developers-made4dev-progress.jpg\" width=\"50%\" height=\"50%\" />"
      ]
    },
    {
      "cell_type": "markdown",
      "metadata": {
        "id": "J_286qs3hydF",
        "colab_type": "text"
      },
      "source": [
        "# Modules\n",
        "https://docs.python.org/3/tutorial/modules.html"
      ]
    },
    {
      "cell_type": "markdown",
      "metadata": {
        "id": "SFKhmO5ghvcQ",
        "colab_type": "text"
      },
      "source": [
        "## What are modules?\n",
        "- Python has a way to put definitions in a file and use them in a script or in an interactive instance of the interpreter. Such a file is called a module; definitions from a module can be imported into other modules or into the main module (the collection of variables that you have access to in a script executed at the top level and in calculator mode).\n",
        "- A module is a file containing Python definitions and statements. \n",
        "- **Within a module, the module’s name (as a string) is available as the value of the global variable ```__name__```**"
      ]
    },
    {
      "cell_type": "code",
      "metadata": {
        "id": "0mEc4fb1sIsy",
        "colab_type": "code",
        "colab": {}
      },
      "source": [
        "# Save this as addsub.py\n",
        "\n",
        "def add(a, b):\n",
        "  print(a+b)\n",
        "\n",
        "def subtract(a, b):\n",
        "  print(abs(a-b))\n",
        "\n",
        "# import this file with the following command:\n",
        "# import addsub\n",
        "# invoke add/subtract method inside the interpreter by:\n",
        "# addsub.add(50, 20)\n",
        "# if you intend to use a method often then assign it a local name:\n",
        "# add = addsub.add\n",
        "# then invoke it\n",
        "# add(25, 20)"
      ],
      "execution_count": 0,
      "outputs": []
    },
    {
      "cell_type": "markdown",
      "metadata": {
        "id": "UtEc0Az4q5jN",
        "colab_type": "text"
      },
      "source": [
        "## How to reload modules?\n",
        "- If you've made some changes in your module file then to reflect the changes in the interpreter you need to do:\n",
        "  - import importlib\n",
        "  - importlib.reload(modulename)"
      ]
    },
    {
      "cell_type": "markdown",
      "metadata": {
        "id": "ix2JcDxut_eh",
        "colab_type": "text"
      },
      "source": [
        "## More on modules\n",
        "- Modules can import other modules\n",
        "- A module can contain executable statements as well as function definitions. These statements are intended to initialize the modules.\n",
        "- There is a variant of the import statement that imports names from a module directly into the importing module’s symbol table:\n",
        "  - from addsub import add, subtract\n",
        "This does not introduce the module name from which the imports are taken in the local symbol table (so in the example, fibo is not defined).\n",
        "- To import all names that a module defines.\n",
        "  - from addsub import *\n",
        "- If the module name is followed by ```as```, then you can play this way:\n",
        "  - import addsub as adsu\n",
        "  - adsu.add(50, 89)"
      ]
    },
    {
      "cell_type": "markdown",
      "metadata": {
        "id": "Ag02rwfbym0k",
        "colab_type": "text"
      },
      "source": [
        "## Similar to command-line arguments"
      ]
    },
    {
      "cell_type": "code",
      "metadata": {
        "id": "qhJKMuzgzgX0",
        "colab_type": "code",
        "colab": {}
      },
      "source": [
        "# Syntax: python3 filename.py <arguments>\n",
        "def add(a, b):\n",
        "  print(a+b)\n",
        "\n",
        "def subtract(a, b):\n",
        "  print(abs(a-b))\n",
        "\n",
        "if __name__ == \"__main__\":\n",
        "    import sys\n",
        "    add(int(sys.argv[1]), int(sys.argv[2]))\n",
        "\n",
        "# run it as:\n",
        "# python3 addsub.py 41 21"
      ],
      "execution_count": 0,
      "outputs": []
    },
    {
      "cell_type": "markdown",
      "metadata": {
        "id": "Y5hctZWv1HDW",
        "colab_type": "text"
      },
      "source": [
        "## dir() function\n",
        "- It is an interesting method\n",
        "- displays all the names in a module"
      ]
    },
    {
      "cell_type": "code",
      "metadata": {
        "id": "t1DNPY3p1QCU",
        "colab_type": "code",
        "outputId": "c421b602-56a0-4048-ab2a-2ecd1fada17c",
        "colab": {
          "base_uri": "https://localhost:8080/",
          "height": 54
        }
      },
      "source": [
        "import sys\n",
        "print(dir(sys), end=\" \")"
      ],
      "execution_count": 0,
      "outputs": [
        {
          "output_type": "stream",
          "text": [
            "['__displayhook__', '__doc__', '__excepthook__', '__interactivehook__', '__loader__', '__name__', '__package__', '__spec__', '__stderr__', '__stdin__', '__stdout__', '_clear_type_cache', '_current_frames', '_debugmallocstats', '_getframe', '_git', '_home', '_xoptions', 'abiflags', 'api_version', 'argv', 'base_exec_prefix', 'base_prefix', 'builtin_module_names', 'byteorder', 'call_tracing', 'callstats', 'copyright', 'displayhook', 'dont_write_bytecode', 'exc_info', 'excepthook', 'exec_prefix', 'executable', 'exit', 'flags', 'float_info', 'float_repr_style', 'get_asyncgen_hooks', 'get_coroutine_wrapper', 'getallocatedblocks', 'getcheckinterval', 'getdefaultencoding', 'getdlopenflags', 'getfilesystemencodeerrors', 'getfilesystemencoding', 'getprofile', 'getrecursionlimit', 'getrefcount', 'getsizeof', 'getswitchinterval', 'gettrace', 'hash_info', 'hexversion', 'implementation', 'int_info', 'intern', 'is_finalizing', 'last_traceback', 'last_type', 'last_value', 'maxsize', 'maxunicode', 'meta_path', 'modules', 'path', 'path_hooks', 'path_importer_cache', 'platform', 'prefix', 'ps1', 'ps2', 'ps3', 'set_asyncgen_hooks', 'set_coroutine_wrapper', 'setcheckinterval', 'setdlopenflags', 'setprofile', 'setrecursionlimit', 'setswitchinterval', 'settrace', 'stderr', 'stdin', 'stdout', 'thread_info', 'version', 'version_info', 'warnoptions'] "
          ],
          "name": "stdout"
        }
      ]
    },
    {
      "cell_type": "code",
      "metadata": {
        "id": "BNd8jaOE1gOF",
        "colab_type": "code",
        "outputId": "393f010e-7c5d-4174-d210-52fcec826291",
        "colab": {
          "base_uri": "https://localhost:8080/",
          "height": 54
        }
      },
      "source": [
        "# dir() without arguments lists all names that you have defined currently\n",
        "print(dir(), end=\" \")"
      ],
      "execution_count": 0,
      "outputs": [
        {
          "output_type": "stream",
          "text": [
            "['In', 'Out', '_', '_4', '_6', '__', '___', '__builtin__', '__builtins__', '__doc__', '__loader__', '__name__', '__package__', '__spec__', '_dh', '_i', '_i1', '_i2', '_i3', '_i4', '_i5', '_i6', '_i7', '_i8', '_ih', '_ii', '_iii', '_oh', '_sh', 'add', 'exit', 'get_ipython', 'math', 'quit', 'subtract', 'sys'] "
          ],
          "name": "stdout"
        }
      ]
    },
    {
      "cell_type": "markdown",
      "metadata": {
        "id": "_4GhX5iV2Nf0",
        "colab_type": "text"
      },
      "source": [
        "## What's left to read in this chapter?\n",
        "- *After* Packages"
      ]
    },
    {
      "cell_type": "markdown",
      "metadata": {
        "id": "FrDHBKb2jqHF",
        "colab_type": "text"
      },
      "source": [
        "<img src=\"https://raw.githubusercontent.com/thecoducer/python_programs/master/Images/design-quote.jpg\" width=\"65%\" height=\"65%\" />"
      ]
    },
    {
      "cell_type": "markdown",
      "metadata": {
        "id": "LAg7U54p13TN",
        "colab_type": "text"
      },
      "source": [
        "# Input and Output\n",
        "https://docs.python.org/3/tutorial/inputoutput.html"
      ]
    },
    {
      "cell_type": "markdown",
      "metadata": {
        "id": "Gvsjzy1ZWLcp",
        "colab_type": "text"
      },
      "source": [
        "## Output formatting"
      ]
    },
    {
      "cell_type": "code",
      "metadata": {
        "id": "69XE3jEFWN1n",
        "colab_type": "code",
        "outputId": "e732b773-4dfb-44e5-de4a-e8db74e65e1f",
        "colab": {
          "base_uri": "https://localhost:8080/",
          "height": 51
        }
      },
      "source": [
        "m = 10\n",
        "n = 20\n",
        "print(\"The value of m is {0} and the value of n is {1}.\".format(m, n))\n",
        "print(\"Value of m: %d and value of n: %d.\" %(m, n))"
      ],
      "execution_count": 0,
      "outputs": [
        {
          "output_type": "stream",
          "text": [
            "The value of m is 10 and the value of n is 20.\n",
            "Value of m: 10 and value of n: 20.\n"
          ],
          "name": "stdout"
        }
      ]
    }
  ]
}