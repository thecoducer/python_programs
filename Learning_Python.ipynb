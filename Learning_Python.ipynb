{
  "nbformat": 4,
  "nbformat_minor": 0,
  "metadata": {
    "colab": {
      "name": "Learning Python.ipynb",
      "version": "0.3.2",
      "provenance": [],
      "collapsed_sections": [],
      "toc_visible": true,
      "include_colab_link": true
    },
    "kernelspec": {
      "name": "python3",
      "display_name": "Python 3"
    }
  },
  "cells": [
    {
      "cell_type": "markdown",
      "metadata": {
        "id": "view-in-github",
        "colab_type": "text"
      },
      "source": [
        "<a href=\"https://colab.research.google.com/github/thecoducer/python_programs/blob/master/Learning_Python.ipynb\" target=\"_parent\"><img src=\"https://colab.research.google.com/assets/colab-badge.svg\" alt=\"Open In Colab\"/></a>"
      ]
    },
    {
      "cell_type": "markdown",
      "metadata": {
        "id": "Bklp88xT3ZEw",
        "colab_type": "text"
      },
      "source": [
        "#Learning Python\n",
        "\n",
        "---\n",
        "\n"
      ]
    },
    {
      "cell_type": "markdown",
      "metadata": {
        "id": "PPG0bHlT40BU",
        "colab_type": "text"
      },
      "source": [
        "## Take input"
      ]
    },
    {
      "cell_type": "code",
      "metadata": {
        "id": "PY77F0fh2lwF",
        "colab_type": "code",
        "outputId": "8a15fd74-5252-4b95-abe8-09d94950bc6f",
        "colab": {
          "base_uri": "https://localhost:8080/",
          "height": 68
        }
      },
      "source": [
        "# in Python 3\n",
        "# in Python 2, we use raw_input()\n",
        "n = input(\"Enter: \") # stores as a string\n",
        "print(n)\n",
        "# typecast it before arithmetic operation\n",
        "n = int(n) + 900\n",
        "print(n)"
      ],
      "execution_count": 62,
      "outputs": [
        {
          "output_type": "stream",
          "text": [
            "Enter: 20\n",
            "20\n",
            "920\n"
          ],
          "name": "stdout"
        }
      ]
    },
    {
      "cell_type": "markdown",
      "metadata": {
        "id": "FqTXzIdNOzrq",
        "colab_type": "text"
      },
      "source": [
        "##Classic vs Floor division"
      ]
    },
    {
      "cell_type": "code",
      "metadata": {
        "id": "CkAfCN22O4td",
        "colab_type": "code",
        "colab": {
          "base_uri": "https://localhost:8080/",
          "height": 51
        },
        "outputId": "2dfb734d-63ac-4087-c94d-c65759e67ef7"
      },
      "source": [
        "print(19/5) # classic division returns float\n",
        "print(52//3) # floor division discards the fractional part"
      ],
      "execution_count": 63,
      "outputs": [
        {
          "output_type": "stream",
          "text": [
            "3.8\n",
            "17\n"
          ],
          "name": "stdout"
        }
      ]
    },
    {
      "cell_type": "markdown",
      "metadata": {
        "id": "2Cc-OD7wQjys",
        "colab_type": "text"
      },
      "source": [
        "##To calculate powers"
      ]
    },
    {
      "cell_type": "code",
      "metadata": {
        "id": "jmgwfSYdOxnB",
        "colab_type": "code",
        "colab": {
          "base_uri": "https://localhost:8080/",
          "height": 34
        },
        "outputId": "84357612-bf34-4f81-8404-d57243d2cbb1"
      },
      "source": [
        "# 2^5\n",
        "print(2**5)"
      ],
      "execution_count": 64,
      "outputs": [
        {
          "output_type": "stream",
          "text": [
            "32\n"
          ],
          "name": "stdout"
        }
      ]
    },
    {
      "cell_type": "markdown",
      "metadata": {
        "id": "BKZBOBtgRWz_",
        "colab_type": "text"
      },
      "source": [
        "- *In interactive mode, the last printed expression is assigned to the variable _*"
      ]
    },
    {
      "cell_type": "code",
      "metadata": {
        "id": "RLP5LF_EZeUX",
        "colab_type": "code",
        "colab": {}
      },
      "source": [
        ""
      ],
      "execution_count": 0,
      "outputs": []
    },
    {
      "cell_type": "markdown",
      "metadata": {
        "id": "7ONm7vuBSe-q",
        "colab_type": "text"
      },
      "source": [
        "## Round a real number up to 2 places after decimal"
      ]
    },
    {
      "cell_type": "code",
      "metadata": {
        "id": "tqpgix2oSNl3",
        "colab_type": "code",
        "colab": {
          "base_uri": "https://localhost:8080/",
          "height": 34
        },
        "outputId": "0522b461-8931-47aa-a76c-047eab08133b"
      },
      "source": [
        "k = 12.03635\n",
        "print(round(k, 2))"
      ],
      "execution_count": 65,
      "outputs": [
        {
          "output_type": "stream",
          "text": [
            "12.04\n"
          ],
          "name": "stdout"
        }
      ]
    },
    {
      "cell_type": "markdown",
      "metadata": {
        "id": "npAYGQzQXrIS",
        "colab_type": "text"
      },
      "source": [
        "# Strings\n",
        "- \\ can be used to escape quotes\n",
        "- can be also be enclosed within other pair of quotes\n",
        "- to print raw strings, use r"
      ]
    },
    {
      "cell_type": "markdown",
      "metadata": {
        "id": "lSpJH8Rybs7D",
        "colab_type": "text"
      },
      "source": [
        "##Raw string"
      ]
    },
    {
      "cell_type": "code",
      "metadata": {
        "id": "nWLZAcexXzd4",
        "colab_type": "code",
        "colab": {
          "base_uri": "https://localhost:8080/",
          "height": 68
        },
        "outputId": "8e737a0d-de86-4ec8-8aa4-de83d0e10882"
      },
      "source": [
        "print(r\"C:\\nebula\\MachineLearning\")\n",
        "# without it, \\n escape sequence gets triggered\n",
        "print(\"C:\\nebula\\MachineLearning\")"
      ],
      "execution_count": 66,
      "outputs": [
        {
          "output_type": "stream",
          "text": [
            "C:\\nebula\\MachineLearning\n",
            "C:\n",
            "ebula\\MachineLearning\n"
          ],
          "name": "stdout"
        }
      ]
    },
    {
      "cell_type": "markdown",
      "metadata": {
        "id": "DAxID6VfbfOn",
        "colab_type": "text"
      },
      "source": [
        "##String literals can span multiple lines"
      ]
    },
    {
      "cell_type": "code",
      "metadata": {
        "id": "nO4qdjCTZ8-L",
        "colab_type": "code",
        "colab": {
          "base_uri": "https://localhost:8080/",
          "height": 102
        },
        "outputId": "6cfe3439-88c4-4b84-c5bf-a6789c2db188"
      },
      "source": [
        "# Prevent automatic inclusion of end of lines by using \\ operator\n",
        "print(\"\"\"\\\n",
        "asdad\n",
        "awewer\n",
        "bnghjny\n",
        "it rty    dsrfgtr t\n",
        "er    sdefsdfg    dggh\"\"\")"
      ],
      "execution_count": 67,
      "outputs": [
        {
          "output_type": "stream",
          "text": [
            "asdad\n",
            "awewer\n",
            "bnghjny\n",
            "it rty    dsrfgtr t\n",
            "er    sdefsdfg    dggh\n"
          ],
          "name": "stdout"
        }
      ]
    },
    {
      "cell_type": "markdown",
      "metadata": {
        "id": "UqYJCt94biwq",
        "colab_type": "text"
      },
      "source": [
        "##Strings are 0-based indexed"
      ]
    },
    {
      "cell_type": "code",
      "metadata": {
        "id": "1b4f2oD1bF7Q",
        "colab_type": "code",
        "colab": {
          "base_uri": "https://localhost:8080/",
          "height": 68
        },
        "outputId": "07671a53-6f94-4fb8-9fe7-cf4fa69dca97"
      },
      "source": [
        "str = \"David Attenborough\"\n",
        "print(str)\n",
        "print(str[2] + str[9])\n",
        "print(str[-2]) # starts counting from the right\n",
        "# it is the second last character\n",
        "# Note that since -0 is the same as 0, negative indices start from -1."
      ],
      "execution_count": 68,
      "outputs": [
        {
          "output_type": "stream",
          "text": [
            "David Attenborough\n",
            "ve\n",
            "g\n"
          ],
          "name": "stdout"
        }
      ]
    },
    {
      "cell_type": "markdown",
      "metadata": {
        "id": "w3chf8dwcZtG",
        "colab_type": "text"
      },
      "source": [
        "##Slicing strings"
      ]
    },
    {
      "cell_type": "code",
      "metadata": {
        "id": "w2AfMHM5cb2Z",
        "colab_type": "code",
        "colab": {
          "base_uri": "https://localhost:8080/",
          "height": 102
        },
        "outputId": "8dd3c189-8a06-40c2-b060-4c04844b2c0b"
      },
      "source": [
        "str = 'Jekyll'\n",
        "print(str[1:])\n",
        "print(str[2:])\n",
        "print(str[:3])\n",
        "print(str[:2] + str[4:])\n",
        "print(str[-2:])"
      ],
      "execution_count": 69,
      "outputs": [
        {
          "output_type": "stream",
          "text": [
            "ekyll\n",
            "kyll\n",
            "Jek\n",
            "Jell\n",
            "ll\n"
          ],
          "name": "stdout"
        }
      ]
    },
    {
      "cell_type": "markdown",
      "metadata": {
        "id": "h-xZTo76bxeZ",
        "colab_type": "text"
      },
      "source": [
        "- **Like Java, Python strings are immutable.**"
      ]
    },
    {
      "cell_type": "markdown",
      "metadata": {
        "id": "jLepF54MiSso",
        "colab_type": "text"
      },
      "source": [
        "##Length of string"
      ]
    },
    {
      "cell_type": "code",
      "metadata": {
        "id": "oCDiS4pLiU_1",
        "colab_type": "code",
        "colab": {
          "base_uri": "https://localhost:8080/",
          "height": 34
        },
        "outputId": "83a54071-f128-4630-a89f-aaa66dbd8707"
      },
      "source": [
        "# str = \"Jekyll\"\n",
        "print(len(str))"
      ],
      "execution_count": 70,
      "outputs": [
        {
          "output_type": "stream",
          "text": [
            "6\n"
          ],
          "name": "stdout"
        }
      ]
    },
    {
      "cell_type": "markdown",
      "metadata": {
        "id": "zDeDE_wljPx_",
        "colab_type": "text"
      },
      "source": [
        "##String methods\n",
        "- https://docs.python.org/3/library/stdtypes.html#string-methods\n",
        "- https://www.geeksforgeeks.org/python-strings/"
      ]
    },
    {
      "cell_type": "code",
      "metadata": {
        "id": "5R4hxcVmjOaZ",
        "colab_type": "code",
        "colab": {
          "base_uri": "https://localhost:8080/",
          "height": 119
        },
        "outputId": "229a4102-5c21-4ae6-b23c-87331631d6f0"
      },
      "source": [
        "str1 = \"Data Structures\"\n",
        "str2 = \"Algorithms\"\n",
        "str3 = \"operating system\"\n",
        "print(str1.lower())\n",
        "print(str2.upper())\n",
        "print(str3.capitalize())\n",
        "print(str1.endswith(\"Structures\"))\n",
        "print(str2.endswith(\"thms\"))\n",
        "print(str3.startswith(\"oper\"))"
      ],
      "execution_count": 71,
      "outputs": [
        {
          "output_type": "stream",
          "text": [
            "data structures\n",
            "ALGORITHMS\n",
            "Operating system\n",
            "True\n",
            "True\n",
            "True\n"
          ],
          "name": "stdout"
        }
      ]
    },
    {
      "cell_type": "markdown",
      "metadata": {
        "id": "PHLCtoQCwGpb",
        "colab_type": "text"
      },
      "source": [
        "##Reverse a string"
      ]
    },
    {
      "cell_type": "code",
      "metadata": {
        "id": "2reGPgJQwI8Z",
        "colab_type": "code",
        "colab": {
          "base_uri": "https://localhost:8080/",
          "height": 34
        },
        "outputId": "a807496a-236d-49c3-a7f6-4ba2918d7ecd"
      },
      "source": [
        "# Python string library has no reverse() method\n",
        "def reverse(s):\n",
        "  temp = \"\"\n",
        "  for i in s:\n",
        "    temp = i + temp # ... m + o + C\n",
        "  return temp\n",
        "\n",
        "subject = \"Computer Networks\"\n",
        "print(reverse(subject))"
      ],
      "execution_count": 72,
      "outputs": [
        {
          "output_type": "stream",
          "text": [
            "skrowteN retupmoC\n"
          ],
          "name": "stdout"
        }
      ]
    },
    {
      "cell_type": "code",
      "metadata": {
        "id": "MZscvQpqzuhp",
        "colab_type": "code",
        "colab": {
          "base_uri": "https://localhost:8080/",
          "height": 34
        },
        "outputId": "f1cfc27d-49c4-4ba8-97bb-11bfedc17458"
      },
      "source": [
        "# Using recursion\n",
        "def reverse1(s):\n",
        "  if len(s) == 0:\n",
        "    return s\n",
        "  else:\n",
        "    return reverse(s[1:]) + s[0]\n",
        "s = \"Kolkata\"\n",
        "print(reverse1(s))"
      ],
      "execution_count": 73,
      "outputs": [
        {
          "output_type": "stream",
          "text": [
            "atakloK\n"
          ],
          "name": "stdout"
        }
      ]
    },
    {
      "cell_type": "code",
      "metadata": {
        "id": "VYGJilgi3XdK",
        "colab_type": "code",
        "colab": {
          "base_uri": "https://localhost:8080/",
          "height": 34
        },
        "outputId": "e8de70e0-1a61-43eb-a7c3-41f002a8116b"
      },
      "source": [
        "# Using extended slice syntax\n",
        "def reverse3(s):\n",
        "  return s[::-1]\n",
        "\n",
        "s = \"Quadilateral\"\n",
        "print(reverse3(s))"
      ],
      "execution_count": 74,
      "outputs": [
        {
          "output_type": "stream",
          "text": [
            "laretalidauQ\n"
          ],
          "name": "stdout"
        }
      ]
    },
    {
      "cell_type": "code",
      "metadata": {
        "id": "agsLHpwl3xhO",
        "colab_type": "code",
        "colab": {
          "base_uri": "https://localhost:8080/",
          "height": 34
        },
        "outputId": "11cdeaae-e42e-4d97-ee83-132f167b2436"
      },
      "source": [
        "# Using reversed\n",
        "def reverse4(s):\n",
        "  return \"\".join(reversed(s))\n",
        "\n",
        "s = \"Gradle\"\n",
        "print(reverse4(s))"
      ],
      "execution_count": 75,
      "outputs": [
        {
          "output_type": "stream",
          "text": [
            "eldarG\n"
          ],
          "name": "stdout"
        }
      ]
    },
    {
      "cell_type": "markdown",
      "metadata": {
        "id": "KqQ30chMhyFS",
        "colab_type": "text"
      },
      "source": [
        "##Split a string"
      ]
    },
    {
      "cell_type": "code",
      "metadata": {
        "id": "UVUx9-_yh0c5",
        "colab_type": "code",
        "colab": {
          "base_uri": "https://localhost:8080/",
          "height": 34
        },
        "outputId": "6cc0af79-85c8-4d79-cfb4-75164c945a48"
      },
      "source": [
        "line = \"Brian Karnighan's algorithm is the most efficient way to count set bits.\"\n",
        "print(line.split()) # No delimiter takes whitespace as a delimiter implicitly"
      ],
      "execution_count": 4,
      "outputs": [
        {
          "output_type": "stream",
          "text": [
            "['Brian', \"Karnighan's\", 'algorithm', 'is', 'the', 'most', 'efficient', 'way', 'to', 'count', 'set', 'bits.']\n"
          ],
          "name": "stdout"
        }
      ]
    },
    {
      "cell_type": "code",
      "metadata": {
        "id": "Wtqt2LN3ihDd",
        "colab_type": "code",
        "colab": {
          "base_uri": "https://localhost:8080/",
          "height": 51
        },
        "outputId": "45311d7f-d592-4f20-98f9-3fcdcdc89ae2"
      },
      "source": [
        "word = \"dock:for:ipad\"\n",
        "print(word.split(\":\"))\n",
        "print(word.split(\":\", 1)) # maxsplit: 1"
      ],
      "execution_count": 19,
      "outputs": [
        {
          "output_type": "stream",
          "text": [
            "['dock', 'for', 'ipad']\n",
            "['dock', 'for:ipad']\n"
          ],
          "name": "stdout"
        }
      ]
    },
    {
      "cell_type": "markdown",
      "metadata": {
        "id": "odWhZASi0Ukv",
        "colab_type": "text"
      },
      "source": [
        "#Lists"
      ]
    },
    {
      "cell_type": "code",
      "metadata": {
        "id": "uYwKoydT0unw",
        "colab_type": "code",
        "colab": {
          "base_uri": "https://localhost:8080/",
          "height": 102
        },
        "outputId": "0f9cc061-58e0-49e4-f329-4a77ef69db6d"
      },
      "source": [
        "# This is a list\n",
        "# Like strings, lists can be indexed and sliced\n",
        "veggies = [\"potato\", \"carrot\", \"brinjal\"]\n",
        "print(veggies)\n",
        "print(veggies[2])\n",
        "print(veggies[-1])\n",
        "# all slice operations return a new list(a copy) containing the requested elements\n",
        "print(veggies[1:2])\n",
        "# lists supports concatenation\n",
        "# unlike strings, lists are mutable\n",
        "# use append() method to add elements to the end of a list\n",
        "veggies.append(\"ladyfinger\")\n",
        "print(veggies)"
      ],
      "execution_count": 23,
      "outputs": [
        {
          "output_type": "stream",
          "text": [
            "['potato', 'carrot', 'brinjal']\n",
            "brinjal\n",
            "brinjal\n",
            "['carrot']\n",
            "['potato', 'carrot', 'brinjal', 'ladyfinger']\n"
          ],
          "name": "stdout"
        }
      ]
    }
  ]
}