{
 "cells": [
  {
   "cell_type": "markdown",
   "metadata": {
    "colab_type": "text",
    "id": "HTh1V1CMFFt_"
   },
   "source": [
    "## Numpy###"
   ]
  },
  {
   "cell_type": "markdown",
   "metadata": {
    "colab_type": "text",
    "id": "Oe1X7_n9F5yA"
   },
   "source": [
    "### Why Numpy is faster than lists?\n",
    "\n",
    "- Numpy is faster than lists since Numpy elements have fixed data type.\n",
    "- Numpy has contiguous memory\n",
    "- No type checking when reading objects\n",
    "- Read bytes of memory faster\n",
    "\n",
    "### Applications of Numpy:\n",
    "\n",
    "- Mathematics (MATLAB replacement)\n",
    "- Plotting (using matloptlib)\n",
    "- Backend (Pandas, Connect 4, Digital photography)\n",
    "- Machine learning (Numpy helps to give a foundation to tensors)"
   ]
  },
  {
   "cell_type": "markdown",
   "metadata": {
    "colab_type": "text",
    "id": "WtP6_-taJa0z"
   },
   "source": [
    "## Importing Numpy"
   ]
  },
  {
   "cell_type": "code",
   "execution_count": 3,
   "metadata": {
    "ExecuteTime": {
     "end_time": "2020-04-25T05:59:05.446677Z",
     "start_time": "2020-04-25T05:59:05.441932Z"
    },
    "colab": {},
    "colab_type": "code",
    "id": "LJTGJDFNJR1g"
   },
   "outputs": [],
   "source": [
    "import numpy as np"
   ]
  },
  {
   "cell_type": "markdown",
   "metadata": {
    "colab_type": "text",
    "id": "rdtCvns2JeEC"
   },
   "source": [
    "## 1D matrix"
   ]
  },
  {
   "cell_type": "code",
   "execution_count": 4,
   "metadata": {
    "ExecuteTime": {
     "end_time": "2020-04-25T05:59:05.548480Z",
     "start_time": "2020-04-25T05:59:05.453012Z"
    },
    "colab": {
     "base_uri": "https://localhost:8080/",
     "height": 34
    },
    "colab_type": "code",
    "id": "IUCUXiYeIwdp",
    "outputId": "fbbc58e5-7b49-465d-c3c5-dd78758c9cc3"
   },
   "outputs": [
    {
     "name": "stdout",
     "output_type": "stream",
     "text": [
      "[45 58 96]\n"
     ]
    }
   ],
   "source": [
    "a = np.array([45, 58, 96], dtype=\"int16\")\n",
    "print(a)"
   ]
  },
  {
   "cell_type": "markdown",
   "metadata": {
    "colab_type": "text",
    "id": "UHeS2yu6Jh85"
   },
   "source": [
    "## 2D matrix"
   ]
  },
  {
   "cell_type": "code",
   "execution_count": 5,
   "metadata": {
    "ExecuteTime": {
     "end_time": "2020-04-25T05:59:05.618600Z",
     "start_time": "2020-04-25T05:59:05.552394Z"
    },
    "colab": {
     "base_uri": "https://localhost:8080/",
     "height": 50
    },
    "colab_type": "code",
    "id": "Bk60H1SkJPpI",
    "outputId": "e782ab2e-bcd3-49fe-fbe5-87e86b410536"
   },
   "outputs": [
    {
     "name": "stdout",
     "output_type": "stream",
     "text": [
      "[[4 5 8]\n",
      " [2 7 6]]\n"
     ]
    }
   ],
   "source": [
    "b = np.array([[4, 5, 8], [2, 7, 6]])\n",
    "print(b)"
   ]
  },
  {
   "cell_type": "markdown",
   "metadata": {
    "colab_type": "text",
    "id": "aHaojb07Jljw"
   },
   "source": [
    "## 3D matrix"
   ]
  },
  {
   "cell_type": "code",
   "execution_count": 6,
   "metadata": {
    "ExecuteTime": {
     "end_time": "2020-04-25T05:59:05.681263Z",
     "start_time": "2020-04-25T05:59:05.623259Z"
    },
    "colab": {
     "base_uri": "https://localhost:8080/",
     "height": 67
    },
    "colab_type": "code",
    "id": "-AXdfeetJnpI",
    "outputId": "3e0dd23d-159d-4327-9ad2-c209fd83cb48"
   },
   "outputs": [
    {
     "name": "stdout",
     "output_type": "stream",
     "text": [
      "[[1.23 2.23 3.89]\n",
      " [9.   6.   9.  ]\n",
      " [7.   2.   4.  ]]\n"
     ]
    }
   ],
   "source": [
    "c = np.array([[1.23, 2.23, 3.89], [9, 6, 9], [7, 2, 4]])\n",
    "print(c)"
   ]
  },
  {
   "cell_type": "code",
   "execution_count": 7,
   "metadata": {
    "ExecuteTime": {
     "end_time": "2020-04-25T05:59:05.796953Z",
     "start_time": "2020-04-25T05:59:05.684771Z"
    },
    "colab": {
     "base_uri": "https://localhost:8080/",
     "height": 34
    },
    "colab_type": "code",
    "id": "qCdShvWFJ51x",
    "outputId": "94ef8e4d-c8a6-44c0-eeb3-30e0b932e322"
   },
   "outputs": [
    {
     "data": {
      "text/plain": [
       "1"
      ]
     },
     "execution_count": 7,
     "metadata": {},
     "output_type": "execute_result"
    }
   ],
   "source": [
    "# Get dimension\n",
    "a.ndim"
   ]
  },
  {
   "cell_type": "code",
   "execution_count": 8,
   "metadata": {
    "ExecuteTime": {
     "end_time": "2020-04-25T05:59:05.870976Z",
     "start_time": "2020-04-25T05:59:05.800372Z"
    },
    "colab": {
     "base_uri": "https://localhost:8080/",
     "height": 34
    },
    "colab_type": "code",
    "id": "WEvsNBNeJ-Jh",
    "outputId": "4c94660e-f631-4e44-ec4e-212aeecf503a"
   },
   "outputs": [
    {
     "data": {
      "text/plain": [
       "(2, 3)"
      ]
     },
     "execution_count": 8,
     "metadata": {},
     "output_type": "execute_result"
    }
   ],
   "source": [
    "# Get shape or n * n?\n",
    "b.shape"
   ]
  },
  {
   "cell_type": "code",
   "execution_count": 9,
   "metadata": {
    "ExecuteTime": {
     "end_time": "2020-04-25T05:59:05.936920Z",
     "start_time": "2020-04-25T05:59:05.874681Z"
    },
    "colab": {
     "base_uri": "https://localhost:8080/",
     "height": 50
    },
    "colab_type": "code",
    "id": "t59HgBMDKHwZ",
    "outputId": "f8d456b2-783b-464e-d29c-2cfc3ba8186a"
   },
   "outputs": [
    {
     "name": "stdout",
     "output_type": "stream",
     "text": [
      "int16\n",
      "float64\n"
     ]
    }
   ],
   "source": [
    "# Get type\n",
    "print(a.dtype)\n",
    "print(c.dtype)"
   ]
  },
  {
   "cell_type": "code",
   "execution_count": 10,
   "metadata": {
    "ExecuteTime": {
     "end_time": "2020-04-25T05:59:06.002288Z",
     "start_time": "2020-04-25T05:59:05.940822Z"
    },
    "colab": {
     "base_uri": "https://localhost:8080/",
     "height": 67
    },
    "colab_type": "code",
    "id": "QjzLarEcKzbb",
    "outputId": "c25b5b98-e1fd-4b5a-885a-fc7a6669d73a"
   },
   "outputs": [
    {
     "name": "stdout",
     "output_type": "stream",
     "text": [
      "8\n",
      "2\n",
      "8\n"
     ]
    }
   ],
   "source": [
    "# Get bytes of memory it takes\n",
    "print(b.itemsize)\n",
    "print(a.itemsize)\n",
    "print(c.itemsize)\n",
    "# 2 bytes for int16\n",
    "# 4 bytes for int32\n",
    "# 8 bytes for int64\n",
    "# 8 bytes for float too"
   ]
  },
  {
   "cell_type": "code",
   "execution_count": 11,
   "metadata": {
    "ExecuteTime": {
     "end_time": "2020-04-25T05:59:06.128186Z",
     "start_time": "2020-04-25T05:59:06.009151Z"
    },
    "colab": {
     "base_uri": "https://localhost:8080/",
     "height": 67
    },
    "colab_type": "code",
    "id": "l3RTAgiPMBnb",
    "outputId": "a2d03f00-6b97-4758-ec1e-7f581cd0f7c5"
   },
   "outputs": [
    {
     "name": "stdout",
     "output_type": "stream",
     "text": [
      "3\n",
      "6\n",
      "9\n"
     ]
    }
   ],
   "source": [
    "# Get length of np array\n",
    "print(a.size)\n",
    "print(b.size)\n",
    "print(c.size)"
   ]
  },
  {
   "cell_type": "code",
   "execution_count": 12,
   "metadata": {
    "ExecuteTime": {
     "end_time": "2020-04-25T05:59:06.247492Z",
     "start_time": "2020-04-25T05:59:06.133168Z"
    },
    "colab": {
     "base_uri": "https://localhost:8080/",
     "height": 50
    },
    "colab_type": "code",
    "id": "LRI_bHmSMKpJ",
    "outputId": "b05d723d-652f-4ef9-b05a-e24916e0c156"
   },
   "outputs": [
    {
     "name": "stdout",
     "output_type": "stream",
     "text": [
      "6\n",
      "6\n"
     ]
    }
   ],
   "source": [
    "# Get total size\n",
    "print(a.size * a.itemsize)\n",
    "# other way to do this\n",
    "print(a.nbytes)"
   ]
  },
  {
   "cell_type": "markdown",
   "metadata": {
    "colab_type": "text",
    "id": "pKC4KP2tM0A8"
   },
   "source": [
    "## Acccessing/Changing specific elements, rows, columns etc."
   ]
  },
  {
   "cell_type": "code",
   "execution_count": 13,
   "metadata": {
    "ExecuteTime": {
     "end_time": "2020-04-25T05:59:06.323282Z",
     "start_time": "2020-04-25T05:59:06.250686Z"
    },
    "colab": {
     "base_uri": "https://localhost:8080/",
     "height": 50
    },
    "colab_type": "code",
    "id": "eZp1RGpdM7JR",
    "outputId": "7d3e603b-f5c0-47b4-92e4-f87e31fe5802"
   },
   "outputs": [
    {
     "name": "stdout",
     "output_type": "stream",
     "text": [
      "[[ 1  2  3  4  5  6  7]\n",
      " [ 8  9 10 11 12 13 14]]\n"
     ]
    }
   ],
   "source": [
    "d = np.array([[1, 2, 3, 4, 5, 6, 7], [8, 9, 10, 11, 12, 13, 14]])\n",
    "print(d)"
   ]
  },
  {
   "cell_type": "code",
   "execution_count": 14,
   "metadata": {
    "ExecuteTime": {
     "end_time": "2020-04-25T05:59:06.393134Z",
     "start_time": "2020-04-25T05:59:06.325937Z"
    },
    "colab": {
     "base_uri": "https://localhost:8080/",
     "height": 34
    },
    "colab_type": "code",
    "id": "GiOXI1QvNUML",
    "outputId": "728718be-296d-4614-defe-f53aee07cecf"
   },
   "outputs": [
    {
     "data": {
      "text/plain": [
       "4"
      ]
     },
     "execution_count": 14,
     "metadata": {},
     "output_type": "execute_result"
    }
   ],
   "source": [
    "# Get a specific element - [r, c]\n",
    "d[0, 3]"
   ]
  },
  {
   "cell_type": "code",
   "execution_count": 15,
   "metadata": {
    "ExecuteTime": {
     "end_time": "2020-04-25T05:59:06.478805Z",
     "start_time": "2020-04-25T05:59:06.396406Z"
    },
    "colab": {
     "base_uri": "https://localhost:8080/",
     "height": 50
    },
    "colab_type": "code",
    "id": "7NDSWxvWWT14",
    "outputId": "ae92eeff-30df-49d8-9b86-ec1c9bb8787d"
   },
   "outputs": [
    {
     "name": "stdout",
     "output_type": "stream",
     "text": [
      "[1 2 3 4 5 6 7]\n",
      "[2 3 4 5 6]\n"
     ]
    }
   ],
   "source": [
    "# Get a specific row\n",
    "print(d[0, :]) # first row\n",
    "print(d[0, 1:6])"
   ]
  },
  {
   "cell_type": "code",
   "execution_count": 16,
   "metadata": {
    "ExecuteTime": {
     "end_time": "2020-04-25T05:59:06.564657Z",
     "start_time": "2020-04-25T05:59:06.482803Z"
    },
    "colab": {
     "base_uri": "https://localhost:8080/",
     "height": 34
    },
    "colab_type": "code",
    "id": "NEUat4y6WzKE",
    "outputId": "f0fca496-f11d-40e7-ed57-0dfc99c1da57"
   },
   "outputs": [
    {
     "name": "stdout",
     "output_type": "stream",
     "text": [
      "[ 3 10]\n"
     ]
    }
   ],
   "source": [
    "# Get a specific column\n",
    "print(d[:, 2]) # third column"
   ]
  },
  {
   "cell_type": "code",
   "execution_count": 17,
   "metadata": {
    "ExecuteTime": {
     "end_time": "2020-04-25T05:59:06.632625Z",
     "start_time": "2020-04-25T05:59:06.568910Z"
    },
    "colab": {
     "base_uri": "https://localhost:8080/",
     "height": 34
    },
    "colab_type": "code",
    "id": "lBlbkl-TXVhY",
    "outputId": "0d8c4bae-caab-4210-d32e-dd8311baab2e"
   },
   "outputs": [
    {
     "name": "stdout",
     "output_type": "stream",
     "text": [
      "[2 4 6]\n"
     ]
    }
   ],
   "source": [
    "# Getting little more fancy [startindex:endindex:stepsize]\n",
    "print(d[0, 1:-1:2])"
   ]
  },
  {
   "cell_type": "code",
   "execution_count": 18,
   "metadata": {
    "ExecuteTime": {
     "end_time": "2020-04-25T05:59:06.715058Z",
     "start_time": "2020-04-25T05:59:06.635184Z"
    },
    "colab": {
     "base_uri": "https://localhost:8080/",
     "height": 50
    },
    "colab_type": "code",
    "id": "9p30xAkgbzSd",
    "outputId": "03712706-280e-4854-939a-4101babb2ced"
   },
   "outputs": [
    {
     "name": "stdout",
     "output_type": "stream",
     "text": [
      "[[ 1  2  3  4  5  6  7]\n",
      " [ 8  9 10 11 55 13 14]]\n"
     ]
    }
   ],
   "source": [
    "# Replace elements\n",
    "d[1, 4] = 55\n",
    "print(d)"
   ]
  },
  {
   "cell_type": "code",
   "execution_count": 19,
   "metadata": {
    "ExecuteTime": {
     "end_time": "2020-04-25T05:59:06.789161Z",
     "start_time": "2020-04-25T05:59:06.718810Z"
    },
    "colab": {
     "base_uri": "https://localhost:8080/",
     "height": 50
    },
    "colab_type": "code",
    "id": "Pop-MjeBdJtn",
    "outputId": "f6e07393-201a-42ff-8924-295fd50c9394"
   },
   "outputs": [
    {
     "name": "stdout",
     "output_type": "stream",
     "text": [
      "[[  1   2 117   4   5   6   7]\n",
      " [  8   9  17  11  55  13  14]]\n"
     ]
    }
   ],
   "source": [
    "d[:, 2] = [117, 17]\n",
    "print(d)"
   ]
  },
  {
   "cell_type": "code",
   "execution_count": 20,
   "metadata": {
    "ExecuteTime": {
     "end_time": "2020-04-25T05:59:06.866903Z",
     "start_time": "2020-04-25T05:59:06.793421Z"
    },
    "colab": {
     "base_uri": "https://localhost:8080/",
     "height": 101
    },
    "colab_type": "code",
    "id": "jyrFD_zIdWEV",
    "outputId": "dfb8fde5-97c2-4a11-a839-3dc2f78479a6"
   },
   "outputs": [
    {
     "name": "stdout",
     "output_type": "stream",
     "text": [
      "[[[1 2]\n",
      "  [3 4]]\n",
      "\n",
      " [[5 6]\n",
      "  [7 8]]]\n"
     ]
    }
   ],
   "source": [
    "# Just another matrix\n",
    "f = np.array([[[1, 2], [3, 4]], [[5, 6], [7, 8]]])\n",
    "print(f)"
   ]
  },
  {
   "cell_type": "code",
   "execution_count": 21,
   "metadata": {
    "ExecuteTime": {
     "end_time": "2020-04-25T05:59:06.944661Z",
     "start_time": "2020-04-25T05:59:06.870139Z"
    },
    "colab": {
     "base_uri": "https://localhost:8080/",
     "height": 34
    },
    "colab_type": "code",
    "id": "hvvVl86jdoyo",
    "outputId": "c532020b-99cf-40f1-e467-954e76a3159b"
   },
   "outputs": [
    {
     "name": "stdout",
     "output_type": "stream",
     "text": [
      "3\n"
     ]
    }
   ],
   "source": [
    "print(f[0, 1, 0]) # accessing a elements is easy if we do it pathwise"
   ]
  },
  {
   "cell_type": "code",
   "execution_count": 22,
   "metadata": {
    "ExecuteTime": {
     "end_time": "2020-04-25T05:59:07.020075Z",
     "start_time": "2020-04-25T05:59:06.947892Z"
    },
    "colab": {
     "base_uri": "https://localhost:8080/",
     "height": 101
    },
    "colab_type": "code",
    "id": "Grc3e0mNd4O2",
    "outputId": "dad92e67-2c81-482f-b250-3167b7d34fe8"
   },
   "outputs": [
    {
     "name": "stdout",
     "output_type": "stream",
     "text": [
      "[[[1 2]\n",
      "  [3 4]]\n",
      "\n",
      " [[5 6]\n",
      "  [7 8]]]\n"
     ]
    }
   ],
   "source": [
    "print(f[:, ])"
   ]
  }
 ],
 "metadata": {
  "accelerator": "GPU",
  "colab": {
   "name": "Learning-Numpy.ipynb",
   "provenance": [],
   "toc_visible": true
  },
  "kernelspec": {
   "display_name": "Python 3",
   "language": "python",
   "name": "python3"
  },
  "language_info": {
   "codemirror_mode": {
    "name": "ipython",
    "version": 3
   },
   "file_extension": ".py",
   "mimetype": "text/x-python",
   "name": "python",
   "nbconvert_exporter": "python",
   "pygments_lexer": "ipython3",
   "version": "3.7.7"
  },
  "toc": {
   "base_numbering": 1,
   "nav_menu": {},
   "number_sections": true,
   "sideBar": true,
   "skip_h1_title": false,
   "title_cell": "Table of Contents",
   "title_sidebar": "Contents",
   "toc_cell": false,
   "toc_position": {},
   "toc_section_display": true,
   "toc_window_display": false
  }
 },
 "nbformat": 4,
 "nbformat_minor": 1
}
